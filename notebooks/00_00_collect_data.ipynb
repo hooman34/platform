{
 "cells": [
  {
   "cell_type": "markdown",
   "id": "d13b5e9a",
   "metadata": {},
   "source": [
    "This notebook collects data from various sources and saves them in the database. <br>\n",
    "The codes here could be executed to create the database for the first time."
   ]
  },
  {
   "cell_type": "markdown",
   "id": "8a668e42",
   "metadata": {},
   "source": [
    "Before starting the process, you would need MySQL. Install it to the local from [here](https://dev.mysql.com/downloads/mysql/). Remember the password since you would need them to connect to MySQL."
   ]
  },
  {
   "cell_type": "code",
   "execution_count": 1,
   "id": "40b1fdbb",
   "metadata": {},
   "outputs": [
    {
     "name": "stdout",
     "output_type": "stream",
     "text": [
      "Currently working at /Users/gieunkwak/Data Analytics/platform\n"
     ]
    }
   ],
   "source": [
    "import os\n",
    "\n",
    "path_parent = os.path.dirname(os.getcwd())\n",
    "os.chdir(path_parent)\n",
    "\n",
    "print(\"Currently working at {}\".format(os.getcwd()))"
   ]
  },
  {
   "cell_type": "code",
   "execution_count": 2,
   "id": "e0d9d017",
   "metadata": {},
   "outputs": [],
   "source": [
    "import mysql.connector\n",
    "from mysql.connector import Error\n",
    "import pandas as pd\n",
    "\n",
    "import investpy\n",
    "from fredapi import Fred\n",
    "import json\n",
    "from matplotlib import pyplot as plt\n",
    "# import plotly.express as px\n",
    "# import plotly.graph_objects as go\n",
    "import quandl\n",
    "from datetime import date\n",
    "from app.utils.utils import *\n",
    "# from plotly.subplots import make_subplots"
   ]
  },
  {
   "cell_type": "markdown",
   "id": "d57af585",
   "metadata": {},
   "source": [
    "### Get credentials"
   ]
  },
  {
   "cell_type": "code",
   "execution_count": 4,
   "id": "a94c1843",
   "metadata": {},
   "outputs": [],
   "source": [
    "with open('app/keys/keys.json', 'r') as key_file:\n",
    "    keys = json.load(key_file)\n",
    "    \n",
    "with open('app/utils/index_codes.json', 'r') as indx:\n",
    "    index_codes = json.load(indx)"
   ]
  },
  {
   "cell_type": "code",
   "execution_count": 4,
   "id": "43b3d5a3",
   "metadata": {},
   "outputs": [],
   "source": [
    "def fred_fred(code, idx_name, observation_start=None, observation_end=None):\n",
    "    \"\"\"\n",
    "    date: 'MM/DD/YYY'\n",
    "    \"\"\"\n",
    "    df = fred.get_series(code, observation_start=observation_start, observation_end=observation_end)\n",
    "    df = pd.DataFrame(df).reset_index()\n",
    "    df.columns = ['date', 'v']\n",
    "    df.loc[:, 'code'] = code\n",
    "    df.loc[:, 'code_name'] = idx_name\n",
    "    \n",
    "    df.loc[:, 'p_key'] = df['date'].astype(str).str.replace(\"-\", \"_\") + \"_\" + df['code']\n",
    "    return df\n",
    "# fred.search('breakeven')"
   ]
  },
  {
   "cell_type": "code",
   "execution_count": null,
   "id": "4cad755a",
   "metadata": {},
   "outputs": [],
   "source": []
  },
  {
   "cell_type": "code",
   "execution_count": 5,
   "id": "5c4f7829",
   "metadata": {
    "scrolled": true
   },
   "outputs": [
    {
     "name": "stderr",
     "output_type": "stream",
     "text": [
      "2022-05-15 17:33:31,022 [app.utils.utils] [INFO] Fetching data from fred: T5YIE, from 01/01/2012 to None.\n",
      "2022-05-15 17:33:31,859 [app.utils.utils] [INFO] Fetching data from fred: DGS10, from 01/01/2012 to None.\n"
     ]
    }
   ],
   "source": [
    "bei5y = fred_fred(index_codes['Fred']['Breakeven inflation rate 5y'], \n",
    "                 idx_name='BEI5y', observation_start='01/01/2012')\n",
    "treasury10y = fred_fred(index_codes['Fred']['Treasury 10y'],\n",
    "                    idx_name='tsry10y', observation_start='01/01/2012')"
   ]
  },
  {
   "cell_type": "code",
   "execution_count": 6,
   "id": "8b9bff6e",
   "metadata": {
    "scrolled": true
   },
   "outputs": [
    {
     "data": {
      "text/html": [
       "<div>\n",
       "<style scoped>\n",
       "    .dataframe tbody tr th:only-of-type {\n",
       "        vertical-align: middle;\n",
       "    }\n",
       "\n",
       "    .dataframe tbody tr th {\n",
       "        vertical-align: top;\n",
       "    }\n",
       "\n",
       "    .dataframe thead th {\n",
       "        text-align: right;\n",
       "    }\n",
       "</style>\n",
       "<table border=\"1\" class=\"dataframe\">\n",
       "  <thead>\n",
       "    <tr style=\"text-align: right;\">\n",
       "      <th></th>\n",
       "      <th>date</th>\n",
       "      <th>v</th>\n",
       "      <th>code</th>\n",
       "      <th>code_name</th>\n",
       "      <th>p_key</th>\n",
       "    </tr>\n",
       "  </thead>\n",
       "  <tbody>\n",
       "    <tr>\n",
       "      <th>0</th>\n",
       "      <td>2012-01-02</td>\n",
       "      <td>NaN</td>\n",
       "      <td>DGS10</td>\n",
       "      <td>tsry10y</td>\n",
       "      <td>2012_01_02_DGS10</td>\n",
       "    </tr>\n",
       "    <tr>\n",
       "      <th>1</th>\n",
       "      <td>2012-01-03</td>\n",
       "      <td>1.97</td>\n",
       "      <td>DGS10</td>\n",
       "      <td>tsry10y</td>\n",
       "      <td>2012_01_03_DGS10</td>\n",
       "    </tr>\n",
       "  </tbody>\n",
       "</table>\n",
       "</div>"
      ],
      "text/plain": [
       "        date     v   code code_name             p_key\n",
       "0 2012-01-02   NaN  DGS10   tsry10y  2012_01_02_DGS10\n",
       "1 2012-01-03  1.97  DGS10   tsry10y  2012_01_03_DGS10"
      ]
     },
     "execution_count": 6,
     "metadata": {},
     "output_type": "execute_result"
    }
   ],
   "source": [
    "treasury10y.head(2)"
   ]
  },
  {
   "cell_type": "code",
   "execution_count": null,
   "id": "5da79450",
   "metadata": {},
   "outputs": [],
   "source": []
  },
  {
   "cell_type": "code",
   "execution_count": 84,
   "id": "d54d66bb",
   "metadata": {},
   "outputs": [],
   "source": [
    "def investing_api(call_type, ticker, from_date, to_date, country='united states'):\n",
    "    \"\"\"\n",
    "    call_type: etf, stock, fund, index\n",
    "    ticker: str. ticker name\n",
    "    from_date: dd/mm/yyyy\n",
    "    \"\"\"\n",
    "    if call_type == 'etf':\n",
    "        # search name from ticker and return\n",
    "        etfs = investpy.etfs.get_etfs(country=country)\n",
    "        etf_name = etfs.loc[(etfs.symbol == ticker), 'name'].tolist()[0]\n",
    "        data = investpy.get_etf_historical_data(etf=etf_name, country=country,\n",
    "                                                from_date=from_date,\n",
    "                                                to_date=to_date).reset_index()\n",
    "    if call_type == 'stock':\n",
    "        data = investpy.stocks.get_stock_historical_data(stock=ticker, country=country,\n",
    "                                                         from_date=from_date,\n",
    "                                                         to_date=to_date).reset_index()\n",
    "    data.loc[:, 'ticker'] = ticker\n",
    "    data.loc[:, 'p_key'] = data['Date'].astype(str).str.replace(\"-\", \"_\") + \"_\" + data['ticker']\n",
    "    return data"
   ]
  },
  {
   "cell_type": "code",
   "execution_count": 7,
   "id": "0ebcad21",
   "metadata": {},
   "outputs": [],
   "source": [
    "today = date.today().strftime(\"%m/%d/%Y\")"
   ]
  },
  {
   "cell_type": "code",
   "execution_count": 8,
   "id": "f873a6ca",
   "metadata": {},
   "outputs": [
    {
     "data": {
      "text/plain": [
       "'05/14/2022'"
      ]
     },
     "execution_count": 8,
     "metadata": {},
     "output_type": "execute_result"
    }
   ],
   "source": [
    "today"
   ]
  },
  {
   "cell_type": "code",
   "execution_count": 7,
   "id": "b0170728",
   "metadata": {},
   "outputs": [
    {
     "name": "stderr",
     "output_type": "stream",
     "text": [
      "2022-05-15 17:34:53,484 [app.utils.utils] [INFO] Fetching etf from investing_api: VTI, from 01/01/2020 to 31/12/2020\n"
     ]
    }
   ],
   "source": [
    "total_stock = investing_api('etf', 'VTI', '01/01/2020', '31/12/2020')"
   ]
  },
  {
   "cell_type": "code",
   "execution_count": 8,
   "id": "12e2f36c",
   "metadata": {},
   "outputs": [
    {
     "data": {
      "text/html": [
       "<div>\n",
       "<style scoped>\n",
       "    .dataframe tbody tr th:only-of-type {\n",
       "        vertical-align: middle;\n",
       "    }\n",
       "\n",
       "    .dataframe tbody tr th {\n",
       "        vertical-align: top;\n",
       "    }\n",
       "\n",
       "    .dataframe thead th {\n",
       "        text-align: right;\n",
       "    }\n",
       "</style>\n",
       "<table border=\"1\" class=\"dataframe\">\n",
       "  <thead>\n",
       "    <tr style=\"text-align: right;\">\n",
       "      <th></th>\n",
       "      <th>Date</th>\n",
       "      <th>Open</th>\n",
       "      <th>High</th>\n",
       "      <th>Low</th>\n",
       "      <th>Close</th>\n",
       "      <th>Volume</th>\n",
       "      <th>Currency</th>\n",
       "      <th>Exchange</th>\n",
       "      <th>ticker</th>\n",
       "      <th>p_key</th>\n",
       "    </tr>\n",
       "  </thead>\n",
       "  <tbody>\n",
       "    <tr>\n",
       "      <th>0</th>\n",
       "      <td>2020-01-02</td>\n",
       "      <td>164.68</td>\n",
       "      <td>164.98</td>\n",
       "      <td>163.78</td>\n",
       "      <td>164.98</td>\n",
       "      <td>3291790</td>\n",
       "      <td>USD</td>\n",
       "      <td>NYSE</td>\n",
       "      <td>VTI</td>\n",
       "      <td>2020_01_02_VTI</td>\n",
       "    </tr>\n",
       "    <tr>\n",
       "      <th>1</th>\n",
       "      <td>2020-01-03</td>\n",
       "      <td>163.29</td>\n",
       "      <td>164.47</td>\n",
       "      <td>163.01</td>\n",
       "      <td>163.93</td>\n",
       "      <td>3625467</td>\n",
       "      <td>USD</td>\n",
       "      <td>NYSE</td>\n",
       "      <td>VTI</td>\n",
       "      <td>2020_01_03_VTI</td>\n",
       "    </tr>\n",
       "  </tbody>\n",
       "</table>\n",
       "</div>"
      ],
      "text/plain": [
       "        Date    Open    High     Low   Close   Volume Currency Exchange  \\\n",
       "0 2020-01-02  164.68  164.98  163.78  164.98  3291790      USD     NYSE   \n",
       "1 2020-01-03  163.29  164.47  163.01  163.93  3625467      USD     NYSE   \n",
       "\n",
       "  ticker           p_key  \n",
       "0    VTI  2020_01_02_VTI  \n",
       "1    VTI  2020_01_03_VTI  "
      ]
     },
     "execution_count": 8,
     "metadata": {},
     "output_type": "execute_result"
    }
   ],
   "source": [
    "total_stock.head(2)"
   ]
  },
  {
   "cell_type": "markdown",
   "id": "4667b323",
   "metadata": {},
   "source": [
    "## save them to local environment"
   ]
  },
  {
   "cell_type": "code",
   "execution_count": 2,
   "id": "11cc2a38",
   "metadata": {},
   "outputs": [],
   "source": [
    "def create_server_connection(host_name, user_name, user_password):\n",
    "    connection = None\n",
    "    try:\n",
    "        connection = mysql.connector.connect(\n",
    "            host=host_name,\n",
    "            user=user_name,\n",
    "            passwd=user_password\n",
    "        )\n",
    "        print(\"MySQL Database connection successful\")\n",
    "    except Error as err:\n",
    "        print(f\"Error: '{err}'\")\n",
    "\n",
    "    return connection\n",
    "\n",
    "def create_database(connection, query):\n",
    "    cursor = connection.cursor()\n",
    "    try:\n",
    "        cursor.execute(query)\n",
    "        print(\"Database created successfully\")\n",
    "    except Error as err:\n",
    "        print(f\"Error: '{err}'\")"
   ]
  },
  {
   "cell_type": "code",
   "execution_count": 48,
   "id": "1fa99acc",
   "metadata": {},
   "outputs": [],
   "source": [
    "def create_db_connection(host_name, user_name, user_password, db_name=None):\n",
    "    connection = None\n",
    "    try:\n",
    "        connection = mysql.connector.connect(\n",
    "            host=host_name,\n",
    "            user=user_name,\n",
    "            passwd=user_password,\n",
    "            database=db_name\n",
    "        )\n",
    "        print(\"MySQL Database connection successful\")\n",
    "    except Error as err:\n",
    "        print(f\"Error: '{err}'\")\n",
    "\n",
    "    return connection\n",
    "\n",
    "def execute_query(connection, query):\n",
    "    cursor = connection.cursor()\n",
    "    try:\n",
    "        cursor.execute(query)\n",
    "        connection.commit()\n",
    "        print(\"Query successful\")\n",
    "    except Error as err:\n",
    "        print(f\"Error: '{err}'\")"
   ]
  },
  {
   "cell_type": "code",
   "execution_count": 46,
   "id": "d69a3e59",
   "metadata": {},
   "outputs": [
    {
     "name": "stdout",
     "output_type": "stream",
     "text": [
      "MySQL Database connection successful\n"
     ]
    }
   ],
   "source": [
    "connection = create_server_connection(\"localhost\", \"root\", 'gi941505')"
   ]
  },
  {
   "cell_type": "code",
   "execution_count": 47,
   "id": "46303a68",
   "metadata": {},
   "outputs": [
    {
     "name": "stdout",
     "output_type": "stream",
     "text": [
      "Database created successfully\n"
     ]
    }
   ],
   "source": [
    "create_database(connection, \"CREATE DATABASE econ\")"
   ]
  },
  {
   "cell_type": "markdown",
   "id": "5cc3ec5f",
   "metadata": {},
   "source": [
    "connect to DB and create table"
   ]
  },
  {
   "cell_type": "code",
   "execution_count": 60,
   "id": "84354fb3",
   "metadata": {},
   "outputs": [
    {
     "name": "stdout",
     "output_type": "stream",
     "text": [
      "MySQL Database connection successful\n"
     ]
    }
   ],
   "source": [
    "connection = create_db_connection(\"localhost\", \"root\", 'gi941505', 'econ')"
   ]
  },
  {
   "cell_type": "code",
   "execution_count": 79,
   "id": "9394bfe1",
   "metadata": {},
   "outputs": [
    {
     "name": "stdout",
     "output_type": "stream",
     "text": [
      "Query successful\n"
     ]
    }
   ],
   "source": [
    "create_fred_table = \"\"\"\n",
    "CREATE TABLE fred_daily (\n",
    "    p_key VARCHAR(40) PRIMARY KEY,\n",
    "    date DATE,\n",
    "    v FLOAT(5),\n",
    "    code VARCHAR(40) NOT NULL,\n",
    "    code_name VARCHAR(40) NOT NULL\n",
    "    );\n",
    "\"\"\"\n",
    "\n",
    "execute_query(connection, create_fred_table)\n",
    "# execute_query(connection, 'DROP TABLE fred_daily') # delete table"
   ]
  },
  {
   "cell_type": "code",
   "execution_count": null,
   "id": "20585669",
   "metadata": {},
   "outputs": [],
   "source": [
    "create_stock_table = \"\"\"\n",
    "CREATE TABLE stock_daily (\n",
    "    p_key VARCHAR(40) PRIMARY KEY,\n",
    "    date DATE,\n",
    "    v FLOAT(5),\n",
    "    code VARCHAR(40) NOT NULL,\n",
    "    code_name VARCHAR(40) NOT NULL\n",
    "    );\n",
    "\"\"\"\n",
    "\n",
    "execute_query(connection, create_stock_table)\n",
    "# execute_query(connection, 'DROP TABLE fred_daily') # delete table"
   ]
  },
  {
   "cell_type": "code",
   "execution_count": 87,
   "id": "0dd936fc",
   "metadata": {},
   "outputs": [
    {
     "data": {
      "text/html": [
       "<div>\n",
       "<style scoped>\n",
       "    .dataframe tbody tr th:only-of-type {\n",
       "        vertical-align: middle;\n",
       "    }\n",
       "\n",
       "    .dataframe tbody tr th {\n",
       "        vertical-align: top;\n",
       "    }\n",
       "\n",
       "    .dataframe thead th {\n",
       "        text-align: right;\n",
       "    }\n",
       "</style>\n",
       "<table border=\"1\" class=\"dataframe\">\n",
       "  <thead>\n",
       "    <tr style=\"text-align: right;\">\n",
       "      <th></th>\n",
       "      <th>Date</th>\n",
       "      <th>Open</th>\n",
       "      <th>High</th>\n",
       "      <th>Low</th>\n",
       "      <th>Close</th>\n",
       "      <th>Volume</th>\n",
       "      <th>Currency</th>\n",
       "      <th>Exchange</th>\n",
       "      <th>ticker</th>\n",
       "      <th>p_key</th>\n",
       "    </tr>\n",
       "  </thead>\n",
       "  <tbody>\n",
       "    <tr>\n",
       "      <th>0</th>\n",
       "      <td>2020-01-02</td>\n",
       "      <td>164.68</td>\n",
       "      <td>164.98</td>\n",
       "      <td>163.78</td>\n",
       "      <td>164.98</td>\n",
       "      <td>3291790</td>\n",
       "      <td>USD</td>\n",
       "      <td>NYSE</td>\n",
       "      <td>VTI</td>\n",
       "      <td>2020_01_02_VTI</td>\n",
       "    </tr>\n",
       "    <tr>\n",
       "      <th>1</th>\n",
       "      <td>2020-01-03</td>\n",
       "      <td>163.29</td>\n",
       "      <td>164.47</td>\n",
       "      <td>163.01</td>\n",
       "      <td>163.93</td>\n",
       "      <td>3625467</td>\n",
       "      <td>USD</td>\n",
       "      <td>NYSE</td>\n",
       "      <td>VTI</td>\n",
       "      <td>2020_01_03_VTI</td>\n",
       "    </tr>\n",
       "  </tbody>\n",
       "</table>\n",
       "</div>"
      ],
      "text/plain": [
       "        Date    Open    High     Low   Close   Volume Currency Exchange  \\\n",
       "0 2020-01-02  164.68  164.98  163.78  164.98  3291790      USD     NYSE   \n",
       "1 2020-01-03  163.29  164.47  163.01  163.93  3625467      USD     NYSE   \n",
       "\n",
       "  ticker           p_key  \n",
       "0    VTI  2020_01_02_VTI  \n",
       "1    VTI  2020_01_03_VTI  "
      ]
     },
     "execution_count": 87,
     "metadata": {},
     "output_type": "execute_result"
    }
   ],
   "source": [
    "total_stock.head(2)"
   ]
  },
  {
   "cell_type": "code",
   "execution_count": null,
   "id": "b1e91b67",
   "metadata": {},
   "outputs": [],
   "source": []
  },
  {
   "cell_type": "code",
   "execution_count": 72,
   "id": "d7295ada",
   "metadata": {},
   "outputs": [
    {
     "data": {
      "text/html": [
       "<div>\n",
       "<style scoped>\n",
       "    .dataframe tbody tr th:only-of-type {\n",
       "        vertical-align: middle;\n",
       "    }\n",
       "\n",
       "    .dataframe tbody tr th {\n",
       "        vertical-align: top;\n",
       "    }\n",
       "\n",
       "    .dataframe thead th {\n",
       "        text-align: right;\n",
       "    }\n",
       "</style>\n",
       "<table border=\"1\" class=\"dataframe\">\n",
       "  <thead>\n",
       "    <tr style=\"text-align: right;\">\n",
       "      <th></th>\n",
       "      <th>date</th>\n",
       "      <th>v</th>\n",
       "      <th>code</th>\n",
       "      <th>code_name</th>\n",
       "      <th>p_key</th>\n",
       "    </tr>\n",
       "  </thead>\n",
       "  <tbody>\n",
       "    <tr>\n",
       "      <th>0</th>\n",
       "      <td>2012-01-02</td>\n",
       "      <td>NaN</td>\n",
       "      <td>T5YIE</td>\n",
       "      <td>BEI5y</td>\n",
       "      <td>2012_01_02_T5YIE</td>\n",
       "    </tr>\n",
       "    <tr>\n",
       "      <th>1</th>\n",
       "      <td>2012-01-03</td>\n",
       "      <td>1.66</td>\n",
       "      <td>T5YIE</td>\n",
       "      <td>BEI5y</td>\n",
       "      <td>2012_01_03_T5YIE</td>\n",
       "    </tr>\n",
       "  </tbody>\n",
       "</table>\n",
       "</div>"
      ],
      "text/plain": [
       "        date     v   code code_name             p_key\n",
       "0 2012-01-02   NaN  T5YIE     BEI5y  2012_01_02_T5YIE\n",
       "1 2012-01-03  1.66  T5YIE     BEI5y  2012_01_03_T5YIE"
      ]
     },
     "execution_count": 72,
     "metadata": {},
     "output_type": "execute_result"
    }
   ],
   "source": [
    "bei5y.head(2)"
   ]
  },
  {
   "cell_type": "code",
   "execution_count": null,
   "id": "9b9ef76d",
   "metadata": {},
   "outputs": [],
   "source": [
    "create_teacher_table = \"\"\"\n",
    "CREATE TABLE teacher (\n",
    "  teacher_id INT PRIMARY KEY,\n",
    "  first_name VARCHAR(40) NOT NULL,\n",
    "  last_name VARCHAR(40) NOT NULL,\n",
    "  language_1 VARCHAR(3) NOT NULL,\n",
    "  language_2 VARCHAR(3),\n",
    "  dob DATE,\n",
    "  tax_id INT UNIQUE,\n",
    "  phone_no VARCHAR(20)\n",
    "  );\n",
    " \"\"\"\n",
    "\n",
    "connection = create_db_connection(\"localhost\", \"root\", pw, db) # Connect to the Database\n",
    "execute_query(connection, create_teacher_table) # Execute our defined query"
   ]
  },
  {
   "cell_type": "code",
   "execution_count": null,
   "id": "4d08753f",
   "metadata": {},
   "outputs": [],
   "source": []
  },
  {
   "cell_type": "code",
   "execution_count": null,
   "id": "7d8456ad",
   "metadata": {},
   "outputs": [],
   "source": [
    "https://www.freecodecamp.org/news/connect-python-with-sql/"
   ]
  },
  {
   "cell_type": "code",
   "execution_count": null,
   "id": "5bb3127b",
   "metadata": {},
   "outputs": [],
   "source": []
  },
  {
   "cell_type": "code",
   "execution_count": null,
   "id": "e8907f64",
   "metadata": {},
   "outputs": [],
   "source": [
    "CREATE TABLE client (\n",
    "  client_id INT PRIMARY KEY,\n",
    "  client_name VARCHAR(40) NOT NULL,\n",
    "  address VARCHAR(60) NOT NULL,\n",
    "  industry VARCHAR(20)\n",
    ");"
   ]
  },
  {
   "cell_type": "code",
   "execution_count": null,
   "id": "57d070c7",
   "metadata": {},
   "outputs": [],
   "source": []
  },
  {
   "cell_type": "code",
   "execution_count": null,
   "id": "87836e39",
   "metadata": {},
   "outputs": [],
   "source": []
  }
 ],
 "metadata": {
  "kernelspec": {
   "display_name": "Python 3 (ipykernel)",
   "language": "python",
   "name": "python3"
  },
  "language_info": {
   "codemirror_mode": {
    "name": "ipython",
    "version": 3
   },
   "file_extension": ".py",
   "mimetype": "text/x-python",
   "name": "python",
   "nbconvert_exporter": "python",
   "pygments_lexer": "ipython3",
   "version": "3.8.12"
  }
 },
 "nbformat": 4,
 "nbformat_minor": 5
}
