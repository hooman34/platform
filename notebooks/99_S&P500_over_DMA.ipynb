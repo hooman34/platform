{
 "cells": [
  {
   "cell_type": "code",
   "execution_count": 1,
   "id": "ea5fc73e-8ce0-4489-bbf8-eec33ae4c01b",
   "metadata": {},
   "outputs": [],
   "source": [
    "import os\n",
    "\n",
    "path_parent = os.path.dirname(os.getcwd())\n",
    "os.chdir(path_parent)"
   ]
  },
  {
   "cell_type": "code",
   "execution_count": 2,
   "id": "961275b6-911a-4a87-a632-53eac68d1161",
   "metadata": {},
   "outputs": [],
   "source": [
    "import numpy as np\n",
    "import pandas as pd\n",
    "import time\n",
    "import investpy\n",
    "from fredapi import Fred\n",
    "import json\n",
    "from matplotlib import pyplot as plt\n",
    "import quandl\n",
    "from tqdm.notebook import tqdm\n",
    "from datetime import date\n",
    "import random\n",
    "import requests\n",
    "from bs4 import BeautifulSoup\n",
    "from app.utils.fetch_data import investing_api, alpha_vantage_api\n",
    "from app.utils.visualization import _plot_data"
   ]
  },
  {
   "cell_type": "markdown",
   "id": "3b3c3200-df8b-4b77-a272-1607010a42c8",
   "metadata": {},
   "source": [
    "## We want to visualize the number of stocks that is over the Displayed moving average"
   ]
  },
  {
   "cell_type": "markdown",
   "id": "639cbdcb",
   "metadata": {},
   "source": [
    "### Paid options\n",
    "- https://site.financialmodelingprep.com/developer/docs/historical-sp-500-companies-api/\n"
   ]
  },
  {
   "cell_type": "markdown",
   "id": "5a4736fc",
   "metadata": {},
   "source": [
    "### 1. List of SP500 companies in the past\n",
    "SP500 list from 2007 March 6. <br>\n",
    "The wiki link used below is a static link, and it is an old version of the SP500 wikipage. <br>"
   ]
  },
  {
   "cell_type": "markdown",
   "id": "47508aa2",
   "metadata": {},
   "source": [
    "# TRY1 - Wiki\n",
    "Wiki page changes drastically, and thus hard to identify the S&P500 conposition change"
   ]
  },
  {
   "cell_type": "code",
   "execution_count": 23,
   "id": "aaa8193e",
   "metadata": {},
   "outputs": [],
   "source": [
    "without = requests.get(\"https://en.wikipedia.org/w/index.php?title=List_of_S%26P_500_companies&oldid=183114956\")\n",
    "without = BeautifulSoup(without.content, \"html.parser\")\n",
    "\n",
    "tables_OLD = without.find_all(\"table\", class_=\"wikitable\")\n",
    "table_OLD = tables_OLD[0]\n",
    "# convert html format table into pandas dataframe\n",
    "sp500_list_2008_01_08 = pd.read_html(str(table_OLD))[0]\n",
    "sp500_list_2008_01_08.sort_values(by=['Ticker symbol'], inplace=True)"
   ]
  },
  {
   "cell_type": "code",
   "execution_count": 25,
   "id": "2523468d",
   "metadata": {},
   "outputs": [],
   "source": [
    "w = requests.get(\"https://en.wikipedia.org/w/index.php?title=List_of_S%26P_500_companies&oldid=186180303\")\n",
    "w = BeautifulSoup(w.content, \"html.parser\")\n",
    "\n",
    "tables_OLD = w.find_all(\"table\", class_=\"wikitable\")\n",
    "table_OLD = tables_OLD[0]\n",
    "# convert html format table into pandas dataframe\n",
    "sp500_list_2008_01_22 = pd.read_html(str(table_OLD))[0]\n",
    "sp500_list_2008_01_22.sort_values(by=['Ticker symbol'], inplace=True)"
   ]
  },
  {
   "cell_type": "code",
   "execution_count": 28,
   "id": "94a67f01",
   "metadata": {
    "scrolled": true
   },
   "outputs": [
    {
     "name": "stdout",
     "output_type": "stream",
     "text": [
      "27 tickers that are in Jan 22 page, but not in Jan 8: EXPE, COV, GGP, LUK, DDR, ANF, KFT, WFR, POM, TIE, EXPD, TDC, ACAS, DFS, JEC, NYX, WPO, AKAM, MTW, HST, TEL, ICE, TSO, NBL, RRC, TSS, GME\n"
     ]
    }
   ],
   "source": [
    "differences_22_08 = set(sp500_list_2008_01_22['Ticker symbol'].tolist()) - set(sp500_list_2008_01_08['Ticker symbol'].tolist())\n",
    "\n",
    "print(\"{} tickers that are in Jan 22 page, but not in Jan 8: {}\".format(len(differences_22_08),\n",
    "                                                                        ', '.join(list(differences_22_08))))"
   ]
  },
  {
   "cell_type": "code",
   "execution_count": 29,
   "id": "437518d2",
   "metadata": {},
   "outputs": [
    {
     "name": "stdout",
     "output_type": "stream",
     "text": [
      "25 tickers that are in Jan 8 page, but not in Jan 22: BOL, SLR, DG, BMET, DJ, KSE, HLT, SANM, SNV, TEK, UVN, ADCT, FDC, TIN, TRB, AV, TSG, TXU, MXIM, PD, KMI, ASN, NCR, MEL, HCR\n"
     ]
    }
   ],
   "source": [
    "differences_08_22 = set(sp500_list_2008_01_08['Ticker symbol'].tolist()) - set(sp500_list_2008_01_22['Ticker symbol'].tolist())\n",
    "\n",
    "print(\"{} tickers that are in Jan 8 page, but not in Jan 22: {}\".format(len(differences_08_22),\n",
    "                                                                        ', '.join(list(differences_08_22))))"
   ]
  },
  {
   "cell_type": "markdown",
   "id": "6dd30774",
   "metadata": {},
   "source": [
    "---"
   ]
  },
  {
   "cell_type": "markdown",
   "id": "732763cf",
   "metadata": {},
   "source": [
    "# TRY2 - Use most recent wiki page and the changes mentioned"
   ]
  },
  {
   "cell_type": "markdown",
   "id": "1423e82a",
   "metadata": {},
   "source": [
    "### Apply the changes of SP500 company list, and construct the sp500 list for each date"
   ]
  },
  {
   "cell_type": "markdown",
   "id": "26f7d40c",
   "metadata": {},
   "source": [
    "### 1. Extract tables from the wiki"
   ]
  },
  {
   "cell_type": "code",
   "execution_count": 146,
   "id": "0918e285",
   "metadata": {},
   "outputs": [],
   "source": [
    "URL_NEW = \"https://en.wikipedia.org/wiki/List_of_S%26P_500_companies\"\n",
    "# the fixed version of the sp500 is\n",
    "# https://en.wikipedia.org/w/index.php?title=List_of_S%26P_500_companies&oldid=1095558369\n",
    "# if the wiki page format changes, some of the codes below might not work.\n",
    "# in that case, use the fixed version of the wiki page\n",
    "page_NEW = requests.get(URL_NEW)\n",
    "\n",
    "soup_NEW = BeautifulSoup(page_NEW.content, \"html.parser\")"
   ]
  },
  {
   "cell_type": "code",
   "execution_count": 172,
   "id": "6190ea59",
   "metadata": {},
   "outputs": [],
   "source": [
    "changes = pd.read_html(str(soup_NEW.find(id='changes')))[0]\n",
    "# concat the multi-headers into single header\n",
    "changes.columns = ['_'.join(i) for i in list(changes.columns)]\n",
    "# this is the current list of sp500 companies\n",
    "constituents = pd.read_html(str(soup_NEW.find(id='constituents')))[0]"
   ]
  },
  {
   "cell_type": "code",
   "execution_count": 173,
   "id": "5f01a1ea",
   "metadata": {},
   "outputs": [
    {
     "data": {
      "text/html": [
       "<div>\n",
       "<style scoped>\n",
       "    .dataframe tbody tr th:only-of-type {\n",
       "        vertical-align: middle;\n",
       "    }\n",
       "\n",
       "    .dataframe tbody tr th {\n",
       "        vertical-align: top;\n",
       "    }\n",
       "\n",
       "    .dataframe thead th {\n",
       "        text-align: right;\n",
       "    }\n",
       "</style>\n",
       "<table border=\"1\" class=\"dataframe\">\n",
       "  <thead>\n",
       "    <tr style=\"text-align: right;\">\n",
       "      <th></th>\n",
       "      <th>Date_Date</th>\n",
       "      <th>Added_Ticker</th>\n",
       "      <th>Added_Security</th>\n",
       "      <th>Removed_Ticker</th>\n",
       "      <th>Removed_Security</th>\n",
       "      <th>Reason_Reason</th>\n",
       "    </tr>\n",
       "  </thead>\n",
       "  <tbody>\n",
       "    <tr>\n",
       "      <th>0</th>\n",
       "      <td>June 21, 2022</td>\n",
       "      <td>KDP</td>\n",
       "      <td>Keurig Dr Pepper</td>\n",
       "      <td>UA/UAA</td>\n",
       "      <td>Under Armour</td>\n",
       "      <td>Market capitalization change.[5]</td>\n",
       "    </tr>\n",
       "    <tr>\n",
       "      <th>1</th>\n",
       "      <td>June 21, 2022</td>\n",
       "      <td>ON</td>\n",
       "      <td>ON Semiconductor</td>\n",
       "      <td>IPGP</td>\n",
       "      <td>IPG Photonics</td>\n",
       "      <td>Market capitalization change.[5]</td>\n",
       "    </tr>\n",
       "    <tr>\n",
       "      <th>2</th>\n",
       "      <td>June 8, 2022</td>\n",
       "      <td>VICI</td>\n",
       "      <td>Vici Properties</td>\n",
       "      <td>CERN</td>\n",
       "      <td>Cerner</td>\n",
       "      <td>S&amp;P 500 constituent Oracle Corp. acquired Cern...</td>\n",
       "    </tr>\n",
       "    <tr>\n",
       "      <th>3</th>\n",
       "      <td>April 4, 2022</td>\n",
       "      <td>CPT</td>\n",
       "      <td>Camden Property Trust</td>\n",
       "      <td>PBCT</td>\n",
       "      <td>People's United Financial</td>\n",
       "      <td>S&amp;P 500 constituent M&amp;T Bank Corp. acquired Pe...</td>\n",
       "    </tr>\n",
       "    <tr>\n",
       "      <th>4</th>\n",
       "      <td>March 2, 2022</td>\n",
       "      <td>MOH</td>\n",
       "      <td>Molina Healthcare</td>\n",
       "      <td>INFO</td>\n",
       "      <td>IHS Markit</td>\n",
       "      <td>S&amp;P 500 constituent S&amp;P Global Inc. acquired I...</td>\n",
       "    </tr>\n",
       "  </tbody>\n",
       "</table>\n",
       "</div>"
      ],
      "text/plain": [
       "       Date_Date Added_Ticker         Added_Security Removed_Ticker  \\\n",
       "0  June 21, 2022          KDP       Keurig Dr Pepper         UA/UAA   \n",
       "1  June 21, 2022           ON       ON Semiconductor           IPGP   \n",
       "2   June 8, 2022         VICI        Vici Properties           CERN   \n",
       "3  April 4, 2022          CPT  Camden Property Trust           PBCT   \n",
       "4  March 2, 2022          MOH      Molina Healthcare           INFO   \n",
       "\n",
       "            Removed_Security  \\\n",
       "0               Under Armour   \n",
       "1              IPG Photonics   \n",
       "2                     Cerner   \n",
       "3  People's United Financial   \n",
       "4                 IHS Markit   \n",
       "\n",
       "                                       Reason_Reason  \n",
       "0                   Market capitalization change.[5]  \n",
       "1                   Market capitalization change.[5]  \n",
       "2  S&P 500 constituent Oracle Corp. acquired Cern...  \n",
       "3  S&P 500 constituent M&T Bank Corp. acquired Pe...  \n",
       "4  S&P 500 constituent S&P Global Inc. acquired I...  "
      ]
     },
     "execution_count": 173,
     "metadata": {},
     "output_type": "execute_result"
    }
   ],
   "source": [
    "changes.head()"
   ]
  },
  {
   "cell_type": "code",
   "execution_count": 174,
   "id": "b0897d81",
   "metadata": {},
   "outputs": [
    {
     "data": {
      "text/html": [
       "<div>\n",
       "<style scoped>\n",
       "    .dataframe tbody tr th:only-of-type {\n",
       "        vertical-align: middle;\n",
       "    }\n",
       "\n",
       "    .dataframe tbody tr th {\n",
       "        vertical-align: top;\n",
       "    }\n",
       "\n",
       "    .dataframe thead th {\n",
       "        text-align: right;\n",
       "    }\n",
       "</style>\n",
       "<table border=\"1\" class=\"dataframe\">\n",
       "  <thead>\n",
       "    <tr style=\"text-align: right;\">\n",
       "      <th></th>\n",
       "      <th>Symbol</th>\n",
       "      <th>Security</th>\n",
       "      <th>SEC filings</th>\n",
       "      <th>GICS Sector</th>\n",
       "      <th>GICS Sub-Industry</th>\n",
       "      <th>Headquarters Location</th>\n",
       "      <th>Date first added</th>\n",
       "      <th>CIK</th>\n",
       "      <th>Founded</th>\n",
       "    </tr>\n",
       "  </thead>\n",
       "  <tbody>\n",
       "    <tr>\n",
       "      <th>0</th>\n",
       "      <td>MMM</td>\n",
       "      <td>3M</td>\n",
       "      <td>reports</td>\n",
       "      <td>Industrials</td>\n",
       "      <td>Industrial Conglomerates</td>\n",
       "      <td>Saint Paul, Minnesota</td>\n",
       "      <td>1976-08-09</td>\n",
       "      <td>66740</td>\n",
       "      <td>1902</td>\n",
       "    </tr>\n",
       "    <tr>\n",
       "      <th>1</th>\n",
       "      <td>AOS</td>\n",
       "      <td>A. O. Smith</td>\n",
       "      <td>reports</td>\n",
       "      <td>Industrials</td>\n",
       "      <td>Building Products</td>\n",
       "      <td>Milwaukee, Wisconsin</td>\n",
       "      <td>2017-07-26</td>\n",
       "      <td>91142</td>\n",
       "      <td>1916</td>\n",
       "    </tr>\n",
       "  </tbody>\n",
       "</table>\n",
       "</div>"
      ],
      "text/plain": [
       "  Symbol     Security SEC filings  GICS Sector         GICS Sub-Industry  \\\n",
       "0    MMM           3M     reports  Industrials  Industrial Conglomerates   \n",
       "1    AOS  A. O. Smith     reports  Industrials         Building Products   \n",
       "\n",
       "   Headquarters Location Date first added    CIK Founded  \n",
       "0  Saint Paul, Minnesota       1976-08-09  66740    1902  \n",
       "1   Milwaukee, Wisconsin       2017-07-26  91142    1916  "
      ]
     },
     "execution_count": 174,
     "metadata": {},
     "output_type": "execute_result"
    }
   ],
   "source": [
    "constituents.head(2)"
   ]
  },
  {
   "cell_type": "markdown",
   "id": "f62fb1fb",
   "metadata": {},
   "source": [
    "preprocessing `changes` dataframe"
   ]
  },
  {
   "cell_type": "code",
   "execution_count": 175,
   "id": "7c91f864",
   "metadata": {},
   "outputs": [],
   "source": [
    "# change date format\n",
    "changes.Date_Date = pd.to_datetime(changes.Date_Date, format=\"%B %d, %Y\")\n",
    "changes = changes.loc[changes.Date_Date >= '2000-01-01']"
   ]
  },
  {
   "cell_type": "code",
   "execution_count": 160,
   "id": "8f35a599",
   "metadata": {},
   "outputs": [
    {
     "name": "stdout",
     "output_type": "stream",
     "text": [
      "There are 300 changes starting from 2000-06-07 00:00:00 until 2022-06-21 00:00:00\n"
     ]
    }
   ],
   "source": [
    "print(\"There are {} changes starting from {} until {}\".format(changes.shape[0], \n",
    "                                                              changes.Date_Date.min(), \n",
    "                                                              changes.Date_Date.max()))"
   ]
  },
  {
   "cell_type": "markdown",
   "id": "1c790dfe",
   "metadata": {},
   "source": [
    "go through the changes"
   ]
  },
  {
   "cell_type": "markdown",
   "id": "22ccf7c2",
   "metadata": {},
   "source": [
    "## 2. Extract ticker list of each dates\n",
    "Additionally, apply ticker changes. Convert the old tickers into it's new ticker "
   ]
  },
  {
   "cell_type": "code",
   "execution_count": 164,
   "id": "561a0420",
   "metadata": {},
   "outputs": [],
   "source": [
    "def update_change_data(change_df, new_line, ascending=True):\n",
    "    \"\"\"\n",
    "    update the dataset that has historical changes of s&p500 list\n",
    "    the new_line should have the same length as the column list\n",
    "    \"\"\"\n",
    "    assert len(new_line)==change_df.shape[1]\n",
    "    new_line = pd.DataFrame(new_line)\n",
    "    new_line.Date_Date = pd.to_datetime(new_line.Date_Date, format=\"%Y-%m-%d\")\n",
    "    new_line = new_line.replace('', np.nan)\n",
    "    \n",
    "    change_df = pd.concat([change_df, new_line], ignore_index = True)\n",
    "    change_df = change_df.sort_values(by=\"Date_Date\", ascending=ascending)\n",
    "    change_df.reset_index(inplace=True, drop=True)\n",
    "    return change_df\n",
    "\n",
    "def update_sp500_list(ls, add_ticker, remove_ticker):\n",
    "    \"\"\"\n",
    "    update the sp500 list\n",
    "    \"\"\"\n",
    "    if not pd.isna(remove_ticker):\n",
    "        ls.remove(remove_ticker)\n",
    "    if not pd.isna(add_ticker):\n",
    "        ls.append(add_ticker)\n",
    "    return ls\n",
    "\n",
    "def update_ticker_names(df_, old_ticker_compay, old_ticker, new_ticker, ticker_column='Added_Ticker'):\n",
    "    df = df_.copy()\n",
    "    df.loc[df[ticker_column]==old_ticker_compay, ticker_column] = df.loc[df[ticker_column]==old_ticker_compay, ticker_column].replace(old_ticker, new_ticker)\n",
    "    return df  \n"
   ]
  },
  {
   "cell_type": "markdown",
   "id": "709d12bb",
   "metadata": {},
   "source": [
    "- The `S&P500 composition changes` are based on the old tickers\n",
    "- Thus, the ticker change will not be reflected on the `S&P500 composition changes`, but only on the final list of S&P500 list\n",
    "- The data can be called via apis, using the latest ticker\n",
    "- Thus, need to update the tickers to the latest names"
   ]
  },
  {
   "cell_type": "code",
   "execution_count": 162,
   "id": "1ebd3b18",
   "metadata": {
    "scrolled": true
   },
   "outputs": [],
   "source": [
    "# need to make some adjustments to the 'changes' dataset\n",
    "\n",
    "# UAA\n",
    "changes.Removed_Ticker = changes.Removed_Ticker.str.replace(\"UA/UAA\", \"UA\")\n",
    "UAA_change = {\n",
    "        \"Date_Date\":[\"2022-06-21\"], \n",
    "        \"Added_Ticker\":'',\n",
    "        \"Added_Security\":'',\n",
    "        \"Removed_Ticker\":'UAA',\n",
    "        \"Removed_Security\":'Under Armour',\n",
    "        \"Reason_Reason\":'Market capitalization change.[5]'\n",
    "    }\n",
    "changes = update_change_data(changes, UAA_change, False)\n",
    "\n",
    "adjustments = [\n",
    "    ['QuintilesIMS', 'Q', 'IQV'],\n",
    "    ['Willis Towers Watson', 'WLTW', 'WTW'],\n",
    "    ['Discovery Communications', 'DISCK', 'WBD'],\n",
    "    ['Facebook', 'FB', 'META'],\n",
    "    ['Michael Kors', 'KORS', 'CPRI'],\n",
    "    ['Delphi Automotive', 'DLPH', 'APTV'],\n",
    "    ['Ingersoll-Rand', 'IR', 'TT'],\n",
    "    ['Priceline.com', 'PCLN', 'BKNG'],\n",
    "    ['Harris Corporation', 'HRS', 'LHX'],\n",
    "    ['Cabot Oil & Gas', 'COG', 'CTRA'],\n",
    "    ['Jacobs Engineering Group', 'JEC', 'J'],\n",
    "    ['Tesoro Corporation', 'TSO', 'ANDV'],\n",
    "    ['Leucadia National', 'LUK', 'JEF'],\n",
    "    ['Kraft Foods', 'KFT', 'MDLZ'],\n",
    "    ['Countrywide Credit Industries', 'CFC', 'MDLZ']\n",
    "]\n",
    "\n",
    "for (old_ticker_compay, old_ticker, new_ticker) in adjustments:\n",
    "    changes = update_ticker_names(changes, old_ticker_compay, old_ticker, new_ticker, ticker_column='Added_Ticker')\n",
    "    changes = update_ticker_names(changes, old_ticker_compay, old_ticker, new_ticker, ticker_column='Removed_Ticker')"
   ]
  },
  {
   "cell_type": "code",
   "execution_count": 107,
   "id": "320dd47f",
   "metadata": {
    "scrolled": true
   },
   "outputs": [],
   "source": [
    "# initial sp500 list\n",
    "sp500 = dict()\n",
    "sp500[str(date.today())] = [constituents.Symbol.tolist()]\n",
    "\n",
    "# update the list and add them to the sp500 dictionary\n",
    "# we will go backwards\n",
    "sp500_list = constituents.Symbol.tolist()\n",
    "\n",
    "for i, (d, new, _, old, _, _) in changes.iterrows():\n",
    "    \n",
    "    try:\n",
    "        sp500_list = update_sp500_list(sp500_list, old, new)\n",
    "        sp500[str(d).split(' ')[0]] = [sp500_list.copy()]\n",
    "        \n",
    "#         print(str(d).split(' ')[0])\n",
    "#         print(len(set(sp500[str(d).split(' ')[0]][0])))\n",
    "    \n",
    "    except Exception as e:\n",
    "        print(\"ERROR:{}. Trying to add {} and remove {}\".format(d, old, new))\n",
    "        print(e)\n",
    "        \n",
    "        break \n",
    "        # if this function breaks, it means that there is a ticker in the 'changes' that is outdated\n",
    "        # the outdated ticker should be changed to it's new ticker, \n",
    "        # in order to be matched with the ticker in the latest S&P500 list"
   ]
  },
  {
   "cell_type": "markdown",
   "id": "9f487752",
   "metadata": {},
   "source": [
    "```\n",
    "sp500 dictionary format:\n",
    "\n",
    "```\n",
    "```\n",
    "{\n",
    " \"2022-07-13\":[['MMM', 'AOS', ...]],\n",
    " \"2022-06-21\":[[ ... ]],\n",
    " ...\n",
    " \"2000-06-07\":[['MMM', 'ABT', ...]]\n",
    " }\n",
    "\n",
    "```"
   ]
  },
  {
   "cell_type": "code",
   "execution_count": 108,
   "id": "3a8f196e",
   "metadata": {
    "scrolled": true
   },
   "outputs": [],
   "source": [
    "sp500 = pd.DataFrame(sp500).T\n",
    "sp500.reset_index(inplace=True)\n",
    "sp500.columns = ['date', 'tickers']\n",
    "sp500['date'] = pd.to_datetime(sp500['date'])"
   ]
  },
  {
   "cell_type": "code",
   "execution_count": 109,
   "id": "126cc9ae",
   "metadata": {
    "scrolled": true
   },
   "outputs": [
    {
     "name": "stdout",
     "output_type": "stream",
     "text": [
      "History of S&P500 ticker list is updated from 2000-06-07 00:00:00 to 2022-07-17 00:00:00\n"
     ]
    }
   ],
   "source": [
    "print(\"History of S&P500 ticker list is updated from {} to {}\".format(sp500.date.min(), sp500.date.max()))"
   ]
  },
  {
   "cell_type": "code",
   "execution_count": 110,
   "id": "d29f2b0c",
   "metadata": {
    "scrolled": false
   },
   "outputs": [
    {
     "data": {
      "text/html": [
       "<div>\n",
       "<style scoped>\n",
       "    .dataframe tbody tr th:only-of-type {\n",
       "        vertical-align: middle;\n",
       "    }\n",
       "\n",
       "    .dataframe tbody tr th {\n",
       "        vertical-align: top;\n",
       "    }\n",
       "\n",
       "    .dataframe thead th {\n",
       "        text-align: right;\n",
       "    }\n",
       "</style>\n",
       "<table border=\"1\" class=\"dataframe\">\n",
       "  <thead>\n",
       "    <tr style=\"text-align: right;\">\n",
       "      <th></th>\n",
       "      <th>date</th>\n",
       "      <th>tickers</th>\n",
       "    </tr>\n",
       "  </thead>\n",
       "  <tbody>\n",
       "    <tr>\n",
       "      <th>0</th>\n",
       "      <td>2022-07-17</td>\n",
       "      <td>[MMM, AOS, ABT, ABBV, ABMD, ACN, ATVI, ADM, AD...</td>\n",
       "    </tr>\n",
       "    <tr>\n",
       "      <th>1</th>\n",
       "      <td>2022-06-21</td>\n",
       "      <td>[MMM, AOS, ABT, ABBV, ABMD, ACN, ATVI, ADM, AD...</td>\n",
       "    </tr>\n",
       "  </tbody>\n",
       "</table>\n",
       "</div>"
      ],
      "text/plain": [
       "        date                                            tickers\n",
       "0 2022-07-17  [MMM, AOS, ABT, ABBV, ABMD, ACN, ATVI, ADM, AD...\n",
       "1 2022-06-21  [MMM, AOS, ABT, ABBV, ABMD, ACN, ATVI, ADM, AD..."
      ]
     },
     "execution_count": 110,
     "metadata": {},
     "output_type": "execute_result"
    }
   ],
   "source": [
    "sp500.head(2)"
   ]
  },
  {
   "cell_type": "markdown",
   "id": "d87282b2",
   "metadata": {},
   "source": [
    "## 3. Start collecting data for each tickers"
   ]
  },
  {
   "cell_type": "markdown",
   "id": "455bdcca",
   "metadata": {},
   "source": [
    "### Extract the dates each ticker was included in the SP500 index\n",
    "We would like to know the min and max date of each ticker being in cluded in the sp500. Using the min and max dates, we'll call the api for data."
   ]
  },
  {
   "cell_type": "code",
   "execution_count": 111,
   "id": "2e551595",
   "metadata": {},
   "outputs": [
    {
     "name": "stdout",
     "output_type": "stream",
     "text": [
      "There are 780 unique tickers that has been or are in sp500\n"
     ]
    }
   ],
   "source": [
    "ticker_list = set()\n",
    "\n",
    "for i in sp500.tickers:\n",
    "    ticker_tmp_list = set(i)\n",
    "    ticker_list.update(ticker_tmp_list)\n",
    "\n",
    "print(\"There are {} unique tickers that has been or are in sp500\".format(len(ticker_list)))"
   ]
  },
  {
   "cell_type": "code",
   "execution_count": 112,
   "id": "a4907ed9",
   "metadata": {
    "scrolled": true
   },
   "outputs": [
    {
     "data": {
      "application/vnd.jupyter.widget-view+json": {
       "model_id": "2d9ae655bb8c44d5beb6758ad8a7572e",
       "version_major": 2,
       "version_minor": 0
      },
      "text/plain": [
       "  0%|          | 0/780 [00:00<?, ?it/s]"
      ]
     },
     "metadata": {},
     "output_type": "display_data"
    }
   ],
   "source": [
    "# identify which date each ticker was included in sp500\n",
    "\n",
    "ticker_dict = dict()\n",
    "today = date.today().strftime(\"%Y-%m-%d\")\n",
    "\n",
    "# for each ticker, create a column where it indicates whether it is in the ticker list\n",
    "# 1 if it is, 0 if not\n",
    "# use this column to indicate the min and max date of the stock\n",
    "\n",
    "for t in tqdm(ticker_list):\n",
    "    found = list()\n",
    "    for i in range(sp500.shape[0]):\n",
    "        found.append(len(np.where(np.array(sp500['tickers'][i]) == t)[0]))\n",
    "    sp500['found'] = found\n",
    "    \n",
    "    if sp500.loc[sp500['found']!=0, 'date'].max() == sp500['date'].max():\n",
    "        max_date = today\n",
    "    else:\n",
    "        max_date = sp500.loc[sp500['found']!=0, 'date'].max().strftime(\"%Y-%m-%d\")\n",
    "        \n",
    "    ticker_dict[t] = {'min_date' : sp500.loc[sp500['found']!=0, 'date'].min().strftime(\"%Y-%m-%d\"),\n",
    "                      'max_date' : max_date,\n",
    "                      'dates' : sp500.loc[sp500['found']!=0, 'date'].astype(str).values.tolist()}"
   ]
  },
  {
   "cell_type": "code",
   "execution_count": 113,
   "id": "2a89729d",
   "metadata": {
    "scrolled": false
   },
   "outputs": [
    {
     "name": "stdout",
     "output_type": "stream",
     "text": [
      "Min and max date of UnderArmour: 2016-04-18, 2022-06-21\n"
     ]
    }
   ],
   "source": [
    "print(\"Min and max date of UnderArmour: {}, {}\".format(ticker_dict['UA']['min_date'], \n",
    "                                                       ticker_dict['UA']['max_date']))"
   ]
  },
  {
   "cell_type": "code",
   "execution_count": 114,
   "id": "e822942f",
   "metadata": {},
   "outputs": [
    {
     "name": "stdout",
     "output_type": "stream",
     "text": [
      "Min and max date of Apple: 2000-06-07, 2022-07-17\n"
     ]
    }
   ],
   "source": [
    "print(\"Min and max date of Apple: {}, {}\".format(ticker_dict['AAPL']['min_date'], \n",
    "                                                       ticker_dict['AAPL']['max_date']))"
   ]
  },
  {
   "cell_type": "code",
   "execution_count": 115,
   "id": "77dc2080",
   "metadata": {},
   "outputs": [
    {
     "data": {
      "text/plain": [
       "dict_keys(['min_date', 'max_date', 'dates'])"
      ]
     },
     "execution_count": 115,
     "metadata": {},
     "output_type": "execute_result"
    }
   ],
   "source": [
    "ticker_dict['AAPL'].keys()"
   ]
  },
  {
   "cell_type": "markdown",
   "id": "d7bb77da",
   "metadata": {},
   "source": [
    "### Collect data - first trial"
   ]
  },
  {
   "cell_type": "code",
   "execution_count": 22,
   "id": "4501822e",
   "metadata": {
    "scrolled": true
   },
   "outputs": [
    {
     "data": {
      "application/vnd.jupyter.widget-view+json": {
       "model_id": "2d7ed65ec3274b92b57319a6dbec2651",
       "version_major": 2,
       "version_minor": 0
      },
      "text/plain": [
       "  0%|          | 0/780 [00:00<?, ?it/s]"
      ]
     },
     "metadata": {},
     "output_type": "display_data"
    },
    {
     "name": "stderr",
     "output_type": "stream",
     "text": [
      "2022-07-08 19:52:40,143 [app.utils.fetch_data] [INFO] Fetching stock from investing_api: BAC, from 07/06/1999 to 08/07/2022\n",
      "2022-07-08 19:52:48,718 [app.utils.fetch_data] [INFO] Fetching stock from investing_api: ENDP, from 12/03/2014 to 02/03/2017\n",
      "2022-07-08 19:52:56,215 [app.utils.fetch_data] [INFO] Fetching stock from investing_api: AVY, from 07/06/1999 to 08/07/2022\n",
      "2022-07-08 19:53:05,858 [app.utils.fetch_data] [INFO] Fetching stock from investing_api: FOSL, from 23/04/2011 to 05/01/2016\n",
      "2022-07-08 19:53:14,109 [app.utils.fetch_data] [INFO] Fetching stock from investing_api: TGNA, from 07/06/1999 to 02/06/2017\n",
      "2022-07-08 19:53:20,836 [app.utils.fetch_data] [INFO] Fetching stock from investing_api: DVA, from 07/06/1999 to 08/07/2022\n"
     ]
    },
    {
     "name": "stdout",
     "output_type": "stream",
     "text": [
      "Error when calling data for ACE\n"
     ]
    },
    {
     "name": "stderr",
     "output_type": "stream",
     "text": [
      "2022-07-08 19:53:32,922 [app.utils.fetch_data] [INFO] Fetching stock from investing_api: PPG, from 07/06/1999 to 08/07/2022\n",
      "2022-07-08 19:53:41,678 [app.utils.fetch_data] [INFO] Fetching stock from investing_api: TXT, from 07/06/1999 to 08/07/2022\n",
      "2022-07-08 19:53:50,481 [app.utils.fetch_data] [INFO] Fetching stock from investing_api: ILMN, from 01/12/2014 to 08/07/2022\n",
      "2022-07-08 19:53:57,578 [app.utils.fetch_data] [INFO] Fetching stock from investing_api: BMS, from 07/06/1999 to 05/12/2014\n",
      "2022-07-08 19:54:07,266 [app.utils.fetch_data] [INFO] Fetching stock from alpha vantage api: VNT\n",
      "2022-07-08 19:54:13,889 [app.utils.fetch_data] [INFO] Fetching stock from investing_api: ETSY, from 07/10/2019 to 08/07/2022\n",
      "2022-07-08 19:54:21,465 [app.utils.fetch_data] [INFO] Fetching stock from investing_api: TIF, from 07/06/1999 to 07/01/2021\n",
      "2022-07-08 19:54:28,277 [app.utils.fetch_data] [INFO] Fetching stock from investing_api: PFE, from 07/06/1999 to 08/07/2022\n"
     ]
    },
    {
     "name": "stdout",
     "output_type": "stream",
     "text": [
      "Error when calling data for MI\n"
     ]
    },
    {
     "name": "stderr",
     "output_type": "stream",
     "text": [
      "2022-07-08 19:54:38,548 [app.utils.fetch_data] [INFO] Fetching stock from investing_api: LIFE, from 07/06/1999 to 24/01/2014\n",
      "2022-07-08 19:54:49,262 [app.utils.fetch_data] [INFO] Fetching stock from investing_api: HBAN, from 07/06/1999 to 08/07/2022\n",
      "2022-07-08 19:54:58,813 [app.utils.fetch_data] [INFO] Fetching stock from investing_api: BDX, from 07/06/1999 to 08/07/2022\n",
      "2022-07-08 19:55:06,568 [app.utils.fetch_data] [INFO] Fetching stock from investing_api: CAG, from 07/06/1999 to 08/07/2022\n",
      "2022-07-08 19:55:16,298 [app.utils.fetch_data] [INFO] Fetching stock from investing_api: ADM, from 07/06/1999 to 08/07/2022\n"
     ]
    },
    {
     "name": "stdout",
     "output_type": "stream",
     "text": [
      "Error when calling data for LEH\n"
     ]
    },
    {
     "name": "stderr",
     "output_type": "stream",
     "text": [
      "2022-07-08 19:55:23,687 [app.utils.fetch_data] [INFO] Fetching stock from investing_api: ATVI, from 02/09/2014 to 08/07/2022\n",
      "2022-07-08 19:55:33,375 [app.utils.fetch_data] [INFO] Fetching stock from investing_api: COST, from 07/06/1999 to 08/07/2022\n",
      "2022-07-08 19:55:42,248 [app.utils.fetch_data] [INFO] Fetching stock from investing_api: HLT, from 26/07/2016 to 08/07/2022\n",
      "2022-07-08 19:55:51,361 [app.utils.fetch_data] [INFO] Fetching stock from alpha vantage api: PCS\n",
      "2022-07-08 19:55:59,434 [app.utils.fetch_data] [INFO] Fetching stock from investing_api: WRK, from 07/06/1999 to 08/07/2022\n",
      "2022-07-08 19:56:07,786 [app.utils.fetch_data] [INFO] Fetching stock from investing_api: RTN, from 07/06/1999 to 06/04/2020\n"
     ]
    },
    {
     "name": "stdout",
     "output_type": "stream",
     "text": [
      "Error when calling data for SMS\n"
     ]
    },
    {
     "name": "stderr",
     "output_type": "stream",
     "text": [
      "2022-07-08 19:56:15,009 [app.utils.fetch_data] [INFO] Fetching stock from investing_api: EXC, from 07/06/1999 to 08/07/2022\n",
      "2022-07-08 19:56:23,514 [app.utils.fetch_data] [INFO] Fetching stock from alpha vantage api: TMC\n",
      "2022-07-08 19:56:33,175 [app.utils.fetch_data] [INFO] Fetching stock from investing_api: IPG, from 07/06/1999 to 08/07/2022\n",
      "2022-07-08 19:56:46,599 [app.utils.fetch_data] [INFO] Fetching stock from alpha vantage api: SIAL\n",
      "2022-07-08 19:56:57,337 [app.utils.fetch_data] [INFO] Fetching stock from investing_api: PG, from 07/06/1999 to 08/07/2022\n",
      "2022-07-08 19:57:04,328 [app.utils.fetch_data] [INFO] Fetching stock from investing_api: APTV, from 31/12/2011 to 08/07/2022\n",
      "2022-07-08 19:57:14,648 [app.utils.fetch_data] [INFO] Fetching stock from investing_api: NWSA, from 07/06/1999 to 08/07/2022\n",
      "2022-07-08 19:57:23,385 [app.utils.fetch_data] [INFO] Fetching stock from investing_api: SIVB, from 04/04/2017 to 08/07/2022\n",
      "2022-07-08 19:57:33,136 [app.utils.fetch_data] [INFO] Fetching stock from investing_api: SPGI, from 07/06/1999 to 08/07/2022\n",
      "2022-07-08 19:57:43,746 [app.utils.fetch_data] [INFO] Fetching stock from investing_api: BBY, from 07/06/1999 to 08/07/2022\n",
      "2022-07-08 19:57:50,345 [app.utils.fetch_data] [INFO] Fetching stock from alpha vantage api: BRCM\n",
      "2022-07-08 19:57:59,096 [app.utils.fetch_data] [INFO] Fetching stock from investing_api: GL, from 07/06/1999 to 08/07/2022\n"
     ]
    },
    {
     "name": "stdout",
     "output_type": "stream",
     "text": [
      "Error when calling data for GAS\n"
     ]
    },
    {
     "name": "stderr",
     "output_type": "stream",
     "text": [
      "2022-07-08 19:58:10,269 [app.utils.fetch_data] [INFO] Fetching stock from investing_api: KR, from 07/06/1999 to 08/07/2022\n",
      "2022-07-08 19:58:20,021 [app.utils.fetch_data] [INFO] Fetching stock from investing_api: NCR, from 07/06/1999 to 01/10/2007\n",
      "2022-07-08 19:58:28,753 [app.utils.fetch_data] [INFO] Fetching stock from investing_api: AOS, from 08/08/2016 to 08/07/2022\n",
      "2022-07-08 19:58:36,304 [app.utils.fetch_data] [INFO] Fetching stock from investing_api: GLW, from 07/06/1999 to 08/07/2022\n",
      "2022-07-08 19:58:45,036 [app.utils.fetch_data] [INFO] Fetching stock from investing_api: WFC, from 07/06/1999 to 08/07/2022\n",
      "2022-07-08 19:58:51,850 [app.utils.fetch_data] [INFO] Fetching stock from investing_api: ULTA, from 25/04/2015 to 08/07/2022\n",
      "2022-07-08 19:58:58,570 [app.utils.fetch_data] [INFO] Fetching stock from investing_api: DIS, from 07/06/1999 to 08/07/2022\n",
      "2022-07-08 19:59:07,281 [app.utils.fetch_data] [INFO] Fetching stock from investing_api: WEC, from 07/06/1999 to 08/07/2022\n",
      "2022-07-08 19:59:17,100 [app.utils.fetch_data] [INFO] Fetching stock from investing_api: LMT, from 07/06/1999 to 08/07/2022\n",
      "2022-07-08 19:59:26,887 [app.utils.fetch_data] [INFO] Fetching stock from investing_api: NTRS, from 07/06/1999 to 08/07/2022\n",
      "2022-07-08 19:59:34,605 [app.utils.fetch_data] [INFO] Fetching stock from investing_api: TAP, from 07/06/1999 to 08/07/2022\n",
      "2022-07-08 19:59:42,372 [app.utils.fetch_data] [INFO] Fetching stock from investing_api: ZBH, from 07/06/1999 to 08/07/2022\n",
      "2022-07-08 19:59:52,976 [app.utils.fetch_data] [INFO] Fetching stock from investing_api: RL, from 07/06/1999 to 08/07/2022\n",
      "2022-07-08 20:00:02,745 [app.utils.fetch_data] [INFO] Fetching stock from investing_api: YUM, from 07/06/1999 to 08/07/2022\n",
      "2022-07-08 20:00:08,812 [app.utils.fetch_data] [INFO] Fetching stock from investing_api: BKNG, from 18/12/2008 to 08/07/2022\n",
      "2022-07-08 20:00:18,517 [app.utils.fetch_data] [INFO] Fetching stock from investing_api: TFX, from 15/02/2018 to 08/07/2022\n",
      "2022-07-08 20:00:26,285 [app.utils.fetch_data] [INFO] Fetching stock from investing_api: GPN, from 03/05/2015 to 08/07/2022\n",
      "2022-07-08 20:00:35,821 [app.utils.fetch_data] [INFO] Fetching stock from investing_api: GRA, from 07/06/1999 to 05/12/2000\n",
      "2022-07-08 20:00:44,732 [app.utils.fetch_data] [INFO] Fetching stock from investing_api: ABBV, from 15/02/2012 to 08/07/2022\n",
      "2022-07-08 20:00:53,502 [app.utils.fetch_data] [INFO] Fetching stock from investing_api: AJG, from 03/06/2015 to 08/07/2022\n",
      "2022-07-08 20:01:03,430 [app.utils.fetch_data] [INFO] Fetching stock from investing_api: KSU, from 06/06/2012 to 14/12/2021\n"
     ]
    },
    {
     "name": "stdout",
     "output_type": "stream",
     "text": [
      "Error when calling data for TE\n"
     ]
    },
    {
     "name": "stderr",
     "output_type": "stream",
     "text": [
      "2022-07-08 20:01:15,619 [app.utils.fetch_data] [INFO] Fetching stock from alpha vantage api: HNZ\n",
      "2022-07-08 20:01:27,640 [app.utils.fetch_data] [INFO] Fetching stock from alpha vantage api: BCR\n",
      "2022-07-08 20:01:35,376 [app.utils.fetch_data] [INFO] Fetching stock from investing_api: FL, from 08/04/2015 to 09/08/2019\n",
      "2022-07-08 20:01:42,509 [app.utils.fetch_data] [INFO] Fetching stock from investing_api: NBR, from 07/06/1999 to 23/03/2015\n",
      "2022-07-08 20:01:53,212 [app.utils.fetch_data] [INFO] Fetching stock from investing_api: PPL, from 07/06/1999 to 08/07/2022\n",
      "2022-07-08 20:02:02,961 [app.utils.fetch_data] [INFO] Fetching stock from investing_api: MDT, from 07/06/1999 to 08/07/2022\n",
      "2022-07-08 20:02:12,983 [app.utils.fetch_data] [INFO] Fetching stock from alpha vantage api: POM\n",
      "2022-07-08 20:02:18,758 [app.utils.fetch_data] [INFO] Fetching stock from investing_api: VRSK, from 02/11/2014 to 08/07/2022\n",
      "2022-07-08 20:02:25,429 [app.utils.fetch_data] [INFO] Fetching stock from investing_api: SHW, from 07/06/1999 to 08/07/2022\n"
     ]
    },
    {
     "name": "stdout",
     "output_type": "stream",
     "text": [
      "Error when calling data for GENZ\n"
     ]
    },
    {
     "name": "stderr",
     "output_type": "stream",
     "text": [
      "2022-07-08 20:02:31,639 [app.utils.fetch_data] [INFO] Fetching stock from investing_api: ZBRA, from 28/01/2019 to 08/07/2022\n",
      "2022-07-08 20:02:40,345 [app.utils.fetch_data] [INFO] Fetching stock from investing_api: GD, from 07/06/1999 to 08/07/2022\n",
      "2022-07-08 20:02:51,513 [app.utils.fetch_data] [INFO] Fetching stock from alpha vantage api: BRK.B\n",
      "2022-07-08 20:03:01,137 [app.utils.fetch_data] [INFO] Fetching stock from investing_api: BHF, from 29/08/2016 to 02/04/2019\n"
     ]
    },
    {
     "name": "stdout",
     "output_type": "stream",
     "text": [
      "Error when calling data for ABS\n"
     ]
    },
    {
     "name": "stderr",
     "output_type": "stream",
     "text": [
      "2022-07-08 20:03:09,545 [app.utils.fetch_data] [INFO] Fetching stock from investing_api: ITT, from 07/06/1999 to 31/10/2011\n",
      "2022-07-08 20:03:19,239 [app.utils.fetch_data] [INFO] Fetching stock from investing_api: LDOS, from 23/09/2018 to 08/07/2022\n",
      "2022-07-08 20:03:25,945 [app.utils.fetch_data] [INFO] Fetching stock from investing_api: HII, from 07/03/2017 to 08/07/2022\n",
      "2022-07-08 20:03:34,558 [app.utils.fetch_data] [INFO] Fetching stock from investing_api: AIZ, from 07/06/1999 to 08/07/2022\n",
      "2022-07-08 20:03:47,119 [app.utils.fetch_data] [INFO] Fetching stock from alpha vantage api: PAYC\n",
      "2022-07-08 20:03:57,852 [app.utils.fetch_data] [INFO] Fetching stock from investing_api: GPS, from 07/06/1999 to 03/02/2022\n",
      "2022-07-08 20:04:08,567 [app.utils.fetch_data] [INFO] Fetching stock from investing_api: LUV, from 07/06/1999 to 08/07/2022\n",
      "2022-07-08 20:04:17,050 [app.utils.fetch_data] [INFO] Fetching stock from alpha vantage api: PGN\n",
      "2022-07-08 20:04:25,707 [app.utils.fetch_data] [INFO] Fetching stock from investing_api: UNM, from 07/06/1999 to 20/09/2021\n",
      "2022-07-08 20:04:34,330 [app.utils.fetch_data] [INFO] Fetching stock from investing_api: ABT, from 07/06/1999 to 08/07/2022\n",
      "2022-07-08 20:04:41,054 [app.utils.fetch_data] [INFO] Fetching stock from investing_api: HPQ, from 07/06/1999 to 08/07/2022\n",
      "2022-07-08 20:04:50,952 [app.utils.fetch_data] [INFO] Fetching stock from investing_api: RCL, from 27/01/2014 to 08/07/2022\n",
      "2022-07-08 20:05:00,465 [app.utils.fetch_data] [INFO] Fetching stock from investing_api: EPAM, from 20/12/2020 to 08/07/2022\n",
      "2022-07-08 20:05:07,387 [app.utils.fetch_data] [INFO] Fetching stock from investing_api: KHC, from 08/07/2014 to 08/07/2022\n",
      "2022-07-08 20:05:15,106 [app.utils.fetch_data] [INFO] Fetching stock from investing_api: DRI, from 07/06/1999 to 08/07/2022\n",
      "2022-07-08 20:05:21,765 [app.utils.fetch_data] [INFO] Fetching stock from investing_api: PFG, from 07/06/1999 to 08/07/2022\n",
      "2022-07-08 20:05:29,923 [app.utils.fetch_data] [INFO] Fetching stock from investing_api: NE, from 07/06/1999 to 20/07/2015\n",
      "2022-07-08 20:05:40,487 [app.utils.fetch_data] [INFO] Fetching stock from investing_api: MRO, from 07/06/1999 to 08/07/2022\n",
      "2022-07-08 20:05:50,793 [app.utils.fetch_data] [INFO] Fetching stock from investing_api: HES, from 07/06/1999 to 08/07/2022\n",
      "2022-07-08 20:05:58,520 [app.utils.fetch_data] [INFO] Fetching stock from investing_api: VZ, from 07/06/1999 to 08/07/2022\n",
      "2022-07-08 20:06:06,513 [app.utils.fetch_data] [INFO] Fetching stock from investing_api: AMZN, from 02/06/2005 to 08/07/2022\n",
      "2022-07-08 20:06:14,313 [app.utils.fetch_data] [INFO] Fetching stock from investing_api: EIX, from 07/06/1999 to 08/07/2022\n",
      "2022-07-08 20:06:23,439 [app.utils.fetch_data] [INFO] Fetching stock from investing_api: FTI, from 19/08/2008 to 12/02/2021\n",
      "2022-07-08 20:06:33,612 [app.utils.fetch_data] [INFO] Fetching stock from investing_api: SWN, from 07/06/1999 to 04/04/2017\n",
      "2022-07-08 20:06:43,325 [app.utils.fetch_data] [INFO] Fetching stock from investing_api: NDAQ, from 07/06/1999 to 08/07/2022\n",
      "2022-07-08 20:06:49,466 [app.utils.fetch_data] [INFO] Fetching stock from investing_api: CNX, from 07/06/1999 to 04/03/2016\n",
      "2022-07-08 20:07:02,333 [app.utils.fetch_data] [INFO] Fetching stock from alpha vantage api: TWX\n",
      "2022-07-08 20:07:13,203 [app.utils.fetch_data] [INFO] Fetching stock from investing_api: MTB, from 07/06/1999 to 08/07/2022\n",
      "2022-07-08 20:07:21,997 [app.utils.fetch_data] [INFO] Fetching stock from investing_api: MSFT, from 07/06/1999 to 08/07/2022\n",
      "2022-07-08 20:07:29,936 [app.utils.fetch_data] [INFO] Fetching stock from investing_api: ALXN, from 05/06/2011 to 21/07/2021\n"
     ]
    },
    {
     "name": "stdout",
     "output_type": "stream",
     "text": [
      "Error when calling data for TLAB\n"
     ]
    },
    {
     "name": "stderr",
     "output_type": "stream",
     "text": [
      "2022-07-08 20:07:37,893 [app.utils.fetch_data] [INFO] Fetching stock from investing_api: OKE, from 07/06/1999 to 08/07/2022\n",
      "2022-07-08 20:07:46,528 [app.utils.fetch_data] [INFO] Fetching stock from investing_api: PRU, from 07/06/1999 to 08/07/2022\n",
      "2022-07-08 20:07:53,121 [app.utils.fetch_data] [INFO] Fetching stock from investing_api: S, from 07/06/1999 to 08/07/2013\n",
      "2022-07-08 20:08:02,713 [app.utils.fetch_data] [INFO] Fetching stock from investing_api: CRL, from 03/06/2020 to 08/07/2022\n",
      "2022-07-08 20:08:08,694 [app.utils.fetch_data] [INFO] Fetching stock from investing_api: EQIX, from 07/04/2014 to 08/07/2022\n",
      "2022-07-08 20:08:17,374 [app.utils.fetch_data] [INFO] Fetching stock from investing_api: GILD, from 07/06/1999 to 08/07/2022\n",
      "2022-07-08 20:08:24,172 [app.utils.fetch_data] [INFO] Fetching stock from investing_api: MMM, from 07/06/1999 to 08/07/2022\n",
      "2022-07-08 20:08:35,130 [app.utils.fetch_data] [INFO] Fetching stock from alpha vantage api: J\n",
      "2022-07-08 20:08:44,871 [app.utils.fetch_data] [INFO] Fetching stock from investing_api: CDW, from 26/09/2018 to 08/07/2022\n",
      "2022-07-08 20:08:51,503 [app.utils.fetch_data] [INFO] Fetching stock from investing_api: HUM, from 07/06/1999 to 08/07/2022\n",
      "2022-07-08 20:08:59,286 [app.utils.fetch_data] [INFO] Fetching stock from investing_api: NWL, from 07/06/1999 to 08/07/2022\n",
      "2022-07-08 20:09:06,047 [app.utils.fetch_data] [INFO] Fetching stock from investing_api: AMG, from 02/07/2013 to 23/12/2019\n",
      "2022-07-08 20:09:13,579 [app.utils.fetch_data] [INFO] Fetching stock from investing_api: WCG, from 01/10/2017 to 28/01/2020\n",
      "2022-07-08 20:09:22,697 [app.utils.fetch_data] [INFO] Fetching stock from alpha vantage api: CVG\n",
      "2022-07-08 20:09:31,505 [app.utils.fetch_data] [INFO] Fetching stock from investing_api: LIN, from 07/06/1999 to 08/07/2022\n",
      "2022-07-08 20:09:39,231 [app.utils.fetch_data] [INFO] Fetching stock from investing_api: MCHP, from 07/06/1999 to 08/07/2022\n",
      "2022-07-08 20:09:45,976 [app.utils.fetch_data] [INFO] Fetching stock from investing_api: ANSS, from 26/07/2016 to 08/07/2022\n",
      "2022-07-08 20:09:55,972 [app.utils.fetch_data] [INFO] Fetching stock from investing_api: DLTR, from 20/12/2010 to 08/07/2022\n",
      "2022-07-08 20:10:03,535 [app.utils.fetch_data] [INFO] Fetching stock from investing_api: AMCR, from 01/07/2018 to 08/07/2022\n",
      "2022-07-08 20:10:12,112 [app.utils.fetch_data] [INFO] Fetching stock from investing_api: CE, from 02/01/2018 to 08/07/2022\n",
      "2022-07-08 20:10:23,071 [app.utils.fetch_data] [INFO] Fetching stock from alpha vantage api: WYN\n",
      "2022-07-08 20:10:33,742 [app.utils.fetch_data] [INFO] Fetching stock from investing_api: IP, from 07/06/1999 to 08/07/2022\n",
      "2022-07-08 20:10:41,049 [app.utils.fetch_data] [INFO] Fetching stock from alpha vantage api: OGN\n",
      "2022-07-08 20:10:49,821 [app.utils.fetch_data] [INFO] Fetching stock from investing_api: MGM, from 08/08/2016 to 08/07/2022\n",
      "2022-07-08 20:10:58,483 [app.utils.fetch_data] [INFO] Fetching stock from investing_api: JNJ, from 07/06/1999 to 08/07/2022\n",
      "2022-07-08 20:11:05,368 [app.utils.fetch_data] [INFO] Fetching stock from investing_api: ZION, from 07/06/1999 to 08/07/2022\n",
      "2022-07-08 20:11:13,263 [app.utils.fetch_data] [INFO] Fetching stock from investing_api: TROW, from 07/06/1999 to 08/07/2022\n",
      "2022-07-08 20:11:22,952 [app.utils.fetch_data] [INFO] Fetching stock from investing_api: WMT, from 07/06/1999 to 08/07/2022\n",
      "2022-07-08 20:11:31,122 [app.utils.fetch_data] [INFO] Fetching stock from investing_api: PXD, from 07/06/1999 to 08/07/2022\n",
      "2022-07-08 20:11:38,789 [app.utils.fetch_data] [INFO] Fetching stock from investing_api: CME, from 07/06/1999 to 08/07/2022\n",
      "2022-07-08 20:11:47,397 [app.utils.fetch_data] [INFO] Fetching stock from investing_api: CPT, from 08/06/2021 to 08/07/2022\n",
      "2022-07-08 20:11:55,246 [app.utils.fetch_data] [INFO] Fetching stock from investing_api: CNP, from 07/06/1999 to 08/07/2022\n",
      "2022-07-08 20:12:05,018 [app.utils.fetch_data] [INFO] Fetching stock from investing_api: HPE, from 18/11/2014 to 08/07/2022\n",
      "2022-07-08 20:12:15,768 [app.utils.fetch_data] [INFO] Fetching stock from investing_api: XEL, from 07/06/1999 to 08/07/2022\n",
      "2022-07-08 20:12:25,256 [app.utils.fetch_data] [INFO] Fetching stock from alpha vantage api: CSRA\n",
      "2022-07-08 20:12:35,048 [app.utils.fetch_data] [INFO] Fetching stock from investing_api: QEP, from 14/07/2009 to 01/07/2015\n",
      "2022-07-08 20:12:44,188 [app.utils.fetch_data] [INFO] Fetching stock from investing_api: OI, from 07/06/1999 to 02/12/2016\n",
      "2022-07-08 20:12:51,777 [app.utils.fetch_data] [INFO] Fetching stock from alpha vantage api: AET\n"
     ]
    },
    {
     "name": "stdout",
     "output_type": "stream",
     "text": [
      "Error when calling data for ARG\n"
     ]
    },
    {
     "name": "stderr",
     "output_type": "stream",
     "text": [
      "2022-07-08 20:12:58,427 [app.utils.fetch_data] [INFO] Fetching stock from investing_api: JBL, from 07/06/1999 to 05/11/2014\n",
      "2022-07-08 20:13:05,289 [app.utils.fetch_data] [INFO] Fetching stock from investing_api: ROST, from 26/02/2009 to 08/07/2022\n",
      "2022-07-08 20:13:15,014 [app.utils.fetch_data] [INFO] Fetching stock from investing_api: NCLH, from 03/01/2017 to 08/07/2022\n",
      "2022-07-08 20:13:25,771 [app.utils.fetch_data] [INFO] Fetching stock from investing_api: AMGN, from 07/06/1999 to 08/07/2022\n",
      "2022-07-08 20:13:32,494 [app.utils.fetch_data] [INFO] Fetching stock from investing_api: NEE, from 07/06/1999 to 08/07/2022\n",
      "2022-07-08 20:13:42,222 [app.utils.fetch_data] [INFO] Fetching stock from investing_api: COTY, from 01/11/2015 to 21/09/2020\n",
      "2022-07-08 20:13:49,232 [app.utils.fetch_data] [INFO] Fetching stock from investing_api: KMX, from 30/06/2009 to 08/07/2022\n",
      "2022-07-08 20:13:58,870 [app.utils.fetch_data] [INFO] Fetching stock from alpha vantage api: LXK\n",
      "2022-07-08 20:14:08,670 [app.utils.fetch_data] [INFO] Fetching stock from investing_api: MSI, from 07/06/1999 to 08/07/2022\n",
      "2022-07-08 20:14:18,474 [app.utils.fetch_data] [INFO] Fetching stock from investing_api: KO, from 07/06/1999 to 08/07/2022\n",
      "2022-07-08 20:14:27,162 [app.utils.fetch_data] [INFO] Fetching stock from investing_api: DOW, from 07/06/1999 to 08/07/2022\n",
      "2022-07-08 20:14:34,923 [app.utils.fetch_data] [INFO] Fetching stock from investing_api: ARE, from 04/04/2016 to 08/07/2022\n",
      "2022-07-08 20:14:45,624 [app.utils.fetch_data] [INFO] Fetching stock from investing_api: PCAR, from 07/06/1999 to 08/07/2022\n",
      "2022-07-08 20:14:53,362 [app.utils.fetch_data] [INFO] Fetching stock from investing_api: IPGP, from 19/03/2017 to 21/06/2022\n",
      "2022-07-08 20:15:02,099 [app.utils.fetch_data] [INFO] Fetching stock from investing_api: TMO, from 07/06/1999 to 08/07/2022\n",
      "2022-07-08 20:15:11,813 [app.utils.fetch_data] [INFO] Fetching stock from investing_api: ADBE, from 07/06/1999 to 08/07/2022\n",
      "2022-07-08 20:15:18,329 [app.utils.fetch_data] [INFO] Fetching stock from investing_api: VIAB, from 07/06/1999 to 05/12/2019\n",
      "2022-07-08 20:15:25,716 [app.utils.fetch_data] [INFO] Fetching stock from investing_api: LRCX, from 29/06/2011 to 08/07/2022\n",
      "2022-07-08 20:15:35,428 [app.utils.fetch_data] [INFO] Fetching stock from investing_api: TWTR, from 18/06/2017 to 08/07/2022\n",
      "2022-07-08 20:15:52,606 [app.utils.fetch_data] [INFO] Fetching stock from alpha vantage api: HWM\n",
      "2022-07-08 20:16:01,187 [app.utils.fetch_data] [INFO] Fetching stock from investing_api: NKTR, from 04/04/2017 to 03/10/2019\n"
     ]
    },
    {
     "name": "stdout",
     "output_type": "stream",
     "text": [
      "Error when calling data for MOLX\n"
     ]
    },
    {
     "name": "stderr",
     "output_type": "stream",
     "text": [
      "2022-07-08 20:16:11,746 [app.utils.fetch_data] [INFO] Fetching stock from investing_api: EQR, from 07/06/1999 to 08/07/2022\n",
      "2022-07-08 20:16:20,334 [app.utils.fetch_data] [INFO] Fetching stock from investing_api: ENPH, from 21/01/2020 to 08/07/2022\n",
      "2022-07-08 20:16:28,172 [app.utils.fetch_data] [INFO] Fetching stock from investing_api: AZO, from 07/06/1999 to 08/07/2022\n",
      "2022-07-08 20:16:39,050 [app.utils.fetch_data] [INFO] Fetching stock from alpha vantage api: PETM\n",
      "2022-07-08 20:16:45,906 [app.utils.fetch_data] [INFO] Fetching stock from investing_api: EL, from 07/06/1999 to 08/07/2022\n",
      "2022-07-08 20:16:52,667 [app.utils.fetch_data] [INFO] Fetching stock from investing_api: SBAC, from 18/09/2016 to 08/07/2022\n",
      "2022-07-08 20:17:00,474 [app.utils.fetch_data] [INFO] Fetching stock from investing_api: PLD, from 07/06/1999 to 08/07/2022\n",
      "2022-07-08 20:17:07,233 [app.utils.fetch_data] [INFO] Fetching stock from investing_api: ED, from 07/06/1999 to 08/07/2022\n",
      "2022-07-08 20:17:15,964 [app.utils.fetch_data] [INFO] Fetching stock from investing_api: CSX, from 07/06/1999 to 08/07/2022\n",
      "2022-07-08 20:17:26,744 [app.utils.fetch_data] [INFO] Fetching stock from investing_api: FITB, from 07/06/1999 to 08/07/2022\n",
      "2022-07-08 20:17:36,956 [app.utils.fetch_data] [INFO] Fetching stock from alpha vantage api: SAI\n",
      "2022-07-08 20:17:45,909 [app.utils.fetch_data] [INFO] Fetching stock from investing_api: XOM, from 07/06/1999 to 08/07/2022\n",
      "2022-07-08 20:17:52,915 [app.utils.fetch_data] [INFO] Fetching stock from investing_api: GNW, from 07/06/1999 to 18/11/2015\n",
      "2022-07-08 20:18:03,645 [app.utils.fetch_data] [INFO] Fetching stock from investing_api: KEY, from 07/06/1999 to 08/07/2022\n",
      "2022-07-08 20:18:11,581 [app.utils.fetch_data] [INFO] Fetching stock from investing_api: VRTX, from 29/10/2012 to 08/07/2022\n",
      "2022-07-08 20:18:21,381 [app.utils.fetch_data] [INFO] Fetching stock from investing_api: MO, from 07/06/1999 to 08/07/2022\n",
      "2022-07-08 20:18:32,072 [app.utils.fetch_data] [INFO] Fetching stock from investing_api: MXIM, from 07/06/1999 to 30/08/2021\n"
     ]
    },
    {
     "name": "stdout",
     "output_type": "stream",
     "text": [
      "Error when calling data for ANR\n"
     ]
    },
    {
     "name": "stderr",
     "output_type": "stream",
     "text": [
      "2022-07-08 20:18:42,254 [app.utils.fetch_data] [INFO] Fetching stock from investing_api: ISRG, from 07/06/1999 to 08/07/2022\n",
      "2022-07-08 20:18:50,915 [app.utils.fetch_data] [INFO] Fetching stock from investing_api: WY, from 07/06/1999 to 08/07/2022\n",
      "2022-07-08 20:18:59,642 [app.utils.fetch_data] [INFO] Fetching stock from investing_api: SO, from 07/06/1999 to 08/07/2022\n",
      "2022-07-08 20:19:06,523 [app.utils.fetch_data] [INFO] Fetching stock from investing_api: KMB, from 07/06/1999 to 08/07/2022\n",
      "2022-07-08 20:19:16,318 [app.utils.fetch_data] [INFO] Fetching stock from investing_api: FTV, from 06/09/2015 to 08/07/2022\n",
      "2022-07-08 20:19:26,902 [app.utils.fetch_data] [INFO] Fetching stock from investing_api: AES, from 07/06/1999 to 08/07/2022\n",
      "2022-07-08 20:19:35,106 [app.utils.fetch_data] [INFO] Fetching stock from investing_api: NRG, from 07/06/1999 to 08/07/2022\n",
      "2022-07-08 20:19:50,547 [app.utils.fetch_data] [INFO] Fetching stock from alpha vantage api: PARA\n",
      "2022-07-08 20:19:56,356 [app.utils.fetch_data] [INFO] Fetching stock from investing_api: UDR, from 30/03/2015 to 08/07/2022\n",
      "2022-07-08 20:20:03,228 [app.utils.fetch_data] [INFO] Fetching stock from alpha vantage api: BXLT\n"
     ]
    },
    {
     "name": "stdout",
     "output_type": "stream",
     "text": [
      "Error when calling data for NSM\n"
     ]
    },
    {
     "name": "stderr",
     "output_type": "stream",
     "text": [
      "2022-07-08 20:25:11,670 [app.utils.fetch_data] [INFO] Fetching stock from investing_api: SYY, from 07/06/1999 to 08/07/2022\n",
      "2022-07-08 20:25:19,092 [app.utils.fetch_data] [INFO] Fetching stock from alpha vantage api: KRFT\n",
      "2022-07-08 20:25:27,862 [app.utils.fetch_data] [INFO] Fetching stock from investing_api: CI, from 07/06/1999 to 08/07/2022\n",
      "2022-07-08 20:25:36,611 [app.utils.fetch_data] [INFO] Fetching stock from investing_api: GPC, from 07/06/1999 to 08/07/2022\n",
      "2022-07-08 20:25:43,951 [app.utils.fetch_data] [INFO] Fetching stock from alpha vantage api: SII\n",
      "2022-07-08 20:25:53,690 [app.utils.fetch_data] [INFO] Fetching stock from investing_api: AKS, from 12/09/2007 to 16/12/2011\n",
      "2022-07-08 20:30:59,300 [app.utils.fetch_data] [INFO] Fetching stock from investing_api: DHR, from 07/06/1999 to 08/07/2022\n",
      "2022-07-08 20:31:09,289 [app.utils.fetch_data] [INFO] Fetching stock from investing_api: IBM, from 07/06/1999 to 08/07/2022\n",
      "2022-07-08 20:31:17,430 [app.utils.fetch_data] [INFO] Fetching stock from investing_api: ICE, from 27/09/2006 to 08/07/2022\n",
      "2022-07-08 20:31:30,591 [app.utils.fetch_data] [INFO] Fetching stock from alpha vantage api: ANDV\n",
      "2022-07-08 20:31:40,423 [app.utils.fetch_data] [INFO] Fetching stock from investing_api: NYT, from 07/06/1999 to 17/12/2010\n",
      "2022-07-08 20:31:50,226 [app.utils.fetch_data] [INFO] Fetching stock from investing_api: AWK, from 07/03/2015 to 08/07/2022\n",
      "2022-07-08 20:31:57,013 [app.utils.fetch_data] [INFO] Fetching stock from investing_api: CMI, from 07/06/1999 to 08/07/2022\n",
      "2022-07-08 20:32:07,426 [app.utils.fetch_data] [INFO] Fetching stock from investing_api: PCG, from 07/06/1999 to 18/01/2019\n"
     ]
    },
    {
     "name": "stdout",
     "output_type": "stream",
     "text": [
      "Error when calling data for SCG\n"
     ]
    },
    {
     "name": "stderr",
     "output_type": "stream",
     "text": [
      "2022-07-08 20:32:14,135 [app.utils.fetch_data] [INFO] Fetching stock from investing_api: LHX, from 31/12/2007 to 08/07/2022\n",
      "2022-07-08 20:32:20,596 [app.utils.fetch_data] [INFO] Fetching stock from investing_api: ODP, from 07/06/1999 to 17/12/2010\n",
      "2022-07-08 20:32:29,257 [app.utils.fetch_data] [INFO] Fetching stock from investing_api: F, from 07/06/1999 to 08/07/2022\n",
      "2022-07-08 20:32:36,013 [app.utils.fetch_data] [INFO] Fetching stock from investing_api: CMS, from 07/06/1999 to 08/07/2022\n",
      "2022-07-08 20:32:43,635 [app.utils.fetch_data] [INFO] Fetching stock from investing_api: MTCH, from 14/12/2020 to 08/07/2022\n",
      "2022-07-08 20:32:52,506 [app.utils.fetch_data] [INFO] Fetching stock from investing_api: CCL, from 07/06/1999 to 08/07/2022\n",
      "2022-07-08 20:33:00,682 [app.utils.fetch_data] [INFO] Fetching stock from investing_api: DO, from 07/06/1999 to 30/09/2016\n",
      "2022-07-08 20:33:06,596 [app.utils.fetch_data] [INFO] Fetching stock from investing_api: SWKS, from 18/03/2014 to 08/07/2022\n",
      "2022-07-08 20:33:16,690 [app.utils.fetch_data] [INFO] Fetching stock from investing_api: DFS, from 24/08/2006 to 08/07/2022\n",
      "2022-07-08 20:33:23,480 [app.utils.fetch_data] [INFO] Fetching stock from investing_api: MTD, from 08/09/2015 to 08/07/2022\n",
      "2022-07-08 20:33:33,539 [app.utils.fetch_data] [INFO] Fetching stock from alpha vantage api: TWC\n",
      "2022-07-08 20:33:42,214 [app.utils.fetch_data] [INFO] Fetching stock from investing_api: DXCM, from 22/05/2019 to 08/07/2022\n"
     ]
    },
    {
     "name": "stdout",
     "output_type": "stream",
     "text": [
      "Error when calling data for MIL\n"
     ]
    },
    {
     "name": "stderr",
     "output_type": "stream",
     "text": [
      "2022-07-08 20:33:52,556 [app.utils.fetch_data] [INFO] Fetching stock from investing_api: INCY, from 01/03/2016 to 08/07/2022\n",
      "2022-07-08 20:33:58,447 [app.utils.fetch_data] [INFO] Fetching stock from investing_api: AVGO, from 20/06/2013 to 08/07/2022\n",
      "2022-07-08 20:34:05,063 [app.utils.fetch_data] [INFO] Fetching stock from investing_api: M, from 07/06/1999 to 06/04/2020\n",
      "2022-07-08 20:34:10,778 [app.utils.fetch_data] [INFO] Fetching stock from investing_api: ARNC, from 02/12/2015 to 01/04/2020\n",
      "2022-07-08 20:34:16,542 [app.utils.fetch_data] [INFO] Fetching stock from investing_api: MAC, from 23/05/2012 to 23/12/2019\n",
      "2022-07-08 20:34:26,092 [app.utils.fetch_data] [INFO] Fetching stock from investing_api: AIV, from 07/06/1999 to 21/12/2020\n",
      "2022-07-08 20:34:37,886 [app.utils.fetch_data] [INFO] Fetching stock from alpha vantage api: HSP\n",
      "2022-07-08 20:34:46,488 [app.utils.fetch_data] [INFO] Fetching stock from investing_api: CELG, from 07/06/1999 to 21/11/2019\n",
      "2022-07-08 20:34:52,204 [app.utils.fetch_data] [INFO] Fetching stock from investing_api: RMD, from 08/08/2016 to 08/07/2022\n",
      "2022-07-08 20:35:03,081 [app.utils.fetch_data] [INFO] Fetching stock from investing_api: ETR, from 07/06/1999 to 08/07/2022\n",
      "2022-07-08 20:35:11,535 [app.utils.fetch_data] [INFO] Fetching stock from investing_api: FLR, from 07/06/1999 to 03/06/2019\n",
      "2022-07-08 20:35:19,360 [app.utils.fetch_data] [INFO] Fetching stock from investing_api: O, from 11/06/2014 to 08/07/2022\n",
      "2022-07-08 20:35:28,714 [app.utils.fetch_data] [INFO] Fetching stock from alpha vantage api: DWDP\n",
      "2022-07-08 20:35:38,439 [app.utils.fetch_data] [INFO] Fetching stock from investing_api: IGT, from 07/06/1999 to 20/06/2014\n",
      "2022-07-08 20:35:46,127 [app.utils.fetch_data] [INFO] Fetching stock from investing_api: WRB, from 09/12/2018 to 08/07/2022\n",
      "2022-07-08 20:35:59,740 [app.utils.fetch_data] [INFO] Fetching stock from alpha vantage api: CVH\n",
      "2022-07-08 20:36:08,277 [app.utils.fetch_data] [INFO] Fetching stock from alpha vantage api: OMX\n",
      "2022-07-08 20:36:18,235 [app.utils.fetch_data] [INFO] Fetching stock from investing_api: CNC, from 04/04/2015 to 08/07/2022\n",
      "2022-07-08 20:36:29,017 [app.utils.fetch_data] [INFO] Fetching stock from investing_api: TJX, from 07/06/1999 to 08/07/2022\n",
      "2022-07-08 20:36:35,735 [app.utils.fetch_data] [INFO] Fetching stock from investing_api: CMCSA, from 07/06/1999 to 08/07/2022\n",
      "2022-07-08 20:36:49,104 [app.utils.fetch_data] [INFO] Fetching stock from alpha vantage api: GMCR\n",
      "2022-07-08 20:37:01,013 [app.utils.fetch_data] [INFO] Fetching stock from alpha vantage api: DPS\n",
      "2022-07-08 20:37:11,505 [app.utils.fetch_data] [INFO] Fetching stock from alpha vantage api: ADT\n",
      "2022-07-08 20:37:20,294 [app.utils.fetch_data] [INFO] Fetching stock from investing_api: DOV, from 07/06/1999 to 08/07/2022\n",
      "2022-07-08 20:37:28,065 [app.utils.fetch_data] [INFO] Fetching stock from investing_api: FE, from 07/06/1999 to 08/07/2022\n"
     ]
    },
    {
     "name": "stdout",
     "output_type": "stream",
     "text": [
      "Error when calling data for SGP\n"
     ]
    },
    {
     "name": "stderr",
     "output_type": "stream",
     "text": [
      "2022-07-08 20:37:41,806 [app.utils.fetch_data] [INFO] Fetching stock from alpha vantage api: WBD\n",
      "2022-07-08 20:37:50,476 [app.utils.fetch_data] [INFO] Fetching stock from alpha vantage api: PCP\n"
     ]
    },
    {
     "name": "stdout",
     "output_type": "stream",
     "text": [
      "Error when calling data for RX\n"
     ]
    },
    {
     "name": "stderr",
     "output_type": "stream",
     "text": [
      "2022-07-08 20:38:00,954 [app.utils.fetch_data] [INFO] Fetching stock from investing_api: CAH, from 07/06/1999 to 08/07/2022\n",
      "2022-07-08 20:38:11,143 [app.utils.fetch_data] [INFO] Fetching stock from investing_api: CHK, from 07/06/1999 to 19/03/2018\n",
      "2022-07-08 20:38:19,104 [app.utils.fetch_data] [INFO] Fetching stock from investing_api: MPC, from 05/07/2010 to 08/07/2022\n",
      "2022-07-08 20:38:24,825 [app.utils.fetch_data] [INFO] Fetching stock from investing_api: ROL, from 11/10/2017 to 08/07/2022\n",
      "2022-07-08 20:38:32,131 [app.utils.fetch_data] [INFO] Fetching stock from alpha vantage api: OTIS\n",
      "2022-07-08 20:38:38,897 [app.utils.fetch_data] [INFO] Fetching stock from investing_api: NBL, from 07/06/1999 to 12/10/2020\n",
      "2022-07-08 20:38:48,625 [app.utils.fetch_data] [INFO] Fetching stock from investing_api: GS, from 07/06/1999 to 08/07/2022\n",
      "2022-07-08 20:38:55,349 [app.utils.fetch_data] [INFO] Fetching stock from investing_api: LNC, from 07/06/1999 to 08/07/2022\n",
      "2022-07-08 20:39:05,063 [app.utils.fetch_data] [INFO] Fetching stock from investing_api: ATO, from 27/02/2018 to 08/07/2022\n",
      "2022-07-08 20:39:12,258 [app.utils.fetch_data] [INFO] Fetching stock from investing_api: AIG, from 07/06/1999 to 08/07/2022\n"
     ]
    },
    {
     "name": "stdout",
     "output_type": "stream",
     "text": [
      "Error when calling data for ABK\n"
     ]
    },
    {
     "name": "stderr",
     "output_type": "stream",
     "text": [
      "2022-07-08 20:39:18,600 [app.utils.fetch_data] [INFO] Fetching stock from investing_api: CFG, from 22/02/2015 to 08/07/2022\n",
      "2022-07-08 20:39:28,102 [app.utils.fetch_data] [INFO] Fetching stock from alpha vantage api: VTRS\n",
      "2022-07-08 20:39:37,829 [app.utils.fetch_data] [INFO] Fetching stock from investing_api: LYV, from 28/01/2019 to 08/07/2022\n",
      "2022-07-08 20:39:44,428 [app.utils.fetch_data] [INFO] Fetching stock from investing_api: CPRT, from 28/08/2017 to 08/07/2022\n",
      "2022-07-08 20:39:52,914 [app.utils.fetch_data] [INFO] Fetching stock from investing_api: HOG, from 07/06/1999 to 22/06/2020\n",
      "2022-07-08 20:40:00,674 [app.utils.fetch_data] [INFO] Fetching stock from investing_api: UNP, from 07/06/1999 to 08/07/2022\n",
      "2022-07-08 20:40:09,749 [app.utils.fetch_data] [INFO] Fetching stock from investing_api: REGN, from 08/05/2012 to 08/07/2022\n",
      "2022-07-08 20:40:15,293 [app.utils.fetch_data] [INFO] Fetching stock from investing_api: PTC, from 14/05/2020 to 08/07/2022\n",
      "2022-07-08 20:40:24,099 [app.utils.fetch_data] [INFO] Fetching stock from investing_api: HBI, from 07/04/2014 to 20/12/2021\n",
      "2022-07-08 20:40:31,803 [app.utils.fetch_data] [INFO] Fetching stock from investing_api: MNK, from 20/09/2013 to 26/07/2017\n",
      "2022-07-08 20:40:39,545 [app.utils.fetch_data] [INFO] Fetching stock from alpha vantage api: JNY\n",
      "2022-07-08 20:40:47,447 [app.utils.fetch_data] [INFO] Fetching stock from alpha vantage api: CTX\n",
      "2022-07-08 20:40:56,530 [app.utils.fetch_data] [INFO] Fetching stock from investing_api: CRM, from 16/09/2007 to 08/07/2022\n",
      "2022-07-08 20:41:04,191 [app.utils.fetch_data] [INFO] Fetching stock from investing_api: BK, from 07/06/1999 to 08/07/2022\n",
      "2022-07-08 20:41:10,023 [app.utils.fetch_data] [INFO] Fetching stock from investing_api: BR, from 20/06/2017 to 08/07/2022\n"
     ]
    },
    {
     "name": "stdout",
     "output_type": "stream",
     "text": [
      "Error when calling data for NYX\n"
     ]
    },
    {
     "name": "stderr",
     "output_type": "stream",
     "text": [
      "2022-07-08 20:41:21,877 [app.utils.fetch_data] [INFO] Fetching stock from investing_api: NI, from 07/06/1999 to 08/07/2022\n",
      "2022-07-08 20:41:29,652 [app.utils.fetch_data] [INFO] Fetching stock from investing_api: KLAC, from 07/06/1999 to 08/07/2022\n",
      "2022-07-08 20:41:40,340 [app.utils.fetch_data] [INFO] Fetching stock from alpha vantage api: COV\n",
      "2022-07-08 20:41:46,980 [app.utils.fetch_data] [INFO] Fetching stock from investing_api: VAR, from 07/06/1999 to 20/04/2021\n",
      "2022-07-08 20:42:04,861 [app.utils.fetch_data] [INFO] Fetching stock from alpha vantage api: RAI\n"
     ]
    },
    {
     "name": "stdout",
     "output_type": "stream",
     "text": [
      "Error when calling data for CVC\n"
     ]
    },
    {
     "name": "stderr",
     "output_type": "stream",
     "text": [
      "2022-07-08 20:42:12,300 [app.utils.fetch_data] [INFO] Fetching stock from investing_api: TDG, from 22/06/2015 to 08/07/2022\n",
      "2022-07-08 20:42:19,487 [app.utils.fetch_data] [INFO] Fetching stock from investing_api: URBN, from 07/06/1999 to 20/03/2017\n",
      "2022-07-08 20:42:26,110 [app.utils.fetch_data] [INFO] Fetching stock from alpha vantage api: MFE\n",
      "2022-07-08 20:42:35,816 [app.utils.fetch_data] [INFO] Fetching stock from investing_api: MCO, from 07/06/1999 to 08/07/2022\n",
      "2022-07-08 20:42:46,628 [app.utils.fetch_data] [INFO] Fetching stock from alpha vantage api: LLL\n",
      "2022-07-08 20:42:55,633 [app.utils.fetch_data] [INFO] Fetching stock from investing_api: APD, from 07/06/1999 to 08/07/2022\n",
      "2022-07-08 20:43:45,195 [app.utils.fetch_data] [INFO] Fetching stock from investing_api: ORCL, from 07/06/1999 to 08/07/2022\n",
      "2022-07-08 20:43:53,989 [app.utils.fetch_data] [INFO] Fetching stock from investing_api: PGR, from 07/06/1999 to 08/07/2022\n"
     ]
    },
    {
     "name": "stdout",
     "output_type": "stream",
     "text": [
      "Error when calling data for TIE\n"
     ]
    },
    {
     "name": "stderr",
     "output_type": "stream",
     "text": [
      "2022-07-08 20:44:04,773 [app.utils.fetch_data] [INFO] Fetching stock from investing_api: RRD, from 07/06/1999 to 11/12/2012\n",
      "2022-07-08 20:44:12,823 [app.utils.fetch_data] [INFO] Fetching stock from alpha vantage api: LLTC\n",
      "2022-07-08 20:44:23,259 [app.utils.fetch_data] [INFO] Fetching stock from alpha vantage api: BBWI\n",
      "2022-07-08 20:44:31,747 [app.utils.fetch_data] [INFO] Fetching stock from investing_api: WPX, from 13/03/2011 to 21/03/2014\n",
      "2022-07-08 20:44:39,783 [app.utils.fetch_data] [INFO] Fetching stock from alpha vantage api: LUMN\n",
      "2022-07-08 20:44:47,018 [app.utils.fetch_data] [INFO] Fetching stock from investing_api: EQT, from 07/06/1999 to 13/11/2018\n",
      "2022-07-08 20:44:52,958 [app.utils.fetch_data] [INFO] Fetching stock from investing_api: MOS, from 14/10/2010 to 08/07/2022\n",
      "2022-07-08 20:45:00,737 [app.utils.fetch_data] [INFO] Fetching stock from investing_api: NVDA, from 07/06/1999 to 08/07/2022\n",
      "2022-07-08 20:45:09,841 [app.utils.fetch_data] [INFO] Fetching stock from alpha vantage api: HOT\n",
      "2022-07-08 20:45:17,603 [app.utils.fetch_data] [INFO] Fetching stock from investing_api: HIG, from 07/06/1999 to 08/07/2022\n",
      "2022-07-08 20:45:28,224 [app.utils.fetch_data] [INFO] Fetching stock from investing_api: PEAK, from 07/06/1999 to 08/07/2022\n",
      "2022-07-08 20:45:38,153 [app.utils.fetch_data] [INFO] Fetching stock from investing_api: T, from 07/06/1999 to 08/07/2022\n",
      "2022-07-08 20:45:46,780 [app.utils.fetch_data] [INFO] Fetching stock from investing_api: CTAS, from 07/06/1999 to 08/07/2022\n",
      "2022-07-08 20:45:55,910 [app.utils.fetch_data] [INFO] Fetching stock from investing_api: FRT, from 22/02/2015 to 08/07/2022\n",
      "2022-07-08 20:46:06,649 [app.utils.fetch_data] [INFO] Fetching stock from investing_api: LEN, from 07/06/1999 to 08/07/2022\n",
      "2022-07-08 20:46:13,518 [app.utils.fetch_data] [INFO] Fetching stock from investing_api: AAP, from 20/07/2014 to 08/07/2022\n",
      "2022-07-08 20:46:24,160 [app.utils.fetch_data] [INFO] Fetching stock from investing_api: SJM, from 07/06/1999 to 08/07/2022\n",
      "2022-07-08 20:46:35,405 [app.utils.fetch_data] [INFO] Fetching stock from alpha vantage api: RTX\n",
      "2022-07-08 20:46:43,617 [app.utils.fetch_data] [INFO] Fetching stock from investing_api: AA, from 07/06/1999 to 01/11/2016\n",
      "2022-07-08 20:46:51,384 [app.utils.fetch_data] [INFO] Fetching stock from investing_api: PWR, from 07/06/1999 to 08/07/2022\n",
      "2022-07-08 20:47:01,133 [app.utils.fetch_data] [INFO] Fetching stock from investing_api: MMC, from 07/06/1999 to 08/07/2022\n",
      "2022-07-08 20:47:09,368 [app.utils.fetch_data] [INFO] Fetching stock from investing_api: X, from 07/06/1999 to 02/07/2014\n",
      "2022-07-08 20:47:16,096 [app.utils.fetch_data] [INFO] Fetching stock from investing_api: ALL, from 07/06/1999 to 08/07/2022\n",
      "2022-07-08 20:47:25,790 [app.utils.fetch_data] [INFO] Fetching stock from investing_api: FLIR, from 07/06/1999 to 14/05/2021\n",
      "2022-07-08 20:47:34,233 [app.utils.fetch_data] [INFO] Fetching stock from investing_api: GT, from 07/06/1999 to 27/02/2019\n",
      "2022-07-08 20:47:43,949 [app.utils.fetch_data] [INFO] Fetching stock from investing_api: LH, from 07/06/1999 to 08/07/2022\n",
      "2022-07-08 20:47:51,646 [app.utils.fetch_data] [INFO] Fetching stock from investing_api: UPS, from 07/06/1999 to 08/07/2022\n",
      "2022-07-08 20:48:01,385 [app.utils.fetch_data] [INFO] Fetching stock from investing_api: AMAT, from 07/06/1999 to 08/07/2022\n",
      "2022-07-08 20:48:11,119 [app.utils.fetch_data] [INFO] Fetching stock from investing_api: PNW, from 07/06/1999 to 08/07/2022\n",
      "2022-07-08 20:48:21,866 [app.utils.fetch_data] [INFO] Fetching stock from investing_api: SCHW, from 07/06/1999 to 08/07/2022\n",
      "2022-07-08 20:48:31,560 [app.utils.fetch_data] [INFO] Fetching stock from investing_api: ITW, from 07/06/1999 to 08/07/2022\n",
      "2022-07-08 20:48:38,236 [app.utils.fetch_data] [INFO] Fetching stock from investing_api: SYK, from 07/06/1999 to 08/07/2022\n",
      "2022-07-08 20:48:46,065 [app.utils.fetch_data] [INFO] Fetching stock from investing_api: WAT, from 07/06/1999 to 08/07/2022\n",
      "2022-07-08 20:48:54,248 [app.utils.fetch_data] [INFO] Fetching stock from investing_api: STZ, from 18/11/2004 to 08/07/2022\n",
      "2022-07-08 20:49:02,963 [app.utils.fetch_data] [INFO] Fetching stock from investing_api: NKE, from 07/06/1999 to 08/07/2022\n",
      "2022-07-08 20:49:11,115 [app.utils.fetch_data] [INFO] Fetching stock from investing_api: AVP, from 07/06/1999 to 23/03/2015\n",
      "2022-07-08 20:49:17,939 [app.utils.fetch_data] [INFO] Fetching stock from alpha vantage api: WTW\n",
      "2022-07-08 20:49:28,261 [app.utils.fetch_data] [INFO] Fetching stock from investing_api: MUR, from 07/06/1999 to 26/07/2017\n",
      "2022-07-08 20:49:38,831 [app.utils.fetch_data] [INFO] Fetching stock from investing_api: MA, from 07/06/1999 to 08/07/2022\n",
      "2022-07-08 20:49:47,394 [app.utils.fetch_data] [INFO] Fetching stock from investing_api: TSLA, from 07/01/2020 to 08/07/2022\n",
      "2022-07-08 20:49:55,119 [app.utils.fetch_data] [INFO] Fetching stock from investing_api: INFO, from 19/06/2016 to 02/03/2022\n",
      "2022-07-08 20:50:00,911 [app.utils.fetch_data] [INFO] Fetching stock from investing_api: LKQ, from 31/05/2015 to 08/07/2022\n",
      "2022-07-08 20:50:07,947 [app.utils.fetch_data] [INFO] Fetching stock from investing_api: DF, from 07/06/1999 to 23/05/2013\n",
      "2022-07-08 20:50:14,452 [app.utils.fetch_data] [INFO] Fetching stock from investing_api: CLX, from 07/06/1999 to 08/07/2022\n",
      "2022-07-08 20:50:21,871 [app.utils.fetch_data] [INFO] Fetching stock from investing_api: MAT, from 07/06/1999 to 07/06/2019\n",
      "2022-07-08 20:50:28,723 [app.utils.fetch_data] [INFO] Fetching stock from investing_api: SWK, from 07/06/1999 to 08/07/2022\n",
      "2022-07-08 20:50:34,295 [app.utils.fetch_data] [INFO] Fetching stock from investing_api: TRMB, from 12/02/2020 to 08/07/2022\n",
      "2022-07-08 20:50:45,011 [app.utils.fetch_data] [INFO] Fetching stock from investing_api: BEN, from 07/06/1999 to 08/07/2022\n",
      "2022-07-08 20:50:53,798 [app.utils.fetch_data] [INFO] Fetching stock from investing_api: FDX, from 07/06/1999 to 08/07/2022\n"
     ]
    },
    {
     "name": "stdout",
     "output_type": "stream",
     "text": [
      "Error when calling data for PCL\n"
     ]
    },
    {
     "name": "stderr",
     "output_type": "stream",
     "text": [
      "2022-07-08 20:51:01,129 [app.utils.fetch_data] [INFO] Fetching stock from investing_api: TGT, from 07/06/1999 to 08/07/2022\n",
      "2022-07-08 20:51:09,351 [app.utils.fetch_data] [INFO] Fetching stock from investing_api: LM, from 07/06/1999 to 02/12/2016\n",
      "2022-07-08 20:51:16,132 [app.utils.fetch_data] [INFO] Fetching stock from investing_api: SLG, from 07/04/2014 to 22/03/2021\n",
      "2022-07-08 20:51:21,867 [app.utils.fetch_data] [INFO] Fetching stock from investing_api: DRE, from 08/08/2016 to 08/07/2022\n",
      "2022-07-08 20:51:31,814 [app.utils.fetch_data] [INFO] Fetching stock from investing_api: DAL, from 20/09/2012 to 08/07/2022\n",
      "2022-07-08 20:51:39,857 [app.utils.fetch_data] [INFO] Fetching stock from alpha vantage api: KG\n",
      "2022-07-08 20:51:46,987 [app.utils.fetch_data] [INFO] Fetching stock from investing_api: ALK, from 18/05/2015 to 08/07/2022\n",
      "2022-07-08 20:51:57,817 [app.utils.fetch_data] [INFO] Fetching stock from investing_api: WMB, from 07/06/1999 to 08/07/2022\n",
      "2022-07-08 20:52:06,558 [app.utils.fetch_data] [INFO] Fetching stock from investing_api: AEP, from 07/06/1999 to 08/07/2022\n",
      "2022-07-08 20:52:17,430 [app.utils.fetch_data] [INFO] Fetching stock from investing_api: EMR, from 07/06/1999 to 08/07/2022\n",
      "2022-07-08 20:52:26,079 [app.utils.fetch_data] [INFO] Fetching stock from investing_api: SNA, from 07/06/1999 to 08/07/2022\n",
      "2022-07-08 20:52:33,790 [app.utils.fetch_data] [INFO] Fetching stock from investing_api: DISH, from 16/03/2016 to 08/07/2022\n"
     ]
    },
    {
     "name": "stdout",
     "output_type": "stream",
     "text": [
      "Error when calling data for AV\n",
      "Error when calling data for DJ\n"
     ]
    },
    {
     "name": "stderr",
     "output_type": "stream",
     "text": [
      "2022-07-08 20:52:43,265 [app.utils.fetch_data] [INFO] Fetching stock from alpha vantage api: SHLD\n",
      "2022-07-08 20:52:49,053 [app.utils.fetch_data] [INFO] Fetching stock from investing_api: UA, from 18/04/2015 to 21/06/2022\n",
      "2022-07-08 20:52:56,845 [app.utils.fetch_data] [INFO] Fetching stock from investing_api: HSIC, from 23/03/2014 to 08/07/2022\n",
      "2022-07-08 20:53:04,378 [app.utils.fetch_data] [INFO] Fetching stock from investing_api: NXPI, from 20/04/2020 to 08/07/2022\n"
     ]
    },
    {
     "name": "stdout",
     "output_type": "stream",
     "text": [
      "Error when calling data for CAM\n"
     ]
    },
    {
     "name": "stderr",
     "output_type": "stream",
     "text": [
      "2022-07-08 20:53:12,614 [app.utils.fetch_data] [INFO] Fetching stock from investing_api: TDY, from 21/09/2019 to 08/07/2022\n",
      "2022-07-08 20:53:19,600 [app.utils.fetch_data] [INFO] Fetching stock from investing_api: CCI, from 03/04/2011 to 08/07/2022\n"
     ]
    },
    {
     "name": "stdout",
     "output_type": "stream",
     "text": [
      "Error when calling data for TRB\n",
      "Error when calling data for EK\n"
     ]
    },
    {
     "name": "stderr",
     "output_type": "stream",
     "text": [
      "2022-07-08 20:53:31,810 [app.utils.fetch_data] [INFO] Fetching stock from investing_api: INTC, from 07/06/1999 to 08/07/2022\n",
      "2022-07-08 20:53:42,613 [app.utils.fetch_data] [INFO] Fetching stock from investing_api: ORLY, from 07/06/1999 to 08/07/2022\n"
     ]
    },
    {
     "name": "stdout",
     "output_type": "stream",
     "text": [
      "Error when calling data for CEPH\n"
     ]
    },
    {
     "name": "stderr",
     "output_type": "stream",
     "text": [
      "2022-07-08 20:53:51,344 [app.utils.fetch_data] [INFO] Fetching stock from investing_api: NLOK, from 07/06/1999 to 08/07/2022\n",
      "2022-07-08 20:53:59,145 [app.utils.fetch_data] [INFO] Fetching stock from investing_api: CHTR, from 22/09/2015 to 08/07/2022\n",
      "2022-07-08 20:54:09,206 [app.utils.fetch_data] [INFO] Fetching stock from alpha vantage api: CPWR\n",
      "2022-07-08 20:54:21,251 [app.utils.fetch_data] [INFO] Fetching stock from alpha vantage api: ACAS\n",
      "2022-07-08 20:54:29,047 [app.utils.fetch_data] [INFO] Fetching stock from investing_api: DTE, from 07/06/1999 to 08/07/2022\n",
      "2022-07-08 20:54:37,955 [app.utils.fetch_data] [INFO] Fetching stock from investing_api: WHR, from 07/06/1999 to 08/07/2022\n",
      "2022-07-08 20:54:44,708 [app.utils.fetch_data] [INFO] Fetching stock from investing_api: FTNT, from 06/11/2017 to 08/07/2022\n",
      "2022-07-08 20:54:54,496 [app.utils.fetch_data] [INFO] Fetching stock from investing_api: LNT, from 05/07/2015 to 08/07/2022\n",
      "2022-07-08 20:55:01,524 [app.utils.fetch_data] [INFO] Fetching stock from investing_api: CB, from 26/08/2009 to 08/07/2022\n",
      "2022-07-08 20:58:30,803 [app.utils.fetch_data] [INFO] Fetching stock from investing_api: EXR, from 01/02/2015 to 08/07/2022\n",
      "2022-07-08 20:58:38,661 [app.utils.fetch_data] [INFO] Fetching stock from investing_api: AAPL, from 07/06/1999 to 08/07/2022\n",
      "2022-07-08 20:58:45,219 [app.utils.fetch_data] [INFO] Fetching stock from investing_api: MPWR, from 22/03/2020 to 08/07/2022\n",
      "2022-07-08 20:58:55,034 [app.utils.fetch_data] [INFO] Fetching stock from alpha vantage api: TFC\n",
      "2022-07-08 20:59:06,107 [app.utils.fetch_data] [INFO] Fetching stock from investing_api: VRSN, from 07/06/1999 to 08/07/2022\n",
      "2022-07-08 21:04:16,009 [app.utils.fetch_data] [INFO] Fetching stock from investing_api: CMA, from 07/06/1999 to 08/07/2022\n",
      "2022-07-08 21:04:22,831 [app.utils.fetch_data] [INFO] Fetching stock from investing_api: HAS, from 07/06/1999 to 08/07/2022\n",
      "2022-07-08 21:04:31,222 [app.utils.fetch_data] [INFO] Fetching stock from investing_api: MOH, from 04/04/2021 to 08/07/2022\n",
      "2022-07-08 21:04:39,039 [app.utils.fetch_data] [INFO] Fetching stock from alpha vantage api: JOY\n",
      "2022-07-08 21:04:45,816 [app.utils.fetch_data] [INFO] Fetching stock from investing_api: FLS, from 07/06/1999 to 22/03/2021\n",
      "2022-07-08 21:04:56,560 [app.utils.fetch_data] [INFO] Fetching stock from investing_api: KIM, from 07/06/1999 to 08/07/2022\n",
      "2022-07-08 21:05:52,910 [app.utils.fetch_data] [INFO] Fetching stock from alpha vantage api: BALL\n",
      "2022-07-08 21:05:58,781 [app.utils.fetch_data] [INFO] Fetching stock from investing_api: SEDG, from 02/02/2021 to 08/07/2022\n",
      "2022-07-08 21:06:07,745 [app.utils.fetch_data] [INFO] Fetching stock from investing_api: HP, from 29/04/2009 to 22/05/2020\n",
      "2022-07-08 21:06:16,538 [app.utils.fetch_data] [INFO] Fetching stock from investing_api: AEE, from 07/06/1999 to 08/07/2022\n"
     ]
    },
    {
     "name": "stdout",
     "output_type": "stream",
     "text": [
      "Error when calling data for FNM\n"
     ]
    },
    {
     "name": "stderr",
     "output_type": "stream",
     "text": [
      "2022-07-08 21:06:25,091 [app.utils.fetch_data] [INFO] Fetching stock from investing_api: L, from 07/06/1999 to 08/07/2022\n",
      "2022-07-08 21:06:37,292 [app.utils.fetch_data] [INFO] Fetching stock from alpha vantage api: CMCSK\n"
     ]
    },
    {
     "name": "stdout",
     "output_type": "stream",
     "text": [
      "Error when calling data for FRX\n"
     ]
    },
    {
     "name": "stderr",
     "output_type": "stream",
     "text": [
      "2022-07-08 21:06:45,875 [app.utils.fetch_data] [INFO] Fetching stock from investing_api: PSX, from 17/05/2011 to 08/07/2022\n",
      "2022-07-08 21:06:55,691 [app.utils.fetch_data] [INFO] Fetching stock from investing_api: CPRI, from 02/12/2012 to 12/05/2020\n",
      "2022-07-08 21:07:05,451 [app.utils.fetch_data] [INFO] Fetching stock from investing_api: COP, from 07/06/1999 to 08/07/2022\n",
      "2022-07-08 21:07:13,890 [app.utils.fetch_data] [INFO] Fetching stock from alpha vantage api: APOL\n",
      "2022-07-08 21:07:19,420 [app.utils.fetch_data] [INFO] Fetching stock from investing_api: CCK, from 07/06/1999 to 05/12/2000\n",
      "2022-07-08 21:07:31,073 [app.utils.fetch_data] [INFO] Fetching stock from alpha vantage api: XTO\n",
      "2022-07-08 21:07:38,846 [app.utils.fetch_data] [INFO] Fetching stock from investing_api: NOV, from 07/06/1999 to 20/09/2021\n",
      "2022-07-08 21:07:45,548 [app.utils.fetch_data] [INFO] Fetching stock from investing_api: EXPD, from 07/06/1999 to 08/07/2022\n",
      "2022-07-08 21:07:52,356 [app.utils.fetch_data] [INFO] Fetching stock from investing_api: MS, from 07/06/1999 to 08/07/2022\n",
      "2022-07-08 21:07:58,172 [app.utils.fetch_data] [INFO] Fetching stock from investing_api: XEC, from 01/07/2013 to 02/03/2020\n",
      "2022-07-08 21:08:04,965 [app.utils.fetch_data] [INFO] Fetching stock from investing_api: LLY, from 07/06/1999 to 08/07/2022\n",
      "2022-07-08 21:08:15,862 [app.utils.fetch_data] [INFO] Fetching stock from investing_api: NTAP, from 07/06/1999 to 08/07/2022\n",
      "2022-07-08 21:08:23,801 [app.utils.fetch_data] [INFO] Fetching stock from investing_api: ANET, from 14/09/2017 to 08/07/2022\n",
      "2022-07-08 21:08:35,529 [app.utils.fetch_data] [INFO] Fetching stock from alpha vantage api: CFN\n",
      "2022-07-08 21:08:47,195 [app.utils.fetch_data] [INFO] Fetching stock from alpha vantage api: NVLS\n",
      "2022-07-08 21:08:53,385 [app.utils.fetch_data] [INFO] Fetching stock from investing_api: SLM, from 07/06/1999 to 01/05/2014\n",
      "2022-07-08 21:09:04,091 [app.utils.fetch_data] [INFO] Fetching stock from investing_api: WYNN, from 07/06/1999 to 08/07/2022\n",
      "2022-07-08 21:09:13,334 [app.utils.fetch_data] [INFO] Fetching stock from alpha vantage api: MWW\n",
      "2022-07-08 21:09:21,937 [app.utils.fetch_data] [INFO] Fetching stock from investing_api: NDSN, from 02/03/2021 to 08/07/2022\n",
      "2022-07-08 21:09:32,946 [app.utils.fetch_data] [INFO] Fetching stock from alpha vantage api: LO\n",
      "2022-07-08 21:09:41,802 [app.utils.fetch_data] [INFO] Fetching stock from investing_api: UAA, from 08/05/2013 to 21/06/2022\n",
      "2022-07-08 21:09:58,346 [app.utils.fetch_data] [INFO] Fetching stock from alpha vantage api: SPLS\n",
      "2022-07-08 21:10:07,122 [app.utils.fetch_data] [INFO] Fetching stock from investing_api: NVR, from 03/10/2018 to 08/07/2022\n"
     ]
    },
    {
     "name": "stdout",
     "output_type": "stream",
     "text": [
      "Error when calling data for SBL\n"
     ]
    },
    {
     "name": "stderr",
     "output_type": "stream",
     "text": [
      "2022-07-08 21:10:16,531 [app.utils.fetch_data] [INFO] Fetching stock from investing_api: FBHS, from 01/07/2015 to 08/07/2022\n",
      "2022-07-08 21:10:25,287 [app.utils.fetch_data] [INFO] Fetching stock from investing_api: BIIB, from 07/06/1999 to 08/07/2022\n",
      "2022-07-08 21:10:32,079 [app.utils.fetch_data] [INFO] Fetching stock from investing_api: AGN, from 07/06/1999 to 12/05/2020\n"
     ]
    },
    {
     "name": "stdout",
     "output_type": "stream",
     "text": [
      "Error when calling data for CFC\n"
     ]
    },
    {
     "name": "stderr",
     "output_type": "stream",
     "text": [
      "2022-07-08 21:10:39,958 [app.utils.fetch_data] [INFO] Fetching stock from investing_api: AVB, from 30/03/2006 to 08/07/2022\n",
      "2022-07-08 21:10:50,639 [app.utils.fetch_data] [INFO] Fetching stock from investing_api: JBHT, from 02/07/2014 to 08/07/2022\n",
      "2022-07-08 21:11:00,909 [app.utils.fetch_data] [INFO] Fetching stock from investing_api: AN, from 07/06/1999 to 08/08/2017\n",
      "2022-07-08 21:11:06,972 [app.utils.fetch_data] [INFO] Fetching stock from investing_api: XYL, from 18/11/2010 to 08/07/2022\n"
     ]
    },
    {
     "name": "stdout",
     "output_type": "stream",
     "text": [
      "Error when calling data for RHT\n"
     ]
    },
    {
     "name": "stderr",
     "output_type": "stream",
     "text": [
      "2022-07-08 21:11:18,500 [app.utils.fetch_data] [INFO] Fetching stock from investing_api: DVN, from 07/06/1999 to 08/07/2022\n",
      "2022-07-08 21:11:28,971 [app.utils.fetch_data] [INFO] Fetching stock from investing_api: WU, from 07/06/1999 to 20/12/2021\n",
      "2022-07-08 21:11:38,841 [app.utils.fetch_data] [INFO] Fetching stock from investing_api: D, from 07/06/1999 to 08/07/2022\n",
      "2022-07-08 21:11:53,554 [app.utils.fetch_data] [INFO] Fetching stock from alpha vantage api: SNDK\n",
      "2022-07-08 21:12:02,406 [app.utils.fetch_data] [INFO] Fetching stock from investing_api: XRAY, from 07/06/1999 to 08/07/2022\n",
      "2022-07-08 21:12:10,193 [app.utils.fetch_data] [INFO] Fetching stock from investing_api: GIS, from 07/06/1999 to 08/07/2022\n",
      "2022-07-08 21:12:18,048 [app.utils.fetch_data] [INFO] Fetching stock from investing_api: BC, from 07/06/1999 to 23/06/2008\n",
      "2022-07-08 21:12:25,941 [app.utils.fetch_data] [INFO] Fetching stock from investing_api: TEL, from 31/10/2010 to 08/07/2022\n",
      "2022-07-08 21:12:36,840 [app.utils.fetch_data] [INFO] Fetching stock from investing_api: CSCO, from 07/06/1999 to 08/07/2022\n",
      "2022-07-08 21:12:45,703 [app.utils.fetch_data] [INFO] Fetching stock from investing_api: UAL, from 18/09/2014 to 08/07/2022\n",
      "2022-07-08 21:12:54,448 [app.utils.fetch_data] [INFO] Fetching stock from investing_api: ALGN, from 26/07/2016 to 08/07/2022\n",
      "2022-07-08 21:13:02,180 [app.utils.fetch_data] [INFO] Fetching stock from alpha vantage api: Q\n",
      "2022-07-08 21:13:10,984 [app.utils.fetch_data] [INFO] Fetching stock from investing_api: CXO, from 04/03/2015 to 21/01/2021\n"
     ]
    },
    {
     "name": "stdout",
     "output_type": "stream",
     "text": [
      "Error when calling data for TYC\n"
     ]
    },
    {
     "name": "stderr",
     "output_type": "stream",
     "text": [
      "2022-07-08 21:13:18,751 [app.utils.fetch_data] [INFO] Fetching stock from alpha vantage api: CEG\n"
     ]
    },
    {
     "name": "stdout",
     "output_type": "stream",
     "text": [
      "Error when calling data for GR\n"
     ]
    },
    {
     "name": "stderr",
     "output_type": "stream",
     "text": [
      "2022-07-08 21:13:29,318 [app.utils.fetch_data] [INFO] Fetching stock from investing_api: PRGO, from 20/12/2010 to 20/09/2021\n"
     ]
    },
    {
     "name": "stdout",
     "output_type": "stream",
     "text": [
      "Error when calling data for SLE\n"
     ]
    },
    {
     "name": "stderr",
     "output_type": "stream",
     "text": [
      "2022-07-08 21:13:37,717 [app.utils.fetch_data] [INFO] Fetching stock from investing_api: MCK, from 07/06/1999 to 08/07/2022\n",
      "2022-07-08 21:13:47,096 [app.utils.fetch_data] [INFO] Fetching stock from investing_api: ON, from 08/07/2021 to 08/07/2022\n",
      "2022-07-08 21:13:54,882 [app.utils.fetch_data] [INFO] Fetching stock from investing_api: IQV, from 01/09/2016 to 08/07/2022\n",
      "2022-07-08 21:14:04,882 [app.utils.fetch_data] [INFO] Fetching stock from investing_api: RRC, from 10/06/2007 to 18/06/2018\n",
      "2022-07-08 21:14:11,522 [app.utils.fetch_data] [INFO] Fetching stock from investing_api: CBRE, from 07/06/1999 to 08/07/2022\n",
      "2022-07-08 21:14:20,250 [app.utils.fetch_data] [INFO] Fetching stock from investing_api: EFX, from 07/06/1999 to 08/07/2022\n",
      "2022-07-08 21:14:28,016 [app.utils.fetch_data] [INFO] Fetching stock from investing_api: TER, from 07/06/1999 to 08/07/2022\n",
      "2022-07-08 21:14:34,746 [app.utils.fetch_data] [INFO] Fetching stock from investing_api: ROP, from 07/06/1999 to 08/07/2022\n",
      "2022-07-08 21:14:42,964 [app.utils.fetch_data] [INFO] Fetching stock from investing_api: PKI, from 07/06/1999 to 08/07/2022\n",
      "2022-07-08 21:14:49,680 [app.utils.fetch_data] [INFO] Fetching stock from investing_api: TMUS, from 09/08/2018 to 08/07/2022\n",
      "2022-07-08 21:14:59,414 [app.utils.fetch_data] [INFO] Fetching stock from investing_api: ADP, from 07/06/1999 to 08/07/2022\n",
      "2022-07-08 21:15:10,013 [app.utils.fetch_data] [INFO] Fetching stock from investing_api: SRE, from 07/06/1999 to 08/07/2022\n",
      "2022-07-08 21:15:22,388 [app.utils.fetch_data] [INFO] Fetching stock from alpha vantage api: EMC\n"
     ]
    },
    {
     "name": "stdout",
     "output_type": "stream",
     "text": [
      "Error when calling data for RDC\n"
     ]
    },
    {
     "name": "stderr",
     "output_type": "stream",
     "text": [
      "2022-07-08 21:15:30,252 [app.utils.fetch_data] [INFO] Fetching stock from investing_api: A, from 07/06/1999 to 08/07/2022\n",
      "2022-07-08 21:15:38,892 [app.utils.fetch_data] [INFO] Fetching stock from investing_api: CTXS, from 07/06/1999 to 08/07/2022\n",
      "2022-07-08 21:15:45,608 [app.utils.fetch_data] [INFO] Fetching stock from investing_api: IRM, from 07/06/1999 to 08/07/2022\n",
      "2022-07-08 21:15:57,174 [app.utils.fetch_data] [INFO] Fetching stock from alpha vantage api: CSC\n",
      "2022-07-08 21:16:03,498 [app.utils.fetch_data] [INFO] Fetching stock from investing_api: DG, from 11/12/2011 to 08/07/2022\n",
      "2022-07-08 21:16:13,325 [app.utils.fetch_data] [INFO] Fetching stock from investing_api: AMD, from 07/06/1999 to 08/07/2022\n",
      "2022-07-08 21:16:25,716 [app.utils.fetch_data] [INFO] Fetching stock from alpha vantage api: GGP\n",
      "2022-07-08 21:16:35,592 [app.utils.fetch_data] [INFO] Fetching stock from investing_api: CPB, from 07/06/1999 to 08/07/2022\n",
      "2022-07-08 21:16:47,870 [app.utils.fetch_data] [INFO] Fetching stock from alpha vantage api: HCBK\n",
      "2022-07-08 21:16:58,916 [app.utils.fetch_data] [INFO] Fetching stock from investing_api: NOW, from 05/12/2018 to 08/07/2022\n",
      "2022-07-08 21:17:06,089 [app.utils.fetch_data] [INFO] Fetching stock from investing_api: VMC, from 07/06/1999 to 08/07/2022\n",
      "2022-07-08 21:17:16,438 [app.utils.fetch_data] [INFO] Fetching stock from alpha vantage api: MHS\n",
      "2022-07-08 21:17:22,345 [app.utils.fetch_data] [INFO] Fetching stock from investing_api: IT, from 02/06/2016 to 08/07/2022\n",
      "2022-07-08 21:17:34,303 [app.utils.fetch_data] [INFO] Fetching stock from investing_api: WELL, from 07/06/1999 to 08/07/2022\n",
      "2022-07-08 21:17:43,543 [app.utils.fetch_data] [INFO] Fetching stock from investing_api: HAL, from 07/06/1999 to 08/07/2022\n"
     ]
    },
    {
     "name": "stdout",
     "output_type": "stream",
     "text": [
      "Error when calling data for GLK\n"
     ]
    },
    {
     "name": "stderr",
     "output_type": "stream",
     "text": [
      "2022-07-08 21:17:52,468 [app.utils.fetch_data] [INFO] Fetching stock from investing_api: APH, from 07/06/1999 to 08/07/2022\n",
      "2022-07-08 21:18:02,228 [app.utils.fetch_data] [INFO] Fetching stock from investing_api: TXN, from 07/06/1999 to 08/07/2022\n",
      "2022-07-08 21:18:08,821 [app.utils.fetch_data] [INFO] Fetching stock from investing_api: GWW, from 07/06/1999 to 08/07/2022\n",
      "2022-07-08 21:18:19,409 [app.utils.fetch_data] [INFO] Fetching stock from investing_api: BXP, from 07/06/1999 to 08/07/2022\n",
      "2022-07-08 21:18:26,777 [app.utils.fetch_data] [INFO] Fetching stock from investing_api: PDCO, from 07/06/1999 to 19/03/2018\n",
      "2022-07-08 21:18:33,683 [app.utils.fetch_data] [INFO] Fetching stock from investing_api: PAYX, from 07/06/1999 to 08/07/2022\n",
      "2022-07-08 21:18:42,510 [app.utils.fetch_data] [INFO] Fetching stock from investing_api: BMY, from 07/06/1999 to 08/07/2022\n",
      "2022-07-08 21:18:51,339 [app.utils.fetch_data] [INFO] Fetching stock from investing_api: REG, from 13/03/2016 to 08/07/2022\n",
      "2022-07-08 21:18:59,267 [app.utils.fetch_data] [INFO] Fetching stock from investing_api: ALLE, from 10/12/2012 to 08/07/2022\n",
      "2022-07-08 21:19:06,994 [app.utils.fetch_data] [INFO] Fetching stock from investing_api: NEM, from 07/06/1999 to 08/07/2022\n",
      "2022-07-08 21:19:16,488 [app.utils.fetch_data] [INFO] Fetching stock from investing_api: MRK, from 07/06/1999 to 08/07/2022\n",
      "2022-07-08 21:19:23,138 [app.utils.fetch_data] [INFO] Fetching stock from investing_api: MKC, from 07/06/1999 to 08/07/2022\n"
     ]
    },
    {
     "name": "stdout",
     "output_type": "stream",
     "text": [
      "Error when calling data for BMC\n"
     ]
    },
    {
     "name": "stderr",
     "output_type": "stream",
     "text": [
      "2022-07-08 21:19:31,910 [app.utils.fetch_data] [INFO] Fetching stock from investing_api: AON, from 07/06/1999 to 08/07/2022\n",
      "2022-07-08 21:19:41,368 [app.utils.fetch_data] [INFO] Fetching stock from alpha vantage api: BTU\n",
      "2022-07-08 21:19:50,545 [app.utils.fetch_data] [INFO] Fetching stock from investing_api: JCI, from 07/06/1999 to 08/07/2022\n",
      "2022-07-08 21:19:59,528 [app.utils.fetch_data] [INFO] Fetching stock from investing_api: PNR, from 02/10/2011 to 08/07/2022\n",
      "2022-07-08 21:20:05,289 [app.utils.fetch_data] [INFO] Fetching stock from investing_api: MSCI, from 31/05/2017 to 08/07/2022\n",
      "2022-07-08 21:20:13,013 [app.utils.fetch_data] [INFO] Fetching stock from alpha vantage api: DNB\n",
      "2022-07-08 21:20:19,791 [app.utils.fetch_data] [INFO] Fetching stock from investing_api: FIS, from 07/06/1999 to 08/07/2022\n",
      "2022-07-08 21:20:29,592 [app.utils.fetch_data] [INFO] Fetching stock from investing_api: MAA, from 05/01/2016 to 08/07/2022\n",
      "2022-07-08 21:20:38,255 [app.utils.fetch_data] [INFO] Fetching stock from investing_api: INTU, from 25/09/2002 to 08/07/2022\n",
      "2022-07-08 21:20:45,999 [app.utils.fetch_data] [INFO] Fetching stock from investing_api: LW, from 24/12/2017 to 08/07/2022\n",
      "2022-07-08 21:20:53,774 [app.utils.fetch_data] [INFO] Fetching stock from investing_api: IDXX, from 28/02/2016 to 08/07/2022\n",
      "2022-07-08 21:20:59,526 [app.utils.fetch_data] [INFO] Fetching stock from investing_api: PKG, from 08/08/2016 to 08/07/2022\n",
      "2022-07-08 21:21:09,570 [app.utils.fetch_data] [INFO] Fetching stock from investing_api: CERN, from 28/06/2009 to 08/06/2022\n",
      "2022-07-08 21:21:18,395 [app.utils.fetch_data] [INFO] Fetching stock from investing_api: CAT, from 07/06/1999 to 08/07/2022\n",
      "2022-07-08 21:21:28,548 [app.utils.fetch_data] [INFO] Fetching stock from investing_api: ANF, from 07/06/1999 to 23/12/2013\n",
      "2022-07-08 21:21:36,409 [app.utils.fetch_data] [INFO] Fetching stock from investing_api: COF, from 07/06/1999 to 08/07/2022\n",
      "2022-07-08 21:21:46,594 [app.utils.fetch_data] [INFO] Fetching stock from investing_api: BBBY, from 07/06/1999 to 26/07/2017\n",
      "2022-07-08 21:21:56,011 [app.utils.fetch_data] [INFO] Fetching stock from investing_api: KDP, from 08/07/2021 to 08/07/2022\n",
      "2022-07-08 21:22:06,865 [app.utils.fetch_data] [INFO] Fetching stock from investing_api: DD, from 07/06/1999 to 08/07/2022\n",
      "2022-07-08 21:22:15,610 [app.utils.fetch_data] [INFO] Fetching stock from investing_api: TSN, from 07/06/1999 to 08/07/2022\n",
      "2022-07-08 21:22:23,265 [app.utils.fetch_data] [INFO] Fetching stock from investing_api: LOW, from 07/06/1999 to 08/07/2022\n",
      "2022-07-08 21:22:31,020 [app.utils.fetch_data] [INFO] Fetching stock from investing_api: CDNS, from 13/10/2016 to 08/07/2022\n"
     ]
    },
    {
     "name": "stdout",
     "output_type": "stream",
     "text": [
      "Error when calling data for WIN\n"
     ]
    },
    {
     "name": "stderr",
     "output_type": "stream",
     "text": [
      "2022-07-08 21:22:40,811 [app.utils.fetch_data] [INFO] Fetching stock from investing_api: V, from 26/02/2009 to 08/07/2022\n",
      "2022-07-08 21:22:48,552 [app.utils.fetch_data] [INFO] Fetching stock from investing_api: DE, from 07/06/1999 to 08/07/2022\n",
      "2022-07-08 21:22:56,708 [app.utils.fetch_data] [INFO] Fetching stock from investing_api: IVZ, from 07/06/1999 to 08/07/2022\n",
      "2022-07-08 21:23:03,294 [app.utils.fetch_data] [INFO] Fetching stock from investing_api: AMP, from 07/06/1999 to 08/07/2022\n"
     ]
    },
    {
     "name": "stdout",
     "output_type": "stream",
     "text": [
      "Error when calling data for SLR\n"
     ]
    },
    {
     "name": "stderr",
     "output_type": "stream",
     "text": [
      "2022-07-08 21:23:10,416 [app.utils.fetch_data] [INFO] Fetching stock from investing_api: FAST, from 16/09/2007 to 08/07/2022\n",
      "2022-07-08 21:23:21,373 [app.utils.fetch_data] [INFO] Fetching stock from alpha vantage api: FDO\n",
      "2022-07-08 21:23:27,266 [app.utils.fetch_data] [INFO] Fetching stock from investing_api: SNPS, from 20/03/2016 to 08/07/2022\n"
     ]
    },
    {
     "name": "stdout",
     "output_type": "stream",
     "text": [
      "Error when calling data for PTV\n"
     ]
    },
    {
     "name": "stderr",
     "output_type": "stream",
     "text": [
      "2022-07-08 21:23:36,639 [app.utils.fetch_data] [INFO] Fetching stock from investing_api: DXC, from 05/04/2016 to 08/07/2022\n",
      "2022-07-08 21:23:49,927 [app.utils.fetch_data] [INFO] Fetching stock from alpha vantage api: TT\n",
      "2022-07-08 21:23:58,787 [app.utils.fetch_data] [INFO] Fetching stock from investing_api: C, from 07/06/1999 to 08/07/2022\n",
      "2022-07-08 21:24:06,986 [app.utils.fetch_data] [INFO] Fetching stock from investing_api: QRVO, from 01/07/2014 to 08/07/2022\n",
      "2022-07-08 21:24:13,462 [app.utils.fetch_data] [INFO] Fetching stock from investing_api: TYL, from 21/09/2019 to 08/07/2022\n",
      "2022-07-08 21:24:22,945 [app.utils.fetch_data] [INFO] Fetching stock from investing_api: NAVI, from 08/05/2013 to 05/06/2018\n",
      "2022-07-08 21:24:28,517 [app.utils.fetch_data] [INFO] Fetching stock from investing_api: CTLT, from 07/10/2019 to 08/07/2022\n",
      "2022-07-08 21:24:38,622 [app.utils.fetch_data] [INFO] Fetching stock from investing_api: EXPE, from 26/10/2006 to 08/07/2022\n",
      "2022-07-08 21:24:45,322 [app.utils.fetch_data] [INFO] Fetching stock from investing_api: RF, from 07/06/1999 to 08/07/2022\n",
      "2022-07-08 21:24:51,238 [app.utils.fetch_data] [INFO] Fetching stock from investing_api: MLM, from 06/08/2013 to 08/07/2022\n",
      "2022-07-08 21:24:58,970 [app.utils.fetch_data] [INFO] Fetching stock from investing_api: BSX, from 07/06/1999 to 08/07/2022\n",
      "2022-07-08 21:25:08,679 [app.utils.fetch_data] [INFO] Fetching stock from investing_api: NSC, from 07/06/1999 to 08/07/2022\n"
     ]
    },
    {
     "name": "stdout",
     "output_type": "stream",
     "text": [
      "Error when calling data for CBE\n"
     ]
    },
    {
     "name": "stderr",
     "output_type": "stream",
     "text": [
      "2022-07-08 21:25:17,374 [app.utils.fetch_data] [INFO] Fetching stock from alpha vantage api: CARR\n",
      "2022-07-08 21:25:23,118 [app.utils.fetch_data] [INFO] Fetching stock from investing_api: CLF, from 26/02/2009 to 02/04/2014\n",
      "2022-07-08 21:25:33,833 [app.utils.fetch_data] [INFO] Fetching stock from investing_api: VFC, from 07/06/1999 to 08/07/2022\n",
      "2022-07-08 21:25:39,659 [app.utils.fetch_data] [INFO] Fetching stock from investing_api: ZTS, from 28/06/2012 to 08/07/2022\n",
      "2022-07-08 21:25:51,602 [app.utils.fetch_data] [INFO] Fetching stock from alpha vantage api: JDSU\n",
      "2022-07-08 21:25:59,442 [app.utils.fetch_data] [INFO] Fetching stock from alpha vantage api: STJ\n",
      "2022-07-08 21:26:10,031 [app.utils.fetch_data] [INFO] Fetching stock from investing_api: EMN, from 07/06/1999 to 08/07/2022\n",
      "2022-07-08 21:26:18,773 [app.utils.fetch_data] [INFO] Fetching stock from investing_api: ABC, from 07/06/1999 to 08/07/2022\n"
     ]
    },
    {
     "name": "stdout",
     "output_type": "stream",
     "text": [
      "Error when calling data for KSE\n"
     ]
    },
    {
     "name": "stderr",
     "output_type": "stream",
     "text": [
      "2022-07-08 21:26:27,050 [app.utils.fetch_data] [INFO] Fetching stock from investing_api: EW, from 01/04/2010 to 08/07/2022\n",
      "2022-07-08 21:26:35,683 [app.utils.fetch_data] [INFO] Fetching stock from investing_api: ETFC, from 07/06/1999 to 07/10/2020\n",
      "2022-07-08 21:26:44,872 [app.utils.fetch_data] [INFO] Fetching stock from alpha vantage api: SVU\n"
     ]
    },
    {
     "name": "stdout",
     "output_type": "stream",
     "text": [
      "Error when calling data for FRE\n"
     ]
    },
    {
     "name": "stderr",
     "output_type": "stream",
     "text": [
      "2022-07-08 21:26:52,624 [app.utils.fetch_data] [INFO] Fetching stock from investing_api: LVS, from 21/11/2018 to 08/07/2022\n",
      "2022-07-08 21:27:01,432 [app.utils.fetch_data] [INFO] Fetching stock from investing_api: AKAM, from 07/06/1999 to 08/07/2022\n",
      "2022-07-08 21:27:12,278 [app.utils.fetch_data] [INFO] Fetching stock from investing_api: SLB, from 07/06/1999 to 08/07/2022\n",
      "2022-07-08 21:27:22,344 [app.utils.fetch_data] [INFO] Fetching stock from investing_api: GHC, from 07/06/1999 to 20/09/2014\n",
      "2022-07-08 21:27:30,183 [app.utils.fetch_data] [INFO] Fetching stock from investing_api: BA, from 07/06/1999 to 08/07/2022\n",
      "2022-07-08 21:27:36,885 [app.utils.fetch_data] [INFO] Fetching stock from investing_api: STE, from 28/01/2019 to 08/07/2022\n",
      "2022-07-08 21:27:44,930 [app.utils.fetch_data] [INFO] Fetching stock from alpha vantage api: BJS\n",
      "2022-07-08 21:27:55,900 [app.utils.fetch_data] [INFO] Fetching stock from investing_api: AXP, from 07/06/1999 to 08/07/2022\n",
      "2022-07-08 21:28:01,690 [app.utils.fetch_data] [INFO] Fetching stock from investing_api: PYPL, from 29/07/2014 to 08/07/2022\n",
      "2022-07-08 21:28:09,711 [app.utils.fetch_data] [INFO] Fetching stock from investing_api: JEF, from 26/09/2006 to 26/09/2019\n",
      "2022-07-08 21:28:17,449 [app.utils.fetch_data] [INFO] Fetching stock from investing_api: CBOE, from 02/03/2016 to 08/07/2022\n",
      "2022-07-08 21:28:26,224 [app.utils.fetch_data] [INFO] Fetching stock from alpha vantage api: DYN\n",
      "2022-07-08 21:28:32,989 [app.utils.fetch_data] [INFO] Fetching stock from investing_api: KEYS, from 13/11/2017 to 08/07/2022\n",
      "2022-07-08 21:28:41,630 [app.utils.fetch_data] [INFO] Fetching stock from alpha vantage api: MJN\n",
      "2022-07-08 21:28:53,378 [app.utils.fetch_data] [INFO] Fetching stock from alpha vantage api: TSS\n",
      "2022-07-08 21:29:00,068 [app.utils.fetch_data] [INFO] Fetching stock from investing_api: CZR, from 20/04/2020 to 08/07/2022\n",
      "2022-07-08 21:29:08,641 [app.utils.fetch_data] [INFO] Fetching stock from investing_api: BIO, from 21/09/2019 to 08/07/2022\n",
      "2022-07-08 21:29:16,287 [app.utils.fetch_data] [INFO] Fetching stock from investing_api: IEX, from 23/09/2018 to 08/07/2022\n",
      "2022-07-08 21:29:25,679 [app.utils.fetch_data] [INFO] Fetching stock from investing_api: R, from 07/06/1999 to 19/06/2017\n",
      "2022-07-08 21:29:32,462 [app.utils.fetch_data] [INFO] Fetching stock from alpha vantage api: XL\n",
      "2022-07-08 21:29:38,548 [app.utils.fetch_data] [INFO] Fetching stock from investing_api: MHK, from 24/01/2013 to 08/07/2022\n",
      "2022-07-08 21:29:49,979 [app.utils.fetch_data] [INFO] Fetching stock from investing_api: ROK, from 07/06/1999 to 08/07/2022\n",
      "2022-07-08 21:29:56,658 [app.utils.fetch_data] [INFO] Fetching stock from investing_api: RE, from 26/07/2016 to 08/07/2022\n",
      "2022-07-08 21:30:06,732 [app.utils.fetch_data] [INFO] Fetching stock from alpha vantage api: HAR\n",
      "2022-07-08 21:30:14,498 [app.utils.fetch_data] [INFO] Fetching stock from investing_api: HFC, from 20/06/2017 to 04/06/2021\n",
      "2022-07-08 21:30:24,374 [app.utils.fetch_data] [INFO] Fetching stock from investing_api: WM, from 07/06/1999 to 08/07/2022\n",
      "2022-07-08 21:30:32,043 [app.utils.fetch_data] [INFO] Fetching stock from investing_api: ODFL, from 23/12/2018 to 08/07/2022\n",
      "2022-07-08 21:30:39,862 [app.utils.fetch_data] [INFO] Fetching stock from investing_api: OMC, from 07/06/1999 to 08/07/2022\n",
      "2022-07-08 21:30:46,265 [app.utils.fetch_data] [INFO] Fetching stock from investing_api: SRCL, from 07/06/1999 to 03/12/2018\n",
      "2022-07-08 21:30:52,465 [app.utils.fetch_data] [INFO] Fetching stock from investing_api: THC, from 07/06/1999 to 18/04/2016\n",
      "2022-07-08 21:31:02,265 [app.utils.fetch_data] [INFO] Fetching stock from investing_api: CTSH, from 07/06/1999 to 08/07/2022\n",
      "2022-07-08 21:31:10,420 [app.utils.fetch_data] [INFO] Fetching stock from investing_api: UHS, from 05/11/2013 to 08/07/2022\n",
      "2022-07-08 21:31:17,426 [app.utils.fetch_data] [INFO] Fetching stock from investing_api: VLO, from 07/06/1999 to 08/07/2022\n",
      "2022-07-08 21:31:24,226 [app.utils.fetch_data] [INFO] Fetching stock from investing_api: BWA, from 20/12/2010 to 08/07/2022\n",
      "2022-07-08 21:31:32,800 [app.utils.fetch_data] [INFO] Fetching stock from investing_api: AYI, from 13/05/2015 to 18/06/2018\n",
      "2022-07-08 21:31:38,753 [app.utils.fetch_data] [INFO] Fetching stock from investing_api: GME, from 20/12/2006 to 25/04/2016\n",
      "2022-07-08 21:31:47,776 [app.utils.fetch_data] [INFO] Fetching stock from investing_api: TDC, from 02/10/2006 to 19/06/2017\n",
      "2022-07-08 21:31:53,884 [app.utils.fetch_data] [INFO] Fetching stock from investing_api: CIEN, from 07/06/1999 to 18/12/2009\n"
     ]
    },
    {
     "name": "stdout",
     "output_type": "stream",
     "text": [
      "Error when calling data for QTRN\n"
     ]
    },
    {
     "name": "stderr",
     "output_type": "stream",
     "text": [
      "2022-07-08 21:32:04,517 [app.utils.fetch_data] [INFO] Fetching stock from investing_api: UNH, from 07/06/1999 to 08/07/2022\n",
      "2022-07-08 21:32:13,730 [app.utils.fetch_data] [INFO] Fetching stock from alpha vantage api: MRNA\n",
      "2022-07-08 21:32:22,835 [app.utils.fetch_data] [INFO] Fetching stock from alpha vantage api: CA\n",
      "2022-07-08 21:32:30,715 [app.utils.fetch_data] [INFO] Fetching stock from investing_api: PEP, from 07/06/1999 to 08/07/2022\n",
      "2022-07-08 21:32:39,692 [app.utils.fetch_data] [INFO] Fetching stock from investing_api: GM, from 21/06/2012 to 08/07/2022\n",
      "2022-07-08 21:32:46,579 [app.utils.fetch_data] [INFO] Fetching stock from investing_api: MAR, from 07/06/1999 to 08/07/2022\n",
      "2022-07-08 21:32:56,373 [app.utils.fetch_data] [INFO] Fetching stock from investing_api: HSY, from 07/06/1999 to 08/07/2022\n",
      "2022-07-08 21:33:04,210 [app.utils.fetch_data] [INFO] Fetching stock from investing_api: ALB, from 05/07/2015 to 08/07/2022\n",
      "2022-07-08 21:33:10,240 [app.utils.fetch_data] [INFO] Fetching stock from investing_api: NLSN, from 10/09/2012 to 08/07/2022\n",
      "2022-07-08 21:33:16,224 [app.utils.fetch_data] [INFO] Fetching stock from investing_api: URI, from 05/11/2013 to 08/07/2022\n",
      "2022-07-08 21:33:24,974 [app.utils.fetch_data] [INFO] Fetching stock from investing_api: WST, from 22/06/2019 to 08/07/2022\n",
      "2022-07-08 21:33:31,598 [app.utils.fetch_data] [INFO] Fetching stock from investing_api: SBNY, from 02/02/2021 to 08/07/2022\n",
      "2022-07-08 21:33:37,172 [app.utils.fetch_data] [INFO] Fetching stock from investing_api: GNRC, from 20/04/2020 to 08/07/2022\n",
      "2022-07-08 21:33:48,045 [app.utils.fetch_data] [INFO] Fetching stock from investing_api: PHM, from 07/06/1999 to 08/07/2022\n",
      "2022-07-08 21:33:57,089 [app.utils.fetch_data] [INFO] Fetching stock from investing_api: NFLX, from 25/02/2010 to 08/07/2022\n",
      "2022-07-08 21:34:04,211 [app.utils.fetch_data] [INFO] Fetching stock from investing_api: FFIV, from 25/02/2010 to 08/07/2022\n",
      "2022-07-08 21:34:12,684 [app.utils.fetch_data] [INFO] Fetching stock from investing_api: FDS, from 02/02/2021 to 08/07/2022\n",
      "2022-07-08 21:34:18,244 [app.utils.fetch_data] [INFO] Fetching stock from investing_api: FOXA, from 08/07/2012 to 08/07/2022\n",
      "2022-07-08 21:34:27,609 [app.utils.fetch_data] [INFO] Fetching stock from investing_api: SBUX, from 12/06/1999 to 08/07/2022\n",
      "2022-07-08 21:34:38,452 [app.utils.fetch_data] [INFO] Fetching stock from investing_api: MCD, from 07/06/1999 to 08/07/2022\n",
      "2022-07-08 21:34:47,178 [app.utils.fetch_data] [INFO] Fetching stock from investing_api: PH, from 07/06/1999 to 08/07/2022\n",
      "2022-07-08 21:34:56,943 [app.utils.fetch_data] [INFO] Fetching stock from investing_api: SIG, from 28/08/2014 to 19/03/2018\n"
     ]
    },
    {
     "name": "stdout",
     "output_type": "stream",
     "text": [
      "Error when calling data for BF.B\n",
      "Error when calling data for WFR\n"
     ]
    },
    {
     "name": "stderr",
     "output_type": "stream",
     "text": [
      "2022-07-08 21:35:09,195 [app.utils.fetch_data] [INFO] Fetching stock from investing_api: TPR, from 07/06/1999 to 08/07/2022\n",
      "2022-07-08 21:35:17,117 [app.utils.fetch_data] [INFO] Fetching stock from investing_api: HCA, from 12/03/2014 to 08/07/2022\n",
      "2022-07-08 21:35:26,870 [app.utils.fetch_data] [INFO] Fetching stock from investing_api: KSS, from 07/06/1999 to 21/09/2020\n",
      "2022-07-08 21:35:36,708 [app.utils.fetch_data] [INFO] Fetching stock from investing_api: PNC, from 07/06/1999 to 08/07/2022\n",
      "2022-07-08 21:35:43,507 [app.utils.fetch_data] [INFO] Fetching stock from investing_api: EOG, from 07/06/1999 to 08/07/2022\n",
      "2022-07-08 21:35:51,415 [app.utils.fetch_data] [INFO] Fetching stock from investing_api: JPM, from 07/06/1999 to 08/07/2022\n",
      "2022-07-08 21:35:58,666 [app.utils.fetch_data] [INFO] Fetching stock from investing_api: NUE, from 07/06/1999 to 08/07/2022\n",
      "2022-07-08 21:36:05,524 [app.utils.fetch_data] [INFO] Fetching stock from investing_api: IFF, from 07/06/1999 to 08/07/2022\n",
      "2022-07-08 21:36:16,235 [app.utils.fetch_data] [INFO] Fetching stock from investing_api: ADI, from 07/06/1999 to 08/07/2022\n",
      "2022-07-08 21:36:26,328 [app.utils.fetch_data] [INFO] Fetching stock from investing_api: CVS, from 07/06/1999 to 08/07/2022\n"
     ]
    },
    {
     "name": "stdout",
     "output_type": "stream",
     "text": [
      "Error when calling data for NOVL\n"
     ]
    },
    {
     "name": "stderr",
     "output_type": "stream",
     "text": [
      "2022-07-08 21:36:36,485 [app.utils.fetch_data] [INFO] Fetching stock from investing_api: FANG, from 24/12/2017 to 08/07/2022\n",
      "2022-07-08 21:36:46,653 [app.utils.fetch_data] [INFO] Fetching stock from investing_api: MNST, from 02/07/2011 to 08/07/2022\n",
      "2022-07-08 21:36:53,492 [app.utils.fetch_data] [INFO] Fetching stock from investing_api: QCOM, from 07/06/1999 to 08/07/2022\n",
      "2022-07-08 21:37:01,628 [app.utils.fetch_data] [INFO] Fetching stock from alpha vantage api: CDAY\n",
      "2022-07-08 21:37:10,536 [app.utils.fetch_data] [INFO] Fetching stock from investing_api: AMT, from 07/06/1999 to 08/07/2022\n",
      "2022-07-08 21:37:18,305 [app.utils.fetch_data] [INFO] Fetching stock from investing_api: RHI, from 07/06/1999 to 08/07/2022\n",
      "2022-07-08 21:37:28,103 [app.utils.fetch_data] [INFO] Fetching stock from investing_api: NWS, from 07/10/2014 to 08/07/2022\n",
      "2022-07-08 21:37:34,875 [app.utils.fetch_data] [INFO] Fetching stock from investing_api: STT, from 07/06/1999 to 08/07/2022\n",
      "2022-07-08 21:37:46,334 [app.utils.fetch_data] [INFO] Fetching stock from alpha vantage api: ELV\n",
      "2022-07-08 21:37:54,358 [app.utils.fetch_data] [INFO] Fetching stock from investing_api: PSA, from 07/06/1999 to 08/07/2022\n",
      "2022-07-08 21:38:04,244 [app.utils.fetch_data] [INFO] Fetching stock from investing_api: K, from 07/06/1999 to 08/07/2022\n",
      "2022-07-08 21:38:12,163 [app.utils.fetch_data] [INFO] Fetching stock from investing_api: APA, from 07/06/1999 to 08/07/2022\n",
      "2022-07-08 21:38:21,474 [app.utils.fetch_data] [INFO] Fetching stock from investing_api: FTR, from 07/06/1999 to 20/03/2017\n",
      "2022-07-08 21:38:29,517 [app.utils.fetch_data] [INFO] Fetching stock from investing_api: WDC, from 07/06/1999 to 08/07/2022\n",
      "2022-07-08 21:38:36,064 [app.utils.fetch_data] [INFO] Fetching stock from investing_api: BIG, from 07/06/1999 to 15/02/2013\n",
      "2022-07-08 21:38:47,174 [app.utils.fetch_data] [INFO] Fetching stock from alpha vantage api: VICI\n",
      "2022-07-08 21:38:52,926 [app.utils.fetch_data] [INFO] Fetching stock from investing_api: TECH, from 20/09/2020 to 08/07/2022\n",
      "2022-07-08 21:39:03,360 [app.utils.fetch_data] [INFO] Fetching stock from alpha vantage api: SNI\n",
      "2022-07-08 21:39:09,252 [app.utils.fetch_data] [INFO] Fetching stock from investing_api: JKHY, from 03/12/2017 to 08/07/2022\n",
      "2022-07-08 21:39:16,104 [app.utils.fetch_data] [INFO] Fetching stock from investing_api: HON, from 07/06/1999 to 08/07/2022\n",
      "2022-07-08 21:39:23,908 [app.utils.fetch_data] [INFO] Fetching stock from investing_api: HST, from 07/06/1999 to 08/07/2022\n",
      "2022-07-08 21:39:32,746 [app.utils.fetch_data] [INFO] Fetching stock from investing_api: SEE, from 07/06/1999 to 08/07/2022\n",
      "2022-07-08 21:39:42,808 [app.utils.fetch_data] [INFO] Fetching stock from investing_api: FISV, from 07/06/1999 to 08/07/2022\n",
      "2022-07-08 21:39:53,286 [app.utils.fetch_data] [INFO] Fetching stock from investing_api: KMI, from 21/05/2011 to 08/07/2022\n",
      "2022-07-08 21:40:02,294 [app.utils.fetch_data] [INFO] Fetching stock from investing_api: ADSK, from 07/06/1999 to 08/07/2022\n",
      "2022-07-08 21:40:12,610 [app.utils.fetch_data] [INFO] Fetching stock from investing_api: PBI, from 07/06/1999 to 01/03/2017\n",
      "2022-07-08 21:40:24,564 [app.utils.fetch_data] [INFO] Fetching stock from alpha vantage api: SWY\n",
      "2022-07-08 21:40:31,580 [app.utils.fetch_data] [INFO] Fetching stock from investing_api: DHI, from 07/06/1999 to 08/07/2022\n",
      "2022-07-08 21:40:41,806 [app.utils.fetch_data] [INFO] Fetching stock from alpha vantage api: YHOO\n",
      "2022-07-08 21:40:52,521 [app.utils.fetch_data] [INFO] Fetching stock from alpha vantage api: CTRA\n",
      "2022-07-08 21:41:00,528 [app.utils.fetch_data] [INFO] Fetching stock from investing_api: TRV, from 07/06/1999 to 08/07/2022\n",
      "2022-07-08 21:41:10,152 [app.utils.fetch_data] [INFO] Fetching stock from investing_api: FOX, from 07/10/2014 to 08/07/2022\n",
      "2022-07-08 21:41:16,727 [app.utils.fetch_data] [INFO] Fetching stock from investing_api: STI, from 07/06/1999 to 09/12/2019\n",
      "2022-07-08 21:41:22,362 [app.utils.fetch_data] [INFO] Fetching stock from investing_api: PENN, from 20/04/2020 to 08/07/2022\n",
      "2022-07-08 21:41:31,526 [app.utils.fetch_data] [INFO] Fetching stock from alpha vantage api: LVLT\n",
      "2022-07-08 21:41:39,244 [app.utils.fetch_data] [INFO] Fetching stock from alpha vantage api: DV\n",
      "2022-07-08 21:41:46,609 [app.utils.fetch_data] [INFO] Fetching stock from investing_api: GOOG, from 07/06/1999 to 08/07/2022\n",
      "2022-07-08 21:41:55,266 [app.utils.fetch_data] [INFO] Fetching stock from investing_api: MAS, from 07/06/1999 to 08/07/2022\n",
      "2022-07-08 21:42:02,002 [app.utils.fetch_data] [INFO] Fetching stock from investing_api: TTWO, from 04/04/2017 to 08/07/2022\n",
      "2022-07-08 21:42:15,121 [app.utils.fetch_data] [INFO] Fetching stock from alpha vantage api: WFM\n",
      "2022-07-08 21:42:26,209 [app.utils.fetch_data] [INFO] Fetching stock from investing_api: BKR, from 07/06/1999 to 08/07/2022\n",
      "2022-07-08 21:42:36,867 [app.utils.fetch_data] [INFO] Fetching stock from investing_api: XLNX, from 07/06/1999 to 15/02/2022\n",
      "2022-07-08 21:42:44,471 [app.utils.fetch_data] [INFO] Fetching stock from investing_api: NOC, from 07/06/1999 to 08/07/2022\n",
      "2022-07-08 21:42:54,229 [app.utils.fetch_data] [INFO] Fetching stock from investing_api: WAB, from 02/04/2018 to 08/07/2022\n",
      "2022-07-08 21:42:59,952 [app.utils.fetch_data] [INFO] Fetching stock from investing_api: FRC, from 18/01/2018 to 08/07/2022\n",
      "2022-07-08 21:43:06,808 [app.utils.fetch_data] [INFO] Fetching stock from investing_api: ADS, from 24/01/2013 to 22/06/2020\n",
      "2022-07-08 21:43:16,418 [app.utils.fetch_data] [INFO] Fetching stock from alpha vantage api: NFX\n",
      "2022-07-08 21:43:24,435 [app.utils.fetch_data] [INFO] Fetching stock from investing_api: CINF, from 07/06/1999 to 08/07/2022\n",
      "2022-07-08 21:43:30,501 [app.utils.fetch_data] [INFO] Fetching stock from investing_api: ESS, from 03/04/2013 to 08/07/2022\n",
      "2022-07-08 21:43:37,443 [app.utils.fetch_data] [INFO] Fetching stock from investing_api: PVH, from 30/04/2012 to 08/07/2022\n",
      "2022-07-08 21:43:47,198 [app.utils.fetch_data] [INFO] Fetching stock from investing_api: OXY, from 07/06/1999 to 08/07/2022\n",
      "2022-07-08 21:43:54,149 [app.utils.fetch_data] [INFO] Fetching stock from investing_api: KBH, from 07/06/1999 to 18/12/2009\n",
      "2022-07-08 21:44:01,938 [app.utils.fetch_data] [INFO] Fetching stock from investing_api: RSG, from 07/06/1999 to 08/07/2022\n",
      "2022-07-08 21:44:09,696 [app.utils.fetch_data] [INFO] Fetching stock from investing_api: CHRW, from 07/06/1999 to 08/07/2022\n",
      "2022-07-08 21:44:18,777 [app.utils.fetch_data] [INFO] Fetching stock from investing_api: JCP, from 07/06/1999 to 02/12/2013\n",
      "2022-07-08 21:44:26,991 [app.utils.fetch_data] [INFO] Fetching stock from alpha vantage api: EVHC\n",
      "2022-07-08 21:44:37,401 [app.utils.fetch_data] [INFO] Fetching stock from investing_api: GRMN, from 21/12/2011 to 08/07/2022\n",
      "2022-07-08 21:44:45,380 [app.utils.fetch_data] [INFO] Fetching stock from investing_api: MBI, from 07/06/1999 to 18/12/2009\n",
      "2022-07-08 21:44:54,096 [app.utils.fetch_data] [INFO] Fetching stock from investing_api: MKTX, from 15/07/2018 to 08/07/2022\n",
      "2022-07-08 21:45:02,916 [app.utils.fetch_data] [INFO] Fetching stock from investing_api: ES, from 07/06/1999 to 08/07/2022\n",
      "2022-07-08 21:45:11,609 [app.utils.fetch_data] [INFO] Fetching stock from investing_api: CF, from 07/06/1999 to 08/07/2022\n",
      "2022-07-08 21:45:20,226 [app.utils.fetch_data] [INFO] Fetching stock from investing_api: BRO, from 14/12/2020 to 08/07/2022\n",
      "2022-07-08 21:45:26,834 [app.utils.fetch_data] [INFO] Fetching stock from investing_api: CVX, from 07/06/1999 to 08/07/2022\n",
      "2022-07-08 21:45:35,918 [app.utils.fetch_data] [INFO] Fetching stock from investing_api: LSI, from 07/06/1999 to 08/05/2014\n",
      "2022-07-08 21:45:44,513 [app.utils.fetch_data] [INFO] Fetching stock from investing_api: FCX, from 07/06/1999 to 08/07/2022\n",
      "2022-07-08 21:45:50,264 [app.utils.fetch_data] [INFO] Fetching stock from investing_api: COO, from 30/09/2015 to 08/07/2022\n",
      "2022-07-08 21:45:59,899 [app.utils.fetch_data] [INFO] Fetching stock from investing_api: EVRG, from 07/06/2017 to 08/07/2022\n",
      "2022-07-08 21:46:10,622 [app.utils.fetch_data] [INFO] Fetching stock from investing_api: PBCT, from 07/06/1999 to 04/04/2022\n",
      "2022-07-08 21:46:16,701 [app.utils.fetch_data] [INFO] Fetching stock from investing_api: VTR, from 05/06/2008 to 08/07/2022\n"
     ]
    },
    {
     "name": "stderr",
     "output_type": "stream",
     "text": [
      "2022-07-08 21:46:22,487 [app.utils.fetch_data] [INFO] Fetching stock from investing_api: DLR, from 23/05/2015 to 08/07/2022\n",
      "2022-07-08 21:46:29,065 [app.utils.fetch_data] [INFO] Fetching stock from alpha vantage api: CPGX\n",
      "2022-07-08 21:46:40,820 [app.utils.fetch_data] [INFO] Fetching stock from alpha vantage api: AYE\n",
      "2022-07-08 21:46:46,591 [app.utils.fetch_data] [INFO] Fetching stock from investing_api: FLT, from 02/07/2017 to 08/07/2022\n",
      "2022-07-08 21:46:54,094 [app.utils.fetch_data] [INFO] Fetching stock from investing_api: RAD, from 07/06/1999 to 27/07/2000\n",
      "2022-07-08 21:47:03,027 [app.utils.fetch_data] [INFO] Fetching stock from investing_api: AME, from 29/10/2012 to 08/07/2022\n",
      "2022-07-08 21:47:09,672 [app.utils.fetch_data] [INFO] Fetching stock from investing_api: RIG, from 13/11/2012 to 26/07/2017\n",
      "2022-07-08 21:47:18,805 [app.utils.fetch_data] [INFO] Fetching stock from investing_api: ATI, from 07/06/1999 to 02/07/2015\n",
      "2022-07-08 21:47:29,468 [app.utils.fetch_data] [INFO] Fetching stock from investing_api: DGX, from 07/06/1999 to 08/07/2022\n",
      "2022-07-08 21:47:36,279 [app.utils.fetch_data] [INFO] Fetching stock from investing_api: TRIP, from 31/12/2010 to 23/12/2019\n",
      "2022-07-08 21:47:44,916 [app.utils.fetch_data] [INFO] Fetching stock from investing_api: USB, from 07/06/1999 to 08/07/2022\n",
      "2022-07-08 21:47:52,060 [app.utils.fetch_data] [INFO] Fetching stock from investing_api: HRL, from 05/06/2008 to 08/07/2022\n"
     ]
    },
    {
     "name": "stdout",
     "output_type": "stream",
     "text": [
      "Error when calling data for CCE\n"
     ]
    },
    {
     "name": "stderr",
     "output_type": "stream",
     "text": [
      "2022-07-08 21:48:06,371 [app.utils.fetch_data] [INFO] Fetching stock from alpha vantage api: JNS\n",
      "2022-07-08 21:48:13,130 [app.utils.fetch_data] [INFO] Fetching stock from investing_api: WBA, from 07/06/1999 to 08/07/2022\n",
      "2022-07-08 21:48:24,061 [app.utils.fetch_data] [INFO] Fetching stock from investing_api: XRX, from 07/06/1999 to 22/03/2021\n",
      "2022-07-08 21:48:33,096 [app.utils.fetch_data] [INFO] Fetching stock from investing_api: LYB, from 01/10/2011 to 08/07/2022\n",
      "2022-07-08 21:48:39,967 [app.utils.fetch_data] [INFO] Fetching stock from investing_api: GOOGL, from 01/05/2013 to 08/07/2022\n",
      "2022-07-08 21:48:48,007 [app.utils.fetch_data] [INFO] Fetching stock from investing_api: AAL, from 07/04/2014 to 08/07/2022\n",
      "2022-07-08 21:48:58,234 [app.utils.fetch_data] [INFO] Fetching stock from investing_api: JNPR, from 10/01/2006 to 08/07/2022\n",
      "2022-07-08 21:49:09,159 [app.utils.fetch_data] [INFO] Fetching stock from investing_api: GE, from 07/06/1999 to 08/07/2022\n",
      "2022-07-08 21:49:16,870 [app.utils.fetch_data] [INFO] Fetching stock from investing_api: HOLX, from 04/04/2015 to 08/07/2022\n",
      "2022-07-08 21:49:24,001 [app.utils.fetch_data] [INFO] Fetching stock from alpha vantage api: META\n",
      "2022-07-08 21:49:32,034 [app.utils.fetch_data] [INFO] Fetching stock from investing_api: EA, from 07/06/1999 to 08/07/2022\n"
     ]
    },
    {
     "name": "stdout",
     "output_type": "stream",
     "text": [
      "Error when calling data for MEE\n"
     ]
    },
    {
     "name": "stderr",
     "output_type": "stream",
     "text": [
      "2022-07-08 21:49:42,785 [app.utils.fetch_data] [INFO] Fetching stock from alpha vantage api: STR\n",
      "2022-07-08 21:49:51,237 [app.utils.fetch_data] [INFO] Fetching stock from alpha vantage api: BEAM\n",
      "2022-07-08 21:49:59,892 [app.utils.fetch_data] [INFO] Fetching stock from investing_api: IR, from 01/04/2019 to 08/07/2022\n",
      "2022-07-08 21:50:08,866 [app.utils.fetch_data] [INFO] Fetching stock from investing_api: STX, from 31/07/2011 to 08/07/2022\n",
      "2022-07-08 21:50:18,533 [app.utils.fetch_data] [INFO] Fetching stock from investing_api: VNO, from 07/06/1999 to 08/07/2022\n",
      "2022-07-08 21:50:27,675 [app.utils.fetch_data] [INFO] Fetching stock from investing_api: FII, from 07/06/1999 to 31/12/2012\n",
      "2022-07-08 21:50:37,240 [app.utils.fetch_data] [INFO] Fetching stock from investing_api: DPZ, from 22/05/2019 to 08/07/2022\n",
      "2022-07-08 21:50:47,811 [app.utils.fetch_data] [INFO] Fetching stock from investing_api: HRB, from 07/06/1999 to 21/09/2020\n",
      "2022-07-08 21:50:58,488 [app.utils.fetch_data] [INFO] Fetching stock from alpha vantage api: DTV\n",
      "2022-07-08 21:51:05,479 [app.utils.fetch_data] [INFO] Fetching stock from investing_api: DUK, from 07/06/1999 to 08/07/2022\n",
      "2022-07-08 21:51:13,774 [app.utils.fetch_data] [INFO] Fetching stock from investing_api: SPG, from 07/06/1999 to 08/07/2022\n",
      "2022-07-08 21:51:22,825 [app.utils.fetch_data] [INFO] Fetching stock from investing_api: CMG, from 01/06/2010 to 08/07/2022\n",
      "2022-07-08 21:51:30,506 [app.utils.fetch_data] [INFO] Fetching stock from alpha vantage api: EP\n",
      "2022-07-08 21:51:37,852 [app.utils.fetch_data] [INFO] Fetching stock from investing_api: FMC, from 28/09/2008 to 08/07/2022\n",
      "2022-07-08 21:51:47,806 [app.utils.fetch_data] [INFO] Fetching stock from investing_api: MET, from 07/06/1999 to 08/07/2022\n",
      "2022-07-08 21:51:58,431 [app.utils.fetch_data] [INFO] Fetching stock from investing_api: MU, from 07/06/1999 to 08/07/2022\n",
      "2022-07-08 21:52:06,741 [app.utils.fetch_data] [INFO] Fetching stock from investing_api: CL, from 07/06/1999 to 08/07/2022\n",
      "2022-07-08 21:52:13,556 [app.utils.fetch_data] [INFO] Fetching stock from investing_api: LEG, from 07/06/1999 to 20/12/2021\n"
     ]
    },
    {
     "name": "stdout",
     "output_type": "stream",
     "text": [
      "Error when calling data for TEG\n"
     ]
    },
    {
     "name": "stderr",
     "output_type": "stream",
     "text": [
      "2022-07-08 21:52:23,452 [app.utils.fetch_data] [INFO] Fetching stock from investing_api: JWN, from 07/06/1999 to 22/06/2020\n",
      "2022-07-08 21:52:33,316 [app.utils.fetch_data] [INFO] Fetching stock from investing_api: HD, from 07/06/1999 to 08/07/2022\n",
      "2022-07-08 21:52:44,497 [app.utils.fetch_data] [INFO] Fetching stock from alpha vantage api: SUN\n"
     ]
    },
    {
     "name": "stdout",
     "output_type": "stream",
     "text": [
      "Error when calling data for ESV\n",
      "Error when calling data for RSH\n"
     ]
    },
    {
     "name": "stderr",
     "output_type": "stream",
     "text": [
      "2022-07-08 21:52:57,659 [app.utils.fetch_data] [INFO] Fetching stock from investing_api: ECL, from 07/06/1999 to 08/07/2022\n"
     ]
    },
    {
     "name": "stdout",
     "output_type": "stream",
     "text": [
      "Error when calling data for BS\n"
     ]
    },
    {
     "name": "stderr",
     "output_type": "stream",
     "text": [
      "2022-07-08 21:53:04,020 [app.utils.fetch_data] [INFO] Fetching stock from investing_api: TSCO, from 21/03/2013 to 08/07/2022\n",
      "2022-07-08 21:53:14,666 [app.utils.fetch_data] [INFO] Fetching stock from investing_api: ETN, from 07/06/1999 to 08/07/2022\n",
      "2022-07-08 21:53:27,741 [app.utils.fetch_data] [INFO] Fetching stock from alpha vantage api: ESRX\n",
      "2022-07-08 21:53:35,933 [app.utils.fetch_data] [INFO] Fetching stock from investing_api: FSLR, from 07/06/1999 to 20/03/2017\n"
     ]
    },
    {
     "name": "stdout",
     "output_type": "stream",
     "text": [
      "Error when calling data for APC\n"
     ]
    },
    {
     "name": "stderr",
     "output_type": "stream",
     "text": [
      "2022-07-08 21:53:44,587 [app.utils.fetch_data] [INFO] Fetching stock from investing_api: CTVA, from 07/06/2018 to 08/07/2022\n",
      "2022-07-08 21:53:53,353 [app.utils.fetch_data] [INFO] Fetching stock from investing_api: SYF, from 19/11/2014 to 08/07/2022\n",
      "2022-07-08 21:54:00,602 [app.utils.fetch_data] [INFO] Fetching stock from investing_api: MDLZ, from 02/07/2006 to 08/07/2022\n",
      "2022-07-08 21:54:07,366 [app.utils.fetch_data] [INFO] Fetching stock from investing_api: RJF, from 04/04/2016 to 08/07/2022\n",
      "2022-07-08 21:54:15,365 [app.utils.fetch_data] [INFO] Fetching stock from investing_api: ACN, from 23/09/2010 to 08/07/2022\n",
      "2022-07-08 21:54:22,316 [app.utils.fetch_data] [INFO] Fetching stock from investing_api: PM, from 07/06/1999 to 08/07/2022\n",
      "2022-07-08 21:54:29,933 [app.utils.fetch_data] [INFO] Fetching stock from alpha vantage api: MON\n",
      "2022-07-08 21:54:39,918 [app.utils.fetch_data] [INFO] Fetching stock from investing_api: CHD, from 05/01/2015 to 08/07/2022\n",
      "2022-07-08 21:54:47,695 [app.utils.fetch_data] [INFO] Fetching stock from investing_api: BAX, from 07/06/1999 to 08/07/2022\n",
      "2022-07-08 21:54:56,340 [app.utils.fetch_data] [INFO] Fetching stock from investing_api: PEG, from 07/06/1999 to 08/07/2022\n",
      "2022-07-08 21:55:02,418 [app.utils.fetch_data] [INFO] Fetching stock from investing_api: BLK, from 27/04/2010 to 08/07/2022\n",
      "2022-07-08 21:55:10,356 [app.utils.fetch_data] [INFO] Fetching stock from investing_api: AFL, from 07/06/1999 to 08/07/2022\n",
      "2022-07-08 21:55:20,044 [app.utils.fetch_data] [INFO] Fetching stock from investing_api: EBAY, from 07/06/1999 to 08/07/2022\n"
     ]
    },
    {
     "name": "stdout",
     "output_type": "stream",
     "text": [
      "Error when calling data for COL\n"
     ]
    },
    {
     "name": "stderr",
     "output_type": "stream",
     "text": [
      "2022-07-08 21:55:27,429 [app.utils.fetch_data] [INFO] Fetching stock from investing_api: POOL, from 09/10/2019 to 08/07/2022\n",
      "2022-07-08 21:55:37,119 [app.utils.fetch_data] [INFO] Fetching stock from investing_api: ABMD, from 05/06/2017 to 08/07/2022\n",
      "2022-07-08 21:55:44,144 [app.utils.fetch_data] [INFO] Fetching stock from investing_api: FHN, from 07/06/1999 to 21/06/2013\n"
     ]
    }
   ],
   "source": [
    "# retrieve data for each ticker, but 1 year before the min_date\n",
    "# this is to make sure we have all the data to calculate the moving averages\n",
    "\n",
    "if 'stocks' in locals():\n",
    "    if stocks.shape[0]>0:\n",
    "        pass\n",
    "    else:\n",
    "        stocks = pd.DataFrame()\n",
    "else:\n",
    "    stocks = pd.DataFrame()\n",
    "\n",
    "if 'NA_tickers' in locals():\n",
    "    pass\n",
    "else:\n",
    "    NA_tickers = list()\n",
    "    \n",
    "    \n",
    "for k in tqdm(ticker_dict.keys()):\n",
    "    \n",
    "    # set min date as 1 year before the actual min date\n",
    "    s = ticker_dict[k]['min_date'].split('-')\n",
    "    s[0] = str(int(s[0])-1)\n",
    "    start_date = '-'.join(s)\n",
    "    end_date = ticker_dict[k]['max_date']\n",
    "\n",
    "    try:\n",
    "        df = investing_api('stock', k, start_date, end_date)\n",
    "        time.sleep(random.randrange(5, 10)) # set to pause for a bit when calling an api\n",
    "    except Exception as e:\n",
    "        if \"ERR#0018\" in str(e):\n",
    "            try:\n",
    "                # retrieve data from alpha vantage\n",
    "                df = alpha_vantage_api('stock', k)\n",
    "                time.sleep(random.randrange(5, 10)) # set to pause for a bit when calling an api\n",
    "            except:\n",
    "                NA_tickers.append(k)\n",
    "                print(\"Error when calling data for {}\".format(k))\n",
    "\n",
    "        stocks = pd.concat([stocks, df], axis=0)"
   ]
  },
  {
   "cell_type": "code",
   "execution_count": 54,
   "id": "572d2df4",
   "metadata": {},
   "outputs": [
    {
     "data": {
      "text/html": [
       "<div>\n",
       "<style scoped>\n",
       "    .dataframe tbody tr th:only-of-type {\n",
       "        vertical-align: middle;\n",
       "    }\n",
       "\n",
       "    .dataframe tbody tr th {\n",
       "        vertical-align: top;\n",
       "    }\n",
       "\n",
       "    .dataframe thead th {\n",
       "        text-align: right;\n",
       "    }\n",
       "</style>\n",
       "<table border=\"1\" class=\"dataframe\">\n",
       "  <thead>\n",
       "    <tr style=\"text-align: right;\">\n",
       "      <th></th>\n",
       "      <th>Date</th>\n",
       "      <th>Open</th>\n",
       "      <th>High</th>\n",
       "      <th>Low</th>\n",
       "      <th>Close</th>\n",
       "      <th>Volume</th>\n",
       "      <th>Currency</th>\n",
       "      <th>ticker</th>\n",
       "      <th>type</th>\n",
       "      <th>p_key</th>\n",
       "    </tr>\n",
       "  </thead>\n",
       "  <tbody>\n",
       "    <tr>\n",
       "      <th>0</th>\n",
       "      <td>1999-06-07 00:00:00</td>\n",
       "      <td>5.00</td>\n",
       "      <td>5.00</td>\n",
       "      <td>4.96</td>\n",
       "      <td>5.00</td>\n",
       "      <td>1106400</td>\n",
       "      <td>USD</td>\n",
       "      <td>DVA</td>\n",
       "      <td>stock</td>\n",
       "      <td>1999_06_07_DVA</td>\n",
       "    </tr>\n",
       "    <tr>\n",
       "      <th>1</th>\n",
       "      <td>1999-06-08 00:00:00</td>\n",
       "      <td>5.00</td>\n",
       "      <td>5.06</td>\n",
       "      <td>4.94</td>\n",
       "      <td>4.96</td>\n",
       "      <td>649200</td>\n",
       "      <td>USD</td>\n",
       "      <td>DVA</td>\n",
       "      <td>stock</td>\n",
       "      <td>1999_06_08_DVA</td>\n",
       "    </tr>\n",
       "    <tr>\n",
       "      <th>2</th>\n",
       "      <td>1999-06-09 00:00:00</td>\n",
       "      <td>4.96</td>\n",
       "      <td>4.98</td>\n",
       "      <td>4.83</td>\n",
       "      <td>4.90</td>\n",
       "      <td>1590900</td>\n",
       "      <td>USD</td>\n",
       "      <td>DVA</td>\n",
       "      <td>stock</td>\n",
       "      <td>1999_06_09_DVA</td>\n",
       "    </tr>\n",
       "    <tr>\n",
       "      <th>3</th>\n",
       "      <td>1999-06-10 00:00:00</td>\n",
       "      <td>4.92</td>\n",
       "      <td>4.92</td>\n",
       "      <td>4.81</td>\n",
       "      <td>4.87</td>\n",
       "      <td>876900</td>\n",
       "      <td>USD</td>\n",
       "      <td>DVA</td>\n",
       "      <td>stock</td>\n",
       "      <td>1999_06_10_DVA</td>\n",
       "    </tr>\n",
       "    <tr>\n",
       "      <th>4</th>\n",
       "      <td>1999-06-11 00:00:00</td>\n",
       "      <td>4.87</td>\n",
       "      <td>5.02</td>\n",
       "      <td>4.87</td>\n",
       "      <td>5.00</td>\n",
       "      <td>1242900</td>\n",
       "      <td>USD</td>\n",
       "      <td>DVA</td>\n",
       "      <td>stock</td>\n",
       "      <td>1999_06_11_DVA</td>\n",
       "    </tr>\n",
       "  </tbody>\n",
       "</table>\n",
       "</div>"
      ],
      "text/plain": [
       "                  Date  Open  High   Low  Close   Volume Currency ticker  \\\n",
       "0  1999-06-07 00:00:00  5.00  5.00  4.96   5.00  1106400      USD    DVA   \n",
       "1  1999-06-08 00:00:00  5.00  5.06  4.94   4.96   649200      USD    DVA   \n",
       "2  1999-06-09 00:00:00  4.96  4.98  4.83   4.90  1590900      USD    DVA   \n",
       "3  1999-06-10 00:00:00  4.92  4.92  4.81   4.87   876900      USD    DVA   \n",
       "4  1999-06-11 00:00:00  4.87  5.02  4.87   5.00  1242900      USD    DVA   \n",
       "\n",
       "    type           p_key  \n",
       "0  stock  1999_06_07_DVA  \n",
       "1  stock  1999_06_08_DVA  \n",
       "2  stock  1999_06_09_DVA  \n",
       "3  stock  1999_06_10_DVA  \n",
       "4  stock  1999_06_11_DVA  "
      ]
     },
     "execution_count": 54,
     "metadata": {},
     "output_type": "execute_result"
    }
   ],
   "source": [
    "stocks.head()"
   ]
  },
  {
   "cell_type": "code",
   "execution_count": 165,
   "id": "7247ed4a",
   "metadata": {},
   "outputs": [],
   "source": [
    "stocks.to_csv(\"app/data_storage/S&P500/sp500_history.csv\", index=False)"
   ]
  },
  {
   "cell_type": "code",
   "execution_count": 116,
   "id": "ca225c19",
   "metadata": {
    "scrolled": true
   },
   "outputs": [
    {
     "data": {
      "text/plain": [
       "{'min_date': '2000-06-07',\n",
       " 'max_date': '2011-03-31',\n",
       " 'dates': ['2011-03-31',\n",
       "  '2011-02-28',\n",
       "  '2011-02-25',\n",
       "  '2010-12-17',\n",
       "  '2010-11-17',\n",
       "  '2010-08-26',\n",
       "  '2010-07-14',\n",
       "  '2010-06-30',\n",
       "  '2010-06-28',\n",
       "  '2010-04-29',\n",
       "  '2010-02-26',\n",
       "  '2009-12-18',\n",
       "  '2009-11-03',\n",
       "  '2009-09-28',\n",
       "  '2009-08-19',\n",
       "  '2009-06-05',\n",
       "  '2009-03-03',\n",
       "  '2008-12-31',\n",
       "  '2008-09-16',\n",
       "  '2008-09-12',\n",
       "  '2008-07-01',\n",
       "  '2008-06-23',\n",
       "  '2008-06-10',\n",
       "  '2007-12-20',\n",
       "  '2007-12-13',\n",
       "  '2007-10-26',\n",
       "  '2007-10-02',\n",
       "  '2007-10-01',\n",
       "  '2007-09-27',\n",
       "  '2007-09-26',\n",
       "  '2007-08-24',\n",
       "  '2007-07-02',\n",
       "  '2007-03-30',\n",
       "  '2007-01-10',\n",
       "  '2006-06-02',\n",
       "  '2005-11-18',\n",
       "  '2005-07-01',\n",
       "  '2003-09-25',\n",
       "  '2000-12-05',\n",
       "  '2000-07-27',\n",
       "  '2000-06-12',\n",
       "  '2000-06-07']}"
      ]
     },
     "execution_count": 116,
     "metadata": {},
     "output_type": "execute_result"
    }
   ],
   "source": [
    "ticker_dict['Q']"
   ]
  },
  {
   "cell_type": "code",
   "execution_count": 117,
   "id": "d49c1fd6",
   "metadata": {
    "scrolled": true
   },
   "outputs": [
    {
     "data": {
      "text/html": [
       "<div>\n",
       "<style scoped>\n",
       "    .dataframe tbody tr th:only-of-type {\n",
       "        vertical-align: middle;\n",
       "    }\n",
       "\n",
       "    .dataframe tbody tr th {\n",
       "        vertical-align: top;\n",
       "    }\n",
       "\n",
       "    .dataframe thead th {\n",
       "        text-align: right;\n",
       "    }\n",
       "</style>\n",
       "<table border=\"1\" class=\"dataframe\">\n",
       "  <thead>\n",
       "    <tr style=\"text-align: right;\">\n",
       "      <th></th>\n",
       "      <th>Date</th>\n",
       "      <th>Open</th>\n",
       "      <th>High</th>\n",
       "      <th>Low</th>\n",
       "      <th>Close</th>\n",
       "      <th>Volume</th>\n",
       "      <th>Currency</th>\n",
       "      <th>ticker</th>\n",
       "      <th>type</th>\n",
       "      <th>p_key</th>\n",
       "    </tr>\n",
       "  </thead>\n",
       "  <tbody>\n",
       "    <tr>\n",
       "      <th>308995</th>\n",
       "      <td>2017-11-14</td>\n",
       "      <td>102.58</td>\n",
       "      <td>103.660</td>\n",
       "      <td>101.62</td>\n",
       "      <td>103.48</td>\n",
       "      <td>1299753</td>\n",
       "      <td>USD</td>\n",
       "      <td>Q</td>\n",
       "      <td>stock</td>\n",
       "      <td>2017_11_14_Q</td>\n",
       "    </tr>\n",
       "    <tr>\n",
       "      <th>308996</th>\n",
       "      <td>2017-11-13</td>\n",
       "      <td>101.98</td>\n",
       "      <td>103.870</td>\n",
       "      <td>101.18</td>\n",
       "      <td>102.91</td>\n",
       "      <td>1532499</td>\n",
       "      <td>USD</td>\n",
       "      <td>Q</td>\n",
       "      <td>stock</td>\n",
       "      <td>2017_11_13_Q</td>\n",
       "    </tr>\n",
       "    <tr>\n",
       "      <th>308997</th>\n",
       "      <td>2017-11-10</td>\n",
       "      <td>103.70</td>\n",
       "      <td>104.610</td>\n",
       "      <td>103.57</td>\n",
       "      <td>104.05</td>\n",
       "      <td>1138184</td>\n",
       "      <td>USD</td>\n",
       "      <td>Q</td>\n",
       "      <td>stock</td>\n",
       "      <td>2017_11_10_Q</td>\n",
       "    </tr>\n",
       "    <tr>\n",
       "      <th>308998</th>\n",
       "      <td>2017-11-09</td>\n",
       "      <td>103.55</td>\n",
       "      <td>103.770</td>\n",
       "      <td>101.50</td>\n",
       "      <td>103.51</td>\n",
       "      <td>2691961</td>\n",
       "      <td>USD</td>\n",
       "      <td>Q</td>\n",
       "      <td>stock</td>\n",
       "      <td>2017_11_09_Q</td>\n",
       "    </tr>\n",
       "    <tr>\n",
       "      <th>308999</th>\n",
       "      <td>2017-11-08</td>\n",
       "      <td>108.52</td>\n",
       "      <td>108.820</td>\n",
       "      <td>103.82</td>\n",
       "      <td>104.72</td>\n",
       "      <td>3089197</td>\n",
       "      <td>USD</td>\n",
       "      <td>Q</td>\n",
       "      <td>stock</td>\n",
       "      <td>2017_11_08_Q</td>\n",
       "    </tr>\n",
       "    <tr>\n",
       "      <th>...</th>\n",
       "      <td>...</td>\n",
       "      <td>...</td>\n",
       "      <td>...</td>\n",
       "      <td>...</td>\n",
       "      <td>...</td>\n",
       "      <td>...</td>\n",
       "      <td>...</td>\n",
       "      <td>...</td>\n",
       "      <td>...</td>\n",
       "      <td>...</td>\n",
       "    </tr>\n",
       "    <tr>\n",
       "      <th>310130</th>\n",
       "      <td>2013-05-15</td>\n",
       "      <td>45.20</td>\n",
       "      <td>45.740</td>\n",
       "      <td>44.85</td>\n",
       "      <td>45.50</td>\n",
       "      <td>2380500</td>\n",
       "      <td>USD</td>\n",
       "      <td>Q</td>\n",
       "      <td>stock</td>\n",
       "      <td>2013_05_15_Q</td>\n",
       "    </tr>\n",
       "    <tr>\n",
       "      <th>310131</th>\n",
       "      <td>2013-05-14</td>\n",
       "      <td>44.24</td>\n",
       "      <td>44.749</td>\n",
       "      <td>43.90</td>\n",
       "      <td>44.43</td>\n",
       "      <td>2049800</td>\n",
       "      <td>USD</td>\n",
       "      <td>Q</td>\n",
       "      <td>stock</td>\n",
       "      <td>2013_05_14_Q</td>\n",
       "    </tr>\n",
       "    <tr>\n",
       "      <th>310132</th>\n",
       "      <td>2013-05-13</td>\n",
       "      <td>42.30</td>\n",
       "      <td>43.370</td>\n",
       "      <td>42.30</td>\n",
       "      <td>43.32</td>\n",
       "      <td>1053100</td>\n",
       "      <td>USD</td>\n",
       "      <td>Q</td>\n",
       "      <td>stock</td>\n",
       "      <td>2013_05_13_Q</td>\n",
       "    </tr>\n",
       "    <tr>\n",
       "      <th>310133</th>\n",
       "      <td>2013-05-10</td>\n",
       "      <td>42.26</td>\n",
       "      <td>42.970</td>\n",
       "      <td>41.78</td>\n",
       "      <td>42.39</td>\n",
       "      <td>2969700</td>\n",
       "      <td>USD</td>\n",
       "      <td>Q</td>\n",
       "      <td>stock</td>\n",
       "      <td>2013_05_10_Q</td>\n",
       "    </tr>\n",
       "    <tr>\n",
       "      <th>310134</th>\n",
       "      <td>2013-05-09</td>\n",
       "      <td>43.76</td>\n",
       "      <td>44.330</td>\n",
       "      <td>42.00</td>\n",
       "      <td>42.11</td>\n",
       "      <td>19153400</td>\n",
       "      <td>USD</td>\n",
       "      <td>Q</td>\n",
       "      <td>stock</td>\n",
       "      <td>2013_05_09_Q</td>\n",
       "    </tr>\n",
       "  </tbody>\n",
       "</table>\n",
       "<p>1140 rows × 10 columns</p>\n",
       "</div>"
      ],
      "text/plain": [
       "              Date    Open     High     Low   Close    Volume Currency ticker  \\\n",
       "308995  2017-11-14  102.58  103.660  101.62  103.48   1299753      USD      Q   \n",
       "308996  2017-11-13  101.98  103.870  101.18  102.91   1532499      USD      Q   \n",
       "308997  2017-11-10  103.70  104.610  103.57  104.05   1138184      USD      Q   \n",
       "308998  2017-11-09  103.55  103.770  101.50  103.51   2691961      USD      Q   \n",
       "308999  2017-11-08  108.52  108.820  103.82  104.72   3089197      USD      Q   \n",
       "...            ...     ...      ...     ...     ...       ...      ...    ...   \n",
       "310130  2013-05-15   45.20   45.740   44.85   45.50   2380500      USD      Q   \n",
       "310131  2013-05-14   44.24   44.749   43.90   44.43   2049800      USD      Q   \n",
       "310132  2013-05-13   42.30   43.370   42.30   43.32   1053100      USD      Q   \n",
       "310133  2013-05-10   42.26   42.970   41.78   42.39   2969700      USD      Q   \n",
       "310134  2013-05-09   43.76   44.330   42.00   42.11  19153400      USD      Q   \n",
       "\n",
       "         type         p_key  \n",
       "308995  stock  2017_11_14_Q  \n",
       "308996  stock  2017_11_13_Q  \n",
       "308997  stock  2017_11_10_Q  \n",
       "308998  stock  2017_11_09_Q  \n",
       "308999  stock  2017_11_08_Q  \n",
       "...       ...           ...  \n",
       "310130  stock  2013_05_15_Q  \n",
       "310131  stock  2013_05_14_Q  \n",
       "310132  stock  2013_05_13_Q  \n",
       "310133  stock  2013_05_10_Q  \n",
       "310134  stock  2013_05_09_Q  \n",
       "\n",
       "[1140 rows x 10 columns]"
      ]
     },
     "execution_count": 117,
     "metadata": {},
     "output_type": "execute_result"
    }
   ],
   "source": [
    "stocks.loc[stocks.ticker=='Q']"
   ]
  },
  {
   "cell_type": "markdown",
   "id": "69d01c6e",
   "metadata": {},
   "source": [
    "## 4. Identify the lingering tickers that does not work"
   ]
  },
  {
   "cell_type": "markdown",
   "id": "f5aa1082",
   "metadata": {},
   "source": [
    "### make additional adjustments on the tickers that does not work\n",
    "\n",
    "Need to update `sp500` data set and `ticker_dict` dictionary."
   ]
  },
  {
   "cell_type": "code",
   "execution_count": 55,
   "id": "9d01bdf9",
   "metadata": {},
   "outputs": [],
   "source": [
    "ticker_adjustments = dict()\n",
    "\n",
    "ticker_adjustments['ACE'] = {\"new_ticker\":'CB',\n",
    "                             \"reason\":\"Ticker changed\"}\n",
    "ticker_adjustments['MI'] = {\"new_ticker\":\"\",\n",
    "                            \"reason\":\"Acquired\"}\n",
    "ticker_adjustments['LEH'] = {\"new_ticker\":\"\",\n",
    "                            \"reason\":\"Bankrupt\"}\n",
    "ticker_adjustments['SMS'] = {\"new_ticker\":\"\",\n",
    "                            \"reason\":\"Acquired\"}\n",
    "ticker_adjustments['GAS'] = {\"new_ticker\":\"\",\n",
    "                            \"reason\":\"Acquired\"}\n",
    "ticker_adjustments['TE'] = {\"new_ticker\":\"\",\n",
    "                            \"reason\":\"Acquired\"}\n",
    "ticker_adjustments['GENZ'] = {\"new_ticker\":\"\",\n",
    "                            \"reason\":\"Acquired\"}\n",
    "ticker_adjustments['ABS'] = {\"new_ticker\":\"\",\n",
    "                            \"reason\":\"Acquired\"}\n",
    "ticker_adjustments['TLAB'] = {\"new_ticker\":\"\",\n",
    "                            \"reason\":\"Defunct\"}\n",
    "ticker_adjustments['ARG'] = {\"new_ticker\":\"\",\n",
    "                            \"reason\":\"Acquired\"}\n",
    "ticker_adjustments['MOLX'] = {\"new_ticker\":\"\",\n",
    "                            \"reason\":\"Acquired\"}\n",
    "ticker_adjustments['ANR'] = {\"new_ticker\":\"\",\n",
    "                            \"reason\":\"Defunct\"}\n",
    "ticker_adjustments['NSM'] = {\"new_ticker\":\"\",\n",
    "                            \"reason\":\"Acquired\"}\n",
    "ticker_adjustments['SCG'] = {\"new_ticker\":\"\",\n",
    "                            \"reason\":\"Acquired\"}\n",
    "ticker_adjustments['MIL'] = {\"new_ticker\":\"\",\n",
    "                            \"reason\":\"Acquired\"}\n",
    "ticker_adjustments['SGP'] = {\"new_ticker\":\"\",\n",
    "                            \"reason\":\"Acquired\"}\n",
    "ticker_adjustments['RX'] = {\"new_ticker\":\"\",\n",
    "                            \"reason\":\"Gone private\"}\n",
    "ticker_adjustments['ABK'] = {\"new_ticker\":\"AMBC\",\n",
    "                            \"reason\":\"Ticker changed\"}\n",
    "ticker_adjustments['NYX'] = {\"new_ticker\":\"\",\n",
    "                            \"reason\":\"Acquired\"}\n",
    "ticker_adjustments['CVC'] = {\"new_ticker\":\"\",\n",
    "                            \"reason\":\"Acquired\"}\n",
    "ticker_adjustments['AV'] = {\"new_ticker\":\"\",\n",
    "                            \"reason\":\"Gone private\"}\n",
    "ticker_adjustments['DJ'] = {\"new_ticker\":\"\",\n",
    "                            \"reason\":\"Acquired\"}\n",
    "ticker_adjustments['CAM'] = {\"new_ticker\":\"\",\n",
    "                            \"reason\":\"Acquired\"}\n",
    "ticker_adjustments['TRB'] = {\"new_ticker\":\"\",\n",
    "                            \"reason\":\"Gone private\"}\n",
    "ticker_adjustments['EK'] = {\"new_ticker\":\"KODK\",\n",
    "                            \"reason\":\"Acquired\"}\n",
    "ticker_adjustments['CEPH'] = {\"new_ticker\":\"\",\n",
    "                            \"reason\":\"Acquired\"}\n",
    "ticker_adjustments['FNM'] = {\"new_ticker\":\"FNMA\",\n",
    "                            \"reason\":\"Ticker changed\"}\n",
    "ticker_adjustments['FRX'] = {\"new_ticker\":\"\",\n",
    "                            \"reason\":\"Acquired\"}\n",
    "ticker_adjustments['SBL'] = {\"new_ticker\":\"\",\n",
    "                            \"reason\":\"Acquired\"}\n",
    "ticker_adjustments['CFC'] = {\"new_ticker\":\"\",\n",
    "                            \"reason\":\"Acquired\"}\n",
    "ticker_adjustments['RHT'] = {\"new_ticker\":\"\",\n",
    "                            \"reason\":\"Acquired\"}\n",
    "ticker_adjustments['TYC'] = {\"new_ticker\":\"JCI\",\n",
    "                            \"reason\":\"Merged\"}\n",
    "ticker_adjustments['GR'] = {\"new_ticker\":\"\",\n",
    "                            \"reason\":\"Acquired\"}\n",
    "ticker_adjustments['SLE'] = {\"new_ticker\":\"\",\n",
    "                            \"reason\":\"Defunct\"}\n",
    "ticker_adjustments['RDC'] = {\"new_ticker\":\"\",\n",
    "                            \"reason\":\"Defunct\"} # https://stockinvest.us/stock-price/RDC\n",
    "ticker_adjustments['GLK'] = {\"new_ticker\":\"\",\n",
    "                            \"reason\":\"Acquired\"}\n",
    "ticker_adjustments['BMC'] = {\"new_ticker\":\"\",\n",
    "                            \"reason\":\"Gone private\"}\n",
    "ticker_adjustments['WIN'] = {\"new_ticker\":\"WINMQ\",\n",
    "                            \"reason\":\"Ticker changed\"}\n",
    "ticker_adjustments['SLR'] = {\"new_ticker\":\"\",\n",
    "                            \"reason\":\"Acquired\"}\n",
    "ticker_adjustments['PTV'] = {\"new_ticker\":\"\",\n",
    "                            \"reason\":\"Acquired\"}\n",
    "ticker_adjustments['CBE'] = {\"new_ticker\":\"\",\n",
    "                            \"reason\":\"Acquired\"}\n",
    "ticker_adjustments['KSE'] = {\"new_ticker\":\"\",\n",
    "                            \"reason\":\"Acquired\"}\n",
    "ticker_adjustments['FRE'] = {\"new_ticker\":\"FMCC\",\n",
    "                            \"reason\":\"Ticker changed\"}\n",
    "ticker_adjustments['QTRN'] = {\"new_ticker\":\"\",\n",
    "                            \"reason\":\"Gone private\"}\n",
    "ticker_adjustments['BF.B'] = {\"new_ticker\":\"BF-B\",\n",
    "                            \"reason\":\"Misspelled\"}\n",
    "ticker_adjustments['WFR'] = {\"new_ticker\":\"SUNE\",\n",
    "                            \"reason\":\"Ticker changed\"}\n",
    "ticker_adjustments['NOVL'] = {\"new_ticker\":\"\",\n",
    "                            \"reason\":\"Acquired\"}\n",
    "ticker_adjustments['CCE'] = {\"new_ticker\":\"\",\n",
    "                            \"reason\":\"Merged\"}\n",
    "ticker_adjustments['MEE'] = {\"new_ticker\":\"\",\n",
    "                            \"reason\":\"Acquired\"}\n",
    "ticker_adjustments['TEG'] = {\"new_ticker\":\"\",\n",
    "                            \"reason\":\"Defunct\"}\n",
    "ticker_adjustments['ESV'] = {\"new_ticker\":\"\",\n",
    "                            \"reason\":\"Acquired\"}\n",
    "ticker_adjustments['RSH'] = {\"new_ticker\":\"\",\n",
    "                            \"reason\":\"Defunct\"}\n",
    "ticker_adjustments['BS'] = {\"new_ticker\":\"\",\n",
    "                            \"reason\":\"Bankrupt\"}\n",
    "ticker_adjustments['APC'] = {\"new_ticker\":\"\",\n",
    "                            \"reason\":\"Acquired\"}\n",
    "ticker_adjustments['COL'] = {\"new_ticker\":\"\",\n",
    "                            \"reason\":\"Acquired\"}"
   ]
  },
  {
   "cell_type": "markdown",
   "id": "e8937e64",
   "metadata": {},
   "source": [
    "Seems like these kind of tickers are dead and mostly available using the paid options.\n",
    "\n",
    "https://money.stackexchange.com/questions/18723/how-to-find-historical-stock-price-for-a-de-listed-or-defunct-company"
   ]
  },
  {
   "cell_type": "code",
   "execution_count": null,
   "id": "9d4e328b",
   "metadata": {},
   "outputs": [],
   "source": []
  },
  {
   "cell_type": "markdown",
   "id": "85f5fdf0",
   "metadata": {},
   "source": [
    "- option1: https://fcsapi.com/document/stock-api\n",
    "- option2: https://docs.intrinio.com/documentation/api_v2/getting_started (paid)\n",
    "- option3: https://simfin.com/data/api"
   ]
  },
  {
   "cell_type": "code",
   "execution_count": null,
   "id": "90b29394",
   "metadata": {},
   "outputs": [],
   "source": []
  },
  {
   "cell_type": "code",
   "execution_count": null,
   "id": "91a45276",
   "metadata": {},
   "outputs": [],
   "source": []
  },
  {
   "cell_type": "code",
   "execution_count": null,
   "id": "b02cdd43",
   "metadata": {},
   "outputs": [],
   "source": [
    "ticker_adjustments"
   ]
  },
  {
   "cell_type": "code",
   "execution_count": 78,
   "id": "152577cd",
   "metadata": {},
   "outputs": [],
   "source": [
    "page = requests.get(\"https://stockinvest.us/stock-price/RDC\")\n",
    "page = BeautifulSoup(page.content, \"html.parser\")"
   ]
  },
  {
   "cell_type": "code",
   "execution_count": null,
   "id": "7ba4e948",
   "metadata": {},
   "outputs": [],
   "source": [
    "\n",
    "tables_OLD = without.find_all(\"table\", class_=\"wikitable\")\n",
    "table_OLD = tables_OLD[0]\n",
    "# convert html format table into pandas dataframe\n",
    "sp500_list_2008_01_08 = pd.read_html(str(table_OLD))[0]\n",
    "sp500_list_2008_01_08.sort_values(by=['Ticker symbol'], inplace=True)"
   ]
  },
  {
   "cell_type": "code",
   "execution_count": null,
   "id": "a90a3d50",
   "metadata": {},
   "outputs": [],
   "source": []
  },
  {
   "cell_type": "code",
   "execution_count": null,
   "id": "97081281",
   "metadata": {},
   "outputs": [],
   "source": []
  },
  {
   "cell_type": "code",
   "execution_count": null,
   "id": "d3059afc",
   "metadata": {},
   "outputs": [],
   "source": [
    "def scrape_stock_invest_us(ticker, min_date, max_date):\n",
    "    "
   ]
  },
  {
   "cell_type": "code",
   "execution_count": null,
   "id": "bd49d923",
   "metadata": {},
   "outputs": [],
   "source": []
  },
  {
   "cell_type": "code",
   "execution_count": 85,
   "id": "9d551094",
   "metadata": {
    "scrolled": true
   },
   "outputs": [
    {
     "data": {
      "text/plain": [
       "{'min_date': '2003-09-25',\n",
       " 'max_date': '2007-01-10',\n",
       " 'dates': ['2007-01-10',\n",
       "  '2006-06-02',\n",
       "  '2005-11-18',\n",
       "  '2005-07-01',\n",
       "  '2003-09-25']}"
      ]
     },
     "execution_count": 85,
     "metadata": {},
     "output_type": "execute_result"
    }
   ],
   "source": [
    "ticker_dict['SBL']"
   ]
  },
  {
   "cell_type": "code",
   "execution_count": 84,
   "id": "ff09c2f6",
   "metadata": {},
   "outputs": [
    {
     "data": {
      "text/html": [
       "<div>\n",
       "<style scoped>\n",
       "    .dataframe tbody tr th:only-of-type {\n",
       "        vertical-align: middle;\n",
       "    }\n",
       "\n",
       "    .dataframe tbody tr th {\n",
       "        vertical-align: top;\n",
       "    }\n",
       "\n",
       "    .dataframe thead th {\n",
       "        text-align: right;\n",
       "    }\n",
       "</style>\n",
       "<table border=\"1\" class=\"dataframe\">\n",
       "  <thead>\n",
       "    <tr style=\"text-align: right;\">\n",
       "      <th></th>\n",
       "      <th>Date_Date</th>\n",
       "      <th>Added_Ticker</th>\n",
       "      <th>Added_Security</th>\n",
       "      <th>Removed_Ticker</th>\n",
       "      <th>Removed_Security</th>\n",
       "      <th>Reason_Reason</th>\n",
       "    </tr>\n",
       "  </thead>\n",
       "  <tbody>\n",
       "    <tr>\n",
       "      <th>289</th>\n",
       "      <td>2007-01-10</td>\n",
       "      <td>AVB</td>\n",
       "      <td>AvalonBay Communities</td>\n",
       "      <td>SBL</td>\n",
       "      <td>Symbol Technologies</td>\n",
       "      <td>Acquired by Motorola[223]</td>\n",
       "    </tr>\n",
       "  </tbody>\n",
       "</table>\n",
       "</div>"
      ],
      "text/plain": [
       "     Date_Date Added_Ticker         Added_Security Removed_Ticker  \\\n",
       "289 2007-01-10          AVB  AvalonBay Communities            SBL   \n",
       "\n",
       "        Removed_Security              Reason_Reason  \n",
       "289  Symbol Technologies  Acquired by Motorola[223]  "
      ]
     },
     "execution_count": 84,
     "metadata": {},
     "output_type": "execute_result"
    }
   ],
   "source": [
    "changes.loc[changes.Removed_Ticker=='SBL']"
   ]
  },
  {
   "cell_type": "code",
   "execution_count": 71,
   "id": "c46e0ea7",
   "metadata": {},
   "outputs": [
    {
     "data": {
      "text/html": [
       "<div>\n",
       "<style scoped>\n",
       "    .dataframe tbody tr th:only-of-type {\n",
       "        vertical-align: middle;\n",
       "    }\n",
       "\n",
       "    .dataframe tbody tr th {\n",
       "        vertical-align: top;\n",
       "    }\n",
       "\n",
       "    .dataframe thead th {\n",
       "        text-align: right;\n",
       "    }\n",
       "</style>\n",
       "<table border=\"1\" class=\"dataframe\">\n",
       "  <thead>\n",
       "    <tr style=\"text-align: right;\">\n",
       "      <th></th>\n",
       "      <th>Symbol</th>\n",
       "      <th>Security</th>\n",
       "      <th>SEC filings</th>\n",
       "      <th>GICS Sector</th>\n",
       "      <th>GICS Sub-Industry</th>\n",
       "      <th>Headquarters Location</th>\n",
       "      <th>Date first added</th>\n",
       "      <th>CIK</th>\n",
       "      <th>Founded</th>\n",
       "    </tr>\n",
       "  </thead>\n",
       "  <tbody>\n",
       "  </tbody>\n",
       "</table>\n",
       "</div>"
      ],
      "text/plain": [
       "Empty DataFrame\n",
       "Columns: [Symbol, Security, SEC filings, GICS Sector, GICS Sub-Industry, Headquarters Location, Date first added, CIK, Founded]\n",
       "Index: []"
      ]
     },
     "execution_count": 71,
     "metadata": {},
     "output_type": "execute_result"
    }
   ],
   "source": [
    "constituents.loc[constituents.Symbol==\"NSM\"]"
   ]
  },
  {
   "cell_type": "code",
   "execution_count": 72,
   "id": "49771f93",
   "metadata": {},
   "outputs": [
    {
     "data": {
      "text/html": [
       "<div>\n",
       "<style scoped>\n",
       "    .dataframe tbody tr th:only-of-type {\n",
       "        vertical-align: middle;\n",
       "    }\n",
       "\n",
       "    .dataframe tbody tr th {\n",
       "        vertical-align: top;\n",
       "    }\n",
       "\n",
       "    .dataframe thead th {\n",
       "        text-align: right;\n",
       "    }\n",
       "</style>\n",
       "<table border=\"1\" class=\"dataframe\">\n",
       "  <thead>\n",
       "    <tr style=\"text-align: right;\">\n",
       "      <th></th>\n",
       "      <th>Date_Date</th>\n",
       "      <th>Added_Ticker</th>\n",
       "      <th>Added_Security</th>\n",
       "      <th>Removed_Ticker</th>\n",
       "      <th>Removed_Security</th>\n",
       "      <th>Reason_Reason</th>\n",
       "    </tr>\n",
       "  </thead>\n",
       "  <tbody>\n",
       "  </tbody>\n",
       "</table>\n",
       "</div>"
      ],
      "text/plain": [
       "Empty DataFrame\n",
       "Columns: [Date_Date, Added_Ticker, Added_Security, Removed_Ticker, Removed_Security, Reason_Reason]\n",
       "Index: []"
      ]
     },
     "execution_count": 72,
     "metadata": {},
     "output_type": "execute_result"
    }
   ],
   "source": [
    "changes.loc[changes.Added_Ticker=='NSM']"
   ]
  },
  {
   "cell_type": "code",
   "execution_count": null,
   "id": "4061f4ec",
   "metadata": {},
   "outputs": [],
   "source": []
  },
  {
   "cell_type": "code",
   "execution_count": null,
   "id": "6da16b53",
   "metadata": {},
   "outputs": [],
   "source": []
  },
  {
   "cell_type": "code",
   "execution_count": 34,
   "id": "1c9fd23c",
   "metadata": {},
   "outputs": [],
   "source": [
    "with open('app/keys/keys.json', 'r') as key_file:\n",
    "    keys = json.load(key_file)\n",
    "    \n",
    "key = keys['alpha_vantage']"
   ]
  },
  {
   "cell_type": "code",
   "execution_count": 145,
   "id": "9fdb1dd0",
   "metadata": {},
   "outputs": [],
   "source": [
    "url = 'https://www.alphavantage.co/query?function=TIME_SERIES_DAILY&symbol={}&apikey={}&outputsize=full'.format(\"SUNE\", key)\n",
    "r = requests.get(url)\n",
    "data2 = r.json()"
   ]
  },
  {
   "cell_type": "code",
   "execution_count": 146,
   "id": "1e2a842f",
   "metadata": {},
   "outputs": [
    {
     "data": {
      "text/plain": [
       "{'1. Information': 'Daily Prices (open, high, low, close) and Volumes',\n",
       " '2. Symbol': 'SUNE',\n",
       " '3. Last Refreshed': '2016-04-21',\n",
       " '4. Output Size': 'Full size',\n",
       " '5. Time Zone': 'US/Eastern'}"
      ]
     },
     "execution_count": 146,
     "metadata": {},
     "output_type": "execute_result"
    }
   ],
   "source": [
    "data2['Meta Data']"
   ]
  },
  {
   "cell_type": "code",
   "execution_count": 148,
   "id": "cb942637",
   "metadata": {},
   "outputs": [
    {
     "data": {
      "text/html": [
       "<div>\n",
       "<style scoped>\n",
       "    .dataframe tbody tr th:only-of-type {\n",
       "        vertical-align: middle;\n",
       "    }\n",
       "\n",
       "    .dataframe tbody tr th {\n",
       "        vertical-align: top;\n",
       "    }\n",
       "\n",
       "    .dataframe thead th {\n",
       "        text-align: right;\n",
       "    }\n",
       "</style>\n",
       "<table border=\"1\" class=\"dataframe\">\n",
       "  <thead>\n",
       "    <tr style=\"text-align: right;\">\n",
       "      <th></th>\n",
       "      <th>2016-04-21</th>\n",
       "      <th>2016-04-20</th>\n",
       "      <th>2016-04-19</th>\n",
       "      <th>2016-04-18</th>\n",
       "      <th>2016-04-15</th>\n",
       "      <th>2016-04-14</th>\n",
       "      <th>2016-04-13</th>\n",
       "      <th>2016-04-12</th>\n",
       "      <th>2016-04-11</th>\n",
       "      <th>2016-04-08</th>\n",
       "      <th>...</th>\n",
       "      <th>1999-11-12</th>\n",
       "      <th>1999-11-11</th>\n",
       "      <th>1999-11-10</th>\n",
       "      <th>1999-11-09</th>\n",
       "      <th>1999-11-08</th>\n",
       "      <th>1999-11-05</th>\n",
       "      <th>1999-11-04</th>\n",
       "      <th>1999-11-03</th>\n",
       "      <th>1999-11-02</th>\n",
       "      <th>1999-11-01</th>\n",
       "    </tr>\n",
       "  </thead>\n",
       "  <tbody>\n",
       "    <tr>\n",
       "      <th>1. open</th>\n",
       "      <td>0.3611</td>\n",
       "      <td>0.3450</td>\n",
       "      <td>0.3202</td>\n",
       "      <td>0.3100</td>\n",
       "      <td>0.4600</td>\n",
       "      <td>0.6000</td>\n",
       "      <td>0.3900</td>\n",
       "      <td>0.4100</td>\n",
       "      <td>0.4070</td>\n",
       "      <td>0.4510</td>\n",
       "      <td>...</td>\n",
       "      <td>14.8100</td>\n",
       "      <td>13.7500</td>\n",
       "      <td>13.0600</td>\n",
       "      <td>12.7500</td>\n",
       "      <td>13.7500</td>\n",
       "      <td>14.2500</td>\n",
       "      <td>14.6200</td>\n",
       "      <td>15.1200</td>\n",
       "      <td>15.0000</td>\n",
       "      <td>14.5600</td>\n",
       "    </tr>\n",
       "    <tr>\n",
       "      <th>2. high</th>\n",
       "      <td>0.3760</td>\n",
       "      <td>0.4100</td>\n",
       "      <td>0.3600</td>\n",
       "      <td>0.3780</td>\n",
       "      <td>0.5400</td>\n",
       "      <td>0.7500</td>\n",
       "      <td>0.3970</td>\n",
       "      <td>0.4302</td>\n",
       "      <td>0.4070</td>\n",
       "      <td>0.4510</td>\n",
       "      <td>...</td>\n",
       "      <td>15.1900</td>\n",
       "      <td>14.5000</td>\n",
       "      <td>13.5600</td>\n",
       "      <td>13.3800</td>\n",
       "      <td>13.9400</td>\n",
       "      <td>14.5000</td>\n",
       "      <td>14.8800</td>\n",
       "      <td>15.1200</td>\n",
       "      <td>15.0000</td>\n",
       "      <td>15.2500</td>\n",
       "    </tr>\n",
       "    <tr>\n",
       "      <th>3. low</th>\n",
       "      <td>0.3300</td>\n",
       "      <td>0.3177</td>\n",
       "      <td>0.3100</td>\n",
       "      <td>0.2700</td>\n",
       "      <td>0.3540</td>\n",
       "      <td>0.5500</td>\n",
       "      <td>0.3600</td>\n",
       "      <td>0.3900</td>\n",
       "      <td>0.3640</td>\n",
       "      <td>0.3505</td>\n",
       "      <td>...</td>\n",
       "      <td>14.5000</td>\n",
       "      <td>13.7500</td>\n",
       "      <td>13.0600</td>\n",
       "      <td>12.7500</td>\n",
       "      <td>13.6200</td>\n",
       "      <td>13.6900</td>\n",
       "      <td>14.0000</td>\n",
       "      <td>14.5000</td>\n",
       "      <td>14.3100</td>\n",
       "      <td>14.2500</td>\n",
       "    </tr>\n",
       "    <tr>\n",
       "      <th>4. close</th>\n",
       "      <td>0.3370</td>\n",
       "      <td>0.3372</td>\n",
       "      <td>0.3155</td>\n",
       "      <td>0.3440</td>\n",
       "      <td>0.3700</td>\n",
       "      <td>0.5851</td>\n",
       "      <td>0.3701</td>\n",
       "      <td>0.4000</td>\n",
       "      <td>0.3927</td>\n",
       "      <td>0.3629</td>\n",
       "      <td>...</td>\n",
       "      <td>14.5600</td>\n",
       "      <td>14.1900</td>\n",
       "      <td>13.5000</td>\n",
       "      <td>13.0000</td>\n",
       "      <td>13.7500</td>\n",
       "      <td>14.5000</td>\n",
       "      <td>14.2500</td>\n",
       "      <td>14.6900</td>\n",
       "      <td>14.8800</td>\n",
       "      <td>15.0600</td>\n",
       "    </tr>\n",
       "    <tr>\n",
       "      <th>5. volume</th>\n",
       "      <td>4537812</td>\n",
       "      <td>69775322</td>\n",
       "      <td>37873620</td>\n",
       "      <td>47288187</td>\n",
       "      <td>135257334</td>\n",
       "      <td>140019513</td>\n",
       "      <td>29794309</td>\n",
       "      <td>40904837</td>\n",
       "      <td>36595947</td>\n",
       "      <td>50473386</td>\n",
       "      <td>...</td>\n",
       "      <td>301900</td>\n",
       "      <td>117500</td>\n",
       "      <td>91100</td>\n",
       "      <td>141000</td>\n",
       "      <td>46500</td>\n",
       "      <td>127000</td>\n",
       "      <td>106500</td>\n",
       "      <td>66300</td>\n",
       "      <td>167900</td>\n",
       "      <td>164700</td>\n",
       "    </tr>\n",
       "  </tbody>\n",
       "</table>\n",
       "<p>5 rows × 4144 columns</p>\n",
       "</div>"
      ],
      "text/plain": [
       "          2016-04-21 2016-04-20 2016-04-19 2016-04-18 2016-04-15 2016-04-14  \\\n",
       "1. open       0.3611     0.3450     0.3202     0.3100     0.4600     0.6000   \n",
       "2. high       0.3760     0.4100     0.3600     0.3780     0.5400     0.7500   \n",
       "3. low        0.3300     0.3177     0.3100     0.2700     0.3540     0.5500   \n",
       "4. close      0.3370     0.3372     0.3155     0.3440     0.3700     0.5851   \n",
       "5. volume    4537812   69775322   37873620   47288187  135257334  140019513   \n",
       "\n",
       "          2016-04-13 2016-04-12 2016-04-11 2016-04-08  ... 1999-11-12  \\\n",
       "1. open       0.3900     0.4100     0.4070     0.4510  ...    14.8100   \n",
       "2. high       0.3970     0.4302     0.4070     0.4510  ...    15.1900   \n",
       "3. low        0.3600     0.3900     0.3640     0.3505  ...    14.5000   \n",
       "4. close      0.3701     0.4000     0.3927     0.3629  ...    14.5600   \n",
       "5. volume   29794309   40904837   36595947   50473386  ...     301900   \n",
       "\n",
       "          1999-11-11 1999-11-10 1999-11-09 1999-11-08 1999-11-05 1999-11-04  \\\n",
       "1. open      13.7500    13.0600    12.7500    13.7500    14.2500    14.6200   \n",
       "2. high      14.5000    13.5600    13.3800    13.9400    14.5000    14.8800   \n",
       "3. low       13.7500    13.0600    12.7500    13.6200    13.6900    14.0000   \n",
       "4. close     14.1900    13.5000    13.0000    13.7500    14.5000    14.2500   \n",
       "5. volume     117500      91100     141000      46500     127000     106500   \n",
       "\n",
       "          1999-11-03 1999-11-02 1999-11-01  \n",
       "1. open      15.1200    15.0000    14.5600  \n",
       "2. high      15.1200    15.0000    15.2500  \n",
       "3. low       14.5000    14.3100    14.2500  \n",
       "4. close     14.6900    14.8800    15.0600  \n",
       "5. volume      66300     167900     164700  \n",
       "\n",
       "[5 rows x 4144 columns]"
      ]
     },
     "execution_count": 148,
     "metadata": {},
     "output_type": "execute_result"
    }
   ],
   "source": [
    "pd.DataFrame(data2['Time Series (Daily)'])"
   ]
  },
  {
   "cell_type": "code",
   "execution_count": 144,
   "id": "2e879b67",
   "metadata": {},
   "outputs": [
    {
     "ename": "RuntimeError",
     "evalue": "ERR#0018: stock sune not found, check if it is correct.",
     "output_type": "error",
     "traceback": [
      "\u001b[0;31m---------------------------------------------------------------------------\u001b[0m",
      "\u001b[0;31mRuntimeError\u001b[0m                              Traceback (most recent call last)",
      "Input \u001b[0;32mIn [144]\u001b[0m, in \u001b[0;36m<cell line: 1>\u001b[0;34m()\u001b[0m\n\u001b[0;32m----> 1\u001b[0m \u001b[43minvestpy\u001b[49m\u001b[38;5;241;43m.\u001b[39;49m\u001b[43mget_stock_company_profile\u001b[49m\u001b[43m(\u001b[49m\u001b[38;5;124;43m\"\u001b[39;49m\u001b[38;5;124;43mSUNE\u001b[39;49m\u001b[38;5;124;43m\"\u001b[39;49m\u001b[43m,\u001b[49m\u001b[43m \u001b[49m\u001b[43mcountry\u001b[49m\u001b[38;5;241;43m=\u001b[39;49m\u001b[38;5;124;43m'\u001b[39;49m\u001b[38;5;124;43munited states\u001b[39;49m\u001b[38;5;124;43m'\u001b[39;49m\u001b[43m)\u001b[49m\n",
      "File \u001b[0;32m~/opt/anaconda3/envs/market/lib/python3.9/site-packages/investpy/stocks.py:871\u001b[0m, in \u001b[0;36mget_stock_company_profile\u001b[0;34m(stock, country, language)\u001b[0m\n\u001b[1;32m    868\u001b[0m stock \u001b[38;5;241m=\u001b[39m unidecode(stock\u001b[38;5;241m.\u001b[39mstrip()\u001b[38;5;241m.\u001b[39mlower())\n\u001b[1;32m    870\u001b[0m \u001b[38;5;28;01mif\u001b[39;00m stock \u001b[38;5;129;01mnot\u001b[39;00m \u001b[38;5;129;01min\u001b[39;00m \u001b[38;5;28mlist\u001b[39m(stocks[\u001b[38;5;124m\"\u001b[39m\u001b[38;5;124msymbol\u001b[39m\u001b[38;5;124m\"\u001b[39m]\u001b[38;5;241m.\u001b[39mapply(unidecode)\u001b[38;5;241m.\u001b[39mstr\u001b[38;5;241m.\u001b[39mlower()):\n\u001b[0;32m--> 871\u001b[0m     \u001b[38;5;28;01mraise\u001b[39;00m \u001b[38;5;167;01mRuntimeError\u001b[39;00m(\n\u001b[1;32m    872\u001b[0m         \u001b[38;5;124m\"\u001b[39m\u001b[38;5;124mERR#0018: stock \u001b[39m\u001b[38;5;124m\"\u001b[39m \u001b[38;5;241m+\u001b[39m stock \u001b[38;5;241m+\u001b[39m \u001b[38;5;124m\"\u001b[39m\u001b[38;5;124m not found, check if it is correct.\u001b[39m\u001b[38;5;124m\"\u001b[39m\n\u001b[1;32m    873\u001b[0m     )\n\u001b[1;32m    875\u001b[0m company_profile \u001b[38;5;241m=\u001b[39m {\u001b[38;5;124m\"\u001b[39m\u001b[38;5;124murl\u001b[39m\u001b[38;5;124m\"\u001b[39m: \u001b[38;5;28;01mNone\u001b[39;00m, \u001b[38;5;124m\"\u001b[39m\u001b[38;5;124mdesc\u001b[39m\u001b[38;5;124m\"\u001b[39m: \u001b[38;5;28;01mNone\u001b[39;00m}\n\u001b[1;32m    877\u001b[0m \u001b[38;5;28;01mif\u001b[39;00m selected_source \u001b[38;5;241m==\u001b[39m \u001b[38;5;124m\"\u001b[39m\u001b[38;5;124mBolsa de Madrid\u001b[39m\u001b[38;5;124m\"\u001b[39m:\n",
      "\u001b[0;31mRuntimeError\u001b[0m: ERR#0018: stock sune not found, check if it is correct."
     ]
    }
   ],
   "source": [
    "investpy.get_stock_company_profile(\"SUNE\", country='united states')"
   ]
  },
  {
   "cell_type": "code",
   "execution_count": 106,
   "id": "17a18620",
   "metadata": {
    "scrolled": true
   },
   "outputs": [
    {
     "ename": "RuntimeError",
     "evalue": "ERR#0018: stock rdc not found, check if it is correct.",
     "output_type": "error",
     "traceback": [
      "\u001b[0;31m---------------------------------------------------------------------------\u001b[0m",
      "\u001b[0;31mRuntimeError\u001b[0m                              Traceback (most recent call last)",
      "Input \u001b[0;32mIn [106]\u001b[0m, in \u001b[0;36m<cell line: 1>\u001b[0;34m()\u001b[0m\n\u001b[0;32m----> 1\u001b[0m data \u001b[38;5;241m=\u001b[39m \u001b[43minvestpy\u001b[49m\u001b[38;5;241;43m.\u001b[39;49m\u001b[43mstocks\u001b[49m\u001b[38;5;241;43m.\u001b[39;49m\u001b[43mget_stock_historical_data\u001b[49m\u001b[43m(\u001b[49m\u001b[43mstock\u001b[49m\u001b[38;5;241;43m=\u001b[39;49m\u001b[38;5;124;43m'\u001b[39;49m\u001b[38;5;124;43mRDC\u001b[39;49m\u001b[38;5;124;43m'\u001b[39;49m\u001b[43m,\u001b[49m\u001b[43m \u001b[49m\u001b[43mcountry\u001b[49m\u001b[38;5;241;43m=\u001b[39;49m\u001b[38;5;124;43m'\u001b[39;49m\u001b[38;5;124;43munited states\u001b[39;49m\u001b[38;5;124;43m'\u001b[39;49m\u001b[43m,\u001b[49m\n\u001b[1;32m      2\u001b[0m \u001b[43m                                                 \u001b[49m\u001b[43mfrom_date\u001b[49m\u001b[38;5;241;43m=\u001b[39;49m\u001b[38;5;124;43m'\u001b[39;49m\u001b[38;5;124;43m01/01/2014\u001b[39;49m\u001b[38;5;124;43m'\u001b[39;49m\u001b[43m,\u001b[49m\u001b[43m \u001b[49m\u001b[43mto_date\u001b[49m\u001b[38;5;241;43m=\u001b[39;49m\u001b[38;5;124;43m'\u001b[39;49m\u001b[38;5;124;43m01/01/2015\u001b[39;49m\u001b[38;5;124;43m'\u001b[39;49m\u001b[43m)\u001b[49m\u001b[38;5;241m.\u001b[39mreset_index()\n",
      "File \u001b[0;32m~/opt/anaconda3/envs/market/lib/python3.9/site-packages/investpy/stocks.py:614\u001b[0m, in \u001b[0;36mget_stock_historical_data\u001b[0;34m(stock, country, from_date, to_date, as_json, order, interval)\u001b[0m\n\u001b[1;32m    611\u001b[0m stock \u001b[38;5;241m=\u001b[39m unidecode(stock\u001b[38;5;241m.\u001b[39mstrip()\u001b[38;5;241m.\u001b[39mlower())\n\u001b[1;32m    613\u001b[0m \u001b[38;5;28;01mif\u001b[39;00m stock \u001b[38;5;129;01mnot\u001b[39;00m \u001b[38;5;129;01min\u001b[39;00m \u001b[38;5;28mlist\u001b[39m(stocks[\u001b[38;5;124m\"\u001b[39m\u001b[38;5;124msymbol\u001b[39m\u001b[38;5;124m\"\u001b[39m]\u001b[38;5;241m.\u001b[39mapply(unidecode)\u001b[38;5;241m.\u001b[39mstr\u001b[38;5;241m.\u001b[39mlower()):\n\u001b[0;32m--> 614\u001b[0m     \u001b[38;5;28;01mraise\u001b[39;00m \u001b[38;5;167;01mRuntimeError\u001b[39;00m(\n\u001b[1;32m    615\u001b[0m         \u001b[38;5;124m\"\u001b[39m\u001b[38;5;124mERR#0018: stock \u001b[39m\u001b[38;5;124m\"\u001b[39m \u001b[38;5;241m+\u001b[39m stock \u001b[38;5;241m+\u001b[39m \u001b[38;5;124m\"\u001b[39m\u001b[38;5;124m not found, check if it is correct.\u001b[39m\u001b[38;5;124m\"\u001b[39m\n\u001b[1;32m    616\u001b[0m     )\n\u001b[1;32m    618\u001b[0m symbol \u001b[38;5;241m=\u001b[39m stocks\u001b[38;5;241m.\u001b[39mloc[\n\u001b[1;32m    619\u001b[0m     (stocks[\u001b[38;5;124m\"\u001b[39m\u001b[38;5;124msymbol\u001b[39m\u001b[38;5;124m\"\u001b[39m]\u001b[38;5;241m.\u001b[39mapply(unidecode)\u001b[38;5;241m.\u001b[39mstr\u001b[38;5;241m.\u001b[39mlower() \u001b[38;5;241m==\u001b[39m stock)\u001b[38;5;241m.\u001b[39midxmax(), \u001b[38;5;124m\"\u001b[39m\u001b[38;5;124msymbol\u001b[39m\u001b[38;5;124m\"\u001b[39m\n\u001b[1;32m    620\u001b[0m ]\n\u001b[1;32m    621\u001b[0m id_ \u001b[38;5;241m=\u001b[39m stocks\u001b[38;5;241m.\u001b[39mloc[\n\u001b[1;32m    622\u001b[0m     (stocks[\u001b[38;5;124m\"\u001b[39m\u001b[38;5;124msymbol\u001b[39m\u001b[38;5;124m\"\u001b[39m]\u001b[38;5;241m.\u001b[39mapply(unidecode)\u001b[38;5;241m.\u001b[39mstr\u001b[38;5;241m.\u001b[39mlower() \u001b[38;5;241m==\u001b[39m stock)\u001b[38;5;241m.\u001b[39midxmax(), \u001b[38;5;124m\"\u001b[39m\u001b[38;5;124mid\u001b[39m\u001b[38;5;124m\"\u001b[39m\n\u001b[1;32m    623\u001b[0m ]\n",
      "\u001b[0;31mRuntimeError\u001b[0m: ERR#0018: stock rdc not found, check if it is correct."
     ]
    }
   ],
   "source": [
    "data = investpy.stocks.get_stock_historical_data(stock='RDC', country='united states',\n",
    "                                                 from_date='01/01/2014', to_date='01/01/2015').reset_index()"
   ]
  },
  {
   "cell_type": "code",
   "execution_count": 77,
   "id": "cc47565e",
   "metadata": {},
   "outputs": [
    {
     "data": {
      "text/html": [
       "<div>\n",
       "<style scoped>\n",
       "    .dataframe tbody tr th:only-of-type {\n",
       "        vertical-align: middle;\n",
       "    }\n",
       "\n",
       "    .dataframe tbody tr th {\n",
       "        vertical-align: top;\n",
       "    }\n",
       "\n",
       "    .dataframe thead th {\n",
       "        text-align: right;\n",
       "    }\n",
       "</style>\n",
       "<table border=\"1\" class=\"dataframe\">\n",
       "  <thead>\n",
       "    <tr style=\"text-align: right;\">\n",
       "      <th></th>\n",
       "      <th>Date</th>\n",
       "      <th>Open</th>\n",
       "      <th>High</th>\n",
       "      <th>Low</th>\n",
       "      <th>Close</th>\n",
       "      <th>Volume</th>\n",
       "      <th>Currency</th>\n",
       "    </tr>\n",
       "  </thead>\n",
       "  <tbody>\n",
       "    <tr>\n",
       "      <th>0</th>\n",
       "      <td>2014-01-02</td>\n",
       "      <td>24.57</td>\n",
       "      <td>24.67</td>\n",
       "      <td>24.12</td>\n",
       "      <td>24.35</td>\n",
       "      <td>415743</td>\n",
       "      <td>USD</td>\n",
       "    </tr>\n",
       "    <tr>\n",
       "      <th>1</th>\n",
       "      <td>2014-01-03</td>\n",
       "      <td>24.37</td>\n",
       "      <td>24.96</td>\n",
       "      <td>24.12</td>\n",
       "      <td>24.20</td>\n",
       "      <td>699402</td>\n",
       "      <td>USD</td>\n",
       "    </tr>\n",
       "    <tr>\n",
       "      <th>2</th>\n",
       "      <td>2014-01-06</td>\n",
       "      <td>24.51</td>\n",
       "      <td>24.64</td>\n",
       "      <td>23.68</td>\n",
       "      <td>23.97</td>\n",
       "      <td>644066</td>\n",
       "      <td>USD</td>\n",
       "    </tr>\n",
       "    <tr>\n",
       "      <th>3</th>\n",
       "      <td>2014-01-07</td>\n",
       "      <td>24.05</td>\n",
       "      <td>24.37</td>\n",
       "      <td>23.55</td>\n",
       "      <td>23.76</td>\n",
       "      <td>942681</td>\n",
       "      <td>USD</td>\n",
       "    </tr>\n",
       "    <tr>\n",
       "      <th>4</th>\n",
       "      <td>2014-01-08</td>\n",
       "      <td>23.71</td>\n",
       "      <td>24.02</td>\n",
       "      <td>23.63</td>\n",
       "      <td>23.96</td>\n",
       "      <td>537299</td>\n",
       "      <td>USD</td>\n",
       "    </tr>\n",
       "    <tr>\n",
       "      <th>...</th>\n",
       "      <td>...</td>\n",
       "      <td>...</td>\n",
       "      <td>...</td>\n",
       "      <td>...</td>\n",
       "      <td>...</td>\n",
       "      <td>...</td>\n",
       "      <td>...</td>\n",
       "    </tr>\n",
       "    <tr>\n",
       "      <th>247</th>\n",
       "      <td>2014-12-24</td>\n",
       "      <td>24.47</td>\n",
       "      <td>24.56</td>\n",
       "      <td>24.02</td>\n",
       "      <td>24.46</td>\n",
       "      <td>95079</td>\n",
       "      <td>USD</td>\n",
       "    </tr>\n",
       "    <tr>\n",
       "      <th>248</th>\n",
       "      <td>2014-12-26</td>\n",
       "      <td>24.47</td>\n",
       "      <td>24.48</td>\n",
       "      <td>24.09</td>\n",
       "      <td>24.23</td>\n",
       "      <td>142224</td>\n",
       "      <td>USD</td>\n",
       "    </tr>\n",
       "    <tr>\n",
       "      <th>249</th>\n",
       "      <td>2014-12-29</td>\n",
       "      <td>24.25</td>\n",
       "      <td>24.65</td>\n",
       "      <td>24.11</td>\n",
       "      <td>24.38</td>\n",
       "      <td>177498</td>\n",
       "      <td>USD</td>\n",
       "    </tr>\n",
       "    <tr>\n",
       "      <th>250</th>\n",
       "      <td>2014-12-30</td>\n",
       "      <td>24.25</td>\n",
       "      <td>24.87</td>\n",
       "      <td>24.06</td>\n",
       "      <td>24.64</td>\n",
       "      <td>172024</td>\n",
       "      <td>USD</td>\n",
       "    </tr>\n",
       "    <tr>\n",
       "      <th>251</th>\n",
       "      <td>2014-12-31</td>\n",
       "      <td>24.70</td>\n",
       "      <td>24.78</td>\n",
       "      <td>24.36</td>\n",
       "      <td>24.50</td>\n",
       "      <td>194470</td>\n",
       "      <td>USD</td>\n",
       "    </tr>\n",
       "  </tbody>\n",
       "</table>\n",
       "<p>252 rows × 7 columns</p>\n",
       "</div>"
      ],
      "text/plain": [
       "          Date   Open   High    Low  Close  Volume Currency\n",
       "0   2014-01-02  24.57  24.67  24.12  24.35  415743      USD\n",
       "1   2014-01-03  24.37  24.96  24.12  24.20  699402      USD\n",
       "2   2014-01-06  24.51  24.64  23.68  23.97  644066      USD\n",
       "3   2014-01-07  24.05  24.37  23.55  23.76  942681      USD\n",
       "4   2014-01-08  23.71  24.02  23.63  23.96  537299      USD\n",
       "..         ...    ...    ...    ...    ...     ...      ...\n",
       "247 2014-12-24  24.47  24.56  24.02  24.46   95079      USD\n",
       "248 2014-12-26  24.47  24.48  24.09  24.23  142224      USD\n",
       "249 2014-12-29  24.25  24.65  24.11  24.38  177498      USD\n",
       "250 2014-12-30  24.25  24.87  24.06  24.64  172024      USD\n",
       "251 2014-12-31  24.70  24.78  24.36  24.50  194470      USD\n",
       "\n",
       "[252 rows x 7 columns]"
      ]
     },
     "execution_count": 77,
     "metadata": {},
     "output_type": "execute_result"
    }
   ],
   "source": [
    "data"
   ]
  },
  {
   "cell_type": "code",
   "execution_count": null,
   "id": "14a637f7",
   "metadata": {},
   "outputs": [],
   "source": []
  },
  {
   "cell_type": "code",
   "execution_count": null,
   "id": "f07d9b63",
   "metadata": {},
   "outputs": [],
   "source": []
  },
  {
   "cell_type": "code",
   "execution_count": null,
   "id": "90b8708f",
   "metadata": {},
   "outputs": [],
   "source": []
  },
  {
   "cell_type": "code",
   "execution_count": null,
   "id": "0a5c0f4b",
   "metadata": {},
   "outputs": [],
   "source": []
  },
  {
   "cell_type": "code",
   "execution_count": null,
   "id": "4536b509",
   "metadata": {},
   "outputs": [],
   "source": []
  },
  {
   "cell_type": "markdown",
   "id": "5a49201c",
   "metadata": {},
   "source": [
    "---"
   ]
  },
  {
   "cell_type": "markdown",
   "id": "43b7b5a9",
   "metadata": {},
   "source": [
    "# TRY3 - combination of existing sp500 list and updates"
   ]
  },
  {
   "cell_type": "code",
   "execution_count": 607,
   "id": "6cbc3651",
   "metadata": {},
   "outputs": [],
   "source": [
    "with open(\"app/helper_files/sp500_constituents.json\", 'r') as file:\n",
    "    reference = json.load(file)"
   ]
  },
  {
   "cell_type": "code",
   "execution_count": 608,
   "id": "b10df4d0",
   "metadata": {},
   "outputs": [
    {
     "name": "stdout",
     "output_type": "stream",
     "text": [
      "this data has 145 changes.\n"
     ]
    }
   ],
   "source": [
    "print(\"this data has {} changes.\".format(len(reference.keys())))"
   ]
  },
  {
   "cell_type": "code",
   "execution_count": 612,
   "id": "2182c7ca",
   "metadata": {},
   "outputs": [],
   "source": [
    "URL_NEW = \"https://en.wikipedia.org/wiki/List_of_S%26P_500_companies\"\n",
    "# the fixed version of the sp500 is\n",
    "# https://en.wikipedia.org/w/index.php?title=List_of_S%26P_500_companies&oldid=1095558369\n",
    "# if the wiki page format changes, some of the codes below might not work.\n",
    "# in that case, use the fixed version of the wiki page\n",
    "page_NEW = requests.get(URL_NEW)\n",
    "\n",
    "soup_NEW = BeautifulSoup(page_NEW.content, \"html.parser\")\n",
    "\n",
    "changes = pd.read_html(str(soup_NEW.find(id='changes')))[0]\n",
    "# concat the multi-headers into single header\n",
    "changes.columns = ['_'.join(i) for i in list(changes.columns)]\n",
    "changes.Date_Date = pd.to_datetime(changes.Date_Date, format=\"%B %d, %Y\")\n",
    "\n",
    "# this is the current list of sp500 companies\n",
    "constituents = pd.read_html(str(soup_NEW.find(id='constituents')))[0]# change date format\n"
   ]
  },
  {
   "cell_type": "code",
   "execution_count": 613,
   "id": "9f672933",
   "metadata": {
    "scrolled": true
   },
   "outputs": [
    {
     "name": "stdout",
     "output_type": "stream",
     "text": [
      "2019-04-02 00:00:00 DOW BHF\n",
      "509\n",
      "2019-06-03 00:00:00 CTVA FLR\n",
      "509\n",
      "2019-06-03 00:00:00 DD DWDP\n",
      "ERROR:2019-06-03 00:00:00. Trying to add DD and remove DWDP\n",
      "list.remove(x): x not in list\n",
      "509\n",
      "2019-06-07 00:00:00 AMCR MAT\n",
      "509\n",
      "2019-07-01 00:00:00 MKTX LLL\n",
      "509\n",
      "2019-07-15 00:00:00 TMUS RHT\n",
      "509\n",
      "2019-08-09 00:00:00 IEX FL\n",
      "509\n",
      "2019-08-09 00:00:00 LDOS APC\n",
      "509\n",
      "2019-09-23 00:00:00 CDW TSS\n",
      "509\n",
      "2019-09-26 00:00:00 NVR JEF\n",
      "ERROR:2019-09-26 00:00:00. Trying to add NVR and remove JEF\n",
      "list.remove(x): x not in list\n",
      "509\n",
      "2019-10-03 00:00:00 LVS NKTR\n",
      "509\n",
      "2019-11-21 00:00:00 NOW CELG\n",
      "509\n",
      "2019-12-05 00:00:00 WRB VIAB\n",
      "509\n",
      "2019-12-09 00:00:00 ODFL STI\n",
      "509\n",
      "2019-12-23 00:00:00 LYV AMG\n",
      "509\n",
      "2019-12-23 00:00:00 STE MAC\n",
      "509\n",
      "2019-12-23 00:00:00 ZBRA TRIP\n",
      "509\n",
      "2020-01-28 00:00:00 PAYC WCG\n",
      "509\n",
      "2020-03-02 00:00:00 IR XEC\n",
      "509\n",
      "2020-04-01 00:00:00 HWM ARNC\n",
      "509\n",
      "2020-04-03 00:00:00 CARR nan\n",
      "510\n",
      "2020-04-03 00:00:00 OTIS nan\n",
      "511\n",
      "2020-04-06 00:00:00 nan RTN\n",
      "510\n",
      "2020-04-06 00:00:00 nan M\n",
      "509\n",
      "2020-05-12 00:00:00 DXCM AGN\n",
      "509\n",
      "2020-05-12 00:00:00 DPZ CPRI\n",
      "ERROR:2020-05-12 00:00:00. Trying to add DPZ and remove CPRI\n",
      "list.remove(x): x not in list\n",
      "509\n",
      "2020-05-22 00:00:00 WST HP\n",
      "509\n",
      "2020-06-22 00:00:00 TYL JWN\n",
      "509\n",
      "2020-06-22 00:00:00 TDY HOG\n",
      "509\n",
      "2020-06-22 00:00:00 BIO ADS\n",
      "509\n",
      "2020-09-21 00:00:00 CTLT KSS\n",
      "509\n",
      "2020-09-21 00:00:00 TER COTY\n",
      "509\n",
      "2020-09-21 00:00:00 ETSY HRB\n",
      "509\n",
      "2020-10-07 00:00:00 POOL ETFC\n",
      "509\n",
      "2020-10-09 00:00:00 VNT nan\n",
      "510\n",
      "2020-10-12 00:00:00 nan NBL\n",
      "509\n",
      "2020-12-21 00:00:00 TSLA AIV\n",
      "509\n",
      "2021-01-07 00:00:00 ENPH TIF\n",
      "509\n",
      "2021-01-21 00:00:00 TRMB CXO\n",
      "509\n",
      "2021-02-12 00:00:00 MPWR FTI\n",
      "509\n",
      "2021-03-22 00:00:00 CZR VNT\n",
      "509\n",
      "2021-03-22 00:00:00 GNRC XRX\n",
      "509\n",
      "2021-03-22 00:00:00 PENN SLG\n",
      "509\n",
      "2021-03-22 00:00:00 NXPI FLS\n",
      "509\n",
      "2021-04-20 00:00:00 PTC VAR\n",
      "509\n",
      "2021-05-14 00:00:00 CRL FLIR\n",
      "509\n",
      "2021-06-03 00:00:00 OGN nan\n",
      "510\n",
      "2021-06-04 00:00:00 nan HFC\n",
      "509\n",
      "2021-07-21 00:00:00 MRNA ALXN\n",
      "509\n",
      "2021-08-30 00:00:00 TECH MXIM\n",
      "509\n",
      "2021-09-20 00:00:00 CDAY UNM\n",
      "509\n",
      "2021-09-20 00:00:00 MTCH PRGO\n",
      "509\n",
      "2021-09-20 00:00:00 BRO NOV\n",
      "509\n",
      "2021-12-14 00:00:00 EPAM KSU\n",
      "509\n",
      "2021-12-20 00:00:00 FDS WU\n",
      "509\n",
      "2021-12-20 00:00:00 SEDG HBI\n",
      "509\n",
      "2021-12-20 00:00:00 SBNY LEG\n",
      "509\n",
      "2022-02-02 00:00:00 CEG nan\n",
      "510\n",
      "2022-02-03 00:00:00 nan GPS\n",
      "509\n",
      "2022-02-15 00:00:00 NDSN XLNX\n",
      "509\n",
      "2022-03-02 00:00:00 MOH INFO\n",
      "509\n",
      "2022-04-04 00:00:00 CPT PBCT\n",
      "509\n",
      "2022-06-08 00:00:00 VICI CERN\n",
      "509\n",
      "2022-06-21 00:00:00 ON IPGP\n",
      "509\n",
      "2022-06-21 00:00:00 KDP UA/UAA\n",
      "ERROR:2022-06-21 00:00:00. Trying to add KDP and remove UA/UAA\n",
      "list.remove(x): x not in list\n",
      "509\n"
     ]
    }
   ],
   "source": [
    "construct = reference['2019/02/27']\n",
    "\n",
    "changes_recent = changes.loc[changes.Date_Date > '2019-02-28']\n",
    "changes_recent = changes_recent.sort_values(by='Date_Date')\n",
    "current = constituents.Symbol.tolist()\n",
    "\n",
    "for i, (d, new, _, old, _, _) in changes_recent.iterrows():\n",
    "    \n",
    "    print(d, new, old)\n",
    "\n",
    "    try:\n",
    "        construct = update_sp500_list(construct, new, old)\n",
    "    except Exception as e:\n",
    "        print(\"ERROR:{}. Trying to add {} and remove {}\".format(d, new, old))\n",
    "        print(e)\n",
    "        \n",
    "#         break\n",
    "    print(len(construct))"
   ]
  },
  {
   "cell_type": "code",
   "execution_count": null,
   "id": "1233610f",
   "metadata": {},
   "outputs": [],
   "source": []
  },
  {
   "cell_type": "code",
   "execution_count": null,
   "id": "d56365aa",
   "metadata": {},
   "outputs": [],
   "source": []
  },
  {
   "cell_type": "code",
   "execution_count": null,
   "id": "a991a1a1",
   "metadata": {},
   "outputs": [],
   "source": []
  },
  {
   "cell_type": "code",
   "execution_count": null,
   "id": "6fa46731",
   "metadata": {},
   "outputs": [],
   "source": []
  }
 ],
 "metadata": {
  "kernelspec": {
   "display_name": "Python [conda env:market] *",
   "language": "python",
   "name": "conda-env-market-py"
  },
  "language_info": {
   "codemirror_mode": {
    "name": "ipython",
    "version": 3
   },
   "file_extension": ".py",
   "mimetype": "text/x-python",
   "name": "python",
   "nbconvert_exporter": "python",
   "pygments_lexer": "ipython3",
   "version": "3.9.12"
  }
 },
 "nbformat": 4,
 "nbformat_minor": 5
}
