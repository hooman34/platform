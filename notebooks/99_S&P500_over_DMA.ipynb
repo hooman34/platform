{
 "cells": [
  {
   "cell_type": "code",
   "execution_count": 1,
   "id": "ea5fc73e-8ce0-4489-bbf8-eec33ae4c01b",
   "metadata": {},
   "outputs": [],
   "source": [
    "import os\n",
    "\n",
    "path_parent = os.path.dirname(os.getcwd())\n",
    "os.chdir(path_parent)"
   ]
  },
  {
   "cell_type": "code",
   "execution_count": 2,
   "id": "961275b6-911a-4a87-a632-53eac68d1161",
   "metadata": {},
   "outputs": [],
   "source": [
    "import numpy as np\n",
    "import pandas as pd\n",
    "import time\n",
    "import investpy\n",
    "from fredapi import Fred\n",
    "import json\n",
    "from matplotlib import pyplot as plt\n",
    "import quandl\n",
    "from tqdm.notebook import tqdm\n",
    "from datetime import date\n",
    "import random\n",
    "import requests\n",
    "from bs4 import BeautifulSoup\n",
    "from app.utils.fetch_data import investing_api, alpha_vantage_api\n",
    "from app.utils.visualization import _plot_data"
   ]
  },
  {
   "cell_type": "markdown",
   "id": "3b3c3200-df8b-4b77-a272-1607010a42c8",
   "metadata": {},
   "source": [
    "## We want to visualize the number of stocks that is over the Displayed moving average"
   ]
  },
  {
   "cell_type": "markdown",
   "id": "639cbdcb",
   "metadata": {},
   "source": [
    "### Paid options\n",
    "- https://site.financialmodelingprep.com/developer/docs/historical-sp-500-companies-api/\n"
   ]
  },
  {
   "cell_type": "markdown",
   "id": "5a4736fc",
   "metadata": {},
   "source": [
    "### 1. List of SP500 companies in the past\n",
    "SP500 list from 2007 March 6. <br>\n",
    "The wiki link used below is a static link, and it is an old version of the SP500 wikipage. <br>"
   ]
  },
  {
   "cell_type": "markdown",
   "id": "47508aa2",
   "metadata": {},
   "source": [
    "# TRY1 - Wiki\n",
    "Wiki page changes drastically, and thus hard to identify the S&P500 conposition change"
   ]
  },
  {
   "cell_type": "code",
   "execution_count": 469,
   "id": "aaa8193e",
   "metadata": {},
   "outputs": [],
   "source": [
    "without = requests.get(\"https://en.wikipedia.org/w/index.php?title=List_of_S%26P_500_companies&oldid=183114956\")\n",
    "without = BeautifulSoup(without.content, \"html.parser\")\n",
    "\n",
    "tables_OLD = without.find_all(\"table\", class_=\"wikitable\")\n",
    "table_OLD = tables_OLD[0]\n",
    "# convert html format table into pandas dataframe\n",
    "without = pd.read_html(str(table_OLD))[0]"
   ]
  },
  {
   "cell_type": "code",
   "execution_count": 323,
   "id": "2523468d",
   "metadata": {},
   "outputs": [],
   "source": [
    "w = requests.get(\"https://en.wikipedia.org/w/index.php?title=List_of_S%26P_500_companies&oldid=186180303\")\n",
    "w = BeautifulSoup(w.content, \"html.parser\")\n",
    "\n",
    "tables_OLD = w.find_all(\"table\", class_=\"wikitable\")\n",
    "table_OLD = tables_OLD[0]\n",
    "# convert html format table into pandas dataframe\n",
    "w = pd.read_html(str(table_OLD))[0]"
   ]
  },
  {
   "cell_type": "code",
   "execution_count": 326,
   "id": "7d7c4b90",
   "metadata": {},
   "outputs": [
    {
     "data": {
      "text/html": [
       "<div>\n",
       "<style scoped>\n",
       "    .dataframe tbody tr th:only-of-type {\n",
       "        vertical-align: middle;\n",
       "    }\n",
       "\n",
       "    .dataframe tbody tr th {\n",
       "        vertical-align: top;\n",
       "    }\n",
       "\n",
       "    .dataframe thead th {\n",
       "        text-align: right;\n",
       "    }\n",
       "</style>\n",
       "<table border=\"1\" class=\"dataframe\">\n",
       "  <thead>\n",
       "    <tr style=\"text-align: right;\">\n",
       "      <th></th>\n",
       "      <th>Ticker symbol</th>\n",
       "      <th>Company</th>\n",
       "      <th>SEC filings</th>\n",
       "      <th>GICS Sector</th>\n",
       "    </tr>\n",
       "  </thead>\n",
       "  <tbody>\n",
       "    <tr>\n",
       "      <th>0</th>\n",
       "      <td>MMM</td>\n",
       "      <td>3M Company</td>\n",
       "      <td>reports</td>\n",
       "      <td>Industrials</td>\n",
       "    </tr>\n",
       "    <tr>\n",
       "      <th>1</th>\n",
       "      <td>ABT</td>\n",
       "      <td>Abbott Labs</td>\n",
       "      <td>reports</td>\n",
       "      <td>Health Care</td>\n",
       "    </tr>\n",
       "    <tr>\n",
       "      <th>2</th>\n",
       "      <td>ANF</td>\n",
       "      <td>Abercrombie &amp; Fitch Co.</td>\n",
       "      <td>reports</td>\n",
       "      <td>Consumer Discretionary</td>\n",
       "    </tr>\n",
       "    <tr>\n",
       "      <th>3</th>\n",
       "      <td>ACE</td>\n",
       "      <td>ACE Limited</td>\n",
       "      <td>reports</td>\n",
       "      <td>Financials</td>\n",
       "    </tr>\n",
       "    <tr>\n",
       "      <th>4</th>\n",
       "      <td>ADBE</td>\n",
       "      <td>Adobe Systems</td>\n",
       "      <td>reports</td>\n",
       "      <td>Information Technology</td>\n",
       "    </tr>\n",
       "    <tr>\n",
       "      <th>...</th>\n",
       "      <td>...</td>\n",
       "      <td>...</td>\n",
       "      <td>...</td>\n",
       "      <td>...</td>\n",
       "    </tr>\n",
       "    <tr>\n",
       "      <th>495</th>\n",
       "      <td>XTO</td>\n",
       "      <td>XTO Energy Inc.</td>\n",
       "      <td>reports</td>\n",
       "      <td>Energy</td>\n",
       "    </tr>\n",
       "    <tr>\n",
       "      <th>496</th>\n",
       "      <td>YHOO</td>\n",
       "      <td>Yahoo Inc.</td>\n",
       "      <td>reports</td>\n",
       "      <td>Information Technology</td>\n",
       "    </tr>\n",
       "    <tr>\n",
       "      <th>497</th>\n",
       "      <td>YUM</td>\n",
       "      <td>Yum! Brands Inc</td>\n",
       "      <td>reports</td>\n",
       "      <td>Consumer Discretionary</td>\n",
       "    </tr>\n",
       "    <tr>\n",
       "      <th>498</th>\n",
       "      <td>ZMH</td>\n",
       "      <td>Zimmer Holdings</td>\n",
       "      <td>reports</td>\n",
       "      <td>Health Care</td>\n",
       "    </tr>\n",
       "    <tr>\n",
       "      <th>499</th>\n",
       "      <td>ZION</td>\n",
       "      <td>Zions Bancorp</td>\n",
       "      <td>reports</td>\n",
       "      <td>Financials</td>\n",
       "    </tr>\n",
       "  </tbody>\n",
       "</table>\n",
       "<p>500 rows × 4 columns</p>\n",
       "</div>"
      ],
      "text/plain": [
       "    Ticker symbol                  Company SEC filings             GICS Sector\n",
       "0             MMM               3M Company     reports             Industrials\n",
       "1             ABT              Abbott Labs     reports             Health Care\n",
       "2             ANF  Abercrombie & Fitch Co.     reports  Consumer Discretionary\n",
       "3             ACE              ACE Limited     reports              Financials\n",
       "4            ADBE            Adobe Systems     reports  Information Technology\n",
       "..            ...                      ...         ...                     ...\n",
       "495           XTO          XTO Energy Inc.     reports                  Energy\n",
       "496          YHOO               Yahoo Inc.     reports  Information Technology\n",
       "497           YUM          Yum! Brands Inc     reports  Consumer Discretionary\n",
       "498           ZMH          Zimmer Holdings     reports             Health Care\n",
       "499          ZION            Zions Bancorp     reports              Financials\n",
       "\n",
       "[500 rows x 4 columns]"
      ]
     },
     "execution_count": 326,
     "metadata": {},
     "output_type": "execute_result"
    }
   ],
   "source": [
    "w"
   ]
  },
  {
   "cell_type": "code",
   "execution_count": 327,
   "id": "94a67f01",
   "metadata": {
    "scrolled": true
   },
   "outputs": [
    {
     "data": {
      "text/plain": [
       "{'ACAS',\n",
       " 'AKAM',\n",
       " 'ANF',\n",
       " 'COV',\n",
       " 'DDR',\n",
       " 'DFS',\n",
       " 'EXPD',\n",
       " 'EXPE',\n",
       " 'GGP',\n",
       " 'GME',\n",
       " 'HST',\n",
       " 'ICE',\n",
       " 'JEC',\n",
       " 'KFT',\n",
       " 'LUK',\n",
       " 'MTW',\n",
       " 'NBL',\n",
       " 'NYX',\n",
       " 'POM',\n",
       " 'RRC',\n",
       " 'TDC',\n",
       " 'TEL',\n",
       " 'TIE',\n",
       " 'TSO',\n",
       " 'TSS',\n",
       " 'WFR',\n",
       " 'WPO'}"
      ]
     },
     "execution_count": 327,
     "metadata": {},
     "output_type": "execute_result"
    }
   ],
   "source": [
    "set(w['Ticker symbol'].tolist()) - set(without['Ticker symbol'].tolist())"
   ]
  },
  {
   "cell_type": "code",
   "execution_count": 328,
   "id": "67921ecb",
   "metadata": {
    "scrolled": true
   },
   "outputs": [
    {
     "data": {
      "text/plain": [
       "{'ADCT',\n",
       " 'ASN',\n",
       " 'AV',\n",
       " 'BMET',\n",
       " 'BOL',\n",
       " 'DG',\n",
       " 'DJ',\n",
       " 'FDC',\n",
       " 'HCR',\n",
       " 'HLT',\n",
       " 'KMI',\n",
       " 'KSE',\n",
       " 'MEL',\n",
       " 'MXIM',\n",
       " 'NCR',\n",
       " 'PD',\n",
       " 'SANM',\n",
       " 'SLR',\n",
       " 'SNV',\n",
       " 'TEK',\n",
       " 'TIN',\n",
       " 'TRB',\n",
       " 'TSG',\n",
       " 'TXU',\n",
       " 'UVN'}"
      ]
     },
     "execution_count": 328,
     "metadata": {},
     "output_type": "execute_result"
    }
   ],
   "source": [
    "set(without['Ticker symbol'].tolist()) - set(w['Ticker symbol'].tolist())"
   ]
  },
  {
   "cell_type": "markdown",
   "id": "6dd30774",
   "metadata": {},
   "source": [
    "---"
   ]
  },
  {
   "cell_type": "markdown",
   "id": "732763cf",
   "metadata": {},
   "source": [
    "# TRY2 - Use most recent wiki page and the changes mentioned"
   ]
  },
  {
   "cell_type": "code",
   "execution_count": 3,
   "id": "69b4ed40",
   "metadata": {},
   "outputs": [],
   "source": [
    "URL_OLD = \"https://en.wikipedia.org/w/index.php?title=List_of_S%26P_500_companies&direction=next&oldid=112162478\"\n",
    "page_OLD = requests.get(URL_OLD)\n",
    "\n",
    "soup_OLD = BeautifulSoup(page_OLD.content, \"html.parser\")"
   ]
  },
  {
   "cell_type": "code",
   "execution_count": 4,
   "id": "5b83f2e6",
   "metadata": {},
   "outputs": [],
   "source": [
    "tables_OLD = soup_OLD.find_all(\"table\", class_=\"wikitable\")\n",
    "table_OLD = tables_OLD[0]\n",
    "# convert html format table into pandas dataframe\n",
    "sp500_2007 = pd.read_html(str(table_OLD))[0]"
   ]
  },
  {
   "cell_type": "code",
   "execution_count": 5,
   "id": "078a4ef6",
   "metadata": {},
   "outputs": [
    {
     "data": {
      "text/html": [
       "<div>\n",
       "<style scoped>\n",
       "    .dataframe tbody tr th:only-of-type {\n",
       "        vertical-align: middle;\n",
       "    }\n",
       "\n",
       "    .dataframe tbody tr th {\n",
       "        vertical-align: top;\n",
       "    }\n",
       "\n",
       "    .dataframe thead th {\n",
       "        text-align: right;\n",
       "    }\n",
       "</style>\n",
       "<table border=\"1\" class=\"dataframe\">\n",
       "  <thead>\n",
       "    <tr style=\"text-align: right;\">\n",
       "      <th></th>\n",
       "      <th>Company</th>\n",
       "      <th>Ticker symbol</th>\n",
       "      <th>SEC filings</th>\n",
       "      <th>Industry</th>\n",
       "    </tr>\n",
       "  </thead>\n",
       "  <tbody>\n",
       "    <tr>\n",
       "      <th>0</th>\n",
       "      <td>3M Company</td>\n",
       "      <td>MMM</td>\n",
       "      <td>reports</td>\n",
       "      <td>Industrial Conglomerates</td>\n",
       "    </tr>\n",
       "    <tr>\n",
       "      <th>1</th>\n",
       "      <td>ACE Limited</td>\n",
       "      <td>ACE</td>\n",
       "      <td>reports</td>\n",
       "      <td>Property &amp; Casualty Insurance</td>\n",
       "    </tr>\n",
       "  </tbody>\n",
       "</table>\n",
       "</div>"
      ],
      "text/plain": [
       "       Company Ticker symbol SEC filings                       Industry\n",
       "0   3M Company           MMM     reports       Industrial Conglomerates\n",
       "1  ACE Limited           ACE     reports  Property & Casualty Insurance"
      ]
     },
     "execution_count": 5,
     "metadata": {},
     "output_type": "execute_result"
    }
   ],
   "source": [
    "sp500_2007.head(2)"
   ]
  },
  {
   "cell_type": "markdown",
   "id": "1423e82a",
   "metadata": {},
   "source": [
    "### Apply the changes of SP500 company list, and construct the sp500 list for each date"
   ]
  },
  {
   "cell_type": "code",
   "execution_count": 6,
   "id": "0918e285",
   "metadata": {},
   "outputs": [],
   "source": [
    "URL_NEW = \"https://en.wikipedia.org/wiki/List_of_S%26P_500_companies\"\n",
    "# the fixed version of the sp500 is\n",
    "# https://en.wikipedia.org/w/index.php?title=List_of_S%26P_500_companies&oldid=1095558369\n",
    "# if the wiki page format changes, some of the codes below might not work.\n",
    "# in that case, use the fixed version of the wiki page\n",
    "page_NEW = requests.get(URL_NEW)\n",
    "\n",
    "soup_NEW = BeautifulSoup(page_NEW.content, \"html.parser\")"
   ]
  },
  {
   "cell_type": "code",
   "execution_count": 7,
   "id": "6190ea59",
   "metadata": {},
   "outputs": [],
   "source": [
    "changes = pd.read_html(str(soup_NEW.find(id='changes')))[0]\n",
    "# concat the multi-headers into single header\n",
    "changes.columns = ['_'.join(i) for i in list(changes.columns)]\n",
    "# this is the current list of sp500 companies\n",
    "constituents = pd.read_html(str(soup_NEW.find(id='constituents')))[0]"
   ]
  },
  {
   "cell_type": "code",
   "execution_count": 8,
   "id": "5f01a1ea",
   "metadata": {},
   "outputs": [
    {
     "data": {
      "text/html": [
       "<div>\n",
       "<style scoped>\n",
       "    .dataframe tbody tr th:only-of-type {\n",
       "        vertical-align: middle;\n",
       "    }\n",
       "\n",
       "    .dataframe tbody tr th {\n",
       "        vertical-align: top;\n",
       "    }\n",
       "\n",
       "    .dataframe thead th {\n",
       "        text-align: right;\n",
       "    }\n",
       "</style>\n",
       "<table border=\"1\" class=\"dataframe\">\n",
       "  <thead>\n",
       "    <tr style=\"text-align: right;\">\n",
       "      <th></th>\n",
       "      <th>Date_Date</th>\n",
       "      <th>Added_Ticker</th>\n",
       "      <th>Added_Security</th>\n",
       "      <th>Removed_Ticker</th>\n",
       "      <th>Removed_Security</th>\n",
       "      <th>Reason_Reason</th>\n",
       "    </tr>\n",
       "  </thead>\n",
       "  <tbody>\n",
       "    <tr>\n",
       "      <th>0</th>\n",
       "      <td>June 21, 2022</td>\n",
       "      <td>KDP</td>\n",
       "      <td>Keurig Dr Pepper</td>\n",
       "      <td>UA/UAA</td>\n",
       "      <td>Under Armour</td>\n",
       "      <td>Market capitalization change.[5]</td>\n",
       "    </tr>\n",
       "    <tr>\n",
       "      <th>1</th>\n",
       "      <td>June 21, 2022</td>\n",
       "      <td>ON</td>\n",
       "      <td>ON Semiconductor</td>\n",
       "      <td>IPGP</td>\n",
       "      <td>IPG Photonics</td>\n",
       "      <td>Market capitalization change.[5]</td>\n",
       "    </tr>\n",
       "  </tbody>\n",
       "</table>\n",
       "</div>"
      ],
      "text/plain": [
       "       Date_Date Added_Ticker    Added_Security Removed_Ticker  \\\n",
       "0  June 21, 2022          KDP  Keurig Dr Pepper         UA/UAA   \n",
       "1  June 21, 2022           ON  ON Semiconductor           IPGP   \n",
       "\n",
       "  Removed_Security                     Reason_Reason  \n",
       "0     Under Armour  Market capitalization change.[5]  \n",
       "1    IPG Photonics  Market capitalization change.[5]  "
      ]
     },
     "execution_count": 8,
     "metadata": {},
     "output_type": "execute_result"
    }
   ],
   "source": [
    "changes.head(2)"
   ]
  },
  {
   "cell_type": "code",
   "execution_count": 9,
   "id": "b0897d81",
   "metadata": {},
   "outputs": [
    {
     "data": {
      "text/html": [
       "<div>\n",
       "<style scoped>\n",
       "    .dataframe tbody tr th:only-of-type {\n",
       "        vertical-align: middle;\n",
       "    }\n",
       "\n",
       "    .dataframe tbody tr th {\n",
       "        vertical-align: top;\n",
       "    }\n",
       "\n",
       "    .dataframe thead th {\n",
       "        text-align: right;\n",
       "    }\n",
       "</style>\n",
       "<table border=\"1\" class=\"dataframe\">\n",
       "  <thead>\n",
       "    <tr style=\"text-align: right;\">\n",
       "      <th></th>\n",
       "      <th>Symbol</th>\n",
       "      <th>Security</th>\n",
       "      <th>SEC filings</th>\n",
       "      <th>GICS Sector</th>\n",
       "      <th>GICS Sub-Industry</th>\n",
       "      <th>Headquarters Location</th>\n",
       "      <th>Date first added</th>\n",
       "      <th>CIK</th>\n",
       "      <th>Founded</th>\n",
       "    </tr>\n",
       "  </thead>\n",
       "  <tbody>\n",
       "    <tr>\n",
       "      <th>0</th>\n",
       "      <td>MMM</td>\n",
       "      <td>3M</td>\n",
       "      <td>reports</td>\n",
       "      <td>Industrials</td>\n",
       "      <td>Industrial Conglomerates</td>\n",
       "      <td>Saint Paul, Minnesota</td>\n",
       "      <td>1976-08-09</td>\n",
       "      <td>66740</td>\n",
       "      <td>1902</td>\n",
       "    </tr>\n",
       "    <tr>\n",
       "      <th>1</th>\n",
       "      <td>AOS</td>\n",
       "      <td>A. O. Smith</td>\n",
       "      <td>reports</td>\n",
       "      <td>Industrials</td>\n",
       "      <td>Building Products</td>\n",
       "      <td>Milwaukee, Wisconsin</td>\n",
       "      <td>2017-07-26</td>\n",
       "      <td>91142</td>\n",
       "      <td>1916</td>\n",
       "    </tr>\n",
       "  </tbody>\n",
       "</table>\n",
       "</div>"
      ],
      "text/plain": [
       "  Symbol     Security SEC filings  GICS Sector         GICS Sub-Industry  \\\n",
       "0    MMM           3M     reports  Industrials  Industrial Conglomerates   \n",
       "1    AOS  A. O. Smith     reports  Industrials         Building Products   \n",
       "\n",
       "   Headquarters Location Date first added    CIK Founded  \n",
       "0  Saint Paul, Minnesota       1976-08-09  66740    1902  \n",
       "1   Milwaukee, Wisconsin       2017-07-26  91142    1916  "
      ]
     },
     "execution_count": 9,
     "metadata": {},
     "output_type": "execute_result"
    }
   ],
   "source": [
    "constituents.head(2)"
   ]
  },
  {
   "cell_type": "markdown",
   "id": "f62fb1fb",
   "metadata": {},
   "source": [
    "preprocessing `changes` dataframe"
   ]
  },
  {
   "cell_type": "code",
   "execution_count": 10,
   "id": "7c91f864",
   "metadata": {},
   "outputs": [],
   "source": [
    "# change date format\n",
    "changes.Date_Date = pd.to_datetime(changes.Date_Date, format=\"%B %d, %Y\")\n",
    "changes = changes.loc[changes.Date_Date >= '2000-01-01']"
   ]
  },
  {
   "cell_type": "code",
   "execution_count": 11,
   "id": "8f35a599",
   "metadata": {},
   "outputs": [
    {
     "name": "stdout",
     "output_type": "stream",
     "text": [
      "There are 300 changes starting from 2000-06-07 00:00:00 until 2022-06-21 00:00:00\n"
     ]
    }
   ],
   "source": [
    "print(\"There are {} changes starting from {} until {}\".format(changes.shape[0], \n",
    "                                                              changes.Date_Date.min(), \n",
    "                                                              changes.Date_Date.max()))"
   ]
  },
  {
   "cell_type": "markdown",
   "id": "1c790dfe",
   "metadata": {},
   "source": [
    "go through the changes"
   ]
  },
  {
   "cell_type": "code",
   "execution_count": 12,
   "id": "561a0420",
   "metadata": {},
   "outputs": [],
   "source": [
    "def update_change_data(change_df, new_line, ascending=True):\n",
    "    \"\"\"\n",
    "    update the dataset that has historical changes of s&p500 list\n",
    "    the new_line should have the same length as the column list\n",
    "    \"\"\"\n",
    "    assert len(new_line)==change_df.shape[1]\n",
    "    new_line = pd.DataFrame(new_line)\n",
    "    new_line.Date_Date = pd.to_datetime(new_line.Date_Date, format=\"%Y-%m-%d\")\n",
    "    new_line = new_line.replace('', np.nan)\n",
    "    \n",
    "    change_df = pd.concat([change_df, new_line], ignore_index = True)\n",
    "    change_df = change_df.sort_values(by=\"Date_Date\", ascending=ascending)\n",
    "    change_df.reset_index(inplace=True, drop=True)\n",
    "    return change_df\n",
    "\n",
    "def update_sp500_list(ls, add_ticker, remove_ticker):\n",
    "    \"\"\"\n",
    "    update the sp500 list\n",
    "    \"\"\"\n",
    "    if not pd.isna(remove_ticker):\n",
    "        ls.remove(remove_ticker)\n",
    "    if not pd.isna(add_ticker):\n",
    "        ls.append(add_ticker)\n",
    "    return ls\n",
    "\n",
    "def update_ticker_names(df, old_ticker_compay, old_ticker, new_ticker, ticker_column='Added_Ticker'):\n",
    "    df.loc[df['Added_Security']==old_ticker_compay, ticker_column] = df.loc[df['Added_Security']==old_ticker_compay].replace(old_ticker, new_ticker)\n",
    "    return df  \n"
   ]
  },
  {
   "cell_type": "markdown",
   "id": "709d12bb",
   "metadata": {},
   "source": [
    "- The `S&P500 composition changes` are based on the old tickers\n",
    "- Thus, the ticker change will not be reflected on the `S&P500 composition changes`, but only on the final list of S&P500 list\n",
    "- The data can be called via apis, using the latest ticker\n",
    "- Thus, need to update the tickers to the latest names"
   ]
  },
  {
   "cell_type": "code",
   "execution_count": 13,
   "id": "1ebd3b18",
   "metadata": {
    "scrolled": false
   },
   "outputs": [],
   "source": [
    "# need to make some adjustments to the 'changes' dataset\n",
    "\n",
    "# UAA\n",
    "changes.Removed_Ticker = changes.Removed_Ticker.str.replace(\"UA/UAA\", \"UA\")\n",
    "UAA_change = {\n",
    "        \"Date_Date\":[\"2022-06-21\"], \n",
    "        \"Added_Ticker\":'',\n",
    "        \"Added_Security\":'',\n",
    "        \"Removed_Ticker\":'UAA',\n",
    "        \"Removed_Security\":'Under Armour',\n",
    "        \"Reason_Reason\":'Market capitalization change.[5]'\n",
    "    }\n",
    "changes = update_change_data(changes, UAA_change, False)\n",
    "\n",
    "adjustments = [\n",
    "    ['QuintilesIMS', 'Q', 'IQV'],\n",
    "    ['Willis Towers Watson', 'WLTW', 'WTW'],\n",
    "    ['Discovery Communications', 'DISCK', 'WBD'],\n",
    "    ['Facebook', 'FB', 'META'],\n",
    "    ['Michael Kors', 'KORS', 'CPRI'],\n",
    "    ['Delphi Automotive', 'DLPH', 'APTV'],\n",
    "    ['Ingersoll-Rand', 'IR', 'TT'],\n",
    "    ['Priceline.com', 'PCLN', 'BKNG'],\n",
    "    ['Harris Corporation', 'HRS', 'LHX'],\n",
    "    ['Cabot Oil & Gas', 'COG', 'CTRA'],\n",
    "    ['Jacobs Engineering Group', 'JEC', 'J'],\n",
    "    ['Tesoro Corporation', 'TSO', 'ANDV'],\n",
    "    ['Leucadia National', 'LUK', 'JEF'],\n",
    "    ['Kraft Foods', 'KFT', 'MDLZ'],\n",
    "    ['Countrywide Credit Industries', 'CFC', 'MDLZ']\n",
    "]\n",
    "\n",
    "for (old_ticker_compay, old_ticker, new_ticker) in adjustments:\n",
    "    changes = update_ticker_names(changes, old_ticker_compay, old_ticker, new_ticker, ticker_column='Added_Ticker')"
   ]
  },
  {
   "cell_type": "code",
   "execution_count": 14,
   "id": "320dd47f",
   "metadata": {
    "scrolled": true
   },
   "outputs": [],
   "source": [
    "# initial sp500 list\n",
    "sp500 = dict()\n",
    "sp500[str(date.today())] = [constituents.Symbol.tolist()]\n",
    "\n",
    "# update the list and add them to the sp500 dictionary\n",
    "# we will go backwards\n",
    "sp500_list = constituents.Symbol.tolist()\n",
    "\n",
    "# print(\"First\")\n",
    "# print(len(set(sp500_list)))\n",
    "\n",
    "for i, (d, new, _, old, _, _) in changes.iterrows():\n",
    "    \n",
    "    try:\n",
    "        sp500_list = update_sp500_list(sp500_list, old, new)\n",
    "        sp500[str(d).split(' ')[0]] = [sp500_list.copy()]\n",
    "        \n",
    "#         print(str(d).split(' ')[0])\n",
    "#         print(len(set(sp500[str(d).split(' ')[0]][0])))\n",
    "    \n",
    "    except Exception as e:\n",
    "        print(\"ERROR:{}. Trying to add {} and remove {}\".format(d, old, new))\n",
    "        print(e)\n",
    "        \n",
    "        break\n",
    "        \n",
    "#     print(\"LENGTH of 2022 06 21 : \", len(sp500['2022-06-21'][0]))\n",
    "# #     if  != 503:\n",
    "# #         print(old, new)"
   ]
  },
  {
   "cell_type": "code",
   "execution_count": 15,
   "id": "3a8f196e",
   "metadata": {
    "scrolled": true
   },
   "outputs": [],
   "source": [
    "sp500 = pd.DataFrame(sp500).T\n",
    "sp500.reset_index(inplace=True)\n",
    "sp500.columns = ['date', 'tickers']\n",
    "sp500['date'] = pd.to_datetime(sp500['date'])"
   ]
  },
  {
   "cell_type": "code",
   "execution_count": 16,
   "id": "126cc9ae",
   "metadata": {},
   "outputs": [
    {
     "name": "stdout",
     "output_type": "stream",
     "text": [
      "History of S&P500 ticker list is updated from 2000-06-07 00:00:00 to 2022-07-08 00:00:00\n"
     ]
    }
   ],
   "source": [
    "print(\"History of S&P500 ticker list is updated from {} to {}\".format(sp500.date.min(), sp500.date.max()))"
   ]
  },
  {
   "cell_type": "code",
   "execution_count": 17,
   "id": "d29f2b0c",
   "metadata": {},
   "outputs": [
    {
     "data": {
      "text/html": [
       "<div>\n",
       "<style scoped>\n",
       "    .dataframe tbody tr th:only-of-type {\n",
       "        vertical-align: middle;\n",
       "    }\n",
       "\n",
       "    .dataframe tbody tr th {\n",
       "        vertical-align: top;\n",
       "    }\n",
       "\n",
       "    .dataframe thead th {\n",
       "        text-align: right;\n",
       "    }\n",
       "</style>\n",
       "<table border=\"1\" class=\"dataframe\">\n",
       "  <thead>\n",
       "    <tr style=\"text-align: right;\">\n",
       "      <th></th>\n",
       "      <th>date</th>\n",
       "      <th>tickers</th>\n",
       "    </tr>\n",
       "  </thead>\n",
       "  <tbody>\n",
       "    <tr>\n",
       "      <th>0</th>\n",
       "      <td>2022-07-08</td>\n",
       "      <td>[MMM, AOS, ABT, ABBV, ABMD, ACN, ATVI, ADM, AD...</td>\n",
       "    </tr>\n",
       "    <tr>\n",
       "      <th>1</th>\n",
       "      <td>2022-06-21</td>\n",
       "      <td>[MMM, AOS, ABT, ABBV, ABMD, ACN, ATVI, ADM, AD...</td>\n",
       "    </tr>\n",
       "  </tbody>\n",
       "</table>\n",
       "</div>"
      ],
      "text/plain": [
       "        date                                            tickers\n",
       "0 2022-07-08  [MMM, AOS, ABT, ABBV, ABMD, ACN, ATVI, ADM, AD...\n",
       "1 2022-06-21  [MMM, AOS, ABT, ABBV, ABMD, ACN, ATVI, ADM, AD..."
      ]
     },
     "execution_count": 17,
     "metadata": {},
     "output_type": "execute_result"
    }
   ],
   "source": [
    "sp500.head(2)"
   ]
  },
  {
   "cell_type": "markdown",
   "id": "455bdcca",
   "metadata": {},
   "source": [
    "### Extract the dates each ticker was included in the SP500 index"
   ]
  },
  {
   "cell_type": "code",
   "execution_count": 18,
   "id": "2e551595",
   "metadata": {},
   "outputs": [
    {
     "name": "stdout",
     "output_type": "stream",
     "text": [
      "There are 780 unique tickers that has been or are in sp500\n"
     ]
    }
   ],
   "source": [
    "ticker_list = set()\n",
    "\n",
    "for i in sp500.tickers:\n",
    "    ticker_tmp_list = set(i)\n",
    "    ticker_list.update(ticker_tmp_list)\n",
    "\n",
    "print(\"There are {} unique tickers that has been or are in sp500\".format(len(ticker_list)))"
   ]
  },
  {
   "cell_type": "code",
   "execution_count": 19,
   "id": "a4907ed9",
   "metadata": {
    "scrolled": true
   },
   "outputs": [
    {
     "data": {
      "application/vnd.jupyter.widget-view+json": {
       "model_id": "213e2d33a14446328a4b87f39e5130a0",
       "version_major": 2,
       "version_minor": 0
      },
      "text/plain": [
       "  0%|          | 0/780 [00:00<?, ?it/s]"
      ]
     },
     "metadata": {},
     "output_type": "display_data"
    }
   ],
   "source": [
    "# identify which date each ticker was included in sp500\n",
    "\n",
    "ticker_dict = dict()\n",
    "today = date.today().strftime(\"%Y-%m-%d\")\n",
    "\n",
    "# for each ticker, create a column where it indicates whether it is in the ticker list\n",
    "# 1 if it is, 0 if not\n",
    "# use this column to indicate the min and max date of the stock\n",
    "\n",
    "for t in tqdm(ticker_list):\n",
    "    found = list()\n",
    "    for i in range(sp500.shape[0]):\n",
    "        found.append(len(np.where(np.array(sp500['tickers'][i]) == t)[0]))\n",
    "    sp500['found'] = found\n",
    "    \n",
    "    if sp500.loc[sp500['found']!=0, 'date'].max() == sp500['date'].max():\n",
    "        max_date = today\n",
    "    else:\n",
    "        max_date = sp500.loc[sp500['found']!=0, 'date'].max().strftime(\"%Y-%m-%d\")\n",
    "        \n",
    "    ticker_dict[t] = {'min_date' : sp500.loc[sp500['found']!=0, 'date'].min().strftime(\"%Y-%m-%d\"),\n",
    "                      'max_date' : max_date,\n",
    "                      'dates' : sp500.loc[sp500['found']!=0, 'date'].astype(str).values.tolist()}"
   ]
  },
  {
   "cell_type": "code",
   "execution_count": 20,
   "id": "2a89729d",
   "metadata": {
    "scrolled": true
   },
   "outputs": [
    {
     "name": "stdout",
     "output_type": "stream",
     "text": [
      "Min and max date of UnderArmour: 2016-04-18, 2022-06-21\n"
     ]
    }
   ],
   "source": [
    "print(\"Min and max date of UnderArmour: {}, {}\".format(ticker_dict['UA']['min_date'], \n",
    "                                                       ticker_dict['UA']['max_date']))"
   ]
  },
  {
   "cell_type": "code",
   "execution_count": 21,
   "id": "e822942f",
   "metadata": {},
   "outputs": [
    {
     "name": "stdout",
     "output_type": "stream",
     "text": [
      "Min and max date of Apple: 2000-06-07, 2022-07-08\n"
     ]
    }
   ],
   "source": [
    "print(\"Min and max date of Apple: {}, {}\".format(ticker_dict['AAPL']['min_date'], \n",
    "                                                       ticker_dict['AAPL']['max_date']))"
   ]
  },
  {
   "cell_type": "markdown",
   "id": "d7bb77da",
   "metadata": {},
   "source": [
    "### Collect data - first trial"
   ]
  },
  {
   "cell_type": "code",
   "execution_count": 22,
   "id": "4501822e",
   "metadata": {
    "scrolled": true
   },
   "outputs": [
    {
     "data": {
      "application/vnd.jupyter.widget-view+json": {
       "model_id": "2d7ed65ec3274b92b57319a6dbec2651",
       "version_major": 2,
       "version_minor": 0
      },
      "text/plain": [
       "  0%|          | 0/780 [00:00<?, ?it/s]"
      ]
     },
     "metadata": {},
     "output_type": "display_data"
    },
    {
     "name": "stderr",
     "output_type": "stream",
     "text": [
      "2022-07-08 19:52:40,143 [app.utils.fetch_data] [INFO] Fetching stock from investing_api: BAC, from 07/06/1999 to 08/07/2022\n",
      "2022-07-08 19:52:48,718 [app.utils.fetch_data] [INFO] Fetching stock from investing_api: ENDP, from 12/03/2014 to 02/03/2017\n",
      "2022-07-08 19:52:56,215 [app.utils.fetch_data] [INFO] Fetching stock from investing_api: AVY, from 07/06/1999 to 08/07/2022\n",
      "2022-07-08 19:53:05,858 [app.utils.fetch_data] [INFO] Fetching stock from investing_api: FOSL, from 23/04/2011 to 05/01/2016\n",
      "2022-07-08 19:53:14,109 [app.utils.fetch_data] [INFO] Fetching stock from investing_api: TGNA, from 07/06/1999 to 02/06/2017\n",
      "2022-07-08 19:53:20,836 [app.utils.fetch_data] [INFO] Fetching stock from investing_api: DVA, from 07/06/1999 to 08/07/2022\n"
     ]
    },
    {
     "name": "stdout",
     "output_type": "stream",
     "text": [
      "Error when calling data for ACE\n"
     ]
    },
    {
     "name": "stderr",
     "output_type": "stream",
     "text": [
      "2022-07-08 19:53:32,922 [app.utils.fetch_data] [INFO] Fetching stock from investing_api: PPG, from 07/06/1999 to 08/07/2022\n",
      "2022-07-08 19:53:41,678 [app.utils.fetch_data] [INFO] Fetching stock from investing_api: TXT, from 07/06/1999 to 08/07/2022\n",
      "2022-07-08 19:53:50,481 [app.utils.fetch_data] [INFO] Fetching stock from investing_api: ILMN, from 01/12/2014 to 08/07/2022\n",
      "2022-07-08 19:53:57,578 [app.utils.fetch_data] [INFO] Fetching stock from investing_api: BMS, from 07/06/1999 to 05/12/2014\n",
      "2022-07-08 19:54:07,266 [app.utils.fetch_data] [INFO] Fetching stock from alpha vantage api: VNT\n",
      "2022-07-08 19:54:13,889 [app.utils.fetch_data] [INFO] Fetching stock from investing_api: ETSY, from 07/10/2019 to 08/07/2022\n",
      "2022-07-08 19:54:21,465 [app.utils.fetch_data] [INFO] Fetching stock from investing_api: TIF, from 07/06/1999 to 07/01/2021\n",
      "2022-07-08 19:54:28,277 [app.utils.fetch_data] [INFO] Fetching stock from investing_api: PFE, from 07/06/1999 to 08/07/2022\n"
     ]
    },
    {
     "name": "stdout",
     "output_type": "stream",
     "text": [
      "Error when calling data for MI\n"
     ]
    },
    {
     "name": "stderr",
     "output_type": "stream",
     "text": [
      "2022-07-08 19:54:38,548 [app.utils.fetch_data] [INFO] Fetching stock from investing_api: LIFE, from 07/06/1999 to 24/01/2014\n",
      "2022-07-08 19:54:49,262 [app.utils.fetch_data] [INFO] Fetching stock from investing_api: HBAN, from 07/06/1999 to 08/07/2022\n",
      "2022-07-08 19:54:58,813 [app.utils.fetch_data] [INFO] Fetching stock from investing_api: BDX, from 07/06/1999 to 08/07/2022\n",
      "2022-07-08 19:55:06,568 [app.utils.fetch_data] [INFO] Fetching stock from investing_api: CAG, from 07/06/1999 to 08/07/2022\n",
      "2022-07-08 19:55:16,298 [app.utils.fetch_data] [INFO] Fetching stock from investing_api: ADM, from 07/06/1999 to 08/07/2022\n"
     ]
    },
    {
     "name": "stdout",
     "output_type": "stream",
     "text": [
      "Error when calling data for LEH\n"
     ]
    },
    {
     "name": "stderr",
     "output_type": "stream",
     "text": [
      "2022-07-08 19:55:23,687 [app.utils.fetch_data] [INFO] Fetching stock from investing_api: ATVI, from 02/09/2014 to 08/07/2022\n",
      "2022-07-08 19:55:33,375 [app.utils.fetch_data] [INFO] Fetching stock from investing_api: COST, from 07/06/1999 to 08/07/2022\n",
      "2022-07-08 19:55:42,248 [app.utils.fetch_data] [INFO] Fetching stock from investing_api: HLT, from 26/07/2016 to 08/07/2022\n",
      "2022-07-08 19:55:51,361 [app.utils.fetch_data] [INFO] Fetching stock from alpha vantage api: PCS\n",
      "2022-07-08 19:55:59,434 [app.utils.fetch_data] [INFO] Fetching stock from investing_api: WRK, from 07/06/1999 to 08/07/2022\n",
      "2022-07-08 19:56:07,786 [app.utils.fetch_data] [INFO] Fetching stock from investing_api: RTN, from 07/06/1999 to 06/04/2020\n"
     ]
    },
    {
     "name": "stdout",
     "output_type": "stream",
     "text": [
      "Error when calling data for SMS\n"
     ]
    },
    {
     "name": "stderr",
     "output_type": "stream",
     "text": [
      "2022-07-08 19:56:15,009 [app.utils.fetch_data] [INFO] Fetching stock from investing_api: EXC, from 07/06/1999 to 08/07/2022\n",
      "2022-07-08 19:56:23,514 [app.utils.fetch_data] [INFO] Fetching stock from alpha vantage api: TMC\n",
      "2022-07-08 19:56:33,175 [app.utils.fetch_data] [INFO] Fetching stock from investing_api: IPG, from 07/06/1999 to 08/07/2022\n",
      "2022-07-08 19:56:46,599 [app.utils.fetch_data] [INFO] Fetching stock from alpha vantage api: SIAL\n",
      "2022-07-08 19:56:57,337 [app.utils.fetch_data] [INFO] Fetching stock from investing_api: PG, from 07/06/1999 to 08/07/2022\n",
      "2022-07-08 19:57:04,328 [app.utils.fetch_data] [INFO] Fetching stock from investing_api: APTV, from 31/12/2011 to 08/07/2022\n",
      "2022-07-08 19:57:14,648 [app.utils.fetch_data] [INFO] Fetching stock from investing_api: NWSA, from 07/06/1999 to 08/07/2022\n",
      "2022-07-08 19:57:23,385 [app.utils.fetch_data] [INFO] Fetching stock from investing_api: SIVB, from 04/04/2017 to 08/07/2022\n",
      "2022-07-08 19:57:33,136 [app.utils.fetch_data] [INFO] Fetching stock from investing_api: SPGI, from 07/06/1999 to 08/07/2022\n",
      "2022-07-08 19:57:43,746 [app.utils.fetch_data] [INFO] Fetching stock from investing_api: BBY, from 07/06/1999 to 08/07/2022\n",
      "2022-07-08 19:57:50,345 [app.utils.fetch_data] [INFO] Fetching stock from alpha vantage api: BRCM\n",
      "2022-07-08 19:57:59,096 [app.utils.fetch_data] [INFO] Fetching stock from investing_api: GL, from 07/06/1999 to 08/07/2022\n"
     ]
    },
    {
     "name": "stdout",
     "output_type": "stream",
     "text": [
      "Error when calling data for GAS\n"
     ]
    },
    {
     "name": "stderr",
     "output_type": "stream",
     "text": [
      "2022-07-08 19:58:10,269 [app.utils.fetch_data] [INFO] Fetching stock from investing_api: KR, from 07/06/1999 to 08/07/2022\n",
      "2022-07-08 19:58:20,021 [app.utils.fetch_data] [INFO] Fetching stock from investing_api: NCR, from 07/06/1999 to 01/10/2007\n",
      "2022-07-08 19:58:28,753 [app.utils.fetch_data] [INFO] Fetching stock from investing_api: AOS, from 08/08/2016 to 08/07/2022\n",
      "2022-07-08 19:58:36,304 [app.utils.fetch_data] [INFO] Fetching stock from investing_api: GLW, from 07/06/1999 to 08/07/2022\n",
      "2022-07-08 19:58:45,036 [app.utils.fetch_data] [INFO] Fetching stock from investing_api: WFC, from 07/06/1999 to 08/07/2022\n",
      "2022-07-08 19:58:51,850 [app.utils.fetch_data] [INFO] Fetching stock from investing_api: ULTA, from 25/04/2015 to 08/07/2022\n",
      "2022-07-08 19:58:58,570 [app.utils.fetch_data] [INFO] Fetching stock from investing_api: DIS, from 07/06/1999 to 08/07/2022\n",
      "2022-07-08 19:59:07,281 [app.utils.fetch_data] [INFO] Fetching stock from investing_api: WEC, from 07/06/1999 to 08/07/2022\n",
      "2022-07-08 19:59:17,100 [app.utils.fetch_data] [INFO] Fetching stock from investing_api: LMT, from 07/06/1999 to 08/07/2022\n",
      "2022-07-08 19:59:26,887 [app.utils.fetch_data] [INFO] Fetching stock from investing_api: NTRS, from 07/06/1999 to 08/07/2022\n",
      "2022-07-08 19:59:34,605 [app.utils.fetch_data] [INFO] Fetching stock from investing_api: TAP, from 07/06/1999 to 08/07/2022\n",
      "2022-07-08 19:59:42,372 [app.utils.fetch_data] [INFO] Fetching stock from investing_api: ZBH, from 07/06/1999 to 08/07/2022\n",
      "2022-07-08 19:59:52,976 [app.utils.fetch_data] [INFO] Fetching stock from investing_api: RL, from 07/06/1999 to 08/07/2022\n",
      "2022-07-08 20:00:02,745 [app.utils.fetch_data] [INFO] Fetching stock from investing_api: YUM, from 07/06/1999 to 08/07/2022\n",
      "2022-07-08 20:00:08,812 [app.utils.fetch_data] [INFO] Fetching stock from investing_api: BKNG, from 18/12/2008 to 08/07/2022\n",
      "2022-07-08 20:00:18,517 [app.utils.fetch_data] [INFO] Fetching stock from investing_api: TFX, from 15/02/2018 to 08/07/2022\n",
      "2022-07-08 20:00:26,285 [app.utils.fetch_data] [INFO] Fetching stock from investing_api: GPN, from 03/05/2015 to 08/07/2022\n",
      "2022-07-08 20:00:35,821 [app.utils.fetch_data] [INFO] Fetching stock from investing_api: GRA, from 07/06/1999 to 05/12/2000\n",
      "2022-07-08 20:00:44,732 [app.utils.fetch_data] [INFO] Fetching stock from investing_api: ABBV, from 15/02/2012 to 08/07/2022\n",
      "2022-07-08 20:00:53,502 [app.utils.fetch_data] [INFO] Fetching stock from investing_api: AJG, from 03/06/2015 to 08/07/2022\n",
      "2022-07-08 20:01:03,430 [app.utils.fetch_data] [INFO] Fetching stock from investing_api: KSU, from 06/06/2012 to 14/12/2021\n"
     ]
    },
    {
     "name": "stdout",
     "output_type": "stream",
     "text": [
      "Error when calling data for TE\n"
     ]
    },
    {
     "name": "stderr",
     "output_type": "stream",
     "text": [
      "2022-07-08 20:01:15,619 [app.utils.fetch_data] [INFO] Fetching stock from alpha vantage api: HNZ\n",
      "2022-07-08 20:01:27,640 [app.utils.fetch_data] [INFO] Fetching stock from alpha vantage api: BCR\n",
      "2022-07-08 20:01:35,376 [app.utils.fetch_data] [INFO] Fetching stock from investing_api: FL, from 08/04/2015 to 09/08/2019\n",
      "2022-07-08 20:01:42,509 [app.utils.fetch_data] [INFO] Fetching stock from investing_api: NBR, from 07/06/1999 to 23/03/2015\n",
      "2022-07-08 20:01:53,212 [app.utils.fetch_data] [INFO] Fetching stock from investing_api: PPL, from 07/06/1999 to 08/07/2022\n",
      "2022-07-08 20:02:02,961 [app.utils.fetch_data] [INFO] Fetching stock from investing_api: MDT, from 07/06/1999 to 08/07/2022\n",
      "2022-07-08 20:02:12,983 [app.utils.fetch_data] [INFO] Fetching stock from alpha vantage api: POM\n",
      "2022-07-08 20:02:18,758 [app.utils.fetch_data] [INFO] Fetching stock from investing_api: VRSK, from 02/11/2014 to 08/07/2022\n",
      "2022-07-08 20:02:25,429 [app.utils.fetch_data] [INFO] Fetching stock from investing_api: SHW, from 07/06/1999 to 08/07/2022\n"
     ]
    },
    {
     "name": "stdout",
     "output_type": "stream",
     "text": [
      "Error when calling data for GENZ\n"
     ]
    },
    {
     "name": "stderr",
     "output_type": "stream",
     "text": [
      "2022-07-08 20:02:31,639 [app.utils.fetch_data] [INFO] Fetching stock from investing_api: ZBRA, from 28/01/2019 to 08/07/2022\n",
      "2022-07-08 20:02:40,345 [app.utils.fetch_data] [INFO] Fetching stock from investing_api: GD, from 07/06/1999 to 08/07/2022\n",
      "2022-07-08 20:02:51,513 [app.utils.fetch_data] [INFO] Fetching stock from alpha vantage api: BRK.B\n",
      "2022-07-08 20:03:01,137 [app.utils.fetch_data] [INFO] Fetching stock from investing_api: BHF, from 29/08/2016 to 02/04/2019\n"
     ]
    },
    {
     "name": "stdout",
     "output_type": "stream",
     "text": [
      "Error when calling data for ABS\n"
     ]
    },
    {
     "name": "stderr",
     "output_type": "stream",
     "text": [
      "2022-07-08 20:03:09,545 [app.utils.fetch_data] [INFO] Fetching stock from investing_api: ITT, from 07/06/1999 to 31/10/2011\n",
      "2022-07-08 20:03:19,239 [app.utils.fetch_data] [INFO] Fetching stock from investing_api: LDOS, from 23/09/2018 to 08/07/2022\n",
      "2022-07-08 20:03:25,945 [app.utils.fetch_data] [INFO] Fetching stock from investing_api: HII, from 07/03/2017 to 08/07/2022\n",
      "2022-07-08 20:03:34,558 [app.utils.fetch_data] [INFO] Fetching stock from investing_api: AIZ, from 07/06/1999 to 08/07/2022\n",
      "2022-07-08 20:03:47,119 [app.utils.fetch_data] [INFO] Fetching stock from alpha vantage api: PAYC\n",
      "2022-07-08 20:03:57,852 [app.utils.fetch_data] [INFO] Fetching stock from investing_api: GPS, from 07/06/1999 to 03/02/2022\n",
      "2022-07-08 20:04:08,567 [app.utils.fetch_data] [INFO] Fetching stock from investing_api: LUV, from 07/06/1999 to 08/07/2022\n",
      "2022-07-08 20:04:17,050 [app.utils.fetch_data] [INFO] Fetching stock from alpha vantage api: PGN\n",
      "2022-07-08 20:04:25,707 [app.utils.fetch_data] [INFO] Fetching stock from investing_api: UNM, from 07/06/1999 to 20/09/2021\n",
      "2022-07-08 20:04:34,330 [app.utils.fetch_data] [INFO] Fetching stock from investing_api: ABT, from 07/06/1999 to 08/07/2022\n",
      "2022-07-08 20:04:41,054 [app.utils.fetch_data] [INFO] Fetching stock from investing_api: HPQ, from 07/06/1999 to 08/07/2022\n",
      "2022-07-08 20:04:50,952 [app.utils.fetch_data] [INFO] Fetching stock from investing_api: RCL, from 27/01/2014 to 08/07/2022\n",
      "2022-07-08 20:05:00,465 [app.utils.fetch_data] [INFO] Fetching stock from investing_api: EPAM, from 20/12/2020 to 08/07/2022\n",
      "2022-07-08 20:05:07,387 [app.utils.fetch_data] [INFO] Fetching stock from investing_api: KHC, from 08/07/2014 to 08/07/2022\n",
      "2022-07-08 20:05:15,106 [app.utils.fetch_data] [INFO] Fetching stock from investing_api: DRI, from 07/06/1999 to 08/07/2022\n",
      "2022-07-08 20:05:21,765 [app.utils.fetch_data] [INFO] Fetching stock from investing_api: PFG, from 07/06/1999 to 08/07/2022\n",
      "2022-07-08 20:05:29,923 [app.utils.fetch_data] [INFO] Fetching stock from investing_api: NE, from 07/06/1999 to 20/07/2015\n",
      "2022-07-08 20:05:40,487 [app.utils.fetch_data] [INFO] Fetching stock from investing_api: MRO, from 07/06/1999 to 08/07/2022\n",
      "2022-07-08 20:05:50,793 [app.utils.fetch_data] [INFO] Fetching stock from investing_api: HES, from 07/06/1999 to 08/07/2022\n",
      "2022-07-08 20:05:58,520 [app.utils.fetch_data] [INFO] Fetching stock from investing_api: VZ, from 07/06/1999 to 08/07/2022\n",
      "2022-07-08 20:06:06,513 [app.utils.fetch_data] [INFO] Fetching stock from investing_api: AMZN, from 02/06/2005 to 08/07/2022\n",
      "2022-07-08 20:06:14,313 [app.utils.fetch_data] [INFO] Fetching stock from investing_api: EIX, from 07/06/1999 to 08/07/2022\n",
      "2022-07-08 20:06:23,439 [app.utils.fetch_data] [INFO] Fetching stock from investing_api: FTI, from 19/08/2008 to 12/02/2021\n",
      "2022-07-08 20:06:33,612 [app.utils.fetch_data] [INFO] Fetching stock from investing_api: SWN, from 07/06/1999 to 04/04/2017\n",
      "2022-07-08 20:06:43,325 [app.utils.fetch_data] [INFO] Fetching stock from investing_api: NDAQ, from 07/06/1999 to 08/07/2022\n",
      "2022-07-08 20:06:49,466 [app.utils.fetch_data] [INFO] Fetching stock from investing_api: CNX, from 07/06/1999 to 04/03/2016\n",
      "2022-07-08 20:07:02,333 [app.utils.fetch_data] [INFO] Fetching stock from alpha vantage api: TWX\n",
      "2022-07-08 20:07:13,203 [app.utils.fetch_data] [INFO] Fetching stock from investing_api: MTB, from 07/06/1999 to 08/07/2022\n",
      "2022-07-08 20:07:21,997 [app.utils.fetch_data] [INFO] Fetching stock from investing_api: MSFT, from 07/06/1999 to 08/07/2022\n",
      "2022-07-08 20:07:29,936 [app.utils.fetch_data] [INFO] Fetching stock from investing_api: ALXN, from 05/06/2011 to 21/07/2021\n"
     ]
    },
    {
     "name": "stdout",
     "output_type": "stream",
     "text": [
      "Error when calling data for TLAB\n"
     ]
    },
    {
     "name": "stderr",
     "output_type": "stream",
     "text": [
      "2022-07-08 20:07:37,893 [app.utils.fetch_data] [INFO] Fetching stock from investing_api: OKE, from 07/06/1999 to 08/07/2022\n",
      "2022-07-08 20:07:46,528 [app.utils.fetch_data] [INFO] Fetching stock from investing_api: PRU, from 07/06/1999 to 08/07/2022\n",
      "2022-07-08 20:07:53,121 [app.utils.fetch_data] [INFO] Fetching stock from investing_api: S, from 07/06/1999 to 08/07/2013\n",
      "2022-07-08 20:08:02,713 [app.utils.fetch_data] [INFO] Fetching stock from investing_api: CRL, from 03/06/2020 to 08/07/2022\n",
      "2022-07-08 20:08:08,694 [app.utils.fetch_data] [INFO] Fetching stock from investing_api: EQIX, from 07/04/2014 to 08/07/2022\n",
      "2022-07-08 20:08:17,374 [app.utils.fetch_data] [INFO] Fetching stock from investing_api: GILD, from 07/06/1999 to 08/07/2022\n",
      "2022-07-08 20:08:24,172 [app.utils.fetch_data] [INFO] Fetching stock from investing_api: MMM, from 07/06/1999 to 08/07/2022\n",
      "2022-07-08 20:08:35,130 [app.utils.fetch_data] [INFO] Fetching stock from alpha vantage api: J\n",
      "2022-07-08 20:08:44,871 [app.utils.fetch_data] [INFO] Fetching stock from investing_api: CDW, from 26/09/2018 to 08/07/2022\n",
      "2022-07-08 20:08:51,503 [app.utils.fetch_data] [INFO] Fetching stock from investing_api: HUM, from 07/06/1999 to 08/07/2022\n",
      "2022-07-08 20:08:59,286 [app.utils.fetch_data] [INFO] Fetching stock from investing_api: NWL, from 07/06/1999 to 08/07/2022\n",
      "2022-07-08 20:09:06,047 [app.utils.fetch_data] [INFO] Fetching stock from investing_api: AMG, from 02/07/2013 to 23/12/2019\n",
      "2022-07-08 20:09:13,579 [app.utils.fetch_data] [INFO] Fetching stock from investing_api: WCG, from 01/10/2017 to 28/01/2020\n",
      "2022-07-08 20:09:22,697 [app.utils.fetch_data] [INFO] Fetching stock from alpha vantage api: CVG\n",
      "2022-07-08 20:09:31,505 [app.utils.fetch_data] [INFO] Fetching stock from investing_api: LIN, from 07/06/1999 to 08/07/2022\n",
      "2022-07-08 20:09:39,231 [app.utils.fetch_data] [INFO] Fetching stock from investing_api: MCHP, from 07/06/1999 to 08/07/2022\n",
      "2022-07-08 20:09:45,976 [app.utils.fetch_data] [INFO] Fetching stock from investing_api: ANSS, from 26/07/2016 to 08/07/2022\n",
      "2022-07-08 20:09:55,972 [app.utils.fetch_data] [INFO] Fetching stock from investing_api: DLTR, from 20/12/2010 to 08/07/2022\n",
      "2022-07-08 20:10:03,535 [app.utils.fetch_data] [INFO] Fetching stock from investing_api: AMCR, from 01/07/2018 to 08/07/2022\n",
      "2022-07-08 20:10:12,112 [app.utils.fetch_data] [INFO] Fetching stock from investing_api: CE, from 02/01/2018 to 08/07/2022\n",
      "2022-07-08 20:10:23,071 [app.utils.fetch_data] [INFO] Fetching stock from alpha vantage api: WYN\n",
      "2022-07-08 20:10:33,742 [app.utils.fetch_data] [INFO] Fetching stock from investing_api: IP, from 07/06/1999 to 08/07/2022\n",
      "2022-07-08 20:10:41,049 [app.utils.fetch_data] [INFO] Fetching stock from alpha vantage api: OGN\n",
      "2022-07-08 20:10:49,821 [app.utils.fetch_data] [INFO] Fetching stock from investing_api: MGM, from 08/08/2016 to 08/07/2022\n",
      "2022-07-08 20:10:58,483 [app.utils.fetch_data] [INFO] Fetching stock from investing_api: JNJ, from 07/06/1999 to 08/07/2022\n",
      "2022-07-08 20:11:05,368 [app.utils.fetch_data] [INFO] Fetching stock from investing_api: ZION, from 07/06/1999 to 08/07/2022\n",
      "2022-07-08 20:11:13,263 [app.utils.fetch_data] [INFO] Fetching stock from investing_api: TROW, from 07/06/1999 to 08/07/2022\n",
      "2022-07-08 20:11:22,952 [app.utils.fetch_data] [INFO] Fetching stock from investing_api: WMT, from 07/06/1999 to 08/07/2022\n",
      "2022-07-08 20:11:31,122 [app.utils.fetch_data] [INFO] Fetching stock from investing_api: PXD, from 07/06/1999 to 08/07/2022\n",
      "2022-07-08 20:11:38,789 [app.utils.fetch_data] [INFO] Fetching stock from investing_api: CME, from 07/06/1999 to 08/07/2022\n",
      "2022-07-08 20:11:47,397 [app.utils.fetch_data] [INFO] Fetching stock from investing_api: CPT, from 08/06/2021 to 08/07/2022\n",
      "2022-07-08 20:11:55,246 [app.utils.fetch_data] [INFO] Fetching stock from investing_api: CNP, from 07/06/1999 to 08/07/2022\n",
      "2022-07-08 20:12:05,018 [app.utils.fetch_data] [INFO] Fetching stock from investing_api: HPE, from 18/11/2014 to 08/07/2022\n",
      "2022-07-08 20:12:15,768 [app.utils.fetch_data] [INFO] Fetching stock from investing_api: XEL, from 07/06/1999 to 08/07/2022\n",
      "2022-07-08 20:12:25,256 [app.utils.fetch_data] [INFO] Fetching stock from alpha vantage api: CSRA\n",
      "2022-07-08 20:12:35,048 [app.utils.fetch_data] [INFO] Fetching stock from investing_api: QEP, from 14/07/2009 to 01/07/2015\n",
      "2022-07-08 20:12:44,188 [app.utils.fetch_data] [INFO] Fetching stock from investing_api: OI, from 07/06/1999 to 02/12/2016\n",
      "2022-07-08 20:12:51,777 [app.utils.fetch_data] [INFO] Fetching stock from alpha vantage api: AET\n"
     ]
    },
    {
     "name": "stdout",
     "output_type": "stream",
     "text": [
      "Error when calling data for ARG\n"
     ]
    },
    {
     "name": "stderr",
     "output_type": "stream",
     "text": [
      "2022-07-08 20:12:58,427 [app.utils.fetch_data] [INFO] Fetching stock from investing_api: JBL, from 07/06/1999 to 05/11/2014\n",
      "2022-07-08 20:13:05,289 [app.utils.fetch_data] [INFO] Fetching stock from investing_api: ROST, from 26/02/2009 to 08/07/2022\n",
      "2022-07-08 20:13:15,014 [app.utils.fetch_data] [INFO] Fetching stock from investing_api: NCLH, from 03/01/2017 to 08/07/2022\n",
      "2022-07-08 20:13:25,771 [app.utils.fetch_data] [INFO] Fetching stock from investing_api: AMGN, from 07/06/1999 to 08/07/2022\n",
      "2022-07-08 20:13:32,494 [app.utils.fetch_data] [INFO] Fetching stock from investing_api: NEE, from 07/06/1999 to 08/07/2022\n",
      "2022-07-08 20:13:42,222 [app.utils.fetch_data] [INFO] Fetching stock from investing_api: COTY, from 01/11/2015 to 21/09/2020\n",
      "2022-07-08 20:13:49,232 [app.utils.fetch_data] [INFO] Fetching stock from investing_api: KMX, from 30/06/2009 to 08/07/2022\n",
      "2022-07-08 20:13:58,870 [app.utils.fetch_data] [INFO] Fetching stock from alpha vantage api: LXK\n",
      "2022-07-08 20:14:08,670 [app.utils.fetch_data] [INFO] Fetching stock from investing_api: MSI, from 07/06/1999 to 08/07/2022\n",
      "2022-07-08 20:14:18,474 [app.utils.fetch_data] [INFO] Fetching stock from investing_api: KO, from 07/06/1999 to 08/07/2022\n",
      "2022-07-08 20:14:27,162 [app.utils.fetch_data] [INFO] Fetching stock from investing_api: DOW, from 07/06/1999 to 08/07/2022\n",
      "2022-07-08 20:14:34,923 [app.utils.fetch_data] [INFO] Fetching stock from investing_api: ARE, from 04/04/2016 to 08/07/2022\n",
      "2022-07-08 20:14:45,624 [app.utils.fetch_data] [INFO] Fetching stock from investing_api: PCAR, from 07/06/1999 to 08/07/2022\n",
      "2022-07-08 20:14:53,362 [app.utils.fetch_data] [INFO] Fetching stock from investing_api: IPGP, from 19/03/2017 to 21/06/2022\n",
      "2022-07-08 20:15:02,099 [app.utils.fetch_data] [INFO] Fetching stock from investing_api: TMO, from 07/06/1999 to 08/07/2022\n",
      "2022-07-08 20:15:11,813 [app.utils.fetch_data] [INFO] Fetching stock from investing_api: ADBE, from 07/06/1999 to 08/07/2022\n",
      "2022-07-08 20:15:18,329 [app.utils.fetch_data] [INFO] Fetching stock from investing_api: VIAB, from 07/06/1999 to 05/12/2019\n",
      "2022-07-08 20:15:25,716 [app.utils.fetch_data] [INFO] Fetching stock from investing_api: LRCX, from 29/06/2011 to 08/07/2022\n",
      "2022-07-08 20:15:35,428 [app.utils.fetch_data] [INFO] Fetching stock from investing_api: TWTR, from 18/06/2017 to 08/07/2022\n",
      "2022-07-08 20:15:52,606 [app.utils.fetch_data] [INFO] Fetching stock from alpha vantage api: HWM\n",
      "2022-07-08 20:16:01,187 [app.utils.fetch_data] [INFO] Fetching stock from investing_api: NKTR, from 04/04/2017 to 03/10/2019\n"
     ]
    },
    {
     "name": "stdout",
     "output_type": "stream",
     "text": [
      "Error when calling data for MOLX\n"
     ]
    },
    {
     "name": "stderr",
     "output_type": "stream",
     "text": [
      "2022-07-08 20:16:11,746 [app.utils.fetch_data] [INFO] Fetching stock from investing_api: EQR, from 07/06/1999 to 08/07/2022\n",
      "2022-07-08 20:16:20,334 [app.utils.fetch_data] [INFO] Fetching stock from investing_api: ENPH, from 21/01/2020 to 08/07/2022\n",
      "2022-07-08 20:16:28,172 [app.utils.fetch_data] [INFO] Fetching stock from investing_api: AZO, from 07/06/1999 to 08/07/2022\n",
      "2022-07-08 20:16:39,050 [app.utils.fetch_data] [INFO] Fetching stock from alpha vantage api: PETM\n",
      "2022-07-08 20:16:45,906 [app.utils.fetch_data] [INFO] Fetching stock from investing_api: EL, from 07/06/1999 to 08/07/2022\n",
      "2022-07-08 20:16:52,667 [app.utils.fetch_data] [INFO] Fetching stock from investing_api: SBAC, from 18/09/2016 to 08/07/2022\n",
      "2022-07-08 20:17:00,474 [app.utils.fetch_data] [INFO] Fetching stock from investing_api: PLD, from 07/06/1999 to 08/07/2022\n",
      "2022-07-08 20:17:07,233 [app.utils.fetch_data] [INFO] Fetching stock from investing_api: ED, from 07/06/1999 to 08/07/2022\n",
      "2022-07-08 20:17:15,964 [app.utils.fetch_data] [INFO] Fetching stock from investing_api: CSX, from 07/06/1999 to 08/07/2022\n",
      "2022-07-08 20:17:26,744 [app.utils.fetch_data] [INFO] Fetching stock from investing_api: FITB, from 07/06/1999 to 08/07/2022\n",
      "2022-07-08 20:17:36,956 [app.utils.fetch_data] [INFO] Fetching stock from alpha vantage api: SAI\n",
      "2022-07-08 20:17:45,909 [app.utils.fetch_data] [INFO] Fetching stock from investing_api: XOM, from 07/06/1999 to 08/07/2022\n",
      "2022-07-08 20:17:52,915 [app.utils.fetch_data] [INFO] Fetching stock from investing_api: GNW, from 07/06/1999 to 18/11/2015\n",
      "2022-07-08 20:18:03,645 [app.utils.fetch_data] [INFO] Fetching stock from investing_api: KEY, from 07/06/1999 to 08/07/2022\n",
      "2022-07-08 20:18:11,581 [app.utils.fetch_data] [INFO] Fetching stock from investing_api: VRTX, from 29/10/2012 to 08/07/2022\n",
      "2022-07-08 20:18:21,381 [app.utils.fetch_data] [INFO] Fetching stock from investing_api: MO, from 07/06/1999 to 08/07/2022\n",
      "2022-07-08 20:18:32,072 [app.utils.fetch_data] [INFO] Fetching stock from investing_api: MXIM, from 07/06/1999 to 30/08/2021\n"
     ]
    },
    {
     "name": "stdout",
     "output_type": "stream",
     "text": [
      "Error when calling data for ANR\n"
     ]
    },
    {
     "name": "stderr",
     "output_type": "stream",
     "text": [
      "2022-07-08 20:18:42,254 [app.utils.fetch_data] [INFO] Fetching stock from investing_api: ISRG, from 07/06/1999 to 08/07/2022\n",
      "2022-07-08 20:18:50,915 [app.utils.fetch_data] [INFO] Fetching stock from investing_api: WY, from 07/06/1999 to 08/07/2022\n",
      "2022-07-08 20:18:59,642 [app.utils.fetch_data] [INFO] Fetching stock from investing_api: SO, from 07/06/1999 to 08/07/2022\n",
      "2022-07-08 20:19:06,523 [app.utils.fetch_data] [INFO] Fetching stock from investing_api: KMB, from 07/06/1999 to 08/07/2022\n",
      "2022-07-08 20:19:16,318 [app.utils.fetch_data] [INFO] Fetching stock from investing_api: FTV, from 06/09/2015 to 08/07/2022\n",
      "2022-07-08 20:19:26,902 [app.utils.fetch_data] [INFO] Fetching stock from investing_api: AES, from 07/06/1999 to 08/07/2022\n",
      "2022-07-08 20:19:35,106 [app.utils.fetch_data] [INFO] Fetching stock from investing_api: NRG, from 07/06/1999 to 08/07/2022\n",
      "2022-07-08 20:19:50,547 [app.utils.fetch_data] [INFO] Fetching stock from alpha vantage api: PARA\n",
      "2022-07-08 20:19:56,356 [app.utils.fetch_data] [INFO] Fetching stock from investing_api: UDR, from 30/03/2015 to 08/07/2022\n",
      "2022-07-08 20:20:03,228 [app.utils.fetch_data] [INFO] Fetching stock from alpha vantage api: BXLT\n"
     ]
    },
    {
     "name": "stdout",
     "output_type": "stream",
     "text": [
      "Error when calling data for NSM\n"
     ]
    },
    {
     "name": "stderr",
     "output_type": "stream",
     "text": [
      "2022-07-08 20:25:11,670 [app.utils.fetch_data] [INFO] Fetching stock from investing_api: SYY, from 07/06/1999 to 08/07/2022\n",
      "2022-07-08 20:25:19,092 [app.utils.fetch_data] [INFO] Fetching stock from alpha vantage api: KRFT\n",
      "2022-07-08 20:25:27,862 [app.utils.fetch_data] [INFO] Fetching stock from investing_api: CI, from 07/06/1999 to 08/07/2022\n",
      "2022-07-08 20:25:36,611 [app.utils.fetch_data] [INFO] Fetching stock from investing_api: GPC, from 07/06/1999 to 08/07/2022\n",
      "2022-07-08 20:25:43,951 [app.utils.fetch_data] [INFO] Fetching stock from alpha vantage api: SII\n",
      "2022-07-08 20:25:53,690 [app.utils.fetch_data] [INFO] Fetching stock from investing_api: AKS, from 12/09/2007 to 16/12/2011\n",
      "2022-07-08 20:30:59,300 [app.utils.fetch_data] [INFO] Fetching stock from investing_api: DHR, from 07/06/1999 to 08/07/2022\n",
      "2022-07-08 20:31:09,289 [app.utils.fetch_data] [INFO] Fetching stock from investing_api: IBM, from 07/06/1999 to 08/07/2022\n",
      "2022-07-08 20:31:17,430 [app.utils.fetch_data] [INFO] Fetching stock from investing_api: ICE, from 27/09/2006 to 08/07/2022\n",
      "2022-07-08 20:31:30,591 [app.utils.fetch_data] [INFO] Fetching stock from alpha vantage api: ANDV\n",
      "2022-07-08 20:31:40,423 [app.utils.fetch_data] [INFO] Fetching stock from investing_api: NYT, from 07/06/1999 to 17/12/2010\n",
      "2022-07-08 20:31:50,226 [app.utils.fetch_data] [INFO] Fetching stock from investing_api: AWK, from 07/03/2015 to 08/07/2022\n",
      "2022-07-08 20:31:57,013 [app.utils.fetch_data] [INFO] Fetching stock from investing_api: CMI, from 07/06/1999 to 08/07/2022\n",
      "2022-07-08 20:32:07,426 [app.utils.fetch_data] [INFO] Fetching stock from investing_api: PCG, from 07/06/1999 to 18/01/2019\n"
     ]
    },
    {
     "name": "stdout",
     "output_type": "stream",
     "text": [
      "Error when calling data for SCG\n"
     ]
    },
    {
     "name": "stderr",
     "output_type": "stream",
     "text": [
      "2022-07-08 20:32:14,135 [app.utils.fetch_data] [INFO] Fetching stock from investing_api: LHX, from 31/12/2007 to 08/07/2022\n",
      "2022-07-08 20:32:20,596 [app.utils.fetch_data] [INFO] Fetching stock from investing_api: ODP, from 07/06/1999 to 17/12/2010\n",
      "2022-07-08 20:32:29,257 [app.utils.fetch_data] [INFO] Fetching stock from investing_api: F, from 07/06/1999 to 08/07/2022\n",
      "2022-07-08 20:32:36,013 [app.utils.fetch_data] [INFO] Fetching stock from investing_api: CMS, from 07/06/1999 to 08/07/2022\n",
      "2022-07-08 20:32:43,635 [app.utils.fetch_data] [INFO] Fetching stock from investing_api: MTCH, from 14/12/2020 to 08/07/2022\n",
      "2022-07-08 20:32:52,506 [app.utils.fetch_data] [INFO] Fetching stock from investing_api: CCL, from 07/06/1999 to 08/07/2022\n",
      "2022-07-08 20:33:00,682 [app.utils.fetch_data] [INFO] Fetching stock from investing_api: DO, from 07/06/1999 to 30/09/2016\n",
      "2022-07-08 20:33:06,596 [app.utils.fetch_data] [INFO] Fetching stock from investing_api: SWKS, from 18/03/2014 to 08/07/2022\n",
      "2022-07-08 20:33:16,690 [app.utils.fetch_data] [INFO] Fetching stock from investing_api: DFS, from 24/08/2006 to 08/07/2022\n",
      "2022-07-08 20:33:23,480 [app.utils.fetch_data] [INFO] Fetching stock from investing_api: MTD, from 08/09/2015 to 08/07/2022\n",
      "2022-07-08 20:33:33,539 [app.utils.fetch_data] [INFO] Fetching stock from alpha vantage api: TWC\n",
      "2022-07-08 20:33:42,214 [app.utils.fetch_data] [INFO] Fetching stock from investing_api: DXCM, from 22/05/2019 to 08/07/2022\n"
     ]
    },
    {
     "name": "stdout",
     "output_type": "stream",
     "text": [
      "Error when calling data for MIL\n"
     ]
    },
    {
     "name": "stderr",
     "output_type": "stream",
     "text": [
      "2022-07-08 20:33:52,556 [app.utils.fetch_data] [INFO] Fetching stock from investing_api: INCY, from 01/03/2016 to 08/07/2022\n",
      "2022-07-08 20:33:58,447 [app.utils.fetch_data] [INFO] Fetching stock from investing_api: AVGO, from 20/06/2013 to 08/07/2022\n",
      "2022-07-08 20:34:05,063 [app.utils.fetch_data] [INFO] Fetching stock from investing_api: M, from 07/06/1999 to 06/04/2020\n",
      "2022-07-08 20:34:10,778 [app.utils.fetch_data] [INFO] Fetching stock from investing_api: ARNC, from 02/12/2015 to 01/04/2020\n",
      "2022-07-08 20:34:16,542 [app.utils.fetch_data] [INFO] Fetching stock from investing_api: MAC, from 23/05/2012 to 23/12/2019\n",
      "2022-07-08 20:34:26,092 [app.utils.fetch_data] [INFO] Fetching stock from investing_api: AIV, from 07/06/1999 to 21/12/2020\n",
      "2022-07-08 20:34:37,886 [app.utils.fetch_data] [INFO] Fetching stock from alpha vantage api: HSP\n",
      "2022-07-08 20:34:46,488 [app.utils.fetch_data] [INFO] Fetching stock from investing_api: CELG, from 07/06/1999 to 21/11/2019\n",
      "2022-07-08 20:34:52,204 [app.utils.fetch_data] [INFO] Fetching stock from investing_api: RMD, from 08/08/2016 to 08/07/2022\n",
      "2022-07-08 20:35:03,081 [app.utils.fetch_data] [INFO] Fetching stock from investing_api: ETR, from 07/06/1999 to 08/07/2022\n",
      "2022-07-08 20:35:11,535 [app.utils.fetch_data] [INFO] Fetching stock from investing_api: FLR, from 07/06/1999 to 03/06/2019\n",
      "2022-07-08 20:35:19,360 [app.utils.fetch_data] [INFO] Fetching stock from investing_api: O, from 11/06/2014 to 08/07/2022\n",
      "2022-07-08 20:35:28,714 [app.utils.fetch_data] [INFO] Fetching stock from alpha vantage api: DWDP\n",
      "2022-07-08 20:35:38,439 [app.utils.fetch_data] [INFO] Fetching stock from investing_api: IGT, from 07/06/1999 to 20/06/2014\n",
      "2022-07-08 20:35:46,127 [app.utils.fetch_data] [INFO] Fetching stock from investing_api: WRB, from 09/12/2018 to 08/07/2022\n",
      "2022-07-08 20:35:59,740 [app.utils.fetch_data] [INFO] Fetching stock from alpha vantage api: CVH\n",
      "2022-07-08 20:36:08,277 [app.utils.fetch_data] [INFO] Fetching stock from alpha vantage api: OMX\n",
      "2022-07-08 20:36:18,235 [app.utils.fetch_data] [INFO] Fetching stock from investing_api: CNC, from 04/04/2015 to 08/07/2022\n",
      "2022-07-08 20:36:29,017 [app.utils.fetch_data] [INFO] Fetching stock from investing_api: TJX, from 07/06/1999 to 08/07/2022\n",
      "2022-07-08 20:36:35,735 [app.utils.fetch_data] [INFO] Fetching stock from investing_api: CMCSA, from 07/06/1999 to 08/07/2022\n",
      "2022-07-08 20:36:49,104 [app.utils.fetch_data] [INFO] Fetching stock from alpha vantage api: GMCR\n",
      "2022-07-08 20:37:01,013 [app.utils.fetch_data] [INFO] Fetching stock from alpha vantage api: DPS\n",
      "2022-07-08 20:37:11,505 [app.utils.fetch_data] [INFO] Fetching stock from alpha vantage api: ADT\n",
      "2022-07-08 20:37:20,294 [app.utils.fetch_data] [INFO] Fetching stock from investing_api: DOV, from 07/06/1999 to 08/07/2022\n",
      "2022-07-08 20:37:28,065 [app.utils.fetch_data] [INFO] Fetching stock from investing_api: FE, from 07/06/1999 to 08/07/2022\n"
     ]
    },
    {
     "name": "stdout",
     "output_type": "stream",
     "text": [
      "Error when calling data for SGP\n"
     ]
    },
    {
     "name": "stderr",
     "output_type": "stream",
     "text": [
      "2022-07-08 20:37:41,806 [app.utils.fetch_data] [INFO] Fetching stock from alpha vantage api: WBD\n",
      "2022-07-08 20:37:50,476 [app.utils.fetch_data] [INFO] Fetching stock from alpha vantage api: PCP\n"
     ]
    },
    {
     "name": "stdout",
     "output_type": "stream",
     "text": [
      "Error when calling data for RX\n"
     ]
    },
    {
     "name": "stderr",
     "output_type": "stream",
     "text": [
      "2022-07-08 20:38:00,954 [app.utils.fetch_data] [INFO] Fetching stock from investing_api: CAH, from 07/06/1999 to 08/07/2022\n",
      "2022-07-08 20:38:11,143 [app.utils.fetch_data] [INFO] Fetching stock from investing_api: CHK, from 07/06/1999 to 19/03/2018\n",
      "2022-07-08 20:38:19,104 [app.utils.fetch_data] [INFO] Fetching stock from investing_api: MPC, from 05/07/2010 to 08/07/2022\n",
      "2022-07-08 20:38:24,825 [app.utils.fetch_data] [INFO] Fetching stock from investing_api: ROL, from 11/10/2017 to 08/07/2022\n",
      "2022-07-08 20:38:32,131 [app.utils.fetch_data] [INFO] Fetching stock from alpha vantage api: OTIS\n",
      "2022-07-08 20:38:38,897 [app.utils.fetch_data] [INFO] Fetching stock from investing_api: NBL, from 07/06/1999 to 12/10/2020\n",
      "2022-07-08 20:38:48,625 [app.utils.fetch_data] [INFO] Fetching stock from investing_api: GS, from 07/06/1999 to 08/07/2022\n",
      "2022-07-08 20:38:55,349 [app.utils.fetch_data] [INFO] Fetching stock from investing_api: LNC, from 07/06/1999 to 08/07/2022\n",
      "2022-07-08 20:39:05,063 [app.utils.fetch_data] [INFO] Fetching stock from investing_api: ATO, from 27/02/2018 to 08/07/2022\n",
      "2022-07-08 20:39:12,258 [app.utils.fetch_data] [INFO] Fetching stock from investing_api: AIG, from 07/06/1999 to 08/07/2022\n"
     ]
    },
    {
     "name": "stdout",
     "output_type": "stream",
     "text": [
      "Error when calling data for ABK\n"
     ]
    },
    {
     "name": "stderr",
     "output_type": "stream",
     "text": [
      "2022-07-08 20:39:18,600 [app.utils.fetch_data] [INFO] Fetching stock from investing_api: CFG, from 22/02/2015 to 08/07/2022\n",
      "2022-07-08 20:39:28,102 [app.utils.fetch_data] [INFO] Fetching stock from alpha vantage api: VTRS\n",
      "2022-07-08 20:39:37,829 [app.utils.fetch_data] [INFO] Fetching stock from investing_api: LYV, from 28/01/2019 to 08/07/2022\n",
      "2022-07-08 20:39:44,428 [app.utils.fetch_data] [INFO] Fetching stock from investing_api: CPRT, from 28/08/2017 to 08/07/2022\n",
      "2022-07-08 20:39:52,914 [app.utils.fetch_data] [INFO] Fetching stock from investing_api: HOG, from 07/06/1999 to 22/06/2020\n",
      "2022-07-08 20:40:00,674 [app.utils.fetch_data] [INFO] Fetching stock from investing_api: UNP, from 07/06/1999 to 08/07/2022\n",
      "2022-07-08 20:40:09,749 [app.utils.fetch_data] [INFO] Fetching stock from investing_api: REGN, from 08/05/2012 to 08/07/2022\n",
      "2022-07-08 20:40:15,293 [app.utils.fetch_data] [INFO] Fetching stock from investing_api: PTC, from 14/05/2020 to 08/07/2022\n",
      "2022-07-08 20:40:24,099 [app.utils.fetch_data] [INFO] Fetching stock from investing_api: HBI, from 07/04/2014 to 20/12/2021\n",
      "2022-07-08 20:40:31,803 [app.utils.fetch_data] [INFO] Fetching stock from investing_api: MNK, from 20/09/2013 to 26/07/2017\n",
      "2022-07-08 20:40:39,545 [app.utils.fetch_data] [INFO] Fetching stock from alpha vantage api: JNY\n",
      "2022-07-08 20:40:47,447 [app.utils.fetch_data] [INFO] Fetching stock from alpha vantage api: CTX\n",
      "2022-07-08 20:40:56,530 [app.utils.fetch_data] [INFO] Fetching stock from investing_api: CRM, from 16/09/2007 to 08/07/2022\n",
      "2022-07-08 20:41:04,191 [app.utils.fetch_data] [INFO] Fetching stock from investing_api: BK, from 07/06/1999 to 08/07/2022\n",
      "2022-07-08 20:41:10,023 [app.utils.fetch_data] [INFO] Fetching stock from investing_api: BR, from 20/06/2017 to 08/07/2022\n"
     ]
    },
    {
     "name": "stdout",
     "output_type": "stream",
     "text": [
      "Error when calling data for NYX\n"
     ]
    },
    {
     "name": "stderr",
     "output_type": "stream",
     "text": [
      "2022-07-08 20:41:21,877 [app.utils.fetch_data] [INFO] Fetching stock from investing_api: NI, from 07/06/1999 to 08/07/2022\n",
      "2022-07-08 20:41:29,652 [app.utils.fetch_data] [INFO] Fetching stock from investing_api: KLAC, from 07/06/1999 to 08/07/2022\n",
      "2022-07-08 20:41:40,340 [app.utils.fetch_data] [INFO] Fetching stock from alpha vantage api: COV\n",
      "2022-07-08 20:41:46,980 [app.utils.fetch_data] [INFO] Fetching stock from investing_api: VAR, from 07/06/1999 to 20/04/2021\n",
      "2022-07-08 20:42:04,861 [app.utils.fetch_data] [INFO] Fetching stock from alpha vantage api: RAI\n"
     ]
    },
    {
     "name": "stdout",
     "output_type": "stream",
     "text": [
      "Error when calling data for CVC\n"
     ]
    },
    {
     "name": "stderr",
     "output_type": "stream",
     "text": [
      "2022-07-08 20:42:12,300 [app.utils.fetch_data] [INFO] Fetching stock from investing_api: TDG, from 22/06/2015 to 08/07/2022\n",
      "2022-07-08 20:42:19,487 [app.utils.fetch_data] [INFO] Fetching stock from investing_api: URBN, from 07/06/1999 to 20/03/2017\n",
      "2022-07-08 20:42:26,110 [app.utils.fetch_data] [INFO] Fetching stock from alpha vantage api: MFE\n",
      "2022-07-08 20:42:35,816 [app.utils.fetch_data] [INFO] Fetching stock from investing_api: MCO, from 07/06/1999 to 08/07/2022\n",
      "2022-07-08 20:42:46,628 [app.utils.fetch_data] [INFO] Fetching stock from alpha vantage api: LLL\n",
      "2022-07-08 20:42:55,633 [app.utils.fetch_data] [INFO] Fetching stock from investing_api: APD, from 07/06/1999 to 08/07/2022\n",
      "2022-07-08 20:43:45,195 [app.utils.fetch_data] [INFO] Fetching stock from investing_api: ORCL, from 07/06/1999 to 08/07/2022\n",
      "2022-07-08 20:43:53,989 [app.utils.fetch_data] [INFO] Fetching stock from investing_api: PGR, from 07/06/1999 to 08/07/2022\n"
     ]
    },
    {
     "name": "stdout",
     "output_type": "stream",
     "text": [
      "Error when calling data for TIE\n"
     ]
    },
    {
     "name": "stderr",
     "output_type": "stream",
     "text": [
      "2022-07-08 20:44:04,773 [app.utils.fetch_data] [INFO] Fetching stock from investing_api: RRD, from 07/06/1999 to 11/12/2012\n",
      "2022-07-08 20:44:12,823 [app.utils.fetch_data] [INFO] Fetching stock from alpha vantage api: LLTC\n",
      "2022-07-08 20:44:23,259 [app.utils.fetch_data] [INFO] Fetching stock from alpha vantage api: BBWI\n",
      "2022-07-08 20:44:31,747 [app.utils.fetch_data] [INFO] Fetching stock from investing_api: WPX, from 13/03/2011 to 21/03/2014\n",
      "2022-07-08 20:44:39,783 [app.utils.fetch_data] [INFO] Fetching stock from alpha vantage api: LUMN\n",
      "2022-07-08 20:44:47,018 [app.utils.fetch_data] [INFO] Fetching stock from investing_api: EQT, from 07/06/1999 to 13/11/2018\n",
      "2022-07-08 20:44:52,958 [app.utils.fetch_data] [INFO] Fetching stock from investing_api: MOS, from 14/10/2010 to 08/07/2022\n",
      "2022-07-08 20:45:00,737 [app.utils.fetch_data] [INFO] Fetching stock from investing_api: NVDA, from 07/06/1999 to 08/07/2022\n",
      "2022-07-08 20:45:09,841 [app.utils.fetch_data] [INFO] Fetching stock from alpha vantage api: HOT\n",
      "2022-07-08 20:45:17,603 [app.utils.fetch_data] [INFO] Fetching stock from investing_api: HIG, from 07/06/1999 to 08/07/2022\n",
      "2022-07-08 20:45:28,224 [app.utils.fetch_data] [INFO] Fetching stock from investing_api: PEAK, from 07/06/1999 to 08/07/2022\n",
      "2022-07-08 20:45:38,153 [app.utils.fetch_data] [INFO] Fetching stock from investing_api: T, from 07/06/1999 to 08/07/2022\n",
      "2022-07-08 20:45:46,780 [app.utils.fetch_data] [INFO] Fetching stock from investing_api: CTAS, from 07/06/1999 to 08/07/2022\n",
      "2022-07-08 20:45:55,910 [app.utils.fetch_data] [INFO] Fetching stock from investing_api: FRT, from 22/02/2015 to 08/07/2022\n",
      "2022-07-08 20:46:06,649 [app.utils.fetch_data] [INFO] Fetching stock from investing_api: LEN, from 07/06/1999 to 08/07/2022\n",
      "2022-07-08 20:46:13,518 [app.utils.fetch_data] [INFO] Fetching stock from investing_api: AAP, from 20/07/2014 to 08/07/2022\n",
      "2022-07-08 20:46:24,160 [app.utils.fetch_data] [INFO] Fetching stock from investing_api: SJM, from 07/06/1999 to 08/07/2022\n",
      "2022-07-08 20:46:35,405 [app.utils.fetch_data] [INFO] Fetching stock from alpha vantage api: RTX\n",
      "2022-07-08 20:46:43,617 [app.utils.fetch_data] [INFO] Fetching stock from investing_api: AA, from 07/06/1999 to 01/11/2016\n",
      "2022-07-08 20:46:51,384 [app.utils.fetch_data] [INFO] Fetching stock from investing_api: PWR, from 07/06/1999 to 08/07/2022\n",
      "2022-07-08 20:47:01,133 [app.utils.fetch_data] [INFO] Fetching stock from investing_api: MMC, from 07/06/1999 to 08/07/2022\n",
      "2022-07-08 20:47:09,368 [app.utils.fetch_data] [INFO] Fetching stock from investing_api: X, from 07/06/1999 to 02/07/2014\n",
      "2022-07-08 20:47:16,096 [app.utils.fetch_data] [INFO] Fetching stock from investing_api: ALL, from 07/06/1999 to 08/07/2022\n",
      "2022-07-08 20:47:25,790 [app.utils.fetch_data] [INFO] Fetching stock from investing_api: FLIR, from 07/06/1999 to 14/05/2021\n",
      "2022-07-08 20:47:34,233 [app.utils.fetch_data] [INFO] Fetching stock from investing_api: GT, from 07/06/1999 to 27/02/2019\n",
      "2022-07-08 20:47:43,949 [app.utils.fetch_data] [INFO] Fetching stock from investing_api: LH, from 07/06/1999 to 08/07/2022\n",
      "2022-07-08 20:47:51,646 [app.utils.fetch_data] [INFO] Fetching stock from investing_api: UPS, from 07/06/1999 to 08/07/2022\n",
      "2022-07-08 20:48:01,385 [app.utils.fetch_data] [INFO] Fetching stock from investing_api: AMAT, from 07/06/1999 to 08/07/2022\n",
      "2022-07-08 20:48:11,119 [app.utils.fetch_data] [INFO] Fetching stock from investing_api: PNW, from 07/06/1999 to 08/07/2022\n",
      "2022-07-08 20:48:21,866 [app.utils.fetch_data] [INFO] Fetching stock from investing_api: SCHW, from 07/06/1999 to 08/07/2022\n",
      "2022-07-08 20:48:31,560 [app.utils.fetch_data] [INFO] Fetching stock from investing_api: ITW, from 07/06/1999 to 08/07/2022\n",
      "2022-07-08 20:48:38,236 [app.utils.fetch_data] [INFO] Fetching stock from investing_api: SYK, from 07/06/1999 to 08/07/2022\n",
      "2022-07-08 20:48:46,065 [app.utils.fetch_data] [INFO] Fetching stock from investing_api: WAT, from 07/06/1999 to 08/07/2022\n",
      "2022-07-08 20:48:54,248 [app.utils.fetch_data] [INFO] Fetching stock from investing_api: STZ, from 18/11/2004 to 08/07/2022\n",
      "2022-07-08 20:49:02,963 [app.utils.fetch_data] [INFO] Fetching stock from investing_api: NKE, from 07/06/1999 to 08/07/2022\n",
      "2022-07-08 20:49:11,115 [app.utils.fetch_data] [INFO] Fetching stock from investing_api: AVP, from 07/06/1999 to 23/03/2015\n",
      "2022-07-08 20:49:17,939 [app.utils.fetch_data] [INFO] Fetching stock from alpha vantage api: WTW\n",
      "2022-07-08 20:49:28,261 [app.utils.fetch_data] [INFO] Fetching stock from investing_api: MUR, from 07/06/1999 to 26/07/2017\n",
      "2022-07-08 20:49:38,831 [app.utils.fetch_data] [INFO] Fetching stock from investing_api: MA, from 07/06/1999 to 08/07/2022\n",
      "2022-07-08 20:49:47,394 [app.utils.fetch_data] [INFO] Fetching stock from investing_api: TSLA, from 07/01/2020 to 08/07/2022\n",
      "2022-07-08 20:49:55,119 [app.utils.fetch_data] [INFO] Fetching stock from investing_api: INFO, from 19/06/2016 to 02/03/2022\n",
      "2022-07-08 20:50:00,911 [app.utils.fetch_data] [INFO] Fetching stock from investing_api: LKQ, from 31/05/2015 to 08/07/2022\n",
      "2022-07-08 20:50:07,947 [app.utils.fetch_data] [INFO] Fetching stock from investing_api: DF, from 07/06/1999 to 23/05/2013\n",
      "2022-07-08 20:50:14,452 [app.utils.fetch_data] [INFO] Fetching stock from investing_api: CLX, from 07/06/1999 to 08/07/2022\n",
      "2022-07-08 20:50:21,871 [app.utils.fetch_data] [INFO] Fetching stock from investing_api: MAT, from 07/06/1999 to 07/06/2019\n",
      "2022-07-08 20:50:28,723 [app.utils.fetch_data] [INFO] Fetching stock from investing_api: SWK, from 07/06/1999 to 08/07/2022\n",
      "2022-07-08 20:50:34,295 [app.utils.fetch_data] [INFO] Fetching stock from investing_api: TRMB, from 12/02/2020 to 08/07/2022\n",
      "2022-07-08 20:50:45,011 [app.utils.fetch_data] [INFO] Fetching stock from investing_api: BEN, from 07/06/1999 to 08/07/2022\n",
      "2022-07-08 20:50:53,798 [app.utils.fetch_data] [INFO] Fetching stock from investing_api: FDX, from 07/06/1999 to 08/07/2022\n"
     ]
    },
    {
     "name": "stdout",
     "output_type": "stream",
     "text": [
      "Error when calling data for PCL\n"
     ]
    },
    {
     "name": "stderr",
     "output_type": "stream",
     "text": [
      "2022-07-08 20:51:01,129 [app.utils.fetch_data] [INFO] Fetching stock from investing_api: TGT, from 07/06/1999 to 08/07/2022\n",
      "2022-07-08 20:51:09,351 [app.utils.fetch_data] [INFO] Fetching stock from investing_api: LM, from 07/06/1999 to 02/12/2016\n",
      "2022-07-08 20:51:16,132 [app.utils.fetch_data] [INFO] Fetching stock from investing_api: SLG, from 07/04/2014 to 22/03/2021\n",
      "2022-07-08 20:51:21,867 [app.utils.fetch_data] [INFO] Fetching stock from investing_api: DRE, from 08/08/2016 to 08/07/2022\n",
      "2022-07-08 20:51:31,814 [app.utils.fetch_data] [INFO] Fetching stock from investing_api: DAL, from 20/09/2012 to 08/07/2022\n",
      "2022-07-08 20:51:39,857 [app.utils.fetch_data] [INFO] Fetching stock from alpha vantage api: KG\n",
      "2022-07-08 20:51:46,987 [app.utils.fetch_data] [INFO] Fetching stock from investing_api: ALK, from 18/05/2015 to 08/07/2022\n",
      "2022-07-08 20:51:57,817 [app.utils.fetch_data] [INFO] Fetching stock from investing_api: WMB, from 07/06/1999 to 08/07/2022\n",
      "2022-07-08 20:52:06,558 [app.utils.fetch_data] [INFO] Fetching stock from investing_api: AEP, from 07/06/1999 to 08/07/2022\n",
      "2022-07-08 20:52:17,430 [app.utils.fetch_data] [INFO] Fetching stock from investing_api: EMR, from 07/06/1999 to 08/07/2022\n",
      "2022-07-08 20:52:26,079 [app.utils.fetch_data] [INFO] Fetching stock from investing_api: SNA, from 07/06/1999 to 08/07/2022\n",
      "2022-07-08 20:52:33,790 [app.utils.fetch_data] [INFO] Fetching stock from investing_api: DISH, from 16/03/2016 to 08/07/2022\n"
     ]
    },
    {
     "name": "stdout",
     "output_type": "stream",
     "text": [
      "Error when calling data for AV\n",
      "Error when calling data for DJ\n"
     ]
    },
    {
     "name": "stderr",
     "output_type": "stream",
     "text": [
      "2022-07-08 20:52:43,265 [app.utils.fetch_data] [INFO] Fetching stock from alpha vantage api: SHLD\n",
      "2022-07-08 20:52:49,053 [app.utils.fetch_data] [INFO] Fetching stock from investing_api: UA, from 18/04/2015 to 21/06/2022\n",
      "2022-07-08 20:52:56,845 [app.utils.fetch_data] [INFO] Fetching stock from investing_api: HSIC, from 23/03/2014 to 08/07/2022\n",
      "2022-07-08 20:53:04,378 [app.utils.fetch_data] [INFO] Fetching stock from investing_api: NXPI, from 20/04/2020 to 08/07/2022\n"
     ]
    },
    {
     "name": "stdout",
     "output_type": "stream",
     "text": [
      "Error when calling data for CAM\n"
     ]
    },
    {
     "name": "stderr",
     "output_type": "stream",
     "text": [
      "2022-07-08 20:53:12,614 [app.utils.fetch_data] [INFO] Fetching stock from investing_api: TDY, from 21/09/2019 to 08/07/2022\n",
      "2022-07-08 20:53:19,600 [app.utils.fetch_data] [INFO] Fetching stock from investing_api: CCI, from 03/04/2011 to 08/07/2022\n"
     ]
    },
    {
     "name": "stdout",
     "output_type": "stream",
     "text": [
      "Error when calling data for TRB\n",
      "Error when calling data for EK\n"
     ]
    },
    {
     "name": "stderr",
     "output_type": "stream",
     "text": [
      "2022-07-08 20:53:31,810 [app.utils.fetch_data] [INFO] Fetching stock from investing_api: INTC, from 07/06/1999 to 08/07/2022\n",
      "2022-07-08 20:53:42,613 [app.utils.fetch_data] [INFO] Fetching stock from investing_api: ORLY, from 07/06/1999 to 08/07/2022\n"
     ]
    },
    {
     "name": "stdout",
     "output_type": "stream",
     "text": [
      "Error when calling data for CEPH\n"
     ]
    },
    {
     "name": "stderr",
     "output_type": "stream",
     "text": [
      "2022-07-08 20:53:51,344 [app.utils.fetch_data] [INFO] Fetching stock from investing_api: NLOK, from 07/06/1999 to 08/07/2022\n",
      "2022-07-08 20:53:59,145 [app.utils.fetch_data] [INFO] Fetching stock from investing_api: CHTR, from 22/09/2015 to 08/07/2022\n",
      "2022-07-08 20:54:09,206 [app.utils.fetch_data] [INFO] Fetching stock from alpha vantage api: CPWR\n",
      "2022-07-08 20:54:21,251 [app.utils.fetch_data] [INFO] Fetching stock from alpha vantage api: ACAS\n",
      "2022-07-08 20:54:29,047 [app.utils.fetch_data] [INFO] Fetching stock from investing_api: DTE, from 07/06/1999 to 08/07/2022\n",
      "2022-07-08 20:54:37,955 [app.utils.fetch_data] [INFO] Fetching stock from investing_api: WHR, from 07/06/1999 to 08/07/2022\n",
      "2022-07-08 20:54:44,708 [app.utils.fetch_data] [INFO] Fetching stock from investing_api: FTNT, from 06/11/2017 to 08/07/2022\n",
      "2022-07-08 20:54:54,496 [app.utils.fetch_data] [INFO] Fetching stock from investing_api: LNT, from 05/07/2015 to 08/07/2022\n",
      "2022-07-08 20:55:01,524 [app.utils.fetch_data] [INFO] Fetching stock from investing_api: CB, from 26/08/2009 to 08/07/2022\n",
      "2022-07-08 20:58:30,803 [app.utils.fetch_data] [INFO] Fetching stock from investing_api: EXR, from 01/02/2015 to 08/07/2022\n",
      "2022-07-08 20:58:38,661 [app.utils.fetch_data] [INFO] Fetching stock from investing_api: AAPL, from 07/06/1999 to 08/07/2022\n",
      "2022-07-08 20:58:45,219 [app.utils.fetch_data] [INFO] Fetching stock from investing_api: MPWR, from 22/03/2020 to 08/07/2022\n",
      "2022-07-08 20:58:55,034 [app.utils.fetch_data] [INFO] Fetching stock from alpha vantage api: TFC\n",
      "2022-07-08 20:59:06,107 [app.utils.fetch_data] [INFO] Fetching stock from investing_api: VRSN, from 07/06/1999 to 08/07/2022\n",
      "2022-07-08 21:04:16,009 [app.utils.fetch_data] [INFO] Fetching stock from investing_api: CMA, from 07/06/1999 to 08/07/2022\n",
      "2022-07-08 21:04:22,831 [app.utils.fetch_data] [INFO] Fetching stock from investing_api: HAS, from 07/06/1999 to 08/07/2022\n",
      "2022-07-08 21:04:31,222 [app.utils.fetch_data] [INFO] Fetching stock from investing_api: MOH, from 04/04/2021 to 08/07/2022\n",
      "2022-07-08 21:04:39,039 [app.utils.fetch_data] [INFO] Fetching stock from alpha vantage api: JOY\n",
      "2022-07-08 21:04:45,816 [app.utils.fetch_data] [INFO] Fetching stock from investing_api: FLS, from 07/06/1999 to 22/03/2021\n",
      "2022-07-08 21:04:56,560 [app.utils.fetch_data] [INFO] Fetching stock from investing_api: KIM, from 07/06/1999 to 08/07/2022\n",
      "2022-07-08 21:05:52,910 [app.utils.fetch_data] [INFO] Fetching stock from alpha vantage api: BALL\n",
      "2022-07-08 21:05:58,781 [app.utils.fetch_data] [INFO] Fetching stock from investing_api: SEDG, from 02/02/2021 to 08/07/2022\n",
      "2022-07-08 21:06:07,745 [app.utils.fetch_data] [INFO] Fetching stock from investing_api: HP, from 29/04/2009 to 22/05/2020\n",
      "2022-07-08 21:06:16,538 [app.utils.fetch_data] [INFO] Fetching stock from investing_api: AEE, from 07/06/1999 to 08/07/2022\n"
     ]
    },
    {
     "name": "stdout",
     "output_type": "stream",
     "text": [
      "Error when calling data for FNM\n"
     ]
    },
    {
     "name": "stderr",
     "output_type": "stream",
     "text": [
      "2022-07-08 21:06:25,091 [app.utils.fetch_data] [INFO] Fetching stock from investing_api: L, from 07/06/1999 to 08/07/2022\n",
      "2022-07-08 21:06:37,292 [app.utils.fetch_data] [INFO] Fetching stock from alpha vantage api: CMCSK\n"
     ]
    },
    {
     "name": "stdout",
     "output_type": "stream",
     "text": [
      "Error when calling data for FRX\n"
     ]
    },
    {
     "name": "stderr",
     "output_type": "stream",
     "text": [
      "2022-07-08 21:06:45,875 [app.utils.fetch_data] [INFO] Fetching stock from investing_api: PSX, from 17/05/2011 to 08/07/2022\n",
      "2022-07-08 21:06:55,691 [app.utils.fetch_data] [INFO] Fetching stock from investing_api: CPRI, from 02/12/2012 to 12/05/2020\n",
      "2022-07-08 21:07:05,451 [app.utils.fetch_data] [INFO] Fetching stock from investing_api: COP, from 07/06/1999 to 08/07/2022\n",
      "2022-07-08 21:07:13,890 [app.utils.fetch_data] [INFO] Fetching stock from alpha vantage api: APOL\n",
      "2022-07-08 21:07:19,420 [app.utils.fetch_data] [INFO] Fetching stock from investing_api: CCK, from 07/06/1999 to 05/12/2000\n",
      "2022-07-08 21:07:31,073 [app.utils.fetch_data] [INFO] Fetching stock from alpha vantage api: XTO\n",
      "2022-07-08 21:07:38,846 [app.utils.fetch_data] [INFO] Fetching stock from investing_api: NOV, from 07/06/1999 to 20/09/2021\n",
      "2022-07-08 21:07:45,548 [app.utils.fetch_data] [INFO] Fetching stock from investing_api: EXPD, from 07/06/1999 to 08/07/2022\n",
      "2022-07-08 21:07:52,356 [app.utils.fetch_data] [INFO] Fetching stock from investing_api: MS, from 07/06/1999 to 08/07/2022\n",
      "2022-07-08 21:07:58,172 [app.utils.fetch_data] [INFO] Fetching stock from investing_api: XEC, from 01/07/2013 to 02/03/2020\n",
      "2022-07-08 21:08:04,965 [app.utils.fetch_data] [INFO] Fetching stock from investing_api: LLY, from 07/06/1999 to 08/07/2022\n",
      "2022-07-08 21:08:15,862 [app.utils.fetch_data] [INFO] Fetching stock from investing_api: NTAP, from 07/06/1999 to 08/07/2022\n",
      "2022-07-08 21:08:23,801 [app.utils.fetch_data] [INFO] Fetching stock from investing_api: ANET, from 14/09/2017 to 08/07/2022\n",
      "2022-07-08 21:08:35,529 [app.utils.fetch_data] [INFO] Fetching stock from alpha vantage api: CFN\n",
      "2022-07-08 21:08:47,195 [app.utils.fetch_data] [INFO] Fetching stock from alpha vantage api: NVLS\n",
      "2022-07-08 21:08:53,385 [app.utils.fetch_data] [INFO] Fetching stock from investing_api: SLM, from 07/06/1999 to 01/05/2014\n",
      "2022-07-08 21:09:04,091 [app.utils.fetch_data] [INFO] Fetching stock from investing_api: WYNN, from 07/06/1999 to 08/07/2022\n",
      "2022-07-08 21:09:13,334 [app.utils.fetch_data] [INFO] Fetching stock from alpha vantage api: MWW\n",
      "2022-07-08 21:09:21,937 [app.utils.fetch_data] [INFO] Fetching stock from investing_api: NDSN, from 02/03/2021 to 08/07/2022\n",
      "2022-07-08 21:09:32,946 [app.utils.fetch_data] [INFO] Fetching stock from alpha vantage api: LO\n",
      "2022-07-08 21:09:41,802 [app.utils.fetch_data] [INFO] Fetching stock from investing_api: UAA, from 08/05/2013 to 21/06/2022\n",
      "2022-07-08 21:09:58,346 [app.utils.fetch_data] [INFO] Fetching stock from alpha vantage api: SPLS\n",
      "2022-07-08 21:10:07,122 [app.utils.fetch_data] [INFO] Fetching stock from investing_api: NVR, from 03/10/2018 to 08/07/2022\n"
     ]
    },
    {
     "name": "stdout",
     "output_type": "stream",
     "text": [
      "Error when calling data for SBL\n"
     ]
    },
    {
     "name": "stderr",
     "output_type": "stream",
     "text": [
      "2022-07-08 21:10:16,531 [app.utils.fetch_data] [INFO] Fetching stock from investing_api: FBHS, from 01/07/2015 to 08/07/2022\n",
      "2022-07-08 21:10:25,287 [app.utils.fetch_data] [INFO] Fetching stock from investing_api: BIIB, from 07/06/1999 to 08/07/2022\n",
      "2022-07-08 21:10:32,079 [app.utils.fetch_data] [INFO] Fetching stock from investing_api: AGN, from 07/06/1999 to 12/05/2020\n"
     ]
    },
    {
     "name": "stdout",
     "output_type": "stream",
     "text": [
      "Error when calling data for CFC\n"
     ]
    },
    {
     "name": "stderr",
     "output_type": "stream",
     "text": [
      "2022-07-08 21:10:39,958 [app.utils.fetch_data] [INFO] Fetching stock from investing_api: AVB, from 30/03/2006 to 08/07/2022\n",
      "2022-07-08 21:10:50,639 [app.utils.fetch_data] [INFO] Fetching stock from investing_api: JBHT, from 02/07/2014 to 08/07/2022\n",
      "2022-07-08 21:11:00,909 [app.utils.fetch_data] [INFO] Fetching stock from investing_api: AN, from 07/06/1999 to 08/08/2017\n",
      "2022-07-08 21:11:06,972 [app.utils.fetch_data] [INFO] Fetching stock from investing_api: XYL, from 18/11/2010 to 08/07/2022\n"
     ]
    },
    {
     "name": "stdout",
     "output_type": "stream",
     "text": [
      "Error when calling data for RHT\n"
     ]
    },
    {
     "name": "stderr",
     "output_type": "stream",
     "text": [
      "2022-07-08 21:11:18,500 [app.utils.fetch_data] [INFO] Fetching stock from investing_api: DVN, from 07/06/1999 to 08/07/2022\n",
      "2022-07-08 21:11:28,971 [app.utils.fetch_data] [INFO] Fetching stock from investing_api: WU, from 07/06/1999 to 20/12/2021\n",
      "2022-07-08 21:11:38,841 [app.utils.fetch_data] [INFO] Fetching stock from investing_api: D, from 07/06/1999 to 08/07/2022\n",
      "2022-07-08 21:11:53,554 [app.utils.fetch_data] [INFO] Fetching stock from alpha vantage api: SNDK\n",
      "2022-07-08 21:12:02,406 [app.utils.fetch_data] [INFO] Fetching stock from investing_api: XRAY, from 07/06/1999 to 08/07/2022\n",
      "2022-07-08 21:12:10,193 [app.utils.fetch_data] [INFO] Fetching stock from investing_api: GIS, from 07/06/1999 to 08/07/2022\n",
      "2022-07-08 21:12:18,048 [app.utils.fetch_data] [INFO] Fetching stock from investing_api: BC, from 07/06/1999 to 23/06/2008\n",
      "2022-07-08 21:12:25,941 [app.utils.fetch_data] [INFO] Fetching stock from investing_api: TEL, from 31/10/2010 to 08/07/2022\n",
      "2022-07-08 21:12:36,840 [app.utils.fetch_data] [INFO] Fetching stock from investing_api: CSCO, from 07/06/1999 to 08/07/2022\n",
      "2022-07-08 21:12:45,703 [app.utils.fetch_data] [INFO] Fetching stock from investing_api: UAL, from 18/09/2014 to 08/07/2022\n",
      "2022-07-08 21:12:54,448 [app.utils.fetch_data] [INFO] Fetching stock from investing_api: ALGN, from 26/07/2016 to 08/07/2022\n",
      "2022-07-08 21:13:02,180 [app.utils.fetch_data] [INFO] Fetching stock from alpha vantage api: Q\n",
      "2022-07-08 21:13:10,984 [app.utils.fetch_data] [INFO] Fetching stock from investing_api: CXO, from 04/03/2015 to 21/01/2021\n"
     ]
    },
    {
     "name": "stdout",
     "output_type": "stream",
     "text": [
      "Error when calling data for TYC\n"
     ]
    },
    {
     "name": "stderr",
     "output_type": "stream",
     "text": [
      "2022-07-08 21:13:18,751 [app.utils.fetch_data] [INFO] Fetching stock from alpha vantage api: CEG\n"
     ]
    },
    {
     "name": "stdout",
     "output_type": "stream",
     "text": [
      "Error when calling data for GR\n"
     ]
    },
    {
     "name": "stderr",
     "output_type": "stream",
     "text": [
      "2022-07-08 21:13:29,318 [app.utils.fetch_data] [INFO] Fetching stock from investing_api: PRGO, from 20/12/2010 to 20/09/2021\n"
     ]
    },
    {
     "name": "stdout",
     "output_type": "stream",
     "text": [
      "Error when calling data for SLE\n"
     ]
    },
    {
     "name": "stderr",
     "output_type": "stream",
     "text": [
      "2022-07-08 21:13:37,717 [app.utils.fetch_data] [INFO] Fetching stock from investing_api: MCK, from 07/06/1999 to 08/07/2022\n",
      "2022-07-08 21:13:47,096 [app.utils.fetch_data] [INFO] Fetching stock from investing_api: ON, from 08/07/2021 to 08/07/2022\n",
      "2022-07-08 21:13:54,882 [app.utils.fetch_data] [INFO] Fetching stock from investing_api: IQV, from 01/09/2016 to 08/07/2022\n",
      "2022-07-08 21:14:04,882 [app.utils.fetch_data] [INFO] Fetching stock from investing_api: RRC, from 10/06/2007 to 18/06/2018\n",
      "2022-07-08 21:14:11,522 [app.utils.fetch_data] [INFO] Fetching stock from investing_api: CBRE, from 07/06/1999 to 08/07/2022\n",
      "2022-07-08 21:14:20,250 [app.utils.fetch_data] [INFO] Fetching stock from investing_api: EFX, from 07/06/1999 to 08/07/2022\n",
      "2022-07-08 21:14:28,016 [app.utils.fetch_data] [INFO] Fetching stock from investing_api: TER, from 07/06/1999 to 08/07/2022\n",
      "2022-07-08 21:14:34,746 [app.utils.fetch_data] [INFO] Fetching stock from investing_api: ROP, from 07/06/1999 to 08/07/2022\n",
      "2022-07-08 21:14:42,964 [app.utils.fetch_data] [INFO] Fetching stock from investing_api: PKI, from 07/06/1999 to 08/07/2022\n",
      "2022-07-08 21:14:49,680 [app.utils.fetch_data] [INFO] Fetching stock from investing_api: TMUS, from 09/08/2018 to 08/07/2022\n",
      "2022-07-08 21:14:59,414 [app.utils.fetch_data] [INFO] Fetching stock from investing_api: ADP, from 07/06/1999 to 08/07/2022\n",
      "2022-07-08 21:15:10,013 [app.utils.fetch_data] [INFO] Fetching stock from investing_api: SRE, from 07/06/1999 to 08/07/2022\n",
      "2022-07-08 21:15:22,388 [app.utils.fetch_data] [INFO] Fetching stock from alpha vantage api: EMC\n"
     ]
    },
    {
     "name": "stdout",
     "output_type": "stream",
     "text": [
      "Error when calling data for RDC\n"
     ]
    },
    {
     "name": "stderr",
     "output_type": "stream",
     "text": [
      "2022-07-08 21:15:30,252 [app.utils.fetch_data] [INFO] Fetching stock from investing_api: A, from 07/06/1999 to 08/07/2022\n",
      "2022-07-08 21:15:38,892 [app.utils.fetch_data] [INFO] Fetching stock from investing_api: CTXS, from 07/06/1999 to 08/07/2022\n",
      "2022-07-08 21:15:45,608 [app.utils.fetch_data] [INFO] Fetching stock from investing_api: IRM, from 07/06/1999 to 08/07/2022\n",
      "2022-07-08 21:15:57,174 [app.utils.fetch_data] [INFO] Fetching stock from alpha vantage api: CSC\n",
      "2022-07-08 21:16:03,498 [app.utils.fetch_data] [INFO] Fetching stock from investing_api: DG, from 11/12/2011 to 08/07/2022\n",
      "2022-07-08 21:16:13,325 [app.utils.fetch_data] [INFO] Fetching stock from investing_api: AMD, from 07/06/1999 to 08/07/2022\n",
      "2022-07-08 21:16:25,716 [app.utils.fetch_data] [INFO] Fetching stock from alpha vantage api: GGP\n",
      "2022-07-08 21:16:35,592 [app.utils.fetch_data] [INFO] Fetching stock from investing_api: CPB, from 07/06/1999 to 08/07/2022\n",
      "2022-07-08 21:16:47,870 [app.utils.fetch_data] [INFO] Fetching stock from alpha vantage api: HCBK\n",
      "2022-07-08 21:16:58,916 [app.utils.fetch_data] [INFO] Fetching stock from investing_api: NOW, from 05/12/2018 to 08/07/2022\n",
      "2022-07-08 21:17:06,089 [app.utils.fetch_data] [INFO] Fetching stock from investing_api: VMC, from 07/06/1999 to 08/07/2022\n",
      "2022-07-08 21:17:16,438 [app.utils.fetch_data] [INFO] Fetching stock from alpha vantage api: MHS\n",
      "2022-07-08 21:17:22,345 [app.utils.fetch_data] [INFO] Fetching stock from investing_api: IT, from 02/06/2016 to 08/07/2022\n",
      "2022-07-08 21:17:34,303 [app.utils.fetch_data] [INFO] Fetching stock from investing_api: WELL, from 07/06/1999 to 08/07/2022\n",
      "2022-07-08 21:17:43,543 [app.utils.fetch_data] [INFO] Fetching stock from investing_api: HAL, from 07/06/1999 to 08/07/2022\n"
     ]
    },
    {
     "name": "stdout",
     "output_type": "stream",
     "text": [
      "Error when calling data for GLK\n"
     ]
    },
    {
     "name": "stderr",
     "output_type": "stream",
     "text": [
      "2022-07-08 21:17:52,468 [app.utils.fetch_data] [INFO] Fetching stock from investing_api: APH, from 07/06/1999 to 08/07/2022\n",
      "2022-07-08 21:18:02,228 [app.utils.fetch_data] [INFO] Fetching stock from investing_api: TXN, from 07/06/1999 to 08/07/2022\n",
      "2022-07-08 21:18:08,821 [app.utils.fetch_data] [INFO] Fetching stock from investing_api: GWW, from 07/06/1999 to 08/07/2022\n",
      "2022-07-08 21:18:19,409 [app.utils.fetch_data] [INFO] Fetching stock from investing_api: BXP, from 07/06/1999 to 08/07/2022\n",
      "2022-07-08 21:18:26,777 [app.utils.fetch_data] [INFO] Fetching stock from investing_api: PDCO, from 07/06/1999 to 19/03/2018\n",
      "2022-07-08 21:18:33,683 [app.utils.fetch_data] [INFO] Fetching stock from investing_api: PAYX, from 07/06/1999 to 08/07/2022\n",
      "2022-07-08 21:18:42,510 [app.utils.fetch_data] [INFO] Fetching stock from investing_api: BMY, from 07/06/1999 to 08/07/2022\n",
      "2022-07-08 21:18:51,339 [app.utils.fetch_data] [INFO] Fetching stock from investing_api: REG, from 13/03/2016 to 08/07/2022\n",
      "2022-07-08 21:18:59,267 [app.utils.fetch_data] [INFO] Fetching stock from investing_api: ALLE, from 10/12/2012 to 08/07/2022\n",
      "2022-07-08 21:19:06,994 [app.utils.fetch_data] [INFO] Fetching stock from investing_api: NEM, from 07/06/1999 to 08/07/2022\n",
      "2022-07-08 21:19:16,488 [app.utils.fetch_data] [INFO] Fetching stock from investing_api: MRK, from 07/06/1999 to 08/07/2022\n",
      "2022-07-08 21:19:23,138 [app.utils.fetch_data] [INFO] Fetching stock from investing_api: MKC, from 07/06/1999 to 08/07/2022\n"
     ]
    },
    {
     "name": "stdout",
     "output_type": "stream",
     "text": [
      "Error when calling data for BMC\n"
     ]
    },
    {
     "name": "stderr",
     "output_type": "stream",
     "text": [
      "2022-07-08 21:19:31,910 [app.utils.fetch_data] [INFO] Fetching stock from investing_api: AON, from 07/06/1999 to 08/07/2022\n",
      "2022-07-08 21:19:41,368 [app.utils.fetch_data] [INFO] Fetching stock from alpha vantage api: BTU\n",
      "2022-07-08 21:19:50,545 [app.utils.fetch_data] [INFO] Fetching stock from investing_api: JCI, from 07/06/1999 to 08/07/2022\n",
      "2022-07-08 21:19:59,528 [app.utils.fetch_data] [INFO] Fetching stock from investing_api: PNR, from 02/10/2011 to 08/07/2022\n",
      "2022-07-08 21:20:05,289 [app.utils.fetch_data] [INFO] Fetching stock from investing_api: MSCI, from 31/05/2017 to 08/07/2022\n",
      "2022-07-08 21:20:13,013 [app.utils.fetch_data] [INFO] Fetching stock from alpha vantage api: DNB\n",
      "2022-07-08 21:20:19,791 [app.utils.fetch_data] [INFO] Fetching stock from investing_api: FIS, from 07/06/1999 to 08/07/2022\n",
      "2022-07-08 21:20:29,592 [app.utils.fetch_data] [INFO] Fetching stock from investing_api: MAA, from 05/01/2016 to 08/07/2022\n",
      "2022-07-08 21:20:38,255 [app.utils.fetch_data] [INFO] Fetching stock from investing_api: INTU, from 25/09/2002 to 08/07/2022\n",
      "2022-07-08 21:20:45,999 [app.utils.fetch_data] [INFO] Fetching stock from investing_api: LW, from 24/12/2017 to 08/07/2022\n",
      "2022-07-08 21:20:53,774 [app.utils.fetch_data] [INFO] Fetching stock from investing_api: IDXX, from 28/02/2016 to 08/07/2022\n",
      "2022-07-08 21:20:59,526 [app.utils.fetch_data] [INFO] Fetching stock from investing_api: PKG, from 08/08/2016 to 08/07/2022\n",
      "2022-07-08 21:21:09,570 [app.utils.fetch_data] [INFO] Fetching stock from investing_api: CERN, from 28/06/2009 to 08/06/2022\n",
      "2022-07-08 21:21:18,395 [app.utils.fetch_data] [INFO] Fetching stock from investing_api: CAT, from 07/06/1999 to 08/07/2022\n",
      "2022-07-08 21:21:28,548 [app.utils.fetch_data] [INFO] Fetching stock from investing_api: ANF, from 07/06/1999 to 23/12/2013\n",
      "2022-07-08 21:21:36,409 [app.utils.fetch_data] [INFO] Fetching stock from investing_api: COF, from 07/06/1999 to 08/07/2022\n",
      "2022-07-08 21:21:46,594 [app.utils.fetch_data] [INFO] Fetching stock from investing_api: BBBY, from 07/06/1999 to 26/07/2017\n",
      "2022-07-08 21:21:56,011 [app.utils.fetch_data] [INFO] Fetching stock from investing_api: KDP, from 08/07/2021 to 08/07/2022\n",
      "2022-07-08 21:22:06,865 [app.utils.fetch_data] [INFO] Fetching stock from investing_api: DD, from 07/06/1999 to 08/07/2022\n",
      "2022-07-08 21:22:15,610 [app.utils.fetch_data] [INFO] Fetching stock from investing_api: TSN, from 07/06/1999 to 08/07/2022\n",
      "2022-07-08 21:22:23,265 [app.utils.fetch_data] [INFO] Fetching stock from investing_api: LOW, from 07/06/1999 to 08/07/2022\n",
      "2022-07-08 21:22:31,020 [app.utils.fetch_data] [INFO] Fetching stock from investing_api: CDNS, from 13/10/2016 to 08/07/2022\n"
     ]
    },
    {
     "name": "stdout",
     "output_type": "stream",
     "text": [
      "Error when calling data for WIN\n"
     ]
    },
    {
     "name": "stderr",
     "output_type": "stream",
     "text": [
      "2022-07-08 21:22:40,811 [app.utils.fetch_data] [INFO] Fetching stock from investing_api: V, from 26/02/2009 to 08/07/2022\n",
      "2022-07-08 21:22:48,552 [app.utils.fetch_data] [INFO] Fetching stock from investing_api: DE, from 07/06/1999 to 08/07/2022\n",
      "2022-07-08 21:22:56,708 [app.utils.fetch_data] [INFO] Fetching stock from investing_api: IVZ, from 07/06/1999 to 08/07/2022\n",
      "2022-07-08 21:23:03,294 [app.utils.fetch_data] [INFO] Fetching stock from investing_api: AMP, from 07/06/1999 to 08/07/2022\n"
     ]
    },
    {
     "name": "stdout",
     "output_type": "stream",
     "text": [
      "Error when calling data for SLR\n"
     ]
    },
    {
     "name": "stderr",
     "output_type": "stream",
     "text": [
      "2022-07-08 21:23:10,416 [app.utils.fetch_data] [INFO] Fetching stock from investing_api: FAST, from 16/09/2007 to 08/07/2022\n",
      "2022-07-08 21:23:21,373 [app.utils.fetch_data] [INFO] Fetching stock from alpha vantage api: FDO\n",
      "2022-07-08 21:23:27,266 [app.utils.fetch_data] [INFO] Fetching stock from investing_api: SNPS, from 20/03/2016 to 08/07/2022\n"
     ]
    },
    {
     "name": "stdout",
     "output_type": "stream",
     "text": [
      "Error when calling data for PTV\n"
     ]
    },
    {
     "name": "stderr",
     "output_type": "stream",
     "text": [
      "2022-07-08 21:23:36,639 [app.utils.fetch_data] [INFO] Fetching stock from investing_api: DXC, from 05/04/2016 to 08/07/2022\n",
      "2022-07-08 21:23:49,927 [app.utils.fetch_data] [INFO] Fetching stock from alpha vantage api: TT\n",
      "2022-07-08 21:23:58,787 [app.utils.fetch_data] [INFO] Fetching stock from investing_api: C, from 07/06/1999 to 08/07/2022\n",
      "2022-07-08 21:24:06,986 [app.utils.fetch_data] [INFO] Fetching stock from investing_api: QRVO, from 01/07/2014 to 08/07/2022\n",
      "2022-07-08 21:24:13,462 [app.utils.fetch_data] [INFO] Fetching stock from investing_api: TYL, from 21/09/2019 to 08/07/2022\n",
      "2022-07-08 21:24:22,945 [app.utils.fetch_data] [INFO] Fetching stock from investing_api: NAVI, from 08/05/2013 to 05/06/2018\n",
      "2022-07-08 21:24:28,517 [app.utils.fetch_data] [INFO] Fetching stock from investing_api: CTLT, from 07/10/2019 to 08/07/2022\n",
      "2022-07-08 21:24:38,622 [app.utils.fetch_data] [INFO] Fetching stock from investing_api: EXPE, from 26/10/2006 to 08/07/2022\n",
      "2022-07-08 21:24:45,322 [app.utils.fetch_data] [INFO] Fetching stock from investing_api: RF, from 07/06/1999 to 08/07/2022\n",
      "2022-07-08 21:24:51,238 [app.utils.fetch_data] [INFO] Fetching stock from investing_api: MLM, from 06/08/2013 to 08/07/2022\n",
      "2022-07-08 21:24:58,970 [app.utils.fetch_data] [INFO] Fetching stock from investing_api: BSX, from 07/06/1999 to 08/07/2022\n",
      "2022-07-08 21:25:08,679 [app.utils.fetch_data] [INFO] Fetching stock from investing_api: NSC, from 07/06/1999 to 08/07/2022\n"
     ]
    },
    {
     "name": "stdout",
     "output_type": "stream",
     "text": [
      "Error when calling data for CBE\n"
     ]
    },
    {
     "name": "stderr",
     "output_type": "stream",
     "text": [
      "2022-07-08 21:25:17,374 [app.utils.fetch_data] [INFO] Fetching stock from alpha vantage api: CARR\n",
      "2022-07-08 21:25:23,118 [app.utils.fetch_data] [INFO] Fetching stock from investing_api: CLF, from 26/02/2009 to 02/04/2014\n",
      "2022-07-08 21:25:33,833 [app.utils.fetch_data] [INFO] Fetching stock from investing_api: VFC, from 07/06/1999 to 08/07/2022\n",
      "2022-07-08 21:25:39,659 [app.utils.fetch_data] [INFO] Fetching stock from investing_api: ZTS, from 28/06/2012 to 08/07/2022\n",
      "2022-07-08 21:25:51,602 [app.utils.fetch_data] [INFO] Fetching stock from alpha vantage api: JDSU\n",
      "2022-07-08 21:25:59,442 [app.utils.fetch_data] [INFO] Fetching stock from alpha vantage api: STJ\n",
      "2022-07-08 21:26:10,031 [app.utils.fetch_data] [INFO] Fetching stock from investing_api: EMN, from 07/06/1999 to 08/07/2022\n",
      "2022-07-08 21:26:18,773 [app.utils.fetch_data] [INFO] Fetching stock from investing_api: ABC, from 07/06/1999 to 08/07/2022\n"
     ]
    },
    {
     "name": "stdout",
     "output_type": "stream",
     "text": [
      "Error when calling data for KSE\n"
     ]
    },
    {
     "name": "stderr",
     "output_type": "stream",
     "text": [
      "2022-07-08 21:26:27,050 [app.utils.fetch_data] [INFO] Fetching stock from investing_api: EW, from 01/04/2010 to 08/07/2022\n",
      "2022-07-08 21:26:35,683 [app.utils.fetch_data] [INFO] Fetching stock from investing_api: ETFC, from 07/06/1999 to 07/10/2020\n",
      "2022-07-08 21:26:44,872 [app.utils.fetch_data] [INFO] Fetching stock from alpha vantage api: SVU\n"
     ]
    },
    {
     "name": "stdout",
     "output_type": "stream",
     "text": [
      "Error when calling data for FRE\n"
     ]
    },
    {
     "name": "stderr",
     "output_type": "stream",
     "text": [
      "2022-07-08 21:26:52,624 [app.utils.fetch_data] [INFO] Fetching stock from investing_api: LVS, from 21/11/2018 to 08/07/2022\n",
      "2022-07-08 21:27:01,432 [app.utils.fetch_data] [INFO] Fetching stock from investing_api: AKAM, from 07/06/1999 to 08/07/2022\n",
      "2022-07-08 21:27:12,278 [app.utils.fetch_data] [INFO] Fetching stock from investing_api: SLB, from 07/06/1999 to 08/07/2022\n",
      "2022-07-08 21:27:22,344 [app.utils.fetch_data] [INFO] Fetching stock from investing_api: GHC, from 07/06/1999 to 20/09/2014\n",
      "2022-07-08 21:27:30,183 [app.utils.fetch_data] [INFO] Fetching stock from investing_api: BA, from 07/06/1999 to 08/07/2022\n",
      "2022-07-08 21:27:36,885 [app.utils.fetch_data] [INFO] Fetching stock from investing_api: STE, from 28/01/2019 to 08/07/2022\n",
      "2022-07-08 21:27:44,930 [app.utils.fetch_data] [INFO] Fetching stock from alpha vantage api: BJS\n",
      "2022-07-08 21:27:55,900 [app.utils.fetch_data] [INFO] Fetching stock from investing_api: AXP, from 07/06/1999 to 08/07/2022\n",
      "2022-07-08 21:28:01,690 [app.utils.fetch_data] [INFO] Fetching stock from investing_api: PYPL, from 29/07/2014 to 08/07/2022\n",
      "2022-07-08 21:28:09,711 [app.utils.fetch_data] [INFO] Fetching stock from investing_api: JEF, from 26/09/2006 to 26/09/2019\n",
      "2022-07-08 21:28:17,449 [app.utils.fetch_data] [INFO] Fetching stock from investing_api: CBOE, from 02/03/2016 to 08/07/2022\n",
      "2022-07-08 21:28:26,224 [app.utils.fetch_data] [INFO] Fetching stock from alpha vantage api: DYN\n",
      "2022-07-08 21:28:32,989 [app.utils.fetch_data] [INFO] Fetching stock from investing_api: KEYS, from 13/11/2017 to 08/07/2022\n",
      "2022-07-08 21:28:41,630 [app.utils.fetch_data] [INFO] Fetching stock from alpha vantage api: MJN\n",
      "2022-07-08 21:28:53,378 [app.utils.fetch_data] [INFO] Fetching stock from alpha vantage api: TSS\n",
      "2022-07-08 21:29:00,068 [app.utils.fetch_data] [INFO] Fetching stock from investing_api: CZR, from 20/04/2020 to 08/07/2022\n",
      "2022-07-08 21:29:08,641 [app.utils.fetch_data] [INFO] Fetching stock from investing_api: BIO, from 21/09/2019 to 08/07/2022\n",
      "2022-07-08 21:29:16,287 [app.utils.fetch_data] [INFO] Fetching stock from investing_api: IEX, from 23/09/2018 to 08/07/2022\n",
      "2022-07-08 21:29:25,679 [app.utils.fetch_data] [INFO] Fetching stock from investing_api: R, from 07/06/1999 to 19/06/2017\n",
      "2022-07-08 21:29:32,462 [app.utils.fetch_data] [INFO] Fetching stock from alpha vantage api: XL\n",
      "2022-07-08 21:29:38,548 [app.utils.fetch_data] [INFO] Fetching stock from investing_api: MHK, from 24/01/2013 to 08/07/2022\n",
      "2022-07-08 21:29:49,979 [app.utils.fetch_data] [INFO] Fetching stock from investing_api: ROK, from 07/06/1999 to 08/07/2022\n",
      "2022-07-08 21:29:56,658 [app.utils.fetch_data] [INFO] Fetching stock from investing_api: RE, from 26/07/2016 to 08/07/2022\n",
      "2022-07-08 21:30:06,732 [app.utils.fetch_data] [INFO] Fetching stock from alpha vantage api: HAR\n",
      "2022-07-08 21:30:14,498 [app.utils.fetch_data] [INFO] Fetching stock from investing_api: HFC, from 20/06/2017 to 04/06/2021\n",
      "2022-07-08 21:30:24,374 [app.utils.fetch_data] [INFO] Fetching stock from investing_api: WM, from 07/06/1999 to 08/07/2022\n",
      "2022-07-08 21:30:32,043 [app.utils.fetch_data] [INFO] Fetching stock from investing_api: ODFL, from 23/12/2018 to 08/07/2022\n",
      "2022-07-08 21:30:39,862 [app.utils.fetch_data] [INFO] Fetching stock from investing_api: OMC, from 07/06/1999 to 08/07/2022\n",
      "2022-07-08 21:30:46,265 [app.utils.fetch_data] [INFO] Fetching stock from investing_api: SRCL, from 07/06/1999 to 03/12/2018\n",
      "2022-07-08 21:30:52,465 [app.utils.fetch_data] [INFO] Fetching stock from investing_api: THC, from 07/06/1999 to 18/04/2016\n",
      "2022-07-08 21:31:02,265 [app.utils.fetch_data] [INFO] Fetching stock from investing_api: CTSH, from 07/06/1999 to 08/07/2022\n",
      "2022-07-08 21:31:10,420 [app.utils.fetch_data] [INFO] Fetching stock from investing_api: UHS, from 05/11/2013 to 08/07/2022\n",
      "2022-07-08 21:31:17,426 [app.utils.fetch_data] [INFO] Fetching stock from investing_api: VLO, from 07/06/1999 to 08/07/2022\n",
      "2022-07-08 21:31:24,226 [app.utils.fetch_data] [INFO] Fetching stock from investing_api: BWA, from 20/12/2010 to 08/07/2022\n",
      "2022-07-08 21:31:32,800 [app.utils.fetch_data] [INFO] Fetching stock from investing_api: AYI, from 13/05/2015 to 18/06/2018\n",
      "2022-07-08 21:31:38,753 [app.utils.fetch_data] [INFO] Fetching stock from investing_api: GME, from 20/12/2006 to 25/04/2016\n",
      "2022-07-08 21:31:47,776 [app.utils.fetch_data] [INFO] Fetching stock from investing_api: TDC, from 02/10/2006 to 19/06/2017\n",
      "2022-07-08 21:31:53,884 [app.utils.fetch_data] [INFO] Fetching stock from investing_api: CIEN, from 07/06/1999 to 18/12/2009\n"
     ]
    },
    {
     "name": "stdout",
     "output_type": "stream",
     "text": [
      "Error when calling data for QTRN\n"
     ]
    },
    {
     "name": "stderr",
     "output_type": "stream",
     "text": [
      "2022-07-08 21:32:04,517 [app.utils.fetch_data] [INFO] Fetching stock from investing_api: UNH, from 07/06/1999 to 08/07/2022\n",
      "2022-07-08 21:32:13,730 [app.utils.fetch_data] [INFO] Fetching stock from alpha vantage api: MRNA\n",
      "2022-07-08 21:32:22,835 [app.utils.fetch_data] [INFO] Fetching stock from alpha vantage api: CA\n",
      "2022-07-08 21:32:30,715 [app.utils.fetch_data] [INFO] Fetching stock from investing_api: PEP, from 07/06/1999 to 08/07/2022\n",
      "2022-07-08 21:32:39,692 [app.utils.fetch_data] [INFO] Fetching stock from investing_api: GM, from 21/06/2012 to 08/07/2022\n",
      "2022-07-08 21:32:46,579 [app.utils.fetch_data] [INFO] Fetching stock from investing_api: MAR, from 07/06/1999 to 08/07/2022\n",
      "2022-07-08 21:32:56,373 [app.utils.fetch_data] [INFO] Fetching stock from investing_api: HSY, from 07/06/1999 to 08/07/2022\n",
      "2022-07-08 21:33:04,210 [app.utils.fetch_data] [INFO] Fetching stock from investing_api: ALB, from 05/07/2015 to 08/07/2022\n",
      "2022-07-08 21:33:10,240 [app.utils.fetch_data] [INFO] Fetching stock from investing_api: NLSN, from 10/09/2012 to 08/07/2022\n",
      "2022-07-08 21:33:16,224 [app.utils.fetch_data] [INFO] Fetching stock from investing_api: URI, from 05/11/2013 to 08/07/2022\n",
      "2022-07-08 21:33:24,974 [app.utils.fetch_data] [INFO] Fetching stock from investing_api: WST, from 22/06/2019 to 08/07/2022\n",
      "2022-07-08 21:33:31,598 [app.utils.fetch_data] [INFO] Fetching stock from investing_api: SBNY, from 02/02/2021 to 08/07/2022\n",
      "2022-07-08 21:33:37,172 [app.utils.fetch_data] [INFO] Fetching stock from investing_api: GNRC, from 20/04/2020 to 08/07/2022\n",
      "2022-07-08 21:33:48,045 [app.utils.fetch_data] [INFO] Fetching stock from investing_api: PHM, from 07/06/1999 to 08/07/2022\n",
      "2022-07-08 21:33:57,089 [app.utils.fetch_data] [INFO] Fetching stock from investing_api: NFLX, from 25/02/2010 to 08/07/2022\n",
      "2022-07-08 21:34:04,211 [app.utils.fetch_data] [INFO] Fetching stock from investing_api: FFIV, from 25/02/2010 to 08/07/2022\n",
      "2022-07-08 21:34:12,684 [app.utils.fetch_data] [INFO] Fetching stock from investing_api: FDS, from 02/02/2021 to 08/07/2022\n",
      "2022-07-08 21:34:18,244 [app.utils.fetch_data] [INFO] Fetching stock from investing_api: FOXA, from 08/07/2012 to 08/07/2022\n",
      "2022-07-08 21:34:27,609 [app.utils.fetch_data] [INFO] Fetching stock from investing_api: SBUX, from 12/06/1999 to 08/07/2022\n",
      "2022-07-08 21:34:38,452 [app.utils.fetch_data] [INFO] Fetching stock from investing_api: MCD, from 07/06/1999 to 08/07/2022\n",
      "2022-07-08 21:34:47,178 [app.utils.fetch_data] [INFO] Fetching stock from investing_api: PH, from 07/06/1999 to 08/07/2022\n",
      "2022-07-08 21:34:56,943 [app.utils.fetch_data] [INFO] Fetching stock from investing_api: SIG, from 28/08/2014 to 19/03/2018\n"
     ]
    },
    {
     "name": "stdout",
     "output_type": "stream",
     "text": [
      "Error when calling data for BF.B\n",
      "Error when calling data for WFR\n"
     ]
    },
    {
     "name": "stderr",
     "output_type": "stream",
     "text": [
      "2022-07-08 21:35:09,195 [app.utils.fetch_data] [INFO] Fetching stock from investing_api: TPR, from 07/06/1999 to 08/07/2022\n",
      "2022-07-08 21:35:17,117 [app.utils.fetch_data] [INFO] Fetching stock from investing_api: HCA, from 12/03/2014 to 08/07/2022\n",
      "2022-07-08 21:35:26,870 [app.utils.fetch_data] [INFO] Fetching stock from investing_api: KSS, from 07/06/1999 to 21/09/2020\n",
      "2022-07-08 21:35:36,708 [app.utils.fetch_data] [INFO] Fetching stock from investing_api: PNC, from 07/06/1999 to 08/07/2022\n",
      "2022-07-08 21:35:43,507 [app.utils.fetch_data] [INFO] Fetching stock from investing_api: EOG, from 07/06/1999 to 08/07/2022\n",
      "2022-07-08 21:35:51,415 [app.utils.fetch_data] [INFO] Fetching stock from investing_api: JPM, from 07/06/1999 to 08/07/2022\n",
      "2022-07-08 21:35:58,666 [app.utils.fetch_data] [INFO] Fetching stock from investing_api: NUE, from 07/06/1999 to 08/07/2022\n",
      "2022-07-08 21:36:05,524 [app.utils.fetch_data] [INFO] Fetching stock from investing_api: IFF, from 07/06/1999 to 08/07/2022\n",
      "2022-07-08 21:36:16,235 [app.utils.fetch_data] [INFO] Fetching stock from investing_api: ADI, from 07/06/1999 to 08/07/2022\n",
      "2022-07-08 21:36:26,328 [app.utils.fetch_data] [INFO] Fetching stock from investing_api: CVS, from 07/06/1999 to 08/07/2022\n"
     ]
    },
    {
     "name": "stdout",
     "output_type": "stream",
     "text": [
      "Error when calling data for NOVL\n"
     ]
    },
    {
     "name": "stderr",
     "output_type": "stream",
     "text": [
      "2022-07-08 21:36:36,485 [app.utils.fetch_data] [INFO] Fetching stock from investing_api: FANG, from 24/12/2017 to 08/07/2022\n",
      "2022-07-08 21:36:46,653 [app.utils.fetch_data] [INFO] Fetching stock from investing_api: MNST, from 02/07/2011 to 08/07/2022\n",
      "2022-07-08 21:36:53,492 [app.utils.fetch_data] [INFO] Fetching stock from investing_api: QCOM, from 07/06/1999 to 08/07/2022\n",
      "2022-07-08 21:37:01,628 [app.utils.fetch_data] [INFO] Fetching stock from alpha vantage api: CDAY\n",
      "2022-07-08 21:37:10,536 [app.utils.fetch_data] [INFO] Fetching stock from investing_api: AMT, from 07/06/1999 to 08/07/2022\n",
      "2022-07-08 21:37:18,305 [app.utils.fetch_data] [INFO] Fetching stock from investing_api: RHI, from 07/06/1999 to 08/07/2022\n",
      "2022-07-08 21:37:28,103 [app.utils.fetch_data] [INFO] Fetching stock from investing_api: NWS, from 07/10/2014 to 08/07/2022\n",
      "2022-07-08 21:37:34,875 [app.utils.fetch_data] [INFO] Fetching stock from investing_api: STT, from 07/06/1999 to 08/07/2022\n",
      "2022-07-08 21:37:46,334 [app.utils.fetch_data] [INFO] Fetching stock from alpha vantage api: ELV\n",
      "2022-07-08 21:37:54,358 [app.utils.fetch_data] [INFO] Fetching stock from investing_api: PSA, from 07/06/1999 to 08/07/2022\n",
      "2022-07-08 21:38:04,244 [app.utils.fetch_data] [INFO] Fetching stock from investing_api: K, from 07/06/1999 to 08/07/2022\n",
      "2022-07-08 21:38:12,163 [app.utils.fetch_data] [INFO] Fetching stock from investing_api: APA, from 07/06/1999 to 08/07/2022\n",
      "2022-07-08 21:38:21,474 [app.utils.fetch_data] [INFO] Fetching stock from investing_api: FTR, from 07/06/1999 to 20/03/2017\n",
      "2022-07-08 21:38:29,517 [app.utils.fetch_data] [INFO] Fetching stock from investing_api: WDC, from 07/06/1999 to 08/07/2022\n",
      "2022-07-08 21:38:36,064 [app.utils.fetch_data] [INFO] Fetching stock from investing_api: BIG, from 07/06/1999 to 15/02/2013\n",
      "2022-07-08 21:38:47,174 [app.utils.fetch_data] [INFO] Fetching stock from alpha vantage api: VICI\n",
      "2022-07-08 21:38:52,926 [app.utils.fetch_data] [INFO] Fetching stock from investing_api: TECH, from 20/09/2020 to 08/07/2022\n",
      "2022-07-08 21:39:03,360 [app.utils.fetch_data] [INFO] Fetching stock from alpha vantage api: SNI\n",
      "2022-07-08 21:39:09,252 [app.utils.fetch_data] [INFO] Fetching stock from investing_api: JKHY, from 03/12/2017 to 08/07/2022\n",
      "2022-07-08 21:39:16,104 [app.utils.fetch_data] [INFO] Fetching stock from investing_api: HON, from 07/06/1999 to 08/07/2022\n",
      "2022-07-08 21:39:23,908 [app.utils.fetch_data] [INFO] Fetching stock from investing_api: HST, from 07/06/1999 to 08/07/2022\n",
      "2022-07-08 21:39:32,746 [app.utils.fetch_data] [INFO] Fetching stock from investing_api: SEE, from 07/06/1999 to 08/07/2022\n",
      "2022-07-08 21:39:42,808 [app.utils.fetch_data] [INFO] Fetching stock from investing_api: FISV, from 07/06/1999 to 08/07/2022\n",
      "2022-07-08 21:39:53,286 [app.utils.fetch_data] [INFO] Fetching stock from investing_api: KMI, from 21/05/2011 to 08/07/2022\n",
      "2022-07-08 21:40:02,294 [app.utils.fetch_data] [INFO] Fetching stock from investing_api: ADSK, from 07/06/1999 to 08/07/2022\n",
      "2022-07-08 21:40:12,610 [app.utils.fetch_data] [INFO] Fetching stock from investing_api: PBI, from 07/06/1999 to 01/03/2017\n",
      "2022-07-08 21:40:24,564 [app.utils.fetch_data] [INFO] Fetching stock from alpha vantage api: SWY\n",
      "2022-07-08 21:40:31,580 [app.utils.fetch_data] [INFO] Fetching stock from investing_api: DHI, from 07/06/1999 to 08/07/2022\n",
      "2022-07-08 21:40:41,806 [app.utils.fetch_data] [INFO] Fetching stock from alpha vantage api: YHOO\n",
      "2022-07-08 21:40:52,521 [app.utils.fetch_data] [INFO] Fetching stock from alpha vantage api: CTRA\n",
      "2022-07-08 21:41:00,528 [app.utils.fetch_data] [INFO] Fetching stock from investing_api: TRV, from 07/06/1999 to 08/07/2022\n",
      "2022-07-08 21:41:10,152 [app.utils.fetch_data] [INFO] Fetching stock from investing_api: FOX, from 07/10/2014 to 08/07/2022\n",
      "2022-07-08 21:41:16,727 [app.utils.fetch_data] [INFO] Fetching stock from investing_api: STI, from 07/06/1999 to 09/12/2019\n",
      "2022-07-08 21:41:22,362 [app.utils.fetch_data] [INFO] Fetching stock from investing_api: PENN, from 20/04/2020 to 08/07/2022\n",
      "2022-07-08 21:41:31,526 [app.utils.fetch_data] [INFO] Fetching stock from alpha vantage api: LVLT\n",
      "2022-07-08 21:41:39,244 [app.utils.fetch_data] [INFO] Fetching stock from alpha vantage api: DV\n",
      "2022-07-08 21:41:46,609 [app.utils.fetch_data] [INFO] Fetching stock from investing_api: GOOG, from 07/06/1999 to 08/07/2022\n",
      "2022-07-08 21:41:55,266 [app.utils.fetch_data] [INFO] Fetching stock from investing_api: MAS, from 07/06/1999 to 08/07/2022\n",
      "2022-07-08 21:42:02,002 [app.utils.fetch_data] [INFO] Fetching stock from investing_api: TTWO, from 04/04/2017 to 08/07/2022\n",
      "2022-07-08 21:42:15,121 [app.utils.fetch_data] [INFO] Fetching stock from alpha vantage api: WFM\n",
      "2022-07-08 21:42:26,209 [app.utils.fetch_data] [INFO] Fetching stock from investing_api: BKR, from 07/06/1999 to 08/07/2022\n",
      "2022-07-08 21:42:36,867 [app.utils.fetch_data] [INFO] Fetching stock from investing_api: XLNX, from 07/06/1999 to 15/02/2022\n",
      "2022-07-08 21:42:44,471 [app.utils.fetch_data] [INFO] Fetching stock from investing_api: NOC, from 07/06/1999 to 08/07/2022\n",
      "2022-07-08 21:42:54,229 [app.utils.fetch_data] [INFO] Fetching stock from investing_api: WAB, from 02/04/2018 to 08/07/2022\n",
      "2022-07-08 21:42:59,952 [app.utils.fetch_data] [INFO] Fetching stock from investing_api: FRC, from 18/01/2018 to 08/07/2022\n",
      "2022-07-08 21:43:06,808 [app.utils.fetch_data] [INFO] Fetching stock from investing_api: ADS, from 24/01/2013 to 22/06/2020\n",
      "2022-07-08 21:43:16,418 [app.utils.fetch_data] [INFO] Fetching stock from alpha vantage api: NFX\n",
      "2022-07-08 21:43:24,435 [app.utils.fetch_data] [INFO] Fetching stock from investing_api: CINF, from 07/06/1999 to 08/07/2022\n",
      "2022-07-08 21:43:30,501 [app.utils.fetch_data] [INFO] Fetching stock from investing_api: ESS, from 03/04/2013 to 08/07/2022\n",
      "2022-07-08 21:43:37,443 [app.utils.fetch_data] [INFO] Fetching stock from investing_api: PVH, from 30/04/2012 to 08/07/2022\n",
      "2022-07-08 21:43:47,198 [app.utils.fetch_data] [INFO] Fetching stock from investing_api: OXY, from 07/06/1999 to 08/07/2022\n",
      "2022-07-08 21:43:54,149 [app.utils.fetch_data] [INFO] Fetching stock from investing_api: KBH, from 07/06/1999 to 18/12/2009\n",
      "2022-07-08 21:44:01,938 [app.utils.fetch_data] [INFO] Fetching stock from investing_api: RSG, from 07/06/1999 to 08/07/2022\n",
      "2022-07-08 21:44:09,696 [app.utils.fetch_data] [INFO] Fetching stock from investing_api: CHRW, from 07/06/1999 to 08/07/2022\n",
      "2022-07-08 21:44:18,777 [app.utils.fetch_data] [INFO] Fetching stock from investing_api: JCP, from 07/06/1999 to 02/12/2013\n",
      "2022-07-08 21:44:26,991 [app.utils.fetch_data] [INFO] Fetching stock from alpha vantage api: EVHC\n",
      "2022-07-08 21:44:37,401 [app.utils.fetch_data] [INFO] Fetching stock from investing_api: GRMN, from 21/12/2011 to 08/07/2022\n",
      "2022-07-08 21:44:45,380 [app.utils.fetch_data] [INFO] Fetching stock from investing_api: MBI, from 07/06/1999 to 18/12/2009\n",
      "2022-07-08 21:44:54,096 [app.utils.fetch_data] [INFO] Fetching stock from investing_api: MKTX, from 15/07/2018 to 08/07/2022\n",
      "2022-07-08 21:45:02,916 [app.utils.fetch_data] [INFO] Fetching stock from investing_api: ES, from 07/06/1999 to 08/07/2022\n",
      "2022-07-08 21:45:11,609 [app.utils.fetch_data] [INFO] Fetching stock from investing_api: CF, from 07/06/1999 to 08/07/2022\n",
      "2022-07-08 21:45:20,226 [app.utils.fetch_data] [INFO] Fetching stock from investing_api: BRO, from 14/12/2020 to 08/07/2022\n",
      "2022-07-08 21:45:26,834 [app.utils.fetch_data] [INFO] Fetching stock from investing_api: CVX, from 07/06/1999 to 08/07/2022\n",
      "2022-07-08 21:45:35,918 [app.utils.fetch_data] [INFO] Fetching stock from investing_api: LSI, from 07/06/1999 to 08/05/2014\n",
      "2022-07-08 21:45:44,513 [app.utils.fetch_data] [INFO] Fetching stock from investing_api: FCX, from 07/06/1999 to 08/07/2022\n",
      "2022-07-08 21:45:50,264 [app.utils.fetch_data] [INFO] Fetching stock from investing_api: COO, from 30/09/2015 to 08/07/2022\n",
      "2022-07-08 21:45:59,899 [app.utils.fetch_data] [INFO] Fetching stock from investing_api: EVRG, from 07/06/2017 to 08/07/2022\n",
      "2022-07-08 21:46:10,622 [app.utils.fetch_data] [INFO] Fetching stock from investing_api: PBCT, from 07/06/1999 to 04/04/2022\n",
      "2022-07-08 21:46:16,701 [app.utils.fetch_data] [INFO] Fetching stock from investing_api: VTR, from 05/06/2008 to 08/07/2022\n"
     ]
    },
    {
     "name": "stderr",
     "output_type": "stream",
     "text": [
      "2022-07-08 21:46:22,487 [app.utils.fetch_data] [INFO] Fetching stock from investing_api: DLR, from 23/05/2015 to 08/07/2022\n",
      "2022-07-08 21:46:29,065 [app.utils.fetch_data] [INFO] Fetching stock from alpha vantage api: CPGX\n",
      "2022-07-08 21:46:40,820 [app.utils.fetch_data] [INFO] Fetching stock from alpha vantage api: AYE\n",
      "2022-07-08 21:46:46,591 [app.utils.fetch_data] [INFO] Fetching stock from investing_api: FLT, from 02/07/2017 to 08/07/2022\n",
      "2022-07-08 21:46:54,094 [app.utils.fetch_data] [INFO] Fetching stock from investing_api: RAD, from 07/06/1999 to 27/07/2000\n",
      "2022-07-08 21:47:03,027 [app.utils.fetch_data] [INFO] Fetching stock from investing_api: AME, from 29/10/2012 to 08/07/2022\n",
      "2022-07-08 21:47:09,672 [app.utils.fetch_data] [INFO] Fetching stock from investing_api: RIG, from 13/11/2012 to 26/07/2017\n",
      "2022-07-08 21:47:18,805 [app.utils.fetch_data] [INFO] Fetching stock from investing_api: ATI, from 07/06/1999 to 02/07/2015\n",
      "2022-07-08 21:47:29,468 [app.utils.fetch_data] [INFO] Fetching stock from investing_api: DGX, from 07/06/1999 to 08/07/2022\n",
      "2022-07-08 21:47:36,279 [app.utils.fetch_data] [INFO] Fetching stock from investing_api: TRIP, from 31/12/2010 to 23/12/2019\n",
      "2022-07-08 21:47:44,916 [app.utils.fetch_data] [INFO] Fetching stock from investing_api: USB, from 07/06/1999 to 08/07/2022\n",
      "2022-07-08 21:47:52,060 [app.utils.fetch_data] [INFO] Fetching stock from investing_api: HRL, from 05/06/2008 to 08/07/2022\n"
     ]
    },
    {
     "name": "stdout",
     "output_type": "stream",
     "text": [
      "Error when calling data for CCE\n"
     ]
    },
    {
     "name": "stderr",
     "output_type": "stream",
     "text": [
      "2022-07-08 21:48:06,371 [app.utils.fetch_data] [INFO] Fetching stock from alpha vantage api: JNS\n",
      "2022-07-08 21:48:13,130 [app.utils.fetch_data] [INFO] Fetching stock from investing_api: WBA, from 07/06/1999 to 08/07/2022\n",
      "2022-07-08 21:48:24,061 [app.utils.fetch_data] [INFO] Fetching stock from investing_api: XRX, from 07/06/1999 to 22/03/2021\n",
      "2022-07-08 21:48:33,096 [app.utils.fetch_data] [INFO] Fetching stock from investing_api: LYB, from 01/10/2011 to 08/07/2022\n",
      "2022-07-08 21:48:39,967 [app.utils.fetch_data] [INFO] Fetching stock from investing_api: GOOGL, from 01/05/2013 to 08/07/2022\n",
      "2022-07-08 21:48:48,007 [app.utils.fetch_data] [INFO] Fetching stock from investing_api: AAL, from 07/04/2014 to 08/07/2022\n",
      "2022-07-08 21:48:58,234 [app.utils.fetch_data] [INFO] Fetching stock from investing_api: JNPR, from 10/01/2006 to 08/07/2022\n",
      "2022-07-08 21:49:09,159 [app.utils.fetch_data] [INFO] Fetching stock from investing_api: GE, from 07/06/1999 to 08/07/2022\n",
      "2022-07-08 21:49:16,870 [app.utils.fetch_data] [INFO] Fetching stock from investing_api: HOLX, from 04/04/2015 to 08/07/2022\n",
      "2022-07-08 21:49:24,001 [app.utils.fetch_data] [INFO] Fetching stock from alpha vantage api: META\n",
      "2022-07-08 21:49:32,034 [app.utils.fetch_data] [INFO] Fetching stock from investing_api: EA, from 07/06/1999 to 08/07/2022\n"
     ]
    },
    {
     "name": "stdout",
     "output_type": "stream",
     "text": [
      "Error when calling data for MEE\n"
     ]
    },
    {
     "name": "stderr",
     "output_type": "stream",
     "text": [
      "2022-07-08 21:49:42,785 [app.utils.fetch_data] [INFO] Fetching stock from alpha vantage api: STR\n",
      "2022-07-08 21:49:51,237 [app.utils.fetch_data] [INFO] Fetching stock from alpha vantage api: BEAM\n",
      "2022-07-08 21:49:59,892 [app.utils.fetch_data] [INFO] Fetching stock from investing_api: IR, from 01/04/2019 to 08/07/2022\n",
      "2022-07-08 21:50:08,866 [app.utils.fetch_data] [INFO] Fetching stock from investing_api: STX, from 31/07/2011 to 08/07/2022\n",
      "2022-07-08 21:50:18,533 [app.utils.fetch_data] [INFO] Fetching stock from investing_api: VNO, from 07/06/1999 to 08/07/2022\n",
      "2022-07-08 21:50:27,675 [app.utils.fetch_data] [INFO] Fetching stock from investing_api: FII, from 07/06/1999 to 31/12/2012\n",
      "2022-07-08 21:50:37,240 [app.utils.fetch_data] [INFO] Fetching stock from investing_api: DPZ, from 22/05/2019 to 08/07/2022\n",
      "2022-07-08 21:50:47,811 [app.utils.fetch_data] [INFO] Fetching stock from investing_api: HRB, from 07/06/1999 to 21/09/2020\n",
      "2022-07-08 21:50:58,488 [app.utils.fetch_data] [INFO] Fetching stock from alpha vantage api: DTV\n",
      "2022-07-08 21:51:05,479 [app.utils.fetch_data] [INFO] Fetching stock from investing_api: DUK, from 07/06/1999 to 08/07/2022\n",
      "2022-07-08 21:51:13,774 [app.utils.fetch_data] [INFO] Fetching stock from investing_api: SPG, from 07/06/1999 to 08/07/2022\n",
      "2022-07-08 21:51:22,825 [app.utils.fetch_data] [INFO] Fetching stock from investing_api: CMG, from 01/06/2010 to 08/07/2022\n",
      "2022-07-08 21:51:30,506 [app.utils.fetch_data] [INFO] Fetching stock from alpha vantage api: EP\n",
      "2022-07-08 21:51:37,852 [app.utils.fetch_data] [INFO] Fetching stock from investing_api: FMC, from 28/09/2008 to 08/07/2022\n",
      "2022-07-08 21:51:47,806 [app.utils.fetch_data] [INFO] Fetching stock from investing_api: MET, from 07/06/1999 to 08/07/2022\n",
      "2022-07-08 21:51:58,431 [app.utils.fetch_data] [INFO] Fetching stock from investing_api: MU, from 07/06/1999 to 08/07/2022\n",
      "2022-07-08 21:52:06,741 [app.utils.fetch_data] [INFO] Fetching stock from investing_api: CL, from 07/06/1999 to 08/07/2022\n",
      "2022-07-08 21:52:13,556 [app.utils.fetch_data] [INFO] Fetching stock from investing_api: LEG, from 07/06/1999 to 20/12/2021\n"
     ]
    },
    {
     "name": "stdout",
     "output_type": "stream",
     "text": [
      "Error when calling data for TEG\n"
     ]
    },
    {
     "name": "stderr",
     "output_type": "stream",
     "text": [
      "2022-07-08 21:52:23,452 [app.utils.fetch_data] [INFO] Fetching stock from investing_api: JWN, from 07/06/1999 to 22/06/2020\n",
      "2022-07-08 21:52:33,316 [app.utils.fetch_data] [INFO] Fetching stock from investing_api: HD, from 07/06/1999 to 08/07/2022\n",
      "2022-07-08 21:52:44,497 [app.utils.fetch_data] [INFO] Fetching stock from alpha vantage api: SUN\n"
     ]
    },
    {
     "name": "stdout",
     "output_type": "stream",
     "text": [
      "Error when calling data for ESV\n",
      "Error when calling data for RSH\n"
     ]
    },
    {
     "name": "stderr",
     "output_type": "stream",
     "text": [
      "2022-07-08 21:52:57,659 [app.utils.fetch_data] [INFO] Fetching stock from investing_api: ECL, from 07/06/1999 to 08/07/2022\n"
     ]
    },
    {
     "name": "stdout",
     "output_type": "stream",
     "text": [
      "Error when calling data for BS\n"
     ]
    },
    {
     "name": "stderr",
     "output_type": "stream",
     "text": [
      "2022-07-08 21:53:04,020 [app.utils.fetch_data] [INFO] Fetching stock from investing_api: TSCO, from 21/03/2013 to 08/07/2022\n",
      "2022-07-08 21:53:14,666 [app.utils.fetch_data] [INFO] Fetching stock from investing_api: ETN, from 07/06/1999 to 08/07/2022\n",
      "2022-07-08 21:53:27,741 [app.utils.fetch_data] [INFO] Fetching stock from alpha vantage api: ESRX\n",
      "2022-07-08 21:53:35,933 [app.utils.fetch_data] [INFO] Fetching stock from investing_api: FSLR, from 07/06/1999 to 20/03/2017\n"
     ]
    },
    {
     "name": "stdout",
     "output_type": "stream",
     "text": [
      "Error when calling data for APC\n"
     ]
    },
    {
     "name": "stderr",
     "output_type": "stream",
     "text": [
      "2022-07-08 21:53:44,587 [app.utils.fetch_data] [INFO] Fetching stock from investing_api: CTVA, from 07/06/2018 to 08/07/2022\n",
      "2022-07-08 21:53:53,353 [app.utils.fetch_data] [INFO] Fetching stock from investing_api: SYF, from 19/11/2014 to 08/07/2022\n",
      "2022-07-08 21:54:00,602 [app.utils.fetch_data] [INFO] Fetching stock from investing_api: MDLZ, from 02/07/2006 to 08/07/2022\n",
      "2022-07-08 21:54:07,366 [app.utils.fetch_data] [INFO] Fetching stock from investing_api: RJF, from 04/04/2016 to 08/07/2022\n",
      "2022-07-08 21:54:15,365 [app.utils.fetch_data] [INFO] Fetching stock from investing_api: ACN, from 23/09/2010 to 08/07/2022\n",
      "2022-07-08 21:54:22,316 [app.utils.fetch_data] [INFO] Fetching stock from investing_api: PM, from 07/06/1999 to 08/07/2022\n",
      "2022-07-08 21:54:29,933 [app.utils.fetch_data] [INFO] Fetching stock from alpha vantage api: MON\n",
      "2022-07-08 21:54:39,918 [app.utils.fetch_data] [INFO] Fetching stock from investing_api: CHD, from 05/01/2015 to 08/07/2022\n",
      "2022-07-08 21:54:47,695 [app.utils.fetch_data] [INFO] Fetching stock from investing_api: BAX, from 07/06/1999 to 08/07/2022\n",
      "2022-07-08 21:54:56,340 [app.utils.fetch_data] [INFO] Fetching stock from investing_api: PEG, from 07/06/1999 to 08/07/2022\n",
      "2022-07-08 21:55:02,418 [app.utils.fetch_data] [INFO] Fetching stock from investing_api: BLK, from 27/04/2010 to 08/07/2022\n",
      "2022-07-08 21:55:10,356 [app.utils.fetch_data] [INFO] Fetching stock from investing_api: AFL, from 07/06/1999 to 08/07/2022\n",
      "2022-07-08 21:55:20,044 [app.utils.fetch_data] [INFO] Fetching stock from investing_api: EBAY, from 07/06/1999 to 08/07/2022\n"
     ]
    },
    {
     "name": "stdout",
     "output_type": "stream",
     "text": [
      "Error when calling data for COL\n"
     ]
    },
    {
     "name": "stderr",
     "output_type": "stream",
     "text": [
      "2022-07-08 21:55:27,429 [app.utils.fetch_data] [INFO] Fetching stock from investing_api: POOL, from 09/10/2019 to 08/07/2022\n",
      "2022-07-08 21:55:37,119 [app.utils.fetch_data] [INFO] Fetching stock from investing_api: ABMD, from 05/06/2017 to 08/07/2022\n",
      "2022-07-08 21:55:44,144 [app.utils.fetch_data] [INFO] Fetching stock from investing_api: FHN, from 07/06/1999 to 21/06/2013\n"
     ]
    }
   ],
   "source": [
    "# retrieve data for each ticker, but 1 year before the min_date\n",
    "# this is to make sure we have all the data to calculate the moving averages\n",
    "\n",
    "if 'stocks' in locals():\n",
    "    if stocks.shape[0]>0:\n",
    "        pass\n",
    "    else:\n",
    "        stocks = pd.DataFrame()\n",
    "else:\n",
    "    stocks = pd.DataFrame()\n",
    "\n",
    "if 'NA_tickers' in locals():\n",
    "    pass\n",
    "else:\n",
    "    NA_tickers = list()\n",
    "    \n",
    "    \n",
    "for k in tqdm(ticker_dict.keys()):\n",
    "    \n",
    "    # set min date as 1 year before the actual min date\n",
    "    s = ticker_dict[k]['min_date'].split('-')\n",
    "    s[0] = str(int(s[0])-1)\n",
    "    start_date = '-'.join(s)\n",
    "    end_date = ticker_dict[k]['max_date']\n",
    "\n",
    "    try:\n",
    "        df = investing_api('stock', k, start_date, end_date)\n",
    "        time.sleep(random.randrange(5, 10)) # set to pause for a bit when calling an api\n",
    "    except Exception as e:\n",
    "        if \"ERR#0018\" in str(e):\n",
    "            try:\n",
    "                # retrieve data from alpha vantage\n",
    "                df = alpha_vantage_api('stock', k)\n",
    "                time.sleep(random.randrange(5, 10)) # set to pause for a bit when calling an api\n",
    "            except:\n",
    "                NA_tickers.append(k)\n",
    "                print(\"Error when calling data for {}\".format(k))\n",
    "\n",
    "        stocks = pd.concat([stocks, df], axis=0)"
   ]
  },
  {
   "cell_type": "code",
   "execution_count": 23,
   "id": "572d2df4",
   "metadata": {
    "scrolled": true
   },
   "outputs": [
    {
     "data": {
      "text/html": [
       "<div>\n",
       "<style scoped>\n",
       "    .dataframe tbody tr th:only-of-type {\n",
       "        vertical-align: middle;\n",
       "    }\n",
       "\n",
       "    .dataframe tbody tr th {\n",
       "        vertical-align: top;\n",
       "    }\n",
       "\n",
       "    .dataframe thead th {\n",
       "        text-align: right;\n",
       "    }\n",
       "</style>\n",
       "<table border=\"1\" class=\"dataframe\">\n",
       "  <thead>\n",
       "    <tr style=\"text-align: right;\">\n",
       "      <th></th>\n",
       "      <th>Date</th>\n",
       "      <th>Open</th>\n",
       "      <th>High</th>\n",
       "      <th>Low</th>\n",
       "      <th>Close</th>\n",
       "      <th>Volume</th>\n",
       "      <th>Currency</th>\n",
       "      <th>ticker</th>\n",
       "      <th>type</th>\n",
       "      <th>p_key</th>\n",
       "    </tr>\n",
       "  </thead>\n",
       "  <tbody>\n",
       "    <tr>\n",
       "      <th>0</th>\n",
       "      <td>1999-06-07 00:00:00</td>\n",
       "      <td>5.0</td>\n",
       "      <td>5.0</td>\n",
       "      <td>4.96</td>\n",
       "      <td>5.0</td>\n",
       "      <td>1106400</td>\n",
       "      <td>USD</td>\n",
       "      <td>DVA</td>\n",
       "      <td>stock</td>\n",
       "      <td>1999_06_07_DVA</td>\n",
       "    </tr>\n",
       "    <tr>\n",
       "      <th>1</th>\n",
       "      <td>1999-06-08 00:00:00</td>\n",
       "      <td>5.0</td>\n",
       "      <td>5.06</td>\n",
       "      <td>4.94</td>\n",
       "      <td>4.96</td>\n",
       "      <td>649200</td>\n",
       "      <td>USD</td>\n",
       "      <td>DVA</td>\n",
       "      <td>stock</td>\n",
       "      <td>1999_06_08_DVA</td>\n",
       "    </tr>\n",
       "    <tr>\n",
       "      <th>2</th>\n",
       "      <td>1999-06-09 00:00:00</td>\n",
       "      <td>4.96</td>\n",
       "      <td>4.98</td>\n",
       "      <td>4.83</td>\n",
       "      <td>4.9</td>\n",
       "      <td>1590900</td>\n",
       "      <td>USD</td>\n",
       "      <td>DVA</td>\n",
       "      <td>stock</td>\n",
       "      <td>1999_06_09_DVA</td>\n",
       "    </tr>\n",
       "    <tr>\n",
       "      <th>3</th>\n",
       "      <td>1999-06-10 00:00:00</td>\n",
       "      <td>4.92</td>\n",
       "      <td>4.92</td>\n",
       "      <td>4.81</td>\n",
       "      <td>4.87</td>\n",
       "      <td>876900</td>\n",
       "      <td>USD</td>\n",
       "      <td>DVA</td>\n",
       "      <td>stock</td>\n",
       "      <td>1999_06_10_DVA</td>\n",
       "    </tr>\n",
       "    <tr>\n",
       "      <th>4</th>\n",
       "      <td>1999-06-11 00:00:00</td>\n",
       "      <td>4.87</td>\n",
       "      <td>5.02</td>\n",
       "      <td>4.87</td>\n",
       "      <td>5.0</td>\n",
       "      <td>1242900</td>\n",
       "      <td>USD</td>\n",
       "      <td>DVA</td>\n",
       "      <td>stock</td>\n",
       "      <td>1999_06_11_DVA</td>\n",
       "    </tr>\n",
       "  </tbody>\n",
       "</table>\n",
       "</div>"
      ],
      "text/plain": [
       "                  Date  Open  High   Low Close   Volume Currency ticker  \\\n",
       "0  1999-06-07 00:00:00   5.0   5.0  4.96   5.0  1106400      USD    DVA   \n",
       "1  1999-06-08 00:00:00   5.0  5.06  4.94  4.96   649200      USD    DVA   \n",
       "2  1999-06-09 00:00:00  4.96  4.98  4.83   4.9  1590900      USD    DVA   \n",
       "3  1999-06-10 00:00:00  4.92  4.92  4.81  4.87   876900      USD    DVA   \n",
       "4  1999-06-11 00:00:00  4.87  5.02  4.87   5.0  1242900      USD    DVA   \n",
       "\n",
       "    type           p_key  \n",
       "0  stock  1999_06_07_DVA  \n",
       "1  stock  1999_06_08_DVA  \n",
       "2  stock  1999_06_09_DVA  \n",
       "3  stock  1999_06_10_DVA  \n",
       "4  stock  1999_06_11_DVA  "
      ]
     },
     "execution_count": 23,
     "metadata": {},
     "output_type": "execute_result"
    }
   ],
   "source": [
    "stocks.head()"
   ]
  },
  {
   "cell_type": "code",
   "execution_count": 165,
   "id": "7247ed4a",
   "metadata": {},
   "outputs": [],
   "source": [
    "stocks.to_csv(\"app/data_storage/S&P500/sp500_history.csv\", index=False)"
   ]
  },
  {
   "cell_type": "markdown",
   "id": "f5aa1082",
   "metadata": {},
   "source": [
    "### make additional adjustments on the tickers that does not work\n",
    "\n",
    "Need to update `sp500` data set and `ticker_dict` dictionary."
   ]
  },
  {
   "cell_type": "code",
   "execution_count": 162,
   "id": "9d01bdf9",
   "metadata": {},
   "outputs": [],
   "source": [
    "ticker_adjustments = dict()\n",
    "\n",
    "ticker_adjustments['ACE'] = {\"new_ticker\":'CB',\n",
    "                             \"reason\":\"Ticker changed\"}\n",
    "ticker_adjustments['MI'] = {\"new_ticker\":\"\",\n",
    "                            \"reason\":\"Acquired\"}\n",
    "ticker_adjustments['LEH'] = {\"new_ticker\":\"\",\n",
    "                            \"reason\":\"Bankrupt\"}\n",
    "ticker_adjustments['SMS'] = {\"new_ticker\":\"\",\n",
    "                            \"reason\":\"Acquired\"}\n",
    "ticker_adjustments['GAS'] = {\"new_ticker\":\"\",\n",
    "                            \"reason\":\"Acquired\"}\n",
    "ticker_adjustments['TE'] = {\"new_ticker\":\"\",\n",
    "                            \"reason\":\"Acquired\"}\n",
    "ticker_adjustments['GENZ'] = {\"new_ticker\":\"\",\n",
    "                            \"reason\":\"Acquired\"}\n",
    "ticker_adjustments['ABS'] = {\"new_ticker\":\"\",\n",
    "                            \"reason\":\"Acquired\"}\n",
    "ticker_adjustments['TLAB'] = {\"new_ticker\":\"\",\n",
    "                            \"reason\":\"Defunct\"}\n",
    "ticker_adjustments['ARG'] = {\"new_ticker\":\"\",\n",
    "                            \"reason\":\"Acquired\"}\n",
    "ticker_adjustments['MOLX'] = {\"new_ticker\":\"\",\n",
    "                            \"reason\":\"Acquired\"}\n",
    "ticker_adjustments['ANR'] = {\"new_ticker\":\"\",\n",
    "                            \"reason\":\"Defunct\"}\n",
    "ticker_adjustments['NSM'] = {\"new_ticker\":\"\",\n",
    "                            \"reason\":\"Acquired\"}\n",
    "ticker_adjustments['SCG'] = {\"new_ticker\":\"\",\n",
    "                            \"reason\":\"Acquired\"}\n",
    "ticker_adjustments['MIL'] = {\"new_ticker\":\"\",\n",
    "                            \"reason\":\"Acquired\"}\n",
    "ticker_adjustments['SGP'] = {\"new_ticker\":\"\",\n",
    "                            \"reason\":\"Acquired\"}\n",
    "ticker_adjustments['RX'] = {\"new_ticker\":\"\",\n",
    "                            \"reason\":\"Gone private\"}\n",
    "ticker_adjustments['ABK'] = {\"new_ticker\":\"AMBC\",\n",
    "                            \"reason\":\"Ticker changed\"}\n",
    "ticker_adjustments['NYX'] = {\"new_ticker\":\"\",\n",
    "                            \"reason\":\"Acquired\"}\n",
    "ticker_adjustments['CVC'] = {\"new_ticker\":\"\",\n",
    "                            \"reason\":\"Acquired\"}\n",
    "ticker_adjustments['AV'] = {\"new_ticker\":\"\",\n",
    "                            \"reason\":\"Gone private\"}\n",
    "ticker_adjustments['DJ'] = {\"new_ticker\":\"\",\n",
    "                            \"reason\":\"Acquired\"}\n",
    "ticker_adjustments['CAM'] = {\"new_ticker\":\"\",\n",
    "                            \"reason\":\"Acquired\"}\n",
    "ticker_adjustments['TRB'] = {\"new_ticker\":\"\",\n",
    "                            \"reason\":\"Gone private\"}\n",
    "ticker_adjustments['EK'] = {\"new_ticker\":\"KODK\",\n",
    "                            \"reason\":\"Acquired\"}\n",
    "ticker_adjustments['CEPH'] = {\"new_ticker\":\"\",\n",
    "                            \"reason\":\"Acquired\"}\n",
    "ticker_adjustments['FNM'] = {\"new_ticker\":\"FNMA\",\n",
    "                            \"reason\":\"Ticker changed\"}\n",
    "ticker_adjustments['FRX'] = {\"new_ticker\":\"\",\n",
    "                            \"reason\":\"Acquired\"}\n",
    "ticker_adjustments['SBL'] = {\"new_ticker\":\"\",\n",
    "                            \"reason\":\"Acquired\"}\n",
    "ticker_adjustments['CFC'] = {\"new_ticker\":\"\",\n",
    "                            \"reason\":\"Acquired\"}\n",
    "ticker_adjustments['RHT'] = {\"new_ticker\":\"\",\n",
    "                            \"reason\":\"Acquired\"}\n",
    "ticker_adjustments['TYC'] = {\"new_ticker\":\"JCI\",\n",
    "                            \"reason\":\"Merged\"}\n",
    "ticker_adjustments['GR'] = {\"new_ticker\":\"\",\n",
    "                            \"reason\":\"Acquired\"}\n",
    "ticker_adjustments['SLE'] = {\"new_ticker\":\"\",\n",
    "                            \"reason\":\"Defunct\"}\n",
    "ticker_adjustments['RDC'] = {\"new_ticker\":\"\",\n",
    "                            \"reason\":\"Defunct\"} # https://stockinvest.us/stock-price/RDC\n",
    "ticker_adjustments['GLK'] = {\"new_ticker\":\"\",\n",
    "                            \"reason\":\"Acquired\"}\n",
    "ticker_adjustments['BMC'] = {\"new_ticker\":\"\",\n",
    "                            \"reason\":\"Gone private\"}\n",
    "ticker_adjustments['WIN'] = {\"new_ticker\":\"WINMQ\",\n",
    "                            \"reason\":\"Ticker changed\"}\n",
    "ticker_adjustments['SLR'] = {\"new_ticker\":\"\",\n",
    "                            \"reason\":\"Acquired\"}\n",
    "ticker_adjustments['PTV'] = {\"new_ticker\":\"\",\n",
    "                            \"reason\":\"Acquired\"}\n",
    "ticker_adjustments['CBE'] = {\"new_ticker\":\"\",\n",
    "                            \"reason\":\"Acquired\"}\n",
    "ticker_adjustments['KSE'] = {\"new_ticker\":\"\",\n",
    "                            \"reason\":\"Acquired\"}\n",
    "ticker_adjustments['FRE'] = {\"new_ticker\":\"FMCC\",\n",
    "                            \"reason\":\"Ticker changed\"}\n",
    "ticker_adjustments['QTRN'] = {\"new_ticker\":\"\",\n",
    "                            \"reason\":\"Gone private\"}\n",
    "ticker_adjustments['BF.B'] = {\"new_ticker\":\"BF-B\",\n",
    "                            \"reason\":\"Misspelled\"}\n",
    "ticker_adjustments['WFR'] = {\"new_ticker\":\"SUNE\",\n",
    "                            \"reason\":\"Ticker changed\"}\n",
    "ticker_adjustments['NOVL'] = {\"new_ticker\":\"\",\n",
    "                            \"reason\":\"Acquired\"}\n",
    "ticker_adjustments['CCE'] = {\"new_ticker\":\"\",\n",
    "                            \"reason\":\"Merged\"}\n",
    "ticker_adjustments['MEE'] = {\"new_ticker\":\"\",\n",
    "                            \"reason\":\"Acquired\"}\n",
    "ticker_adjustments['TEG'] = {\"new_ticker\":\"\",\n",
    "                            \"reason\":\"Defunct\"}\n",
    "ticker_adjustments['ESV'] = {\"new_ticker\":\"\",\n",
    "                            \"reason\":\"Acquired\"}\n",
    "ticker_adjustments['RSH'] = {\"new_ticker\":\"\",\n",
    "                            \"reason\":\"Defunct\"}\n",
    "ticker_adjustments['BS'] = {\"new_ticker\":\"\",\n",
    "                            \"reason\":\"Bankrupt\"}\n",
    "ticker_adjustments['APC'] = {\"new_ticker\":\"\",\n",
    "                            \"reason\":\"Acquired\"}\n",
    "ticker_adjustments['COL'] = {\"new_ticker\":\"\",\n",
    "                            \"reason\":\"Acquired\"}"
   ]
  },
  {
   "cell_type": "code",
   "execution_count": 163,
   "id": "b8bb2aa8",
   "metadata": {
    "scrolled": true
   },
   "outputs": [
    {
     "data": {
      "text/plain": [
       "{'ACE': {'new_ticker': 'CB', 'reason': 'Ticker changed'},\n",
       " 'MI': {'new_ticker': '', 'reason': 'Acquired'},\n",
       " 'LEH': {'new_ticker': '', 'reason': 'Bankrupt'},\n",
       " 'SMS': {'new_ticker': '', 'reason': 'Acquired'},\n",
       " 'GAS': {'new_ticker': '', 'reason': 'Acquired'},\n",
       " 'TE': {'new_ticker': '', 'reason': 'Acquired'},\n",
       " 'GENZ': {'new_ticker': '', 'reason': 'Acquired'},\n",
       " 'ABS': {'new_ticker': '', 'reason': 'Acquired'},\n",
       " 'TLAB': {'new_ticker': '', 'reason': 'Defunct'},\n",
       " 'ARG': {'new_ticker': '', 'reason': 'Acquired'},\n",
       " 'MOLX': {'new_ticker': '', 'reason': 'Acquired'},\n",
       " 'ANR': {'new_ticker': '', 'reason': 'Defunct'},\n",
       " 'NSM': {'new_ticker': '', 'reason': 'Acquired'},\n",
       " 'SCG': {'new_ticker': '', 'reason': 'Acquired'},\n",
       " 'MIL': {'new_ticker': '', 'reason': 'Acquired'},\n",
       " 'SGP': {'new_ticker': '', 'reason': 'Acquired'},\n",
       " 'RX': {'new_ticker': '', 'reason': 'Gone private'},\n",
       " 'ABK': {'new_ticker': 'AMBC', 'reason': 'Ticker changed'},\n",
       " 'NYX': {'new_ticker': '', 'reason': 'Acquired'},\n",
       " 'CVC': {'new_ticker': '', 'reason': 'Acquired'},\n",
       " 'AV': {'new_ticker': '', 'reason': 'Gone private'},\n",
       " 'DJ': {'new_ticker': '', 'reason': 'Acquired'},\n",
       " 'CAM': {'new_ticker': '', 'reason': 'Acquired'},\n",
       " 'TRB': {'new_ticker': '', 'reason': 'Gone private'},\n",
       " 'EK': {'new_ticker': 'KODK', 'reason': 'Acquired'},\n",
       " 'CEPH': {'new_ticker': '', 'reason': 'Acquired'},\n",
       " 'FNM': {'new_ticker': 'FNMA', 'reason': 'Ticker changed'},\n",
       " 'FRX': {'new_ticker': '', 'reason': 'Acquired'},\n",
       " 'SBL': {'new_ticker': '', 'reason': 'Acquired'},\n",
       " 'CFC': {'new_ticker': '', 'reason': 'Acquired'},\n",
       " 'RHT': {'new_ticker': '', 'reason': 'Acquired'},\n",
       " 'TYC': {'new_ticker': 'JCI', 'reason': 'Merged'},\n",
       " 'GR': {'new_ticker': '', 'reason': 'Acquired'},\n",
       " 'SLE': {'new_ticker': '', 'reason': 'Defunct'},\n",
       " 'RDC': {'new_ticker': '', 'reason': 'Defunct'},\n",
       " 'GLK': {'new_ticker': '', 'reason': 'Acquired'},\n",
       " 'BMC': {'new_ticker': '', 'reason': 'Gone private'},\n",
       " 'WIN': {'new_ticker': 'WINMQ', 'reason': 'Ticker changed'},\n",
       " 'SLR': {'new_ticker': '', 'reason': 'Acquired'},\n",
       " 'PTV': {'new_ticker': '', 'reason': 'Acquired'},\n",
       " 'CBE': {'new_ticker': '', 'reason': 'Acquired'},\n",
       " 'KSE': {'new_ticker': '', 'reason': 'Acquired'},\n",
       " 'FRE': {'new_ticker': 'FMCC', 'reason': 'Ticker changed'},\n",
       " 'QTRN': {'new_ticker': '', 'reason': 'Gone private'},\n",
       " 'BF.B': {'new_ticker': 'BF-B', 'reason': 'Misspelled'},\n",
       " 'WFR': {'new_ticker': 'SUNE', 'reason': 'Ticker changed'},\n",
       " 'NOVL': {'new_ticker': '', 'reason': 'Acquired'},\n",
       " 'CCE': {'new_ticker': '', 'reason': 'Merged'},\n",
       " 'MEE': {'new_ticker': '', 'reason': 'Acquired'},\n",
       " 'TEG': {'new_ticker': '', 'reason': 'Defunct'},\n",
       " 'ESV': {'new_ticker': '', 'reason': 'Acquired'},\n",
       " 'RSH': {'new_ticker': '', 'reason': 'Defunct'},\n",
       " 'BS': {'new_ticker': '', 'reason': 'Bankrupt'},\n",
       " 'APC': {'new_ticker': '', 'reason': 'Acquired'},\n",
       " 'COL': {'new_ticker': '', 'reason': 'Acquired'}}"
      ]
     },
     "execution_count": 163,
     "metadata": {},
     "output_type": "execute_result"
    }
   ],
   "source": [
    "ticker_adjustments"
   ]
  },
  {
   "cell_type": "code",
   "execution_count": null,
   "id": "34bda8bb",
   "metadata": {},
   "outputs": [],
   "source": []
  },
  {
   "cell_type": "code",
   "execution_count": null,
   "id": "6c16cef4",
   "metadata": {},
   "outputs": [],
   "source": []
  },
  {
   "cell_type": "code",
   "execution_count": null,
   "id": "9c050dca",
   "metadata": {},
   "outputs": [],
   "source": []
  },
  {
   "cell_type": "code",
   "execution_count": null,
   "id": "a83ecec3",
   "metadata": {},
   "outputs": [],
   "source": []
  },
  {
   "cell_type": "code",
   "execution_count": 160,
   "id": "ff09c2f6",
   "metadata": {},
   "outputs": [
    {
     "data": {
      "text/html": [
       "<div>\n",
       "<style scoped>\n",
       "    .dataframe tbody tr th:only-of-type {\n",
       "        vertical-align: middle;\n",
       "    }\n",
       "\n",
       "    .dataframe tbody tr th {\n",
       "        vertical-align: top;\n",
       "    }\n",
       "\n",
       "    .dataframe thead th {\n",
       "        text-align: right;\n",
       "    }\n",
       "</style>\n",
       "<table border=\"1\" class=\"dataframe\">\n",
       "  <thead>\n",
       "    <tr style=\"text-align: right;\">\n",
       "      <th></th>\n",
       "      <th>Date_Date</th>\n",
       "      <th>Added_Ticker</th>\n",
       "      <th>Added_Security</th>\n",
       "      <th>Removed_Ticker</th>\n",
       "      <th>Removed_Security</th>\n",
       "      <th>Reason_Reason</th>\n",
       "    </tr>\n",
       "  </thead>\n",
       "  <tbody>\n",
       "    <tr>\n",
       "      <th>71</th>\n",
       "      <td>2018-12-03</td>\n",
       "      <td>LW</td>\n",
       "      <td>Lamb Weston</td>\n",
       "      <td>COL</td>\n",
       "      <td>Rockwell Collins</td>\n",
       "      <td>UTX acquired COL[52]</td>\n",
       "    </tr>\n",
       "  </tbody>\n",
       "</table>\n",
       "</div>"
      ],
      "text/plain": [
       "    Date_Date Added_Ticker Added_Security Removed_Ticker  Removed_Security  \\\n",
       "71 2018-12-03           LW    Lamb Weston            COL  Rockwell Collins   \n",
       "\n",
       "           Reason_Reason  \n",
       "71  UTX acquired COL[52]  "
      ]
     },
     "execution_count": 160,
     "metadata": {},
     "output_type": "execute_result"
    }
   ],
   "source": [
    "changes.loc[changes.Removed_Ticker=='COL']"
   ]
  },
  {
   "cell_type": "code",
   "execution_count": 135,
   "id": "c46e0ea7",
   "metadata": {},
   "outputs": [
    {
     "data": {
      "text/html": [
       "<div>\n",
       "<style scoped>\n",
       "    .dataframe tbody tr th:only-of-type {\n",
       "        vertical-align: middle;\n",
       "    }\n",
       "\n",
       "    .dataframe tbody tr th {\n",
       "        vertical-align: top;\n",
       "    }\n",
       "\n",
       "    .dataframe thead th {\n",
       "        text-align: right;\n",
       "    }\n",
       "</style>\n",
       "<table border=\"1\" class=\"dataframe\">\n",
       "  <thead>\n",
       "    <tr style=\"text-align: right;\">\n",
       "      <th></th>\n",
       "      <th>Symbol</th>\n",
       "      <th>Security</th>\n",
       "      <th>SEC filings</th>\n",
       "      <th>GICS Sector</th>\n",
       "      <th>GICS Sub-Industry</th>\n",
       "      <th>Headquarters Location</th>\n",
       "      <th>Date first added</th>\n",
       "      <th>CIK</th>\n",
       "      <th>Founded</th>\n",
       "    </tr>\n",
       "  </thead>\n",
       "  <tbody>\n",
       "    <tr>\n",
       "      <th>80</th>\n",
       "      <td>BF.B</td>\n",
       "      <td>Brown–Forman</td>\n",
       "      <td>reports</td>\n",
       "      <td>Consumer Staples</td>\n",
       "      <td>Distillers &amp; Vintners</td>\n",
       "      <td>Louisville, Kentucky</td>\n",
       "      <td>1982-10-31</td>\n",
       "      <td>14693</td>\n",
       "      <td>1870</td>\n",
       "    </tr>\n",
       "  </tbody>\n",
       "</table>\n",
       "</div>"
      ],
      "text/plain": [
       "   Symbol      Security SEC filings       GICS Sector      GICS Sub-Industry  \\\n",
       "80   BF.B  Brown–Forman     reports  Consumer Staples  Distillers & Vintners   \n",
       "\n",
       "   Headquarters Location Date first added    CIK Founded  \n",
       "80  Louisville, Kentucky       1982-10-31  14693    1870  "
      ]
     },
     "execution_count": 135,
     "metadata": {},
     "output_type": "execute_result"
    }
   ],
   "source": [
    "constituents.loc[constituents.Symbol==\"BF.B\"]"
   ]
  },
  {
   "cell_type": "code",
   "execution_count": 136,
   "id": "49771f93",
   "metadata": {},
   "outputs": [
    {
     "data": {
      "text/html": [
       "<div>\n",
       "<style scoped>\n",
       "    .dataframe tbody tr th:only-of-type {\n",
       "        vertical-align: middle;\n",
       "    }\n",
       "\n",
       "    .dataframe tbody tr th {\n",
       "        vertical-align: top;\n",
       "    }\n",
       "\n",
       "    .dataframe thead th {\n",
       "        text-align: right;\n",
       "    }\n",
       "</style>\n",
       "<table border=\"1\" class=\"dataframe\">\n",
       "  <thead>\n",
       "    <tr style=\"text-align: right;\">\n",
       "      <th></th>\n",
       "      <th>Date_Date</th>\n",
       "      <th>Added_Ticker</th>\n",
       "      <th>Added_Security</th>\n",
       "      <th>Removed_Ticker</th>\n",
       "      <th>Removed_Security</th>\n",
       "      <th>Reason_Reason</th>\n",
       "    </tr>\n",
       "  </thead>\n",
       "  <tbody>\n",
       "  </tbody>\n",
       "</table>\n",
       "</div>"
      ],
      "text/plain": [
       "Empty DataFrame\n",
       "Columns: [Date_Date, Added_Ticker, Added_Security, Removed_Ticker, Removed_Security, Reason_Reason]\n",
       "Index: []"
      ]
     },
     "execution_count": 136,
     "metadata": {},
     "output_type": "execute_result"
    }
   ],
   "source": [
    "changes.loc[changes.Added_Ticker=='BF.B']"
   ]
  },
  {
   "cell_type": "code",
   "execution_count": 158,
   "id": "df5ce3a7",
   "metadata": {
    "scrolled": true
   },
   "outputs": [
    {
     "data": {
      "text/plain": [
       "{'min_date': '2000-06-07',\n",
       " 'max_date': '2000-12-05',\n",
       " 'dates': ['2000-12-05', '2000-07-27', '2000-06-12', '2000-06-07']}"
      ]
     },
     "execution_count": 158,
     "metadata": {},
     "output_type": "execute_result"
    }
   ],
   "source": [
    "ticker_dict['BS']"
   ]
  },
  {
   "cell_type": "code",
   "execution_count": 34,
   "id": "1c9fd23c",
   "metadata": {},
   "outputs": [],
   "source": [
    "with open('app/keys/keys.json', 'r') as key_file:\n",
    "    keys = json.load(key_file)\n",
    "    \n",
    "key = keys['alpha_vantage']"
   ]
  },
  {
   "cell_type": "code",
   "execution_count": 145,
   "id": "9fdb1dd0",
   "metadata": {},
   "outputs": [],
   "source": [
    "url = 'https://www.alphavantage.co/query?function=TIME_SERIES_DAILY&symbol={}&apikey={}&outputsize=full'.format(\"SUNE\", key)\n",
    "r = requests.get(url)\n",
    "data2 = r.json()"
   ]
  },
  {
   "cell_type": "code",
   "execution_count": 146,
   "id": "1e2a842f",
   "metadata": {},
   "outputs": [
    {
     "data": {
      "text/plain": [
       "{'1. Information': 'Daily Prices (open, high, low, close) and Volumes',\n",
       " '2. Symbol': 'SUNE',\n",
       " '3. Last Refreshed': '2016-04-21',\n",
       " '4. Output Size': 'Full size',\n",
       " '5. Time Zone': 'US/Eastern'}"
      ]
     },
     "execution_count": 146,
     "metadata": {},
     "output_type": "execute_result"
    }
   ],
   "source": [
    "data2['Meta Data']"
   ]
  },
  {
   "cell_type": "code",
   "execution_count": 148,
   "id": "cb942637",
   "metadata": {},
   "outputs": [
    {
     "data": {
      "text/html": [
       "<div>\n",
       "<style scoped>\n",
       "    .dataframe tbody tr th:only-of-type {\n",
       "        vertical-align: middle;\n",
       "    }\n",
       "\n",
       "    .dataframe tbody tr th {\n",
       "        vertical-align: top;\n",
       "    }\n",
       "\n",
       "    .dataframe thead th {\n",
       "        text-align: right;\n",
       "    }\n",
       "</style>\n",
       "<table border=\"1\" class=\"dataframe\">\n",
       "  <thead>\n",
       "    <tr style=\"text-align: right;\">\n",
       "      <th></th>\n",
       "      <th>2016-04-21</th>\n",
       "      <th>2016-04-20</th>\n",
       "      <th>2016-04-19</th>\n",
       "      <th>2016-04-18</th>\n",
       "      <th>2016-04-15</th>\n",
       "      <th>2016-04-14</th>\n",
       "      <th>2016-04-13</th>\n",
       "      <th>2016-04-12</th>\n",
       "      <th>2016-04-11</th>\n",
       "      <th>2016-04-08</th>\n",
       "      <th>...</th>\n",
       "      <th>1999-11-12</th>\n",
       "      <th>1999-11-11</th>\n",
       "      <th>1999-11-10</th>\n",
       "      <th>1999-11-09</th>\n",
       "      <th>1999-11-08</th>\n",
       "      <th>1999-11-05</th>\n",
       "      <th>1999-11-04</th>\n",
       "      <th>1999-11-03</th>\n",
       "      <th>1999-11-02</th>\n",
       "      <th>1999-11-01</th>\n",
       "    </tr>\n",
       "  </thead>\n",
       "  <tbody>\n",
       "    <tr>\n",
       "      <th>1. open</th>\n",
       "      <td>0.3611</td>\n",
       "      <td>0.3450</td>\n",
       "      <td>0.3202</td>\n",
       "      <td>0.3100</td>\n",
       "      <td>0.4600</td>\n",
       "      <td>0.6000</td>\n",
       "      <td>0.3900</td>\n",
       "      <td>0.4100</td>\n",
       "      <td>0.4070</td>\n",
       "      <td>0.4510</td>\n",
       "      <td>...</td>\n",
       "      <td>14.8100</td>\n",
       "      <td>13.7500</td>\n",
       "      <td>13.0600</td>\n",
       "      <td>12.7500</td>\n",
       "      <td>13.7500</td>\n",
       "      <td>14.2500</td>\n",
       "      <td>14.6200</td>\n",
       "      <td>15.1200</td>\n",
       "      <td>15.0000</td>\n",
       "      <td>14.5600</td>\n",
       "    </tr>\n",
       "    <tr>\n",
       "      <th>2. high</th>\n",
       "      <td>0.3760</td>\n",
       "      <td>0.4100</td>\n",
       "      <td>0.3600</td>\n",
       "      <td>0.3780</td>\n",
       "      <td>0.5400</td>\n",
       "      <td>0.7500</td>\n",
       "      <td>0.3970</td>\n",
       "      <td>0.4302</td>\n",
       "      <td>0.4070</td>\n",
       "      <td>0.4510</td>\n",
       "      <td>...</td>\n",
       "      <td>15.1900</td>\n",
       "      <td>14.5000</td>\n",
       "      <td>13.5600</td>\n",
       "      <td>13.3800</td>\n",
       "      <td>13.9400</td>\n",
       "      <td>14.5000</td>\n",
       "      <td>14.8800</td>\n",
       "      <td>15.1200</td>\n",
       "      <td>15.0000</td>\n",
       "      <td>15.2500</td>\n",
       "    </tr>\n",
       "    <tr>\n",
       "      <th>3. low</th>\n",
       "      <td>0.3300</td>\n",
       "      <td>0.3177</td>\n",
       "      <td>0.3100</td>\n",
       "      <td>0.2700</td>\n",
       "      <td>0.3540</td>\n",
       "      <td>0.5500</td>\n",
       "      <td>0.3600</td>\n",
       "      <td>0.3900</td>\n",
       "      <td>0.3640</td>\n",
       "      <td>0.3505</td>\n",
       "      <td>...</td>\n",
       "      <td>14.5000</td>\n",
       "      <td>13.7500</td>\n",
       "      <td>13.0600</td>\n",
       "      <td>12.7500</td>\n",
       "      <td>13.6200</td>\n",
       "      <td>13.6900</td>\n",
       "      <td>14.0000</td>\n",
       "      <td>14.5000</td>\n",
       "      <td>14.3100</td>\n",
       "      <td>14.2500</td>\n",
       "    </tr>\n",
       "    <tr>\n",
       "      <th>4. close</th>\n",
       "      <td>0.3370</td>\n",
       "      <td>0.3372</td>\n",
       "      <td>0.3155</td>\n",
       "      <td>0.3440</td>\n",
       "      <td>0.3700</td>\n",
       "      <td>0.5851</td>\n",
       "      <td>0.3701</td>\n",
       "      <td>0.4000</td>\n",
       "      <td>0.3927</td>\n",
       "      <td>0.3629</td>\n",
       "      <td>...</td>\n",
       "      <td>14.5600</td>\n",
       "      <td>14.1900</td>\n",
       "      <td>13.5000</td>\n",
       "      <td>13.0000</td>\n",
       "      <td>13.7500</td>\n",
       "      <td>14.5000</td>\n",
       "      <td>14.2500</td>\n",
       "      <td>14.6900</td>\n",
       "      <td>14.8800</td>\n",
       "      <td>15.0600</td>\n",
       "    </tr>\n",
       "    <tr>\n",
       "      <th>5. volume</th>\n",
       "      <td>4537812</td>\n",
       "      <td>69775322</td>\n",
       "      <td>37873620</td>\n",
       "      <td>47288187</td>\n",
       "      <td>135257334</td>\n",
       "      <td>140019513</td>\n",
       "      <td>29794309</td>\n",
       "      <td>40904837</td>\n",
       "      <td>36595947</td>\n",
       "      <td>50473386</td>\n",
       "      <td>...</td>\n",
       "      <td>301900</td>\n",
       "      <td>117500</td>\n",
       "      <td>91100</td>\n",
       "      <td>141000</td>\n",
       "      <td>46500</td>\n",
       "      <td>127000</td>\n",
       "      <td>106500</td>\n",
       "      <td>66300</td>\n",
       "      <td>167900</td>\n",
       "      <td>164700</td>\n",
       "    </tr>\n",
       "  </tbody>\n",
       "</table>\n",
       "<p>5 rows × 4144 columns</p>\n",
       "</div>"
      ],
      "text/plain": [
       "          2016-04-21 2016-04-20 2016-04-19 2016-04-18 2016-04-15 2016-04-14  \\\n",
       "1. open       0.3611     0.3450     0.3202     0.3100     0.4600     0.6000   \n",
       "2. high       0.3760     0.4100     0.3600     0.3780     0.5400     0.7500   \n",
       "3. low        0.3300     0.3177     0.3100     0.2700     0.3540     0.5500   \n",
       "4. close      0.3370     0.3372     0.3155     0.3440     0.3700     0.5851   \n",
       "5. volume    4537812   69775322   37873620   47288187  135257334  140019513   \n",
       "\n",
       "          2016-04-13 2016-04-12 2016-04-11 2016-04-08  ... 1999-11-12  \\\n",
       "1. open       0.3900     0.4100     0.4070     0.4510  ...    14.8100   \n",
       "2. high       0.3970     0.4302     0.4070     0.4510  ...    15.1900   \n",
       "3. low        0.3600     0.3900     0.3640     0.3505  ...    14.5000   \n",
       "4. close      0.3701     0.4000     0.3927     0.3629  ...    14.5600   \n",
       "5. volume   29794309   40904837   36595947   50473386  ...     301900   \n",
       "\n",
       "          1999-11-11 1999-11-10 1999-11-09 1999-11-08 1999-11-05 1999-11-04  \\\n",
       "1. open      13.7500    13.0600    12.7500    13.7500    14.2500    14.6200   \n",
       "2. high      14.5000    13.5600    13.3800    13.9400    14.5000    14.8800   \n",
       "3. low       13.7500    13.0600    12.7500    13.6200    13.6900    14.0000   \n",
       "4. close     14.1900    13.5000    13.0000    13.7500    14.5000    14.2500   \n",
       "5. volume     117500      91100     141000      46500     127000     106500   \n",
       "\n",
       "          1999-11-03 1999-11-02 1999-11-01  \n",
       "1. open      15.1200    15.0000    14.5600  \n",
       "2. high      15.1200    15.0000    15.2500  \n",
       "3. low       14.5000    14.3100    14.2500  \n",
       "4. close     14.6900    14.8800    15.0600  \n",
       "5. volume      66300     167900     164700  \n",
       "\n",
       "[5 rows x 4144 columns]"
      ]
     },
     "execution_count": 148,
     "metadata": {},
     "output_type": "execute_result"
    }
   ],
   "source": [
    "pd.DataFrame(data2['Time Series (Daily)'])"
   ]
  },
  {
   "cell_type": "code",
   "execution_count": 144,
   "id": "2e879b67",
   "metadata": {},
   "outputs": [
    {
     "ename": "RuntimeError",
     "evalue": "ERR#0018: stock sune not found, check if it is correct.",
     "output_type": "error",
     "traceback": [
      "\u001b[0;31m---------------------------------------------------------------------------\u001b[0m",
      "\u001b[0;31mRuntimeError\u001b[0m                              Traceback (most recent call last)",
      "Input \u001b[0;32mIn [144]\u001b[0m, in \u001b[0;36m<cell line: 1>\u001b[0;34m()\u001b[0m\n\u001b[0;32m----> 1\u001b[0m \u001b[43minvestpy\u001b[49m\u001b[38;5;241;43m.\u001b[39;49m\u001b[43mget_stock_company_profile\u001b[49m\u001b[43m(\u001b[49m\u001b[38;5;124;43m\"\u001b[39;49m\u001b[38;5;124;43mSUNE\u001b[39;49m\u001b[38;5;124;43m\"\u001b[39;49m\u001b[43m,\u001b[49m\u001b[43m \u001b[49m\u001b[43mcountry\u001b[49m\u001b[38;5;241;43m=\u001b[39;49m\u001b[38;5;124;43m'\u001b[39;49m\u001b[38;5;124;43munited states\u001b[39;49m\u001b[38;5;124;43m'\u001b[39;49m\u001b[43m)\u001b[49m\n",
      "File \u001b[0;32m~/opt/anaconda3/envs/market/lib/python3.9/site-packages/investpy/stocks.py:871\u001b[0m, in \u001b[0;36mget_stock_company_profile\u001b[0;34m(stock, country, language)\u001b[0m\n\u001b[1;32m    868\u001b[0m stock \u001b[38;5;241m=\u001b[39m unidecode(stock\u001b[38;5;241m.\u001b[39mstrip()\u001b[38;5;241m.\u001b[39mlower())\n\u001b[1;32m    870\u001b[0m \u001b[38;5;28;01mif\u001b[39;00m stock \u001b[38;5;129;01mnot\u001b[39;00m \u001b[38;5;129;01min\u001b[39;00m \u001b[38;5;28mlist\u001b[39m(stocks[\u001b[38;5;124m\"\u001b[39m\u001b[38;5;124msymbol\u001b[39m\u001b[38;5;124m\"\u001b[39m]\u001b[38;5;241m.\u001b[39mapply(unidecode)\u001b[38;5;241m.\u001b[39mstr\u001b[38;5;241m.\u001b[39mlower()):\n\u001b[0;32m--> 871\u001b[0m     \u001b[38;5;28;01mraise\u001b[39;00m \u001b[38;5;167;01mRuntimeError\u001b[39;00m(\n\u001b[1;32m    872\u001b[0m         \u001b[38;5;124m\"\u001b[39m\u001b[38;5;124mERR#0018: stock \u001b[39m\u001b[38;5;124m\"\u001b[39m \u001b[38;5;241m+\u001b[39m stock \u001b[38;5;241m+\u001b[39m \u001b[38;5;124m\"\u001b[39m\u001b[38;5;124m not found, check if it is correct.\u001b[39m\u001b[38;5;124m\"\u001b[39m\n\u001b[1;32m    873\u001b[0m     )\n\u001b[1;32m    875\u001b[0m company_profile \u001b[38;5;241m=\u001b[39m {\u001b[38;5;124m\"\u001b[39m\u001b[38;5;124murl\u001b[39m\u001b[38;5;124m\"\u001b[39m: \u001b[38;5;28;01mNone\u001b[39;00m, \u001b[38;5;124m\"\u001b[39m\u001b[38;5;124mdesc\u001b[39m\u001b[38;5;124m\"\u001b[39m: \u001b[38;5;28;01mNone\u001b[39;00m}\n\u001b[1;32m    877\u001b[0m \u001b[38;5;28;01mif\u001b[39;00m selected_source \u001b[38;5;241m==\u001b[39m \u001b[38;5;124m\"\u001b[39m\u001b[38;5;124mBolsa de Madrid\u001b[39m\u001b[38;5;124m\"\u001b[39m:\n",
      "\u001b[0;31mRuntimeError\u001b[0m: ERR#0018: stock sune not found, check if it is correct."
     ]
    }
   ],
   "source": [
    "investpy.get_stock_company_profile(\"SUNE\", country='united states')"
   ]
  },
  {
   "cell_type": "code",
   "execution_count": 106,
   "id": "17a18620",
   "metadata": {
    "scrolled": true
   },
   "outputs": [
    {
     "ename": "RuntimeError",
     "evalue": "ERR#0018: stock rdc not found, check if it is correct.",
     "output_type": "error",
     "traceback": [
      "\u001b[0;31m---------------------------------------------------------------------------\u001b[0m",
      "\u001b[0;31mRuntimeError\u001b[0m                              Traceback (most recent call last)",
      "Input \u001b[0;32mIn [106]\u001b[0m, in \u001b[0;36m<cell line: 1>\u001b[0;34m()\u001b[0m\n\u001b[0;32m----> 1\u001b[0m data \u001b[38;5;241m=\u001b[39m \u001b[43minvestpy\u001b[49m\u001b[38;5;241;43m.\u001b[39;49m\u001b[43mstocks\u001b[49m\u001b[38;5;241;43m.\u001b[39;49m\u001b[43mget_stock_historical_data\u001b[49m\u001b[43m(\u001b[49m\u001b[43mstock\u001b[49m\u001b[38;5;241;43m=\u001b[39;49m\u001b[38;5;124;43m'\u001b[39;49m\u001b[38;5;124;43mRDC\u001b[39;49m\u001b[38;5;124;43m'\u001b[39;49m\u001b[43m,\u001b[49m\u001b[43m \u001b[49m\u001b[43mcountry\u001b[49m\u001b[38;5;241;43m=\u001b[39;49m\u001b[38;5;124;43m'\u001b[39;49m\u001b[38;5;124;43munited states\u001b[39;49m\u001b[38;5;124;43m'\u001b[39;49m\u001b[43m,\u001b[49m\n\u001b[1;32m      2\u001b[0m \u001b[43m                                                 \u001b[49m\u001b[43mfrom_date\u001b[49m\u001b[38;5;241;43m=\u001b[39;49m\u001b[38;5;124;43m'\u001b[39;49m\u001b[38;5;124;43m01/01/2014\u001b[39;49m\u001b[38;5;124;43m'\u001b[39;49m\u001b[43m,\u001b[49m\u001b[43m \u001b[49m\u001b[43mto_date\u001b[49m\u001b[38;5;241;43m=\u001b[39;49m\u001b[38;5;124;43m'\u001b[39;49m\u001b[38;5;124;43m01/01/2015\u001b[39;49m\u001b[38;5;124;43m'\u001b[39;49m\u001b[43m)\u001b[49m\u001b[38;5;241m.\u001b[39mreset_index()\n",
      "File \u001b[0;32m~/opt/anaconda3/envs/market/lib/python3.9/site-packages/investpy/stocks.py:614\u001b[0m, in \u001b[0;36mget_stock_historical_data\u001b[0;34m(stock, country, from_date, to_date, as_json, order, interval)\u001b[0m\n\u001b[1;32m    611\u001b[0m stock \u001b[38;5;241m=\u001b[39m unidecode(stock\u001b[38;5;241m.\u001b[39mstrip()\u001b[38;5;241m.\u001b[39mlower())\n\u001b[1;32m    613\u001b[0m \u001b[38;5;28;01mif\u001b[39;00m stock \u001b[38;5;129;01mnot\u001b[39;00m \u001b[38;5;129;01min\u001b[39;00m \u001b[38;5;28mlist\u001b[39m(stocks[\u001b[38;5;124m\"\u001b[39m\u001b[38;5;124msymbol\u001b[39m\u001b[38;5;124m\"\u001b[39m]\u001b[38;5;241m.\u001b[39mapply(unidecode)\u001b[38;5;241m.\u001b[39mstr\u001b[38;5;241m.\u001b[39mlower()):\n\u001b[0;32m--> 614\u001b[0m     \u001b[38;5;28;01mraise\u001b[39;00m \u001b[38;5;167;01mRuntimeError\u001b[39;00m(\n\u001b[1;32m    615\u001b[0m         \u001b[38;5;124m\"\u001b[39m\u001b[38;5;124mERR#0018: stock \u001b[39m\u001b[38;5;124m\"\u001b[39m \u001b[38;5;241m+\u001b[39m stock \u001b[38;5;241m+\u001b[39m \u001b[38;5;124m\"\u001b[39m\u001b[38;5;124m not found, check if it is correct.\u001b[39m\u001b[38;5;124m\"\u001b[39m\n\u001b[1;32m    616\u001b[0m     )\n\u001b[1;32m    618\u001b[0m symbol \u001b[38;5;241m=\u001b[39m stocks\u001b[38;5;241m.\u001b[39mloc[\n\u001b[1;32m    619\u001b[0m     (stocks[\u001b[38;5;124m\"\u001b[39m\u001b[38;5;124msymbol\u001b[39m\u001b[38;5;124m\"\u001b[39m]\u001b[38;5;241m.\u001b[39mapply(unidecode)\u001b[38;5;241m.\u001b[39mstr\u001b[38;5;241m.\u001b[39mlower() \u001b[38;5;241m==\u001b[39m stock)\u001b[38;5;241m.\u001b[39midxmax(), \u001b[38;5;124m\"\u001b[39m\u001b[38;5;124msymbol\u001b[39m\u001b[38;5;124m\"\u001b[39m\n\u001b[1;32m    620\u001b[0m ]\n\u001b[1;32m    621\u001b[0m id_ \u001b[38;5;241m=\u001b[39m stocks\u001b[38;5;241m.\u001b[39mloc[\n\u001b[1;32m    622\u001b[0m     (stocks[\u001b[38;5;124m\"\u001b[39m\u001b[38;5;124msymbol\u001b[39m\u001b[38;5;124m\"\u001b[39m]\u001b[38;5;241m.\u001b[39mapply(unidecode)\u001b[38;5;241m.\u001b[39mstr\u001b[38;5;241m.\u001b[39mlower() \u001b[38;5;241m==\u001b[39m stock)\u001b[38;5;241m.\u001b[39midxmax(), \u001b[38;5;124m\"\u001b[39m\u001b[38;5;124mid\u001b[39m\u001b[38;5;124m\"\u001b[39m\n\u001b[1;32m    623\u001b[0m ]\n",
      "\u001b[0;31mRuntimeError\u001b[0m: ERR#0018: stock rdc not found, check if it is correct."
     ]
    }
   ],
   "source": [
    "data = investpy.stocks.get_stock_historical_data(stock='RDC', country='united states',\n",
    "                                                 from_date='01/01/2014', to_date='01/01/2015').reset_index()"
   ]
  },
  {
   "cell_type": "code",
   "execution_count": 77,
   "id": "cc47565e",
   "metadata": {},
   "outputs": [
    {
     "data": {
      "text/html": [
       "<div>\n",
       "<style scoped>\n",
       "    .dataframe tbody tr th:only-of-type {\n",
       "        vertical-align: middle;\n",
       "    }\n",
       "\n",
       "    .dataframe tbody tr th {\n",
       "        vertical-align: top;\n",
       "    }\n",
       "\n",
       "    .dataframe thead th {\n",
       "        text-align: right;\n",
       "    }\n",
       "</style>\n",
       "<table border=\"1\" class=\"dataframe\">\n",
       "  <thead>\n",
       "    <tr style=\"text-align: right;\">\n",
       "      <th></th>\n",
       "      <th>Date</th>\n",
       "      <th>Open</th>\n",
       "      <th>High</th>\n",
       "      <th>Low</th>\n",
       "      <th>Close</th>\n",
       "      <th>Volume</th>\n",
       "      <th>Currency</th>\n",
       "    </tr>\n",
       "  </thead>\n",
       "  <tbody>\n",
       "    <tr>\n",
       "      <th>0</th>\n",
       "      <td>2014-01-02</td>\n",
       "      <td>24.57</td>\n",
       "      <td>24.67</td>\n",
       "      <td>24.12</td>\n",
       "      <td>24.35</td>\n",
       "      <td>415743</td>\n",
       "      <td>USD</td>\n",
       "    </tr>\n",
       "    <tr>\n",
       "      <th>1</th>\n",
       "      <td>2014-01-03</td>\n",
       "      <td>24.37</td>\n",
       "      <td>24.96</td>\n",
       "      <td>24.12</td>\n",
       "      <td>24.20</td>\n",
       "      <td>699402</td>\n",
       "      <td>USD</td>\n",
       "    </tr>\n",
       "    <tr>\n",
       "      <th>2</th>\n",
       "      <td>2014-01-06</td>\n",
       "      <td>24.51</td>\n",
       "      <td>24.64</td>\n",
       "      <td>23.68</td>\n",
       "      <td>23.97</td>\n",
       "      <td>644066</td>\n",
       "      <td>USD</td>\n",
       "    </tr>\n",
       "    <tr>\n",
       "      <th>3</th>\n",
       "      <td>2014-01-07</td>\n",
       "      <td>24.05</td>\n",
       "      <td>24.37</td>\n",
       "      <td>23.55</td>\n",
       "      <td>23.76</td>\n",
       "      <td>942681</td>\n",
       "      <td>USD</td>\n",
       "    </tr>\n",
       "    <tr>\n",
       "      <th>4</th>\n",
       "      <td>2014-01-08</td>\n",
       "      <td>23.71</td>\n",
       "      <td>24.02</td>\n",
       "      <td>23.63</td>\n",
       "      <td>23.96</td>\n",
       "      <td>537299</td>\n",
       "      <td>USD</td>\n",
       "    </tr>\n",
       "    <tr>\n",
       "      <th>...</th>\n",
       "      <td>...</td>\n",
       "      <td>...</td>\n",
       "      <td>...</td>\n",
       "      <td>...</td>\n",
       "      <td>...</td>\n",
       "      <td>...</td>\n",
       "      <td>...</td>\n",
       "    </tr>\n",
       "    <tr>\n",
       "      <th>247</th>\n",
       "      <td>2014-12-24</td>\n",
       "      <td>24.47</td>\n",
       "      <td>24.56</td>\n",
       "      <td>24.02</td>\n",
       "      <td>24.46</td>\n",
       "      <td>95079</td>\n",
       "      <td>USD</td>\n",
       "    </tr>\n",
       "    <tr>\n",
       "      <th>248</th>\n",
       "      <td>2014-12-26</td>\n",
       "      <td>24.47</td>\n",
       "      <td>24.48</td>\n",
       "      <td>24.09</td>\n",
       "      <td>24.23</td>\n",
       "      <td>142224</td>\n",
       "      <td>USD</td>\n",
       "    </tr>\n",
       "    <tr>\n",
       "      <th>249</th>\n",
       "      <td>2014-12-29</td>\n",
       "      <td>24.25</td>\n",
       "      <td>24.65</td>\n",
       "      <td>24.11</td>\n",
       "      <td>24.38</td>\n",
       "      <td>177498</td>\n",
       "      <td>USD</td>\n",
       "    </tr>\n",
       "    <tr>\n",
       "      <th>250</th>\n",
       "      <td>2014-12-30</td>\n",
       "      <td>24.25</td>\n",
       "      <td>24.87</td>\n",
       "      <td>24.06</td>\n",
       "      <td>24.64</td>\n",
       "      <td>172024</td>\n",
       "      <td>USD</td>\n",
       "    </tr>\n",
       "    <tr>\n",
       "      <th>251</th>\n",
       "      <td>2014-12-31</td>\n",
       "      <td>24.70</td>\n",
       "      <td>24.78</td>\n",
       "      <td>24.36</td>\n",
       "      <td>24.50</td>\n",
       "      <td>194470</td>\n",
       "      <td>USD</td>\n",
       "    </tr>\n",
       "  </tbody>\n",
       "</table>\n",
       "<p>252 rows × 7 columns</p>\n",
       "</div>"
      ],
      "text/plain": [
       "          Date   Open   High    Low  Close  Volume Currency\n",
       "0   2014-01-02  24.57  24.67  24.12  24.35  415743      USD\n",
       "1   2014-01-03  24.37  24.96  24.12  24.20  699402      USD\n",
       "2   2014-01-06  24.51  24.64  23.68  23.97  644066      USD\n",
       "3   2014-01-07  24.05  24.37  23.55  23.76  942681      USD\n",
       "4   2014-01-08  23.71  24.02  23.63  23.96  537299      USD\n",
       "..         ...    ...    ...    ...    ...     ...      ...\n",
       "247 2014-12-24  24.47  24.56  24.02  24.46   95079      USD\n",
       "248 2014-12-26  24.47  24.48  24.09  24.23  142224      USD\n",
       "249 2014-12-29  24.25  24.65  24.11  24.38  177498      USD\n",
       "250 2014-12-30  24.25  24.87  24.06  24.64  172024      USD\n",
       "251 2014-12-31  24.70  24.78  24.36  24.50  194470      USD\n",
       "\n",
       "[252 rows x 7 columns]"
      ]
     },
     "execution_count": 77,
     "metadata": {},
     "output_type": "execute_result"
    }
   ],
   "source": [
    "data"
   ]
  },
  {
   "cell_type": "code",
   "execution_count": null,
   "id": "14a637f7",
   "metadata": {},
   "outputs": [],
   "source": []
  },
  {
   "cell_type": "code",
   "execution_count": null,
   "id": "f07d9b63",
   "metadata": {},
   "outputs": [],
   "source": []
  },
  {
   "cell_type": "code",
   "execution_count": null,
   "id": "90b8708f",
   "metadata": {},
   "outputs": [],
   "source": []
  },
  {
   "cell_type": "code",
   "execution_count": null,
   "id": "0a5c0f4b",
   "metadata": {},
   "outputs": [],
   "source": []
  },
  {
   "cell_type": "code",
   "execution_count": null,
   "id": "4536b509",
   "metadata": {},
   "outputs": [],
   "source": []
  },
  {
   "cell_type": "markdown",
   "id": "5a49201c",
   "metadata": {},
   "source": [
    "---"
   ]
  },
  {
   "cell_type": "markdown",
   "id": "43b7b5a9",
   "metadata": {},
   "source": [
    "# TRY3 - combination of existing sp500 list and updates"
   ]
  },
  {
   "cell_type": "code",
   "execution_count": 607,
   "id": "6cbc3651",
   "metadata": {},
   "outputs": [],
   "source": [
    "with open(\"app/helper_files/sp500_constituents.json\", 'r') as file:\n",
    "    reference = json.load(file)"
   ]
  },
  {
   "cell_type": "code",
   "execution_count": 608,
   "id": "b10df4d0",
   "metadata": {},
   "outputs": [
    {
     "name": "stdout",
     "output_type": "stream",
     "text": [
      "this data has 145 changes.\n"
     ]
    }
   ],
   "source": [
    "print(\"this data has {} changes.\".format(len(reference.keys())))"
   ]
  },
  {
   "cell_type": "code",
   "execution_count": 612,
   "id": "2182c7ca",
   "metadata": {},
   "outputs": [],
   "source": [
    "URL_NEW = \"https://en.wikipedia.org/wiki/List_of_S%26P_500_companies\"\n",
    "# the fixed version of the sp500 is\n",
    "# https://en.wikipedia.org/w/index.php?title=List_of_S%26P_500_companies&oldid=1095558369\n",
    "# if the wiki page format changes, some of the codes below might not work.\n",
    "# in that case, use the fixed version of the wiki page\n",
    "page_NEW = requests.get(URL_NEW)\n",
    "\n",
    "soup_NEW = BeautifulSoup(page_NEW.content, \"html.parser\")\n",
    "\n",
    "changes = pd.read_html(str(soup_NEW.find(id='changes')))[0]\n",
    "# concat the multi-headers into single header\n",
    "changes.columns = ['_'.join(i) for i in list(changes.columns)]\n",
    "changes.Date_Date = pd.to_datetime(changes.Date_Date, format=\"%B %d, %Y\")\n",
    "\n",
    "# this is the current list of sp500 companies\n",
    "constituents = pd.read_html(str(soup_NEW.find(id='constituents')))[0]# change date format\n"
   ]
  },
  {
   "cell_type": "code",
   "execution_count": 613,
   "id": "9f672933",
   "metadata": {
    "scrolled": true
   },
   "outputs": [
    {
     "name": "stdout",
     "output_type": "stream",
     "text": [
      "2019-04-02 00:00:00 DOW BHF\n",
      "509\n",
      "2019-06-03 00:00:00 CTVA FLR\n",
      "509\n",
      "2019-06-03 00:00:00 DD DWDP\n",
      "ERROR:2019-06-03 00:00:00. Trying to add DD and remove DWDP\n",
      "list.remove(x): x not in list\n",
      "509\n",
      "2019-06-07 00:00:00 AMCR MAT\n",
      "509\n",
      "2019-07-01 00:00:00 MKTX LLL\n",
      "509\n",
      "2019-07-15 00:00:00 TMUS RHT\n",
      "509\n",
      "2019-08-09 00:00:00 IEX FL\n",
      "509\n",
      "2019-08-09 00:00:00 LDOS APC\n",
      "509\n",
      "2019-09-23 00:00:00 CDW TSS\n",
      "509\n",
      "2019-09-26 00:00:00 NVR JEF\n",
      "ERROR:2019-09-26 00:00:00. Trying to add NVR and remove JEF\n",
      "list.remove(x): x not in list\n",
      "509\n",
      "2019-10-03 00:00:00 LVS NKTR\n",
      "509\n",
      "2019-11-21 00:00:00 NOW CELG\n",
      "509\n",
      "2019-12-05 00:00:00 WRB VIAB\n",
      "509\n",
      "2019-12-09 00:00:00 ODFL STI\n",
      "509\n",
      "2019-12-23 00:00:00 LYV AMG\n",
      "509\n",
      "2019-12-23 00:00:00 STE MAC\n",
      "509\n",
      "2019-12-23 00:00:00 ZBRA TRIP\n",
      "509\n",
      "2020-01-28 00:00:00 PAYC WCG\n",
      "509\n",
      "2020-03-02 00:00:00 IR XEC\n",
      "509\n",
      "2020-04-01 00:00:00 HWM ARNC\n",
      "509\n",
      "2020-04-03 00:00:00 CARR nan\n",
      "510\n",
      "2020-04-03 00:00:00 OTIS nan\n",
      "511\n",
      "2020-04-06 00:00:00 nan RTN\n",
      "510\n",
      "2020-04-06 00:00:00 nan M\n",
      "509\n",
      "2020-05-12 00:00:00 DXCM AGN\n",
      "509\n",
      "2020-05-12 00:00:00 DPZ CPRI\n",
      "ERROR:2020-05-12 00:00:00. Trying to add DPZ and remove CPRI\n",
      "list.remove(x): x not in list\n",
      "509\n",
      "2020-05-22 00:00:00 WST HP\n",
      "509\n",
      "2020-06-22 00:00:00 TYL JWN\n",
      "509\n",
      "2020-06-22 00:00:00 TDY HOG\n",
      "509\n",
      "2020-06-22 00:00:00 BIO ADS\n",
      "509\n",
      "2020-09-21 00:00:00 CTLT KSS\n",
      "509\n",
      "2020-09-21 00:00:00 TER COTY\n",
      "509\n",
      "2020-09-21 00:00:00 ETSY HRB\n",
      "509\n",
      "2020-10-07 00:00:00 POOL ETFC\n",
      "509\n",
      "2020-10-09 00:00:00 VNT nan\n",
      "510\n",
      "2020-10-12 00:00:00 nan NBL\n",
      "509\n",
      "2020-12-21 00:00:00 TSLA AIV\n",
      "509\n",
      "2021-01-07 00:00:00 ENPH TIF\n",
      "509\n",
      "2021-01-21 00:00:00 TRMB CXO\n",
      "509\n",
      "2021-02-12 00:00:00 MPWR FTI\n",
      "509\n",
      "2021-03-22 00:00:00 CZR VNT\n",
      "509\n",
      "2021-03-22 00:00:00 GNRC XRX\n",
      "509\n",
      "2021-03-22 00:00:00 PENN SLG\n",
      "509\n",
      "2021-03-22 00:00:00 NXPI FLS\n",
      "509\n",
      "2021-04-20 00:00:00 PTC VAR\n",
      "509\n",
      "2021-05-14 00:00:00 CRL FLIR\n",
      "509\n",
      "2021-06-03 00:00:00 OGN nan\n",
      "510\n",
      "2021-06-04 00:00:00 nan HFC\n",
      "509\n",
      "2021-07-21 00:00:00 MRNA ALXN\n",
      "509\n",
      "2021-08-30 00:00:00 TECH MXIM\n",
      "509\n",
      "2021-09-20 00:00:00 CDAY UNM\n",
      "509\n",
      "2021-09-20 00:00:00 MTCH PRGO\n",
      "509\n",
      "2021-09-20 00:00:00 BRO NOV\n",
      "509\n",
      "2021-12-14 00:00:00 EPAM KSU\n",
      "509\n",
      "2021-12-20 00:00:00 FDS WU\n",
      "509\n",
      "2021-12-20 00:00:00 SEDG HBI\n",
      "509\n",
      "2021-12-20 00:00:00 SBNY LEG\n",
      "509\n",
      "2022-02-02 00:00:00 CEG nan\n",
      "510\n",
      "2022-02-03 00:00:00 nan GPS\n",
      "509\n",
      "2022-02-15 00:00:00 NDSN XLNX\n",
      "509\n",
      "2022-03-02 00:00:00 MOH INFO\n",
      "509\n",
      "2022-04-04 00:00:00 CPT PBCT\n",
      "509\n",
      "2022-06-08 00:00:00 VICI CERN\n",
      "509\n",
      "2022-06-21 00:00:00 ON IPGP\n",
      "509\n",
      "2022-06-21 00:00:00 KDP UA/UAA\n",
      "ERROR:2022-06-21 00:00:00. Trying to add KDP and remove UA/UAA\n",
      "list.remove(x): x not in list\n",
      "509\n"
     ]
    }
   ],
   "source": [
    "construct = reference['2019/02/27']\n",
    "\n",
    "changes_recent = changes.loc[changes.Date_Date > '2019-02-28']\n",
    "changes_recent = changes_recent.sort_values(by='Date_Date')\n",
    "current = constituents.Symbol.tolist()\n",
    "\n",
    "for i, (d, new, _, old, _, _) in changes_recent.iterrows():\n",
    "    \n",
    "    print(d, new, old)\n",
    "\n",
    "    try:\n",
    "        construct = update_sp500_list(construct, new, old)\n",
    "    except Exception as e:\n",
    "        print(\"ERROR:{}. Trying to add {} and remove {}\".format(d, new, old))\n",
    "        print(e)\n",
    "        \n",
    "#         break\n",
    "    print(len(construct))"
   ]
  },
  {
   "cell_type": "code",
   "execution_count": null,
   "id": "1233610f",
   "metadata": {},
   "outputs": [],
   "source": []
  },
  {
   "cell_type": "code",
   "execution_count": null,
   "id": "d56365aa",
   "metadata": {},
   "outputs": [],
   "source": []
  },
  {
   "cell_type": "code",
   "execution_count": null,
   "id": "a991a1a1",
   "metadata": {},
   "outputs": [],
   "source": []
  },
  {
   "cell_type": "code",
   "execution_count": null,
   "id": "6fa46731",
   "metadata": {},
   "outputs": [],
   "source": []
  },
  {
   "cell_type": "code",
   "execution_count": 580,
   "id": "51afe125",
   "metadata": {
    "scrolled": true
   },
   "outputs": [
    {
     "data": {
      "text/plain": [
       "dict_keys(['2008/01/31', '2008/02/29', '2008/03/31', '2008/04/30', '2008/05/30', '2008/06/30', '2008/07/31', '2008/08/29', '2008/09/30', '2008/10/31', '2008/11/28', '2008/12/31', '2009/01/30', '2009/02/27', '2009/03/31', '2009/04/30', '2009/05/29', '2009/06/30', '2009/07/31', '2009/08/31', '2009/09/30', '2009/10/30', '2009/11/30', '2009/12/31', '2010/01/29', '2010/02/26', '2010/03/31', '2010/04/30', '2010/05/28', '2010/06/30', '2010/07/30', '2010/08/31', '2010/09/30', '2010/10/29', '2010/11/30', '2010/12/31', '2011/01/31', '2011/02/28', '2011/03/31', '2011/04/29', '2011/05/31', '2011/06/30', '2011/07/29', '2011/08/31', '2011/09/30', '2011/10/31', '2011/11/30', '2011/12/30', '2012/01/31', '2012/02/29', '2012/03/30', '2012/04/30', '2012/05/31', '2012/06/29', '2012/07/31', '2012/08/31', '2012/09/28', '2012/10/31', '2012/11/30', '2012/12/31', '2013/01/31', '2013/02/28', '2013/03/28', '2013/04/30', '2013/05/31', '2013/06/28', '2013/07/31', '2013/08/30', '2013/09/30', '2013/10/31', '2013/11/29', '2013/12/31', '2014/01/31', '2014/02/28', '2014/03/31', '2014/04/30', '2014/05/30', '2014/06/30', '2014/07/31', '2014/08/29', '2014/09/30', '2014/10/31', '2014/11/28', '2014/12/31', '2015/01/30', '2015/02/27', '2015/03/31', '2015/04/30', '2015/05/29', '2015/06/30', '2015/07/31', '2015/08/31', '2015/09/30', '2015/10/30', '2015/11/30', '2015/12/31', '2016/01/29', '2016/02/29', '2016/03/31', '2016/04/29', '2016/05/31', '2016/06/30', '2016/07/29', '2016/08/31', '2016/09/30', '2016/10/31', '2016/11/30', '2016/12/30', '2017/01/31', '2017/02/28', '2017/03/31', '2017/04/28', '2017/05/03', '2017/06/02', '2017/06/19', '2017/07/26', '2017/08/01', '2017/08/07', '2017/08/08', '2017/08/29', '2017/09/01', '2017/09/18', '2017/10/13', '2018/01/03', '2018/03/07', '2018/03/19', '2018/04/04', '2018/05/31', '2018/06/05', '2018/06/07', '2018/06/18', '2018/06/20', '2018/07/02', '2018/08/28', '2018/09/14', '2018/10/01', '2018/10/11', '2018/11/06', '2018/11/13', '2018/12/03', '2018/12/24', '2019/01/02', '2019/01/18', '2019/02/15', '2019/02/27'])"
      ]
     },
     "execution_count": 580,
     "metadata": {},
     "output_type": "execute_result"
    }
   ],
   "source": [
    "reference.keys()"
   ]
  },
  {
   "cell_type": "code",
   "execution_count": null,
   "id": "24ce43c6",
   "metadata": {},
   "outputs": [],
   "source": []
  },
  {
   "cell_type": "code",
   "execution_count": null,
   "id": "d61f15d1",
   "metadata": {},
   "outputs": [],
   "source": []
  },
  {
   "cell_type": "code",
   "execution_count": null,
   "id": "2875d0c2",
   "metadata": {},
   "outputs": [],
   "source": []
  },
  {
   "cell_type": "code",
   "execution_count": 291,
   "id": "224bdb69",
   "metadata": {
    "scrolled": true
   },
   "outputs": [
    {
     "name": "stdout",
     "output_type": "stream",
     "text": [
      "set()\n",
      "{'HCP', 'PM'}\n",
      "set()\n",
      "set()\n",
      "{'SWN', 'MEE', 'ISRG', 'LO', 'COG'}\n",
      "{'MA', 'DVA', 'AKS', 'SNI'}\n",
      "{'CF', 'IVZ'}\n",
      "{'APH', 'PXD', 'CRM', 'HRS', 'BRIXX', 'FAST'}\n",
      "{'FLS', 'NDAQ', 'DPS', 'WEC'}\n",
      "{'XRAY', 'SRCL', 'SJM', 'PBCT', 'LIFE', 'WYNN', 'CEPH'}\n",
      "{'EQT', 'MFE', 'DNB', 'RSG'}\n",
      "{'OI', 'SCG', 'IRM', 'FLIR', 'HCN'}\n",
      "{'BLKFDS', 'DO'}\n",
      "{'HRL', 'ES', 'ORLY', 'VTR', 'TW'}\n",
      "{'DNR'}\n",
      "{'AVNW'}\n",
      "{'DV', 'PCS', 'FTI'}\n",
      "{'RHT', 'WDC', 'PWR'}\n",
      "{'FMC'}\n",
      "{'ARG', 'CFN'}\n",
      "{'FSLR'}\n",
      "{'PCLN'}\n",
      "{'MJN', 'VISA', 'CLF', 'ROST', 'ROP', 'LDOS'}\n",
      "{'NRG'}\n",
      "{'BRKB', 'URBN'}\n",
      "{'OKE', 'DISCA', 'HP'}\n",
      "{'CERN'}\n",
      "set()\n",
      "{'KMX'}\n",
      "{'QEP'}\n",
      "{'TYC'}\n",
      "set()\n",
      "set()\n",
      "{'IR'}\n",
      "{'FFIV', 'CVC', 'NFX', 'NFLX'}\n",
      "{'MMI', 'MSI', 'NE'}\n",
      "{'JOY'}\n",
      "{'COV', 'HII'}\n",
      "{'EW', 'BLK', 'CMG'}\n",
      "{'C'}\n",
      "{'ANRZQ', 'PLD'}\n",
      "{'ACN', 'MPN'}\n",
      "set()\n",
      "{'MOS'}\n",
      "{'BEAM', 'TEL'}\n",
      "{'XYL', 'CBE'}\n",
      "{'OSHWQ', 'TRIP', 'BWA', 'OSHSQ', 'DLTR', 'PRGO'}\n",
      "{'COV', 'WPX'}\n",
      "set()\n",
      "{'CCI'}\n",
      "{'FOSL', 'XS'}\n",
      "{'PSX', 'ALXN', 'KMI', 'KMIWS'}\n",
      "{'LRCX', 'MNST'}\n",
      "{'STX', 'ESV'}\n",
      "set()\n",
      "{'LYB'}\n",
      "{'PETM', 'KRFT', 'ADT', 'KTF', 'PNR'}\n",
      "set()\n",
      "{'EC', 'DG', 'DLPH', 'GRMN'}\n",
      "{'ETN', 'ABBV', 'ACT'}\n",
      "{'PVH', 'CWGL'}\n",
      "{'LB'}\n",
      "{'COV'}\n",
      "{'MAC', 'REGN', 'KSU'}\n",
      "{'ZTS', 'GM'}\n",
      "{'NLSN', 'NWSA', 'FOXA'}\n",
      "set()\n",
      "{'VRTX', 'AME', 'DAL'}\n",
      "{'RIG'}\n",
      "{'KORS'}\n",
      "{'ALLE', 'GGP', 'MHK', 'FB', 'ADS'}\n",
      "{'TSCO'}\n",
      "set()\n",
      "{'HON', 'ESRX', 'ACT', 'MTB', 'APC', 'AXP', 'TWC', 'GMCR', 'MET', 'GE', 'TRV', 'LMT', 'MPC', 'AGN', 'L', 'MDLZ', 'SCHW', 'SLB', 'DFS', 'CME', 'NOC', 'UNM', 'RF', 'AFL', 'V', 'QCOM'}\n",
      "{'GGQ', 'HAWKB', 'ESS'}\n",
      "{'WPG', 'AVGO', 'X', 'NAVI', 'INTC', 'UAA', 'GOOG', 'BLKFDS'}\n",
      "{'XEC'}\n",
      "{'MLM', 'AMG'}\n",
      "{'MNK', 'DISCK'}\n",
      "{'UHS', 'URI'}\n",
      "set()\n",
      "{'LVLT', 'NU', 'USD', 'ACE', 'ESZ', 'WLP', 'UA', 'CRC', 'UBSFT', 'ACT', 'ZMH', 'GCI'}\n",
      "{'ANTM', 'WBA', 'RCL', 'ESH'}\n",
      "{'HCA', 'ENDP'}\n",
      "{'ES'}\n",
      "{'HBI', 'SLG', 'ESM', 'AAL', 'EQIX', 'HSIC', 'SWKS'}\n",
      "{'O'}\n",
      "set()\n",
      "{'CCWI', 'QRVO', 'AGN', 'ESU', 'JBHT', 'ZBH', 'TGNA', 'BLDWI'}\n",
      "{'PYPL', 'SIG', 'KHC', 'CPGX', 'BXLT', 'AAP', 'WRK'}\n",
      "{'ATVI'}\n",
      "{'NWS', 'CMCSK', 'FOX', 'UAL', 'ESZ'}\n",
      "{'VRSK'}\n",
      "{'ILMN', 'SYF', 'UBFUT', 'CSRA', 'HPE', 'SYFW'}\n",
      "{'CHD', 'ESH'}\n",
      "{'EXR', 'WLTW', 'CFG', 'FRT'}\n",
      "{'CXO', 'CRC'}\n",
      "{'CNC', 'HOLX', 'ESM', 'UDR', 'AWK'}\n",
      "{'GPN', 'SPGI', 'UACC', 'FL', 'ULTA'}\n",
      "{'AJG', 'ALK', 'LKQ', 'DLR', 'AYI'}\n",
      "{'LNT', 'ALB', 'FBHS', 'TDG', 'ESU'}\n",
      "{'FTV'}\n",
      "set()\n",
      "{'COTY', 'COO', 'CHTR', 'ESZ', 'MTD'}\n",
      "set()\n",
      "{'ARNC'}\n",
      "{'MAA', 'EVHC', 'UAA', 'ESH'}\n",
      "{'IDXX'}\n",
      "{'CBOE', 'INCY'}\n",
      "{'ARE', 'DISH', 'AMD', 'ESM', 'REG', 'RJF', 'SNPS'}\n",
      "{'IT', 'DXC'}\n",
      "set()\n",
      "{'INFO'}\n",
      "{'ANSS', 'ALGN', 'HLT', 'RE'}\n",
      "{'DRE', 'RMD', 'PKG', 'AOS', 'MGM'}\n",
      "{'ANDV'}\n",
      "{'BHF'}\n",
      "set()\n",
      "{'Q'}\n",
      "{'SBAC'}\n",
      "{'CDNS'}\n",
      "{'NCLH'}\n",
      "{'HII'}\n",
      "{'IPGP'}\n",
      "{'NKTR', 'SIVB', 'TTWO'}\n",
      "{'MSCI'}\n",
      "{'ABMD'}\n",
      "{'EVRG'}\n",
      "{'TWTR'}\n",
      "{'BR', 'HFC'}\n",
      "{'FLT'}\n",
      "{'CPRT'}\n",
      "{'ANET'}\n",
      "{'WCG'}\n",
      "{'ROL'}\n",
      "{'FTNT'}\n",
      "{'KEYS'}\n",
      "{'JKHY'}\n",
      "{'MXIM', 'LW', 'FANG'}\n",
      "{'CE'}\n",
      "{'FRC'}\n",
      "{'TFX'}\n",
      "{'ATO'}\n",
      "{'WAB'}\n",
      "2019/02/27 list index out of range\n"
     ]
    }
   ],
   "source": [
    "update_dates = list(reference.keys())\n",
    "\n",
    "for i, k in enumerate(update_dates):\n",
    "    try:\n",
    "        diff = set(reference[update_dates[i+1]]) - set(reference[update_dates[i]])\n",
    "        print(diff)\n",
    "    except Exception as e:\n",
    "        print(k, e)"
   ]
  },
  {
   "cell_type": "markdown",
   "id": "5ee7a7e1",
   "metadata": {},
   "source": [
    "## reference2"
   ]
  },
  {
   "cell_type": "code",
   "execution_count": 343,
   "id": "c4bd2fb7",
   "metadata": {},
   "outputs": [],
   "source": [
    "df = pd.read_csv('notebooks/sp500-master/S&P 500 Historical Components & Changes(07-05-2022).csv')"
   ]
  },
  {
   "cell_type": "code",
   "execution_count": null,
   "id": "ddffae91",
   "metadata": {},
   "outputs": [],
   "source": [
    "df"
   ]
  },
  {
   "cell_type": "code",
   "execution_count": 352,
   "id": "64e68d6c",
   "metadata": {},
   "outputs": [
    {
     "data": {
      "text/html": [
       "<div>\n",
       "<style scoped>\n",
       "    .dataframe tbody tr th:only-of-type {\n",
       "        vertical-align: middle;\n",
       "    }\n",
       "\n",
       "    .dataframe tbody tr th {\n",
       "        vertical-align: top;\n",
       "    }\n",
       "\n",
       "    .dataframe thead th {\n",
       "        text-align: right;\n",
       "    }\n",
       "</style>\n",
       "<table border=\"1\" class=\"dataframe\">\n",
       "  <thead>\n",
       "    <tr style=\"text-align: right;\">\n",
       "      <th></th>\n",
       "      <th>date</th>\n",
       "      <th>tickers</th>\n",
       "    </tr>\n",
       "  </thead>\n",
       "  <tbody>\n",
       "    <tr>\n",
       "      <th>1289</th>\n",
       "      <td>2007-07-02</td>\n",
       "      <td>A,AABA,AAPL,ABC,ABI,ABKFQ,ABT,ACS,ADBE,ADI,ADM...</td>\n",
       "    </tr>\n",
       "  </tbody>\n",
       "</table>\n",
       "</div>"
      ],
      "text/plain": [
       "            date                                            tickers\n",
       "1289  2007-07-02  A,AABA,AAPL,ABC,ABI,ABKFQ,ABT,ACS,ADBE,ADI,ADM..."
      ]
     },
     "execution_count": 352,
     "metadata": {},
     "output_type": "execute_result"
    }
   ],
   "source": [
    "df.loc[(df.date=='2007-07-02') | (df.date=='2007-06-26')]"
   ]
  },
  {
   "cell_type": "code",
   "execution_count": 368,
   "id": "b764c0f6",
   "metadata": {},
   "outputs": [
    {
     "data": {
      "text/plain": [
       "{'COV', 'DFS', 'GGP', 'TEL'}"
      ]
     },
     "execution_count": 368,
     "metadata": {},
     "output_type": "execute_result"
    }
   ],
   "source": [
    "set(df.loc[df.date=='2007-07-02', 'tickers'].values[0].split(',')) - set(df.loc[df.date=='2007-06-26', 'tickers'].values[0].split(','))"
   ]
  },
  {
   "cell_type": "code",
   "execution_count": 369,
   "id": "2ddda481",
   "metadata": {},
   "outputs": [
    {
     "data": {
      "text/plain": [
       "{'ADCT', 'MEL', 'PMCS', 'SANM'}"
      ]
     },
     "execution_count": 369,
     "metadata": {},
     "output_type": "execute_result"
    }
   ],
   "source": [
    "set(df.loc[df.date=='2007-06-26', 'tickers'].values[0].split(',')) - set(df.loc[df.date=='2007-07-02', 'tickers'].values[0].split(','))"
   ]
  },
  {
   "cell_type": "code",
   "execution_count": null,
   "id": "f05a580c",
   "metadata": {},
   "outputs": [],
   "source": []
  },
  {
   "cell_type": "code",
   "execution_count": 367,
   "id": "3da7b2ba",
   "metadata": {},
   "outputs": [
    {
     "data": {
      "text/plain": [
       "True"
      ]
     },
     "execution_count": 367,
     "metadata": {},
     "output_type": "execute_result"
    }
   ],
   "source": [
    "'GGP' in df.loc[df.date=='2007-07-02', 'tickers'].values[0].split(',')"
   ]
  },
  {
   "cell_type": "code",
   "execution_count": 353,
   "id": "e6e19f7a",
   "metadata": {},
   "outputs": [
    {
     "data": {
      "text/html": [
       "<div>\n",
       "<style scoped>\n",
       "    .dataframe tbody tr th:only-of-type {\n",
       "        vertical-align: middle;\n",
       "    }\n",
       "\n",
       "    .dataframe tbody tr th {\n",
       "        vertical-align: top;\n",
       "    }\n",
       "\n",
       "    .dataframe thead th {\n",
       "        text-align: right;\n",
       "    }\n",
       "</style>\n",
       "<table border=\"1\" class=\"dataframe\">\n",
       "  <thead>\n",
       "    <tr style=\"text-align: right;\">\n",
       "      <th></th>\n",
       "      <th>date</th>\n",
       "      <th>tickers</th>\n",
       "    </tr>\n",
       "  </thead>\n",
       "  <tbody>\n",
       "    <tr>\n",
       "      <th>1288</th>\n",
       "      <td>2007-06-26</td>\n",
       "      <td>A,AABA,AAPL,ABC,ABI,ABKFQ,ABT,ACS,ADBE,ADCT,AD...</td>\n",
       "    </tr>\n",
       "    <tr>\n",
       "      <th>1289</th>\n",
       "      <td>2007-07-02</td>\n",
       "      <td>A,AABA,AAPL,ABC,ABI,ABKFQ,ABT,ACS,ADBE,ADI,ADM...</td>\n",
       "    </tr>\n",
       "  </tbody>\n",
       "</table>\n",
       "</div>"
      ],
      "text/plain": [
       "            date                                            tickers\n",
       "1288  2007-06-26  A,AABA,AAPL,ABC,ABI,ABKFQ,ABT,ACS,ADBE,ADCT,AD...\n",
       "1289  2007-07-02  A,AABA,AAPL,ABC,ABI,ABKFQ,ABT,ACS,ADBE,ADI,ADM..."
      ]
     },
     "execution_count": 353,
     "metadata": {},
     "output_type": "execute_result"
    }
   ],
   "source": [
    "df.iloc[[1288, 1289]]"
   ]
  },
  {
   "cell_type": "code",
   "execution_count": 345,
   "id": "b0e89d6b",
   "metadata": {},
   "outputs": [
    {
     "data": {
      "text/html": [
       "<div>\n",
       "<style scoped>\n",
       "    .dataframe tbody tr th:only-of-type {\n",
       "        vertical-align: middle;\n",
       "    }\n",
       "\n",
       "    .dataframe tbody tr th {\n",
       "        vertical-align: top;\n",
       "    }\n",
       "\n",
       "    .dataframe thead th {\n",
       "        text-align: right;\n",
       "    }\n",
       "</style>\n",
       "<table border=\"1\" class=\"dataframe\">\n",
       "  <thead>\n",
       "    <tr style=\"text-align: right;\">\n",
       "      <th></th>\n",
       "      <th>date</th>\n",
       "      <th>tickers</th>\n",
       "    </tr>\n",
       "  </thead>\n",
       "  <tbody>\n",
       "    <tr>\n",
       "      <th>1289</th>\n",
       "      <td>2007-07-02</td>\n",
       "      <td>A,AABA,AAPL,ABC,ABI,ABKFQ,ABT,ACS,ADBE,ADI,ADM...</td>\n",
       "    </tr>\n",
       "    <tr>\n",
       "      <th>1290</th>\n",
       "      <td>2007-07-03</td>\n",
       "      <td>A,AABA,AAPL,ABC,ABI,ABKFQ,ABT,ACS,ADBE,ADI,ADM...</td>\n",
       "    </tr>\n",
       "    <tr>\n",
       "      <th>1291</th>\n",
       "      <td>2007-07-05</td>\n",
       "      <td>A,AABA,AAPL,ABC,ABI,ABKFQ,ABT,ACS,ADBE,ADI,ADM...</td>\n",
       "    </tr>\n",
       "    <tr>\n",
       "      <th>1292</th>\n",
       "      <td>2007-07-06</td>\n",
       "      <td>A,AABA,AAPL,ABC,ABI,ABKFQ,ABT,ACS,ADBE,ADI,ADM...</td>\n",
       "    </tr>\n",
       "    <tr>\n",
       "      <th>1293</th>\n",
       "      <td>2007-07-09</td>\n",
       "      <td>A,AABA,AAPL,ABC,ABI,ABKFQ,ABT,ACAS,ACS,ADBE,AD...</td>\n",
       "    </tr>\n",
       "    <tr>\n",
       "      <th>...</th>\n",
       "      <td>...</td>\n",
       "      <td>...</td>\n",
       "    </tr>\n",
       "    <tr>\n",
       "      <th>2543</th>\n",
       "      <td>2018-08-03</td>\n",
       "      <td>A,AAL,AAP,AAPL,ABBV,ABC,ABMD,ABT,ACN,ADBE,ADI,...</td>\n",
       "    </tr>\n",
       "    <tr>\n",
       "      <th>2544</th>\n",
       "      <td>2018-08-06</td>\n",
       "      <td>A,AAL,AAP,AAPL,ABBV,ABC,ABMD,ABT,ACN,ADBE,ADI,...</td>\n",
       "    </tr>\n",
       "    <tr>\n",
       "      <th>2545</th>\n",
       "      <td>2018-08-07</td>\n",
       "      <td>A,AAL,AAP,AAPL,ABBV,ABC,ABMD,ABT,ACN,ADBE,ADI,...</td>\n",
       "    </tr>\n",
       "    <tr>\n",
       "      <th>2546</th>\n",
       "      <td>2018-08-17</td>\n",
       "      <td>A,AAL,AAP,AAPL,ABBV,ABC,ABMD,ABT,ACN,ADBE,ADI,...</td>\n",
       "    </tr>\n",
       "    <tr>\n",
       "      <th>2547</th>\n",
       "      <td>2018-08-20</td>\n",
       "      <td>A,AAL,AAP,AAPL,ABBV,ABC,ABMD,ABT,ACN,ADBE,ADI,...</td>\n",
       "    </tr>\n",
       "  </tbody>\n",
       "</table>\n",
       "<p>718 rows × 2 columns</p>\n",
       "</div>"
      ],
      "text/plain": [
       "            date                                            tickers\n",
       "1289  2007-07-02  A,AABA,AAPL,ABC,ABI,ABKFQ,ABT,ACS,ADBE,ADI,ADM...\n",
       "1290  2007-07-03  A,AABA,AAPL,ABC,ABI,ABKFQ,ABT,ACS,ADBE,ADI,ADM...\n",
       "1291  2007-07-05  A,AABA,AAPL,ABC,ABI,ABKFQ,ABT,ACS,ADBE,ADI,ADM...\n",
       "1292  2007-07-06  A,AABA,AAPL,ABC,ABI,ABKFQ,ABT,ACS,ADBE,ADI,ADM...\n",
       "1293  2007-07-09  A,AABA,AAPL,ABC,ABI,ABKFQ,ABT,ACAS,ACS,ADBE,AD...\n",
       "...          ...                                                ...\n",
       "2543  2018-08-03  A,AAL,AAP,AAPL,ABBV,ABC,ABMD,ABT,ACN,ADBE,ADI,...\n",
       "2544  2018-08-06  A,AAL,AAP,AAPL,ABBV,ABC,ABMD,ABT,ACN,ADBE,ADI,...\n",
       "2545  2018-08-07  A,AAL,AAP,AAPL,ABBV,ABC,ABMD,ABT,ACN,ADBE,ADI,...\n",
       "2546  2018-08-17  A,AAL,AAP,AAPL,ABBV,ABC,ABMD,ABT,ACN,ADBE,ADI,...\n",
       "2547  2018-08-20  A,AAL,AAP,AAPL,ABBV,ABC,ABMD,ABT,ACN,ADBE,ADI,...\n",
       "\n",
       "[718 rows x 2 columns]"
      ]
     },
     "execution_count": 345,
     "metadata": {},
     "output_type": "execute_result"
    }
   ],
   "source": [
    "df.loc[df.tickers.str.contains('GGP')]"
   ]
  },
  {
   "cell_type": "code",
   "execution_count": null,
   "id": "87ca87e2",
   "metadata": {},
   "outputs": [],
   "source": []
  },
  {
   "cell_type": "code",
   "execution_count": null,
   "id": "746c47c6",
   "metadata": {},
   "outputs": [],
   "source": []
  },
  {
   "cell_type": "code",
   "execution_count": 344,
   "id": "7dfa91bf",
   "metadata": {},
   "outputs": [
    {
     "data": {
      "text/html": [
       "<div>\n",
       "<style scoped>\n",
       "    .dataframe tbody tr th:only-of-type {\n",
       "        vertical-align: middle;\n",
       "    }\n",
       "\n",
       "    .dataframe tbody tr th {\n",
       "        vertical-align: top;\n",
       "    }\n",
       "\n",
       "    .dataframe thead th {\n",
       "        text-align: right;\n",
       "    }\n",
       "</style>\n",
       "<table border=\"1\" class=\"dataframe\">\n",
       "  <thead>\n",
       "    <tr style=\"text-align: right;\">\n",
       "      <th></th>\n",
       "      <th>date</th>\n",
       "      <th>tickers</th>\n",
       "    </tr>\n",
       "  </thead>\n",
       "  <tbody>\n",
       "    <tr>\n",
       "      <th>0</th>\n",
       "      <td>1996-01-02</td>\n",
       "      <td>AAL,AAMRQ,AAPL,ABI,ABS,ABT,ABX,ACKH,ACV,ADM,AD...</td>\n",
       "    </tr>\n",
       "    <tr>\n",
       "      <th>1</th>\n",
       "      <td>1996-01-03</td>\n",
       "      <td>AAL,AAMRQ,AAPL,ABI,ABS,ABT,ABX,ACKH,ACV,ADM,AD...</td>\n",
       "    </tr>\n",
       "    <tr>\n",
       "      <th>2</th>\n",
       "      <td>1996-01-04</td>\n",
       "      <td>AAL,AAMRQ,AAPL,ABI,ABS,ABT,ABX,ACKH,ACV,ADM,AD...</td>\n",
       "    </tr>\n",
       "    <tr>\n",
       "      <th>3</th>\n",
       "      <td>1996-01-10</td>\n",
       "      <td>AAL,AAMRQ,AAPL,ABI,ABS,ABT,ABX,ACKH,ACV,ADM,AD...</td>\n",
       "    </tr>\n",
       "    <tr>\n",
       "      <th>4</th>\n",
       "      <td>1996-01-11</td>\n",
       "      <td>AAL,AAMRQ,AAPL,ABI,ABS,ABT,ABX,ACKH,ACV,ADM,AD...</td>\n",
       "    </tr>\n",
       "  </tbody>\n",
       "</table>\n",
       "</div>"
      ],
      "text/plain": [
       "         date                                            tickers\n",
       "0  1996-01-02  AAL,AAMRQ,AAPL,ABI,ABS,ABT,ABX,ACKH,ACV,ADM,AD...\n",
       "1  1996-01-03  AAL,AAMRQ,AAPL,ABI,ABS,ABT,ABX,ACKH,ACV,ADM,AD...\n",
       "2  1996-01-04  AAL,AAMRQ,AAPL,ABI,ABS,ABT,ABX,ACKH,ACV,ADM,AD...\n",
       "3  1996-01-10  AAL,AAMRQ,AAPL,ABI,ABS,ABT,ABX,ACKH,ACV,ADM,AD...\n",
       "4  1996-01-11  AAL,AAMRQ,AAPL,ABI,ABS,ABT,ABX,ACKH,ACV,ADM,AD..."
      ]
     },
     "execution_count": 344,
     "metadata": {},
     "output_type": "execute_result"
    }
   ],
   "source": [
    "df.head()"
   ]
  },
  {
   "cell_type": "code",
   "execution_count": null,
   "id": "ece7aac3",
   "metadata": {},
   "outputs": [],
   "source": []
  },
  {
   "cell_type": "code",
   "execution_count": null,
   "id": "7229286f",
   "metadata": {},
   "outputs": [],
   "source": []
  },
  {
   "cell_type": "code",
   "execution_count": null,
   "id": "3f360317",
   "metadata": {},
   "outputs": [],
   "source": []
  },
  {
   "cell_type": "markdown",
   "id": "10cdfe2d-45ab-44fe-bce6-9dfa9b8aa5e7",
   "metadata": {},
   "source": [
    "### 2. Identify min and max date for each tickers"
   ]
  },
  {
   "cell_type": "markdown",
   "id": "fb80ee4d-ca9a-45ec-9661-d358d2777b6b",
   "metadata": {},
   "source": [
    "`ticker_list`: All the tickers that was/is in S&P500"
   ]
  },
  {
   "cell_type": "code",
   "execution_count": 4,
   "id": "30a8c135-95f2-4fc0-896f-37edf665a133",
   "metadata": {},
   "outputs": [],
   "source": [
    "ticker_list = set()\n",
    "\n",
    "for s in sp500.tickers:\n",
    "    s = set(s.split(\",\"))\n",
    "    ticker_list.update(s)\n",
    "    \n",
    "ticker_list = sorted(ticker_list)"
   ]
  },
  {
   "cell_type": "markdown",
   "id": "7f62bec6-898f-4ea1-b8ef-061953b7ae03",
   "metadata": {},
   "source": [
    "Go through sp500 list and identify the min and max dates it was in S&P500"
   ]
  },
  {
   "cell_type": "code",
   "execution_count": 5,
   "id": "314a6a03",
   "metadata": {},
   "outputs": [],
   "source": [
    "# convert into list format for easy comparison\n",
    "sp500['tickers_list_format'] = sp500['tickers'].str.split(',')"
   ]
  },
  {
   "cell_type": "code",
   "execution_count": 6,
   "id": "9777f801-d63a-439d-825b-e380b5f2215d",
   "metadata": {},
   "outputs": [
    {
     "data": {
      "application/vnd.jupyter.widget-view+json": {
       "model_id": "fd02e4e3064c421ca15ce45c72032e7e",
       "version_major": 2,
       "version_minor": 0
      },
      "text/plain": [
       "  0%|          | 0/1128 [00:00<?, ?it/s]"
      ]
     },
     "metadata": {},
     "output_type": "display_data"
    }
   ],
   "source": [
    "# identify which date each ticker was included in sp500\n",
    "\n",
    "ticker_dict = dict()\n",
    "today = date.today().strftime(\"%Y-%m-%d\")\n",
    "\n",
    "# for each ticker, create a column where it indicates whether it is in the ticker list\n",
    "# 1 if it is, 0 if not\n",
    "# use this column to indicate the min and max date of the stock\n",
    "for t in tqdm(ticker_list):\n",
    "    found = list()\n",
    "    for i in range(sp500.shape[0]):\n",
    "        found.append(len(np.where(np.array(sp500['tickers_list_format'][i]) == t)[0]))\n",
    "    sp500['found'] = found\n",
    "    \n",
    "    if sp500.loc[sp500['found']!=0, 'date'].max() == sp500['date'].max():\n",
    "        max_date = today\n",
    "    else:\n",
    "        max_date = sp500.loc[sp500['found']!=0, 'date'].max()\n",
    "    \n",
    "    ticker_dict[t] = {'min_date' : sp500.loc[sp500['found']!=0, 'date'].min(),\n",
    "                      'max_date' : max_date,\n",
    "                      'dates' : sp500.loc[sp500['found']!=0, 'date'].values.tolist()}"
   ]
  },
  {
   "cell_type": "code",
   "execution_count": 50,
   "id": "f422867c",
   "metadata": {
    "scrolled": true
   },
   "outputs": [
    {
     "data": {
      "application/vnd.jupyter.widget-view+json": {
       "model_id": "974c1d9f014449b28475fdc0c1716ef3",
       "version_major": 2,
       "version_minor": 0
      },
      "text/plain": [
       "  0%|          | 0/1128 [00:00<?, ?it/s]"
      ]
     },
     "metadata": {},
     "output_type": "display_data"
    },
    {
     "name": "stdout",
     "output_type": "stream",
     "text": [
      "Error when calling data for ABS\n",
      "Error when calling data for ABX\n"
     ]
    },
    {
     "name": "stderr",
     "output_type": "stream",
     "text": [
      "2022-07-06 01:27:29,752 [app.utils.fetch_data] [INFO] Fetching stock from alpha vintage api: ACAS\n"
     ]
    },
    {
     "name": "stdout",
     "output_type": "stream",
     "text": [
      "Error when calling data for ACKH\n",
      "Error when calling data for ACS\n",
      "Error when calling data for ACV\n"
     ]
    },
    {
     "name": "stderr",
     "output_type": "stream",
     "text": [
      "2022-07-06 01:27:41,603 [app.utils.fetch_data] [INFO] Fetching stock from investing_api: ADBE, from 06/05/1996 to 06/07/2022\n"
     ]
    },
    {
     "name": "stdout",
     "output_type": "stream",
     "text": [
      "Error when calling data for ADCT\n"
     ]
    },
    {
     "name": "stderr",
     "output_type": "stream",
     "text": [
      "2022-07-06 01:27:49,149 [app.utils.fetch_data] [INFO] Fetching stock from investing_api: ADI, from 12/10/1998 to 06/07/2022\n",
      "2022-07-06 01:27:56,964 [app.utils.fetch_data] [INFO] Fetching stock from investing_api: ADM, from 02/01/1995 to 06/07/2022\n",
      "2022-07-06 01:28:05,785 [app.utils.fetch_data] [INFO] Fetching stock from investing_api: ADP, from 02/01/1995 to 06/07/2022\n",
      "2022-07-06 01:28:11,580 [app.utils.fetch_data] [INFO] Fetching stock from investing_api: ADS, from 23/12/2012 to 22/05/2020\n",
      "2022-07-06 01:28:19,400 [app.utils.fetch_data] [INFO] Fetching stock from investing_api: ADSK, from 02/01/1995 to 06/07/2022\n",
      "2022-07-06 01:28:28,399 [app.utils.fetch_data] [INFO] Fetching stock from alpha vintage api: ADT\n",
      "2022-07-06 01:28:37,471 [app.utils.fetch_data] [INFO] Fetching stock from investing_api: AEE, from 02/01/1995 to 06/07/2022\n",
      "2022-07-06 01:28:45,219 [app.utils.fetch_data] [INFO] Fetching stock from investing_api: AEP, from 02/01/1995 to 06/07/2022\n",
      "2022-07-06 01:28:53,829 [app.utils.fetch_data] [INFO] Fetching stock from investing_api: AES, from 02/10/1997 to 06/07/2022\n",
      "2022-07-06 01:29:05,139 [app.utils.fetch_data] [INFO] Fetching stock from alpha vintage api: AET\n",
      "2022-07-06 01:29:13,740 [app.utils.fetch_data] [INFO] Fetching stock from investing_api: AFL, from 28/05/1998 to 06/07/2022\n"
     ]
    },
    {
     "name": "stdout",
     "output_type": "stream",
     "text": [
      "Error when calling data for AFS.A\n",
      "Error when calling data for AGC\n"
     ]
    },
    {
     "name": "stderr",
     "output_type": "stream",
     "text": [
      "2022-07-06 01:29:25,692 [app.utils.fetch_data] [INFO] Fetching stock from investing_api: AGN, from 02/01/1995 to 06/04/2020\n"
     ]
    },
    {
     "name": "stdout",
     "output_type": "stream",
     "text": [
      "Error when calling data for AHM\n"
     ]
    },
    {
     "name": "stderr",
     "output_type": "stream",
     "text": [
      "2022-07-06 01:29:34,511 [app.utils.fetch_data] [INFO] Fetching stock from investing_api: AIG, from 02/01/1995 to 06/07/2022\n",
      "2022-07-06 01:29:42,475 [app.utils.fetch_data] [INFO] Fetching stock from investing_api: AIT, from 02/01/1995 to 07/10/1999\n",
      "2022-07-06 01:29:52,739 [app.utils.fetch_data] [INFO] Fetching stock from investing_api: AIV, from 14/03/2002 to 17/11/2020\n",
      "2022-07-06 01:30:01,933 [app.utils.fetch_data] [INFO] Fetching stock from investing_api: AIZ, from 10/04/2006 to 06/07/2022\n",
      "2022-07-06 01:30:11,702 [app.utils.fetch_data] [INFO] Fetching stock from investing_api: AJG, from 31/05/2015 to 06/07/2022\n",
      "2022-07-06 01:30:17,746 [app.utils.fetch_data] [INFO] Fetching stock from investing_api: AKAM, from 12/07/2006 to 06/07/2022\n",
      "2022-07-06 01:30:24,427 [app.utils.fetch_data] [INFO] Fetching stock from investing_api: AKS, from 01/07/2007 to 14/12/2011\n",
      "2022-07-06 01:30:30,424 [app.utils.fetch_data] [INFO] Fetching stock from investing_api: ALB, from 01/07/2015 to 06/07/2022\n",
      "2022-07-06 01:30:40,067 [app.utils.fetch_data] [INFO] Fetching stock from investing_api: ALGN, from 19/06/2016 to 06/07/2022\n",
      "2022-07-06 01:30:47,809 [app.utils.fetch_data] [INFO] Fetching stock from investing_api: ALK, from 13/05/2015 to 06/07/2022\n",
      "2022-07-06 01:30:55,627 [app.utils.fetch_data] [INFO] Fetching stock from investing_api: ALL, from 02/01/1995 to 06/07/2022\n",
      "2022-07-06 01:31:04,497 [app.utils.fetch_data] [INFO] Fetching stock from investing_api: ALLE, from 02/12/2012 to 06/07/2022\n",
      "2022-07-06 01:31:12,669 [app.utils.fetch_data] [INFO] Fetching stock from investing_api: ALXN, from 25/05/2011 to 04/06/2021\n",
      "2022-07-06 01:31:19,882 [app.utils.fetch_data] [INFO] Fetching stock from investing_api: AMAT, from 02/01/1995 to 06/07/2022\n",
      "2022-07-06 01:31:27,004 [app.utils.fetch_data] [INFO] Fetching stock from alpha vintage api: AMCC\n",
      "2022-07-06 01:31:34,437 [app.utils.fetch_data] [INFO] Fetching stock from investing_api: AMCR, from 07/06/2018 to 06/07/2022\n",
      "2022-07-06 01:31:42,018 [app.utils.fetch_data] [INFO] Fetching stock from investing_api: AMD, from 02/01/1995 to 06/07/2022\n",
      "2022-07-06 01:31:51,129 [app.utils.fetch_data] [INFO] Fetching stock from investing_api: AME, from 23/09/2012 to 06/07/2022\n",
      "2022-07-06 01:31:59,849 [app.utils.fetch_data] [INFO] Fetching stock from investing_api: AMG, from 01/07/2013 to 10/12/2019\n",
      "2022-07-06 01:32:08,703 [app.utils.fetch_data] [INFO] Fetching stock from investing_api: AMGN, from 02/01/1995 to 06/07/2022\n",
      "2022-07-06 01:32:15,468 [app.utils.fetch_data] [INFO] Fetching stock from investing_api: AMP, from 02/01/1995 to 06/07/2022\n",
      "2022-07-06 01:32:22,585 [app.utils.fetch_data] [INFO] Fetching stock from investing_api: AMT, from 19/11/2006 to 06/07/2022\n",
      "2022-07-06 01:32:28,683 [app.utils.fetch_data] [INFO] Fetching stock from investing_api: AMZN, from 21/11/2004 to 06/07/2022\n",
      "2022-07-06 01:32:35,260 [app.utils.fetch_data] [INFO] Fetching stock from investing_api: AN, from 02/01/1995 to 07/08/2017\n",
      "2022-07-06 01:32:45,589 [app.utils.fetch_data] [INFO] Fetching stock from alpha vintage api: ANDV\n"
     ]
    },
    {
     "name": "stdout",
     "output_type": "stream",
     "text": [
      "Error when calling data for ANDW\n"
     ]
    },
    {
     "name": "stderr",
     "output_type": "stream",
     "text": [
      "2022-07-06 01:32:55,206 [app.utils.fetch_data] [INFO] Fetching stock from investing_api: ANET, from 28/08/2017 to 06/07/2022\n",
      "2022-07-06 01:33:02,990 [app.utils.fetch_data] [INFO] Fetching stock from investing_api: ANF, from 29/03/2006 to 18/12/2013\n",
      "2022-07-06 01:33:12,378 [app.utils.fetch_data] [INFO] Fetching stock from alpha vintage api: ANRZQ\n",
      "2022-07-06 01:33:19,163 [app.utils.fetch_data] [INFO] Fetching stock from investing_api: ANSS, from 19/06/2016 to 06/07/2022\n",
      "2022-07-06 01:33:28,836 [app.utils.fetch_data] [INFO] Fetching stock from investing_api: ANTM, from 25/07/2001 to 06/07/2022\n",
      "2022-07-06 01:33:40,266 [app.utils.fetch_data] [INFO] Fetching stock from alpha vintage api: ANV\n",
      "2022-07-06 01:33:48,057 [app.utils.fetch_data] [INFO] Fetching stock from investing_api: AON, from 23/04/1995 to 06/07/2022\n",
      "2022-07-06 01:33:55,800 [app.utils.fetch_data] [INFO] Fetching stock from investing_api: AOS, from 26/07/2016 to 06/07/2022\n",
      "2022-07-06 01:34:06,436 [app.utils.fetch_data] [INFO] Fetching stock from investing_api: APA, from 28/07/1996 to 06/07/2022\n"
     ]
    },
    {
     "name": "stdout",
     "output_type": "stream",
     "text": [
      "Error when calling data for APC\n",
      "Error when calling data for APCC\n"
     ]
    },
    {
     "name": "stderr",
     "output_type": "stream",
     "text": [
      "2022-07-06 01:34:18,046 [app.utils.fetch_data] [INFO] Fetching stock from investing_api: APD, from 02/01/1995 to 06/07/2022\n",
      "2022-07-06 01:34:26,072 [app.utils.fetch_data] [INFO] Fetching stock from investing_api: APH, from 30/09/2007 to 06/07/2022\n",
      "2022-07-06 01:34:36,314 [app.utils.fetch_data] [INFO] Fetching stock from alpha vintage api: APOL\n",
      "2022-07-06 01:34:42,194 [app.utils.fetch_data] [INFO] Fetching stock from investing_api: APTV, from 24/12/2011 to 06/07/2022\n",
      "2022-07-06 01:34:52,956 [app.utils.fetch_data] [INFO] Fetching stock from investing_api: ARE, from 20/03/2016 to 06/07/2022\n"
     ]
    },
    {
     "name": "stdout",
     "output_type": "stream",
     "text": [
      "Error when calling data for ARG\n"
     ]
    },
    {
     "name": "stderr",
     "output_type": "stream",
     "text": [
      "2022-07-06 01:35:04,096 [app.utils.fetch_data] [INFO] Fetching stock from investing_api: ARNC, from 02/01/1995 to 03/04/2020\n"
     ]
    },
    {
     "name": "stdout",
     "output_type": "stream",
     "text": [
      "Error when calling data for AS\n"
     ]
    },
    {
     "name": "stderr",
     "output_type": "stream",
     "text": [
      "2022-07-06 01:35:11,775 [app.utils.fetch_data] [INFO] Fetching stock from alpha vintage api: ASC\n",
      "2022-07-06 01:35:21,761 [app.utils.fetch_data] [INFO] Fetching stock from investing_api: ASH, from 02/01/1995 to 13/11/2008\n"
     ]
    },
    {
     "name": "stdout",
     "output_type": "stream",
     "text": [
      "Error when calling data for ASN\n"
     ]
    },
    {
     "name": "stderr",
     "output_type": "stream",
     "text": [
      "2022-07-06 01:35:31,609 [app.utils.fetch_data] [INFO] Fetching stock from alpha vintage api: ASO\n",
      "2022-07-06 01:35:37,516 [app.utils.fetch_data] [INFO] Fetching stock from investing_api: ATGE, from 09/06/2008 to 25/09/2012\n",
      "2022-07-06 01:35:47,948 [app.utils.fetch_data] [INFO] Fetching stock from investing_api: ATI, from 02/01/1995 to 01/07/2015\n",
      "2022-07-06 01:35:56,636 [app.utils.fetch_data] [INFO] Fetching stock from investing_api: ATO, from 15/02/2018 to 06/07/2022\n",
      "2022-07-06 01:36:03,426 [app.utils.fetch_data] [INFO] Fetching stock from investing_api: ATVI, from 31/08/2014 to 06/07/2022\n"
     ]
    },
    {
     "name": "stdout",
     "output_type": "stream",
     "text": [
      "Error when calling data for AV\n"
     ]
    },
    {
     "name": "stderr",
     "output_type": "stream",
     "text": [
      "2022-07-06 01:36:10,327 [app.utils.fetch_data] [INFO] Fetching stock from investing_api: AVB, from 10/01/2006 to 06/07/2022\n",
      "2022-07-06 01:36:18,222 [app.utils.fetch_data] [INFO] Fetching stock from investing_api: AVGO, from 08/05/2013 to 06/07/2022\n",
      "2022-07-06 01:36:24,729 [app.utils.fetch_data] [INFO] Fetching stock from investing_api: AVP, from 02/01/1995 to 19/03/2015\n",
      "2022-07-06 01:36:31,554 [app.utils.fetch_data] [INFO] Fetching stock from investing_api: AVY, from 02/01/1995 to 06/07/2022\n"
     ]
    },
    {
     "name": "stdout",
     "output_type": "stream",
     "text": [
      "Error when calling data for AW\n",
      "Error when calling data for AWE\n"
     ]
    },
    {
     "name": "stderr",
     "output_type": "stream",
     "text": [
      "2022-07-06 01:36:43,862 [app.utils.fetch_data] [INFO] Fetching stock from investing_api: AWK, from 04/03/2015 to 06/07/2022\n",
      "2022-07-06 01:36:54,719 [app.utils.fetch_data] [INFO] Fetching stock from investing_api: AXP, from 02/01/1995 to 06/07/2022\n",
      "2022-07-06 01:37:03,798 [app.utils.fetch_data] [INFO] Fetching stock from alpha vintage api: AYE\n",
      "2022-07-06 01:37:13,510 [app.utils.fetch_data] [INFO] Fetching stock from investing_api: AYI, from 03/05/2015 to 15/06/2018\n"
     ]
    },
    {
     "name": "stdout",
     "output_type": "stream",
     "text": [
      "Error when calling data for AZA.A\n"
     ]
    },
    {
     "name": "stderr",
     "output_type": "stream",
     "text": [
      "2022-07-06 01:37:25,189 [app.utils.fetch_data] [INFO] Fetching stock from investing_api: AZO, from 02/01/1996 to 06/07/2022\n",
      "2022-07-06 01:37:32,065 [app.utils.fetch_data] [INFO] Fetching stock from investing_api: BA, from 02/01/1995 to 06/07/2022\n",
      "2022-07-06 01:37:41,948 [app.utils.fetch_data] [INFO] Fetching stock from investing_api: BAC, from 02/01/1995 to 06/07/2022\n",
      "2022-07-06 01:37:50,722 [app.utils.fetch_data] [INFO] Fetching stock from investing_api: BAX, from 02/01/1995 to 06/07/2022\n"
     ]
    },
    {
     "name": "stdout",
     "output_type": "stream",
     "text": [
      "Error when calling data for BAY\n"
     ]
    },
    {
     "name": "stderr",
     "output_type": "stream",
     "text": [
      "2022-07-06 01:37:57,892 [app.utils.fetch_data] [INFO] Fetching stock from investing_api: BBBY, from 01/10/1998 to 25/07/2017\n",
      "2022-07-06 01:38:06,853 [app.utils.fetch_data] [INFO] Fetching stock from alpha vintage api: BBI\n",
      "2022-07-06 01:38:13,572 [app.utils.fetch_data] [INFO] Fetching stock from investing_api: BBT, from 04/12/1996 to 05/12/2019\n",
      "2022-07-06 01:38:22,416 [app.utils.fetch_data] [INFO] Fetching stock from alpha vintage api: BBWI\n",
      "2022-07-06 01:38:30,145 [app.utils.fetch_data] [INFO] Fetching stock from investing_api: BBY, from 30/06/1998 to 06/07/2022\n",
      "2022-07-06 01:38:39,331 [app.utils.fetch_data] [INFO] Fetching stock from investing_api: BC, from 02/01/1995 to 18/06/2008\n",
      "2022-07-06 01:38:47,717 [app.utils.fetch_data] [INFO] Fetching stock from investing_api: BCO, from 02/01/1995 to 12/01/1996\n",
      "2022-07-06 01:38:59,638 [app.utils.fetch_data] [INFO] Fetching stock from alpha vintage api: BCR\n"
     ]
    },
    {
     "name": "stdout",
     "output_type": "stream",
     "text": [
      "Error when calling data for BDK\n"
     ]
    },
    {
     "name": "stderr",
     "output_type": "stream",
     "text": [
      "2022-07-06 01:39:07,719 [app.utils.fetch_data] [INFO] Fetching stock from investing_api: BDX, from 02/01/1995 to 06/07/2022\n",
      "2022-07-06 01:39:15,885 [app.utils.fetch_data] [INFO] Fetching stock from alpha vintage api: BEAM\n",
      "2022-07-06 01:39:22,599 [app.utils.fetch_data] [INFO] Fetching stock from investing_api: BEN, from 29/04/1997 to 06/07/2022\n"
     ]
    },
    {
     "name": "stdout",
     "output_type": "stream",
     "text": [
      "Error when calling data for BEV\n",
      "Error when calling data for BF.B\n"
     ]
    },
    {
     "name": "stderr",
     "output_type": "stream",
     "text": [
      "2022-07-06 01:39:33,120 [app.utils.fetch_data] [INFO] Fetching stock from alpha vintage api: BFI\n"
     ]
    },
    {
     "name": "stdout",
     "output_type": "stream",
     "text": [
      "Error when calling data for BFO\n",
      "Error when calling data for BGEN\n"
     ]
    },
    {
     "name": "stderr",
     "output_type": "stream",
     "text": [
      "2022-07-06 01:39:44,428 [app.utils.fetch_data] [INFO] Fetching stock from investing_api: BGG, from 02/01/1995 to 02/04/2001\n",
      "2022-07-06 01:39:53,237 [app.utils.fetch_data] [INFO] Fetching stock from investing_api: BHF, from 07/08/2016 to 27/02/2019\n",
      "2022-07-06 01:40:02,471 [app.utils.fetch_data] [INFO] Fetching stock from alpha vintage api: BHGE\n"
     ]
    },
    {
     "name": "stdout",
     "output_type": "stream",
     "text": [
      "Error when calling data for BHMSQ\n"
     ]
    },
    {
     "name": "stderr",
     "output_type": "stream",
     "text": [
      "2022-07-06 01:40:09,264 [app.utils.fetch_data] [INFO] Fetching stock from investing_api: BIG, from 20/01/1997 to 06/02/2013\n",
      "2022-07-06 01:40:19,732 [app.utils.fetch_data] [INFO] Fetching stock from investing_api: BIIB, from 13/11/2002 to 06/07/2022\n",
      "2022-07-06 01:40:25,396 [app.utils.fetch_data] [INFO] Fetching stock from investing_api: BIO, from 22/06/2019 to 06/07/2022\n",
      "2022-07-06 01:40:34,704 [app.utils.fetch_data] [INFO] Fetching stock from alpha vintage api: BJS\n",
      "2022-07-06 01:40:42,554 [app.utils.fetch_data] [INFO] Fetching stock from investing_api: BK, from 02/01/1995 to 06/07/2022\n"
     ]
    },
    {
     "name": "stdout",
     "output_type": "stream",
     "text": [
      "Error when calling data for BKB\n"
     ]
    },
    {
     "name": "stderr",
     "output_type": "stream",
     "text": [
      "2022-07-06 01:40:49,550 [app.utils.fetch_data] [INFO] Fetching stock from investing_api: BKNG, from 06/11/2008 to 06/07/2022\n",
      "2022-07-06 01:40:55,203 [app.utils.fetch_data] [INFO] Fetching stock from investing_api: BKR, from 18/10/2018 to 06/07/2022\n",
      "2022-07-06 01:41:04,203 [app.utils.fetch_data] [INFO] Fetching stock from investing_api: BLK, from 04/04/2010 to 06/07/2022\n",
      "2022-07-06 01:41:13,021 [app.utils.fetch_data] [INFO] Fetching stock from investing_api: BLL, from 02/01/1995 to 06/07/2022\n"
     ]
    },
    {
     "name": "stdout",
     "output_type": "stream",
     "text": [
      "Error when calling data for BLS\n",
      "Error when calling data for BLY\n",
      "Error when calling data for BMC\n",
      "Error when calling data for BMET\n",
      "Error when calling data for BMGCA\n"
     ]
    },
    {
     "name": "stderr",
     "output_type": "stream",
     "text": [
      "2022-07-06 01:41:27,294 [app.utils.fetch_data] [INFO] Fetching stock from investing_api: BMS, from 02/01/1995 to 04/12/2014\n",
      "2022-07-06 01:41:38,218 [app.utils.fetch_data] [INFO] Fetching stock from investing_api: BMY, from 02/01/1995 to 06/07/2022\n"
     ]
    },
    {
     "name": "stdout",
     "output_type": "stream",
     "text": [
      "Error when calling data for BNI\n",
      "Error when calling data for BNL\n",
      "Error when calling data for BOAT\n",
      "Error when calling data for BOL\n"
     ]
    },
    {
     "name": "stderr",
     "output_type": "stream",
     "text": [
      "2022-07-06 01:41:52,070 [app.utils.fetch_data] [INFO] Fetching stock from investing_api: BR, from 02/01/1995 to 06/07/2022\n",
      "2022-07-06 01:42:01,869 [app.utils.fetch_data] [INFO] Fetching stock from alpha vintage api: BRCM\n",
      "2022-07-06 01:42:18,241 [app.utils.fetch_data] [INFO] Fetching stock from alpha vintage api: BRK.B\n"
     ]
    },
    {
     "name": "stdout",
     "output_type": "stream",
     "text": [
      "Error when calling data for BRL\n"
     ]
    },
    {
     "name": "stderr",
     "output_type": "stream",
     "text": [
      "2022-07-06 01:42:27,478 [app.utils.fetch_data] [INFO] Fetching stock from investing_api: BRO, from 20/09/2020 to 06/07/2022\n"
     ]
    },
    {
     "name": "stdout",
     "output_type": "stream",
     "text": [
      "Error when calling data for BSC\n"
     ]
    },
    {
     "name": "stderr",
     "output_type": "stream",
     "text": [
      "2022-07-06 01:42:36,515 [app.utils.fetch_data] [INFO] Fetching stock from investing_api: BSX, from 02/01/1995 to 06/07/2022\n",
      "2022-07-06 01:42:42,243 [app.utils.fetch_data] [INFO] Fetching stock from investing_api: BT, from 02/01/1995 to 03/06/1999\n",
      "2022-07-06 01:42:50,738 [app.utils.fetch_data] [INFO] Fetching stock from alpha vintage api: BTUUQ\n",
      "2022-07-06 01:42:57,620 [app.utils.fetch_data] [INFO] Fetching stock from investing_api: BVSN, from 06/11/1999 to 31/08/2001\n",
      "2022-07-06 01:43:06,569 [app.utils.fetch_data] [INFO] Fetching stock from investing_api: BWA, from 19/12/2010 to 06/07/2022\n",
      "2022-07-06 01:43:13,194 [app.utils.fetch_data] [INFO] Fetching stock from alpha vintage api: BXLT\n",
      "2022-07-06 01:43:23,409 [app.utils.fetch_data] [INFO] Fetching stock from investing_api: BXP, from 03/04/2005 to 06/07/2022\n",
      "2022-07-06 01:43:30,270 [app.utils.fetch_data] [INFO] Fetching stock from investing_api: C, from 02/01/1995 to 06/07/2022\n",
      "2022-07-06 01:43:45,642 [app.utils.fetch_data] [INFO] Fetching stock from alpha vintage api: CA\n",
      "2022-07-06 01:43:55,576 [app.utils.fetch_data] [INFO] Fetching stock from investing_api: CAG, from 02/01/1995 to 06/07/2022\n",
      "2022-07-06 01:44:03,381 [app.utils.fetch_data] [INFO] Fetching stock from investing_api: CAH, from 27/05/1996 to 06/07/2022\n",
      "2022-07-06 01:44:10,961 [app.utils.fetch_data] [INFO] Fetching stock from investing_api: CAL, from 02/01/1995 to 19/07/1996\n"
     ]
    },
    {
     "name": "stdout",
     "output_type": "stream",
     "text": [
      "Error when calling data for CAM\n"
     ]
    },
    {
     "name": "stderr",
     "output_type": "stream",
     "text": [
      "2022-07-06 01:44:21,907 [app.utils.fetch_data] [INFO] Fetching stock from investing_api: CAR, from 02/01/1995 to 31/07/2006\n",
      "2022-07-06 01:44:29,951 [app.utils.fetch_data] [INFO] Fetching stock from alpha vintage api: CARR\n",
      "2022-07-06 01:44:39,906 [app.utils.fetch_data] [INFO] Fetching stock from investing_api: CAT, from 02/01/1995 to 06/07/2022\n",
      "2022-07-06 01:44:49,865 [app.utils.fetch_data] [INFO] Fetching stock from investing_api: CB, from 02/01/1995 to 06/07/2022\n",
      "2022-07-06 01:44:59,851 [app.utils.fetch_data] [INFO] Fetching stock from investing_api: CBB, from 02/01/1995 to 26/01/1998\n"
     ]
    },
    {
     "name": "stdout",
     "output_type": "stream",
     "text": [
      "Error when calling data for CBE\n"
     ]
    },
    {
     "name": "stderr",
     "output_type": "stream",
     "text": [
      "2022-07-06 01:45:10,039 [app.utils.fetch_data] [INFO] Fetching stock from alpha vintage api: CBH\n",
      "2022-07-06 01:45:17,837 [app.utils.fetch_data] [INFO] Fetching stock from investing_api: CBOE, from 01/03/2016 to 06/07/2022\n",
      "2022-07-06 01:45:27,254 [app.utils.fetch_data] [INFO] Fetching stock from investing_api: CBRE, from 10/11/2005 to 06/07/2022\n",
      "2022-07-06 01:45:35,095 [app.utils.fetch_data] [INFO] Fetching stock from investing_api: CBS, from 02/01/1995 to 21/11/2019\n"
     ]
    },
    {
     "name": "stdout",
     "output_type": "stream",
     "text": [
      "Error when calling data for CBSS\n",
      "Error when calling data for CCE\n"
     ]
    },
    {
     "name": "stderr",
     "output_type": "stream",
     "text": [
      "2022-07-06 01:45:47,036 [app.utils.fetch_data] [INFO] Fetching stock from investing_api: CCEP, from 04/01/2015 to 24/05/2016\n",
      "2022-07-06 01:45:58,004 [app.utils.fetch_data] [INFO] Fetching stock from investing_api: CCI, from 02/01/1995 to 06/07/2022\n",
      "2022-07-06 01:46:04,826 [app.utils.fetch_data] [INFO] Fetching stock from investing_api: CCK, from 02/01/1995 to 08/12/2000\n",
      "2022-07-06 01:46:12,586 [app.utils.fetch_data] [INFO] Fetching stock from investing_api: CCL, from 22/12/1997 to 06/07/2022\n"
     ]
    },
    {
     "name": "stdout",
     "output_type": "stream",
     "text": [
      "Error when calling data for CCTYQ\n"
     ]
    },
    {
     "name": "stderr",
     "output_type": "stream",
     "text": [
      "2022-07-06 01:46:21,711 [app.utils.fetch_data] [INFO] Fetching stock from investing_api: CCU, from 02/09/1996 to 29/07/2008\n",
      "2022-07-06 01:46:28,664 [app.utils.fetch_data] [INFO] Fetching stock from alpha vintage api: CDAY\n",
      "2022-07-06 01:46:35,294 [app.utils.fetch_data] [INFO] Fetching stock from investing_api: CDNS, from 18/09/2016 to 06/07/2022\n",
      "2022-07-06 01:46:45,010 [app.utils.fetch_data] [INFO] Fetching stock from investing_api: CDW, from 23/09/2018 to 06/07/2022\n",
      "2022-07-06 01:46:55,596 [app.utils.fetch_data] [INFO] Fetching stock from investing_api: CE, from 02/04/2000 to 06/07/2022\n",
      "2022-07-06 01:47:05,190 [app.utils.fetch_data] [INFO] Fetching stock from alpha vintage api: CEG\n",
      "2022-07-06 01:47:12,262 [app.utils.fetch_data] [INFO] Fetching stock from investing_api: CELG, from 06/11/2005 to 05/11/2019\n",
      "2022-07-06 01:47:23,345 [app.utils.fetch_data] [INFO] Fetching stock from alpha vintage api: CEN\n"
     ]
    },
    {
     "name": "stdout",
     "output_type": "stream",
     "text": [
      "Error when calling data for CEPH\n"
     ]
    },
    {
     "name": "stderr",
     "output_type": "stream",
     "text": [
      "2022-07-06 01:47:32,623 [app.utils.fetch_data] [INFO] Fetching stock from investing_api: CERN, from 30/04/2009 to 04/04/2022\n",
      "2022-07-06 01:47:39,173 [app.utils.fetch_data] [INFO] Fetching stock from investing_api: CF, from 19/06/1999 to 06/07/2022\n"
     ]
    },
    {
     "name": "stdout",
     "output_type": "stream",
     "text": [
      "Error when calling data for CFC\n"
     ]
    },
    {
     "name": "stderr",
     "output_type": "stream",
     "text": [
      "2022-07-06 01:47:47,153 [app.utils.fetch_data] [INFO] Fetching stock from investing_api: CFG, from 01/02/2015 to 06/07/2022\n",
      "2022-07-06 01:47:58,189 [app.utils.fetch_data] [INFO] Fetching stock from alpha vintage api: CFL\n",
      "2022-07-06 01:48:06,256 [app.utils.fetch_data] [INFO] Fetching stock from alpha vintage api: CFN\n"
     ]
    },
    {
     "name": "stdout",
     "output_type": "stream",
     "text": [
      "Error when calling data for CGP\n"
     ]
    },
    {
     "name": "stderr",
     "output_type": "stream",
     "text": [
      "2022-07-06 01:48:18,799 [app.utils.fetch_data] [INFO] Fetching stock from investing_api: CHD, from 29/12/2014 to 06/07/2022\n",
      "2022-07-06 01:48:30,239 [app.utils.fetch_data] [INFO] Fetching stock from alpha vintage api: CHIR\n",
      "2022-07-06 01:48:36,988 [app.utils.fetch_data] [INFO] Fetching stock from investing_api: CHK, from 03/03/2005 to 16/03/2018\n",
      "2022-07-06 01:53:52,701 [app.utils.fetch_data] [INFO] Fetching stock from investing_api: CHRW, from 02/03/2006 to 06/07/2022\n",
      "2022-07-06 01:54:00,254 [app.utils.fetch_data] [INFO] Fetching stock from investing_api: CHTR, from 08/09/2015 to 06/07/2022\n",
      "2022-07-06 01:54:09,848 [app.utils.fetch_data] [INFO] Fetching stock from investing_api: CI, from 02/01/1995 to 06/07/2022\n",
      "2022-07-06 01:54:16,759 [app.utils.fetch_data] [INFO] Fetching stock from investing_api: CIEN, from 30/08/2000 to 17/12/2009\n"
     ]
    },
    {
     "name": "stdout",
     "output_type": "stream",
     "text": [
      "Error when calling data for CIN\n"
     ]
    },
    {
     "name": "stderr",
     "output_type": "stream",
     "text": [
      "2022-07-06 01:54:29,213 [app.utils.fetch_data] [INFO] Fetching stock from investing_api: CINF, from 18/12/1996 to 06/07/2022\n"
     ]
    },
    {
     "name": "stdout",
     "output_type": "stream",
     "text": [
      "Error when calling data for CIT.A\n",
      "Error when calling data for CITGQ\n"
     ]
    },
    {
     "name": "stderr",
     "output_type": "stream",
     "text": [
      "2022-07-06 02:05:39,118 [app.utils.fetch_data] [INFO] Fetching stock from investing_api: CL, from 02/01/1995 to 06/07/2022\n",
      "2022-07-06 02:05:47,468 [app.utils.fetch_data] [INFO] Fetching stock from investing_api: CLF, from 21/12/2008 to 01/04/2014\n",
      "2022-07-06 02:05:58,709 [app.utils.fetch_data] [INFO] Fetching stock from investing_api: CLX, from 02/01/1995 to 06/07/2022\n",
      "2022-07-06 02:06:07,755 [app.utils.fetch_data] [INFO] Fetching stock from investing_api: CMA, from 02/01/1995 to 06/07/2022\n"
     ]
    },
    {
     "name": "stdout",
     "output_type": "stream",
     "text": [
      "Error when calling data for CMB\n"
     ]
    },
    {
     "name": "stderr",
     "output_type": "stream",
     "text": [
      "2022-07-06 02:06:18,707 [app.utils.fetch_data] [INFO] Fetching stock from investing_api: CMCSA, from 02/01/1995 to 06/07/2022\n",
      "2022-07-06 02:06:30,894 [app.utils.fetch_data] [INFO] Fetching stock from alpha vintage api: CMCSK\n",
      "2022-07-06 02:06:41,125 [app.utils.fetch_data] [INFO] Fetching stock from investing_api: CME, from 11/08/2005 to 06/07/2022\n",
      "2022-07-06 02:06:50,086 [app.utils.fetch_data] [INFO] Fetching stock from investing_api: CMG, from 28/04/2010 to 06/07/2022\n",
      "2022-07-06 02:07:02,684 [app.utils.fetch_data] [INFO] Fetching stock from investing_api: CMI, from 02/01/1995 to 06/07/2022\n",
      "2022-07-06 02:07:12,035 [app.utils.fetch_data] [INFO] Fetching stock from investing_api: CMS, from 03/05/1998 to 06/07/2022\n",
      "2022-07-06 02:07:22,582 [app.utils.fetch_data] [INFO] Fetching stock from alpha vintage api: CMVT\n"
     ]
    },
    {
     "name": "stdout",
     "output_type": "stream",
     "text": [
      "Error when calling data for CMX\n"
     ]
    },
    {
     "name": "stderr",
     "output_type": "stream",
     "text": [
      "2022-07-06 02:07:35,335 [app.utils.fetch_data] [INFO] Fetching stock from investing_api: CNC, from 15/01/1996 to 06/07/2022\n"
     ]
    },
    {
     "name": "stdout",
     "output_type": "stream",
     "text": [
      "Error when calling data for CNG\n"
     ]
    },
    {
     "name": "stderr",
     "output_type": "stream",
     "text": [
      "2022-07-06 02:07:47,054 [app.utils.fetch_data] [INFO] Fetching stock from investing_api: CNP, from 02/01/1995 to 06/07/2022\n"
     ]
    },
    {
     "name": "stdout",
     "output_type": "stream",
     "text": [
      "Error when calling data for CNW\n"
     ]
    },
    {
     "name": "stderr",
     "output_type": "stream",
     "text": [
      "2022-07-06 02:07:59,272 [app.utils.fetch_data] [INFO] Fetching stock from investing_api: CNX, from 28/06/2005 to 03/03/2016\n",
      "2022-07-06 02:08:10,053 [app.utils.fetch_data] [INFO] Fetching stock from alpha vintage api: CNXT\n"
     ]
    },
    {
     "name": "stdout",
     "output_type": "stream",
     "text": [
      "Error when calling data for COC.B\n"
     ]
    },
    {
     "name": "stderr",
     "output_type": "stream",
     "text": [
      "2022-07-06 02:08:21,127 [app.utils.fetch_data] [INFO] Fetching stock from investing_api: COF, from 01/07/1997 to 06/07/2022\n",
      "2022-07-06 02:08:28,340 [app.utils.fetch_data] [INFO] Fetching stock from investing_api: COG, from 23/06/2007 to 20/09/2021\n"
     ]
    },
    {
     "name": "stdout",
     "output_type": "stream",
     "text": [
      "Error when calling data for COL\n"
     ]
    },
    {
     "name": "stderr",
     "output_type": "stream",
     "text": [
      "2022-07-06 02:08:36,182 [app.utils.fetch_data] [INFO] Fetching stock from alpha vintage api: COMS\n",
      "2022-07-06 02:08:42,594 [app.utils.fetch_data] [INFO] Fetching stock from investing_api: COO, from 23/09/2015 to 06/07/2022\n",
      "2022-07-06 02:08:55,082 [app.utils.fetch_data] [INFO] Fetching stock from investing_api: COP, from 02/01/1995 to 06/07/2022\n",
      "2022-07-06 02:09:06,384 [app.utils.fetch_data] [INFO] Fetching stock from investing_api: COST, from 02/01/1995 to 06/07/2022\n",
      "2022-07-06 02:09:15,730 [app.utils.fetch_data] [INFO] Fetching stock from investing_api: COTY, from 03/10/2015 to 18/09/2020\n",
      "2022-07-06 02:09:27,306 [app.utils.fetch_data] [INFO] Fetching stock from alpha vintage api: COV\n",
      "2022-07-06 02:09:37,900 [app.utils.fetch_data] [INFO] Fetching stock from investing_api: CPB, from 02/01/1995 to 06/07/2022\n",
      "2022-07-06 02:09:49,752 [app.utils.fetch_data] [INFO] Fetching stock from alpha vintage api: CPGX\n"
     ]
    },
    {
     "name": "stdout",
     "output_type": "stream",
     "text": [
      "Error when calling data for CPNLQ\n",
      "Error when calling data for CPQ\n"
     ]
    },
    {
     "name": "stderr",
     "output_type": "stream",
     "text": [
      "2022-07-06 02:10:00,128 [app.utils.fetch_data] [INFO] Fetching stock from investing_api: CPRI, from 04/01/2015 to 06/04/2020\n",
      "2022-07-06 02:10:09,490 [app.utils.fetch_data] [INFO] Fetching stock from investing_api: CPRT, from 02/07/2017 to 06/07/2022\n",
      "2022-07-06 02:10:18,385 [app.utils.fetch_data] [INFO] Fetching stock from investing_api: CPT, from 04/04/2021 to 06/07/2022\n",
      "2022-07-06 02:10:27,122 [app.utils.fetch_data] [INFO] Fetching stock from alpha vintage api: CPWR\n",
      "2022-07-06 02:10:37,879 [app.utils.fetch_data] [INFO] Fetching stock from investing_api: CR, from 02/01/1995 to 16/12/2004\n",
      "2022-07-06 02:10:47,777 [app.utils.fetch_data] [INFO] Fetching stock from investing_api: CRL, from 14/05/2020 to 06/07/2022\n",
      "2022-07-06 02:10:54,815 [app.utils.fetch_data] [INFO] Fetching stock from investing_api: CRM, from 15/09/2007 to 06/07/2022\n",
      "2022-07-06 02:11:03,612 [app.utils.fetch_data] [INFO] Fetching stock from investing_api: CRR, from 02/01/1995 to 19/05/1997\n",
      "2022-07-06 02:11:14,523 [app.utils.fetch_data] [INFO] Fetching stock from investing_api: CSCO, from 02/01/1995 to 06/07/2022\n"
     ]
    },
    {
     "name": "stdout",
     "output_type": "stream",
     "text": [
      "Error when calling data for CSE\n"
     ]
    },
    {
     "name": "stderr",
     "output_type": "stream",
     "text": [
      "2022-07-06 02:11:29,868 [app.utils.fetch_data] [INFO] Fetching stock from alpha vintage api: CSR\n",
      "2022-07-06 02:11:38,919 [app.utils.fetch_data] [INFO] Fetching stock from alpha vintage api: CSRA\n",
      "2022-07-06 02:11:47,182 [app.utils.fetch_data] [INFO] Fetching stock from investing_api: CSX, from 02/01/1995 to 06/07/2022\n",
      "2022-07-06 02:11:59,113 [app.utils.fetch_data] [INFO] Fetching stock from investing_api: CTAS, from 01/03/2000 to 06/07/2022\n",
      "2022-07-06 02:12:09,127 [app.utils.fetch_data] [INFO] Fetching stock from investing_api: CTB, from 02/01/1995 to 11/07/2006\n",
      "2022-07-06 02:12:17,460 [app.utils.fetch_data] [INFO] Fetching stock from investing_api: CTL, from 25/03/1998 to 22/06/2020\n",
      "2022-07-06 02:12:27,761 [app.utils.fetch_data] [INFO] Fetching stock from investing_api: CTLT, from 21/09/2019 to 06/07/2022\n",
      "2022-07-06 02:12:37,987 [app.utils.fetch_data] [INFO] Fetching stock from alpha vintage api: CTRA\n",
      "2022-07-06 02:12:45,881 [app.utils.fetch_data] [INFO] Fetching stock from investing_api: CTSH, from 17/11/2005 to 06/07/2022\n",
      "2022-07-06 02:12:54,036 [app.utils.fetch_data] [INFO] Fetching stock from investing_api: CTVA, from 03/06/2018 to 06/07/2022\n",
      "2022-07-06 02:13:04,525 [app.utils.fetch_data] [INFO] Fetching stock from alpha vintage api: CTX\n",
      "2022-07-06 02:13:12,398 [app.utils.fetch_data] [INFO] Fetching stock from investing_api: CTXS, from 01/12/1998 to 06/07/2022\n"
     ]
    },
    {
     "name": "stdout",
     "output_type": "stream",
     "text": [
      "Error when calling data for CVC\n"
     ]
    },
    {
     "name": "stderr",
     "output_type": "stream",
     "text": [
      "2022-07-06 02:13:26,001 [app.utils.fetch_data] [INFO] Fetching stock from alpha vintage api: CVG\n",
      "2022-07-06 02:13:35,098 [app.utils.fetch_data] [INFO] Fetching stock from alpha vintage api: CVH\n",
      "2022-07-06 02:13:47,614 [app.utils.fetch_data] [INFO] Fetching stock from investing_api: CVS, from 02/01/1995 to 06/07/2022\n",
      "2022-07-06 02:13:56,467 [app.utils.fetch_data] [INFO] Fetching stock from investing_api: CVX, from 02/01/1995 to 06/07/2022\n",
      "2022-07-06 02:14:02,968 [app.utils.fetch_data] [INFO] Fetching stock from investing_api: CXO, from 22/02/2015 to 07/01/2021\n"
     ]
    },
    {
     "name": "stdout",
     "output_type": "stream",
     "text": [
      "Error when calling data for CYM\n",
      "Error when calling data for CYR\n"
     ]
    },
    {
     "name": "stderr",
     "output_type": "stream",
     "text": [
      "2022-07-06 02:14:15,971 [app.utils.fetch_data] [INFO] Fetching stock from investing_api: CZR, from 22/03/2020 to 06/07/2022\n",
      "2022-07-06 02:14:26,558 [app.utils.fetch_data] [INFO] Fetching stock from investing_api: D, from 02/01/1995 to 06/07/2022\n",
      "2022-07-06 02:14:33,386 [app.utils.fetch_data] [INFO] Fetching stock from investing_api: DAL, from 11/09/2012 to 06/07/2022\n"
     ]
    },
    {
     "name": "stdout",
     "output_type": "stream",
     "text": [
      "Error when calling data for DALRQ\n",
      "Error when calling data for DCNAQ\n"
     ]
    },
    {
     "name": "stderr",
     "output_type": "stream",
     "text": [
      "2022-07-06 02:14:44,576 [app.utils.fetch_data] [INFO] Fetching stock from investing_api: DD, from 02/01/1995 to 06/07/2022\n"
     ]
    },
    {
     "name": "stdout",
     "output_type": "stream",
     "text": [
      "Error when calling data for DDR\n"
     ]
    },
    {
     "name": "stderr",
     "output_type": "stream",
     "text": [
      "2022-07-06 02:14:55,197 [app.utils.fetch_data] [INFO] Fetching stock from investing_api: DDS, from 02/01/1995 to 16/10/2008\n",
      "2022-07-06 02:15:06,378 [app.utils.fetch_data] [INFO] Fetching stock from investing_api: DE, from 02/01/1995 to 06/07/2022\n"
     ]
    },
    {
     "name": "stdout",
     "output_type": "stream",
     "text": [
      "Error when calling data for DEC\n"
     ]
    },
    {
     "name": "stderr",
     "output_type": "stream",
     "text": [
      "2022-07-06 02:15:17,194 [app.utils.fetch_data] [INFO] Fetching stock from investing_api: DF, from 03/04/2005 to 17/05/2013\n",
      "2022-07-06 02:15:25,440 [app.utils.fetch_data] [INFO] Fetching stock from investing_api: DFS, from 02/07/2006 to 06/07/2022\n",
      "2022-07-06 02:15:32,891 [app.utils.fetch_data] [INFO] Fetching stock from investing_api: DG, from 16/07/1997 to 06/07/2022\n"
     ]
    },
    {
     "name": "stdout",
     "output_type": "stream",
     "text": [
      "Error when calling data for DGN\n"
     ]
    },
    {
     "name": "stderr",
     "output_type": "stream",
     "text": [
      "2022-07-06 02:15:42,446 [app.utils.fetch_data] [INFO] Fetching stock from investing_api: DGX, from 12/12/2001 to 06/07/2022\n",
      "2022-07-06 02:15:52,186 [app.utils.fetch_data] [INFO] Fetching stock from investing_api: DHI, from 05/07/2004 to 06/07/2022\n",
      "2022-07-06 02:16:01,356 [app.utils.fetch_data] [INFO] Fetching stock from investing_api: DHR, from 18/11/1997 to 06/07/2022\n",
      "2022-07-06 02:16:11,305 [app.utils.fetch_data] [INFO] Fetching stock from alpha vintage api: DI\n",
      "2022-07-06 02:16:20,881 [app.utils.fetch_data] [INFO] Fetching stock from alpha vintage api: DIGI\n",
      "2022-07-06 02:16:29,888 [app.utils.fetch_data] [INFO] Fetching stock from investing_api: DIS, from 02/01/1995 to 06/07/2022\n",
      "2022-07-06 02:16:40,096 [app.utils.fetch_data] [INFO] Fetching stock from investing_api: DISCA, from 01/03/2009 to 06/07/2022\n",
      "2022-07-06 02:16:50,010 [app.utils.fetch_data] [INFO] Fetching stock from investing_api: DISCK, from 07/08/2013 to 06/07/2022\n",
      "2022-07-06 02:17:00,125 [app.utils.fetch_data] [INFO] Fetching stock from investing_api: DISH, from 13/03/2016 to 06/07/2022\n"
     ]
    },
    {
     "name": "stdout",
     "output_type": "stream",
     "text": [
      "Error when calling data for DJ\n"
     ]
    },
    {
     "name": "stderr",
     "output_type": "stream",
     "text": [
      "2022-07-06 02:17:10,330 [app.utils.fetch_data] [INFO] Fetching stock from investing_api: DLR, from 18/05/2015 to 06/07/2022\n",
      "2022-07-06 02:17:18,453 [app.utils.fetch_data] [INFO] Fetching stock from investing_api: DLTR, from 19/12/2010 to 06/07/2022\n",
      "2022-07-06 02:17:27,388 [app.utils.fetch_data] [INFO] Fetching stock from investing_api: DLX, from 02/01/1995 to 16/12/2004\n",
      "2022-07-06 02:17:34,894 [app.utils.fetch_data] [INFO] Fetching stock from alpha vintage api: DNB\n",
      "2022-07-06 02:17:41,230 [app.utils.fetch_data] [INFO] Fetching stock from investing_api: DO, from 26/02/2008 to 28/09/2016\n",
      "2022-07-06 02:17:50,221 [app.utils.fetch_data] [INFO] Fetching stock from investing_api: DOV, from 02/01/1995 to 06/07/2022\n",
      "2022-07-06 02:17:58,063 [app.utils.fetch_data] [INFO] Fetching stock from investing_api: DOW, from 02/01/1995 to 06/07/2022\n"
     ]
    },
    {
     "name": "stdout",
     "output_type": "stream",
     "text": [
      "Error when calling data for DPHIQ\n"
     ]
    },
    {
     "name": "stderr",
     "output_type": "stream",
     "text": [
      "2022-07-06 02:18:07,322 [app.utils.fetch_data] [INFO] Fetching stock from investing_api: DPZ, from 12/05/2019 to 06/07/2022\n",
      "2022-07-06 02:18:14,169 [app.utils.fetch_data] [INFO] Fetching stock from investing_api: DRE, from 26/07/2016 to 06/07/2022\n",
      "2022-07-06 02:18:24,539 [app.utils.fetch_data] [INFO] Fetching stock from investing_api: DRI, from 02/01/1995 to 06/07/2022\n",
      "2022-07-06 02:18:34,496 [app.utils.fetch_data] [INFO] Fetching stock from investing_api: DTE, from 02/01/1995 to 06/07/2022\n",
      "2022-07-06 02:18:45,155 [app.utils.fetch_data] [INFO] Fetching stock from alpha vintage api: DTV\n",
      "2022-07-06 02:18:55,093 [app.utils.fetch_data] [INFO] Fetching stock from investing_api: DUK, from 02/01/1995 to 06/07/2022\n",
      "2022-07-06 02:19:04,366 [app.utils.fetch_data] [INFO] Fetching stock from investing_api: DVA, from 31/07/2007 to 06/07/2022\n",
      "2022-07-06 02:19:13,284 [app.utils.fetch_data] [INFO] Fetching stock from investing_api: DVN, from 30/08/1999 to 06/07/2022\n"
     ]
    },
    {
     "name": "stdout",
     "output_type": "stream",
     "text": [
      "Error when calling data for DWD\n"
     ]
    },
    {
     "name": "stderr",
     "output_type": "stream",
     "text": [
      "2022-07-06 02:19:24,100 [app.utils.fetch_data] [INFO] Fetching stock from alpha vintage api: DWDP\n",
      "2022-07-06 02:19:34,960 [app.utils.fetch_data] [INFO] Fetching stock from investing_api: DXC, from 02/01/1995 to 06/07/2022\n",
      "2022-07-06 02:19:44,717 [app.utils.fetch_data] [INFO] Fetching stock from investing_api: DXCM, from 12/05/2019 to 06/07/2022\n",
      "2022-07-06 02:19:52,785 [app.utils.fetch_data] [INFO] Fetching stock from alpha vintage api: DYN\n",
      "2022-07-06 02:20:03,535 [app.utils.fetch_data] [INFO] Fetching stock from investing_api: EA, from 22/07/2001 to 06/07/2022\n",
      "2022-07-06 02:20:11,236 [app.utils.fetch_data] [INFO] Fetching stock from investing_api: EBAY, from 22/07/2001 to 06/07/2022\n",
      "2022-07-06 02:20:19,799 [app.utils.fetch_data] [INFO] Fetching stock from alpha vintage api: ECH\n",
      "2022-07-06 02:20:31,284 [app.utils.fetch_data] [INFO] Fetching stock from investing_api: ECL, from 02/01/1995 to 06/07/2022\n"
     ]
    },
    {
     "name": "stdout",
     "output_type": "stream",
     "text": [
      "Error when calling data for ECO\n"
     ]
    },
    {
     "name": "stderr",
     "output_type": "stream",
     "text": [
      "2022-07-06 02:20:42,805 [app.utils.fetch_data] [INFO] Fetching stock from investing_api: ED, from 02/01/1995 to 06/07/2022\n",
      "2022-07-06 02:20:54,385 [app.utils.fetch_data] [INFO] Fetching stock from alpha vintage api: EDS\n",
      "2022-07-06 02:21:03,637 [app.utils.fetch_data] [INFO] Fetching stock from alpha vintage api: EFU\n",
      "2022-07-06 02:21:14,891 [app.utils.fetch_data] [INFO] Fetching stock from investing_api: EFX, from 19/06/1996 to 06/07/2022\n",
      "2022-07-06 02:21:24,775 [app.utils.fetch_data] [INFO] Fetching stock from investing_api: EHC, from 08/01/1996 to 20/03/2003\n",
      "2022-07-06 02:21:35,860 [app.utils.fetch_data] [INFO] Fetching stock from investing_api: EIX, from 02/01/1995 to 06/07/2022\n"
     ]
    },
    {
     "name": "stdout",
     "output_type": "stream",
     "text": [
      "Error when calling data for EKDKQ\n"
     ]
    },
    {
     "name": "stderr",
     "output_type": "stream",
     "text": [
      "2022-07-06 02:21:46,000 [app.utils.fetch_data] [INFO] Fetching stock from investing_api: EL, from 05/01/2005 to 06/07/2022\n",
      "2022-07-06 02:21:57,324 [app.utils.fetch_data] [INFO] Fetching stock from alpha vintage api: EMC\n",
      "2022-07-06 02:22:06,373 [app.utils.fetch_data] [INFO] Fetching stock from investing_api: EMN, from 02/01/1995 to 06/07/2022\n",
      "2022-07-06 02:22:16,659 [app.utils.fetch_data] [INFO] Fetching stock from investing_api: EMR, from 02/01/1995 to 06/07/2022\n",
      "2022-07-06 02:22:22,504 [app.utils.fetch_data] [INFO] Fetching stock from investing_api: ENDP, from 27/01/2014 to 01/03/2017\n",
      "2022-07-06 02:22:32,279 [app.utils.fetch_data] [INFO] Fetching stock from investing_api: ENPH, from 07/01/2020 to 06/07/2022\n"
     ]
    },
    {
     "name": "stdout",
     "output_type": "stream",
     "text": [
      "Error when calling data for ENRNQ\n"
     ]
    },
    {
     "name": "stderr",
     "output_type": "stream",
     "text": [
      "2022-07-06 02:22:40,688 [app.utils.fetch_data] [INFO] Fetching stock from investing_api: EOG, from 02/11/1999 to 06/07/2022\n"
     ]
    },
    {
     "name": "stdout",
     "output_type": "stream",
     "text": [
      "Error when calling data for EOP\n"
     ]
    },
    {
     "name": "stderr",
     "output_type": "stream",
     "text": [
      "2022-07-06 02:22:50,337 [app.utils.fetch_data] [INFO] Fetching stock from alpha vintage api: EP\n",
      "2022-07-06 02:22:58,095 [app.utils.fetch_data] [INFO] Fetching stock from investing_api: EPAM, from 14/12/2020 to 06/07/2022\n",
      "2022-07-06 02:23:08,429 [app.utils.fetch_data] [INFO] Fetching stock from alpha vintage api: EQ\n",
      "2022-07-06 02:23:16,388 [app.utils.fetch_data] [INFO] Fetching stock from investing_api: EQIX, from 23/03/2014 to 06/07/2022\n",
      "2022-07-06 02:23:26,124 [app.utils.fetch_data] [INFO] Fetching stock from investing_api: EQR, from 03/12/2000 to 06/07/2022\n",
      "2022-07-06 02:23:35,320 [app.utils.fetch_data] [INFO] Fetching stock from investing_api: EQT, from 19/12/2007 to 12/11/2018\n",
      "2022-07-06 02:23:44,545 [app.utils.fetch_data] [INFO] Fetching stock from investing_api: ES, from 17/03/2008 to 06/07/2022\n",
      "2022-07-06 02:23:59,448 [app.utils.fetch_data] [INFO] Fetching stock from alpha vintage api: ESRX\n",
      "2022-07-06 02:24:05,496 [app.utils.fetch_data] [INFO] Fetching stock from investing_api: ESS, from 02/04/2013 to 06/07/2022\n"
     ]
    },
    {
     "name": "stdout",
     "output_type": "stream",
     "text": [
      "Error when calling data for ESV\n"
     ]
    },
    {
     "name": "stderr",
     "output_type": "stream",
     "text": [
      "2022-07-06 02:24:17,361 [app.utils.fetch_data] [INFO] Fetching stock from investing_api: ETFC, from 01/04/2003 to 21/09/2020\n",
      "2022-07-06 02:24:26,346 [app.utils.fetch_data] [INFO] Fetching stock from investing_api: ETN, from 02/01/1995 to 06/07/2022\n",
      "2022-07-06 02:24:33,392 [app.utils.fetch_data] [INFO] Fetching stock from investing_api: ETR, from 02/01/1995 to 06/07/2022\n"
     ]
    },
    {
     "name": "stdout",
     "output_type": "stream",
     "text": [
      "Error when calling data for ETS\n"
     ]
    },
    {
     "name": "stderr",
     "output_type": "stream",
     "text": [
      "2022-07-06 02:24:40,331 [app.utils.fetch_data] [INFO] Fetching stock from investing_api: ETSY, from 21/09/2019 to 06/07/2022\n",
      "2022-07-06 02:24:48,736 [app.utils.fetch_data] [INFO] Fetching stock from alpha vintage api: EVHC\n",
      "2022-07-06 02:24:55,494 [app.utils.fetch_data] [INFO] Fetching stock from investing_api: EVRG, from 05/06/2017 to 06/07/2022\n",
      "2022-07-06 02:25:05,582 [app.utils.fetch_data] [INFO] Fetching stock from investing_api: EW, from 01/04/2010 to 06/07/2022\n",
      "2022-07-06 02:25:15,569 [app.utils.fetch_data] [INFO] Fetching stock from investing_api: EXC, from 02/01/1995 to 06/07/2022\n",
      "2022-07-06 02:25:23,929 [app.utils.fetch_data] [INFO] Fetching stock from investing_api: EXPD, from 10/10/2006 to 06/07/2022\n",
      "2022-07-06 02:25:36,097 [app.utils.fetch_data] [INFO] Fetching stock from investing_api: EXPE, from 02/10/2006 to 06/07/2022\n",
      "2022-07-06 02:25:50,263 [app.utils.fetch_data] [INFO] Fetching stock from investing_api: EXR, from 19/01/2015 to 06/07/2022\n",
      "2022-07-06 02:26:00,992 [app.utils.fetch_data] [INFO] Fetching stock from investing_api: F, from 02/01/1995 to 06/07/2022\n",
      "2022-07-06 02:26:11,250 [app.utils.fetch_data] [INFO] Fetching stock from investing_api: FANG, from 03/12/2017 to 06/07/2022\n",
      "2022-07-06 02:26:19,855 [app.utils.fetch_data] [INFO] Fetching stock from investing_api: FAST, from 15/09/2007 to 06/07/2022\n",
      "2022-07-06 02:31:28,895 [app.utils.fetch_data] [INFO] Fetching stock from investing_api: FB, from 23/12/2012 to 06/07/2022\n"
     ]
    },
    {
     "name": "stdout",
     "output_type": "stream",
     "text": [
      "Error when calling data for FBF\n"
     ]
    },
    {
     "name": "stderr",
     "output_type": "stream",
     "text": [
      "2022-07-06 02:31:39,741 [app.utils.fetch_data] [INFO] Fetching stock from investing_api: FBHS, from 24/06/2015 to 06/07/2022\n"
     ]
    },
    {
     "name": "stdout",
     "output_type": "stream",
     "text": [
      "Error when calling data for FBO\n"
     ]
    },
    {
     "name": "stderr",
     "output_type": "stream",
     "text": [
      "2022-07-06 02:31:47,140 [app.utils.fetch_data] [INFO] Fetching stock from investing_api: FCN, from 02/01/1995 to 01/10/1998\n",
      "2022-07-06 02:31:57,392 [app.utils.fetch_data] [INFO] Fetching stock from investing_api: FCPT, from 10/11/2014 to 10/11/2015\n",
      "2022-07-06 02:32:07,965 [app.utils.fetch_data] [INFO] Fetching stock from investing_api: FCX, from 02/01/1995 to 06/07/2022\n"
     ]
    },
    {
     "name": "stdout",
     "output_type": "stream",
     "text": [
      "Error when calling data for FDO\n"
     ]
    },
    {
     "name": "stderr",
     "output_type": "stream",
     "text": [
      "2022-07-06 23:06:02,111 [app.utils.fetch_data] [INFO] Fetching stock from investing_api: FDS, from 20/12/2020 to 06/07/2022\n",
      "2022-07-06 23:06:10,548 [app.utils.fetch_data] [INFO] Fetching stock from investing_api: FDX, from 02/01/1995 to 06/07/2022\n",
      "2022-07-06 23:06:17,906 [app.utils.fetch_data] [INFO] Fetching stock from investing_api: FE, from 02/01/1995 to 06/07/2022\n",
      "2022-07-06 23:06:24,278 [app.utils.fetch_data] [INFO] Fetching stock from investing_api: FFIV, from 20/12/2009 to 06/07/2022\n",
      "2022-07-06 23:06:37,383 [app.utils.fetch_data] [INFO] Fetching stock from alpha vintage api: FG\n",
      "2022-07-06 23:06:45,641 [app.utils.fetch_data] [INFO] Fetching stock from investing_api: FHN, from 06/05/2001 to 19/06/2013\n",
      "2022-07-06 23:06:52,678 [app.utils.fetch_data] [INFO] Fetching stock from investing_api: FII, from 16/04/2002 to 28/12/2012\n",
      "2022-07-06 23:07:00,084 [app.utils.fetch_data] [INFO] Fetching stock from investing_api: FIS, from 10/11/2005 to 06/07/2022\n",
      "2022-07-06 23:07:10,889 [app.utils.fetch_data] [INFO] Fetching stock from investing_api: FISV, from 02/04/2000 to 06/07/2022\n",
      "2022-07-06 23:07:19,996 [app.utils.fetch_data] [INFO] Fetching stock from investing_api: FITB, from 08/03/1995 to 06/07/2022\n"
     ]
    },
    {
     "ename": "KeyboardInterrupt",
     "evalue": "",
     "output_type": "error",
     "traceback": [
      "\u001b[0;31m---------------------------------------------------------------------------\u001b[0m",
      "\u001b[0;31mKeyboardInterrupt\u001b[0m                         Traceback (most recent call last)",
      "Input \u001b[0;32mIn [50]\u001b[0m, in \u001b[0;36m<cell line: 18>\u001b[0;34m()\u001b[0m\n\u001b[1;32m     29\u001b[0m \u001b[38;5;28;01mtry\u001b[39;00m:\n\u001b[1;32m     30\u001b[0m     df \u001b[38;5;241m=\u001b[39m investing_api(\u001b[38;5;124m'\u001b[39m\u001b[38;5;124mstock\u001b[39m\u001b[38;5;124m'\u001b[39m, k, start_date, end_date)\n\u001b[0;32m---> 31\u001b[0m     \u001b[43mtime\u001b[49m\u001b[38;5;241;43m.\u001b[39;49m\u001b[43msleep\u001b[49m\u001b[43m(\u001b[49m\u001b[43mrandom\u001b[49m\u001b[38;5;241;43m.\u001b[39;49m\u001b[43mrandrange\u001b[49m\u001b[43m(\u001b[49m\u001b[38;5;241;43m5\u001b[39;49m\u001b[43m,\u001b[49m\u001b[43m \u001b[49m\u001b[38;5;241;43m10\u001b[39;49m\u001b[43m)\u001b[49m\u001b[43m)\u001b[49m \u001b[38;5;66;03m# set to pause for a bit when calling an api\u001b[39;00m\n\u001b[1;32m     32\u001b[0m \u001b[38;5;28;01mexcept\u001b[39;00m \u001b[38;5;167;01mException\u001b[39;00m \u001b[38;5;28;01mas\u001b[39;00m e:\n\u001b[1;32m     33\u001b[0m     \u001b[38;5;28;01mif\u001b[39;00m \u001b[38;5;124m\"\u001b[39m\u001b[38;5;124mERR#0018\u001b[39m\u001b[38;5;124m\"\u001b[39m \u001b[38;5;129;01min\u001b[39;00m \u001b[38;5;28mstr\u001b[39m(e):\n",
      "\u001b[0;31mKeyboardInterrupt\u001b[0m: "
     ]
    }
   ],
   "source": [
    "# retrieve data for each ticker, but 1 year before the min_date\n",
    "# this is to make sure we have all the data to calculate the moving averages\n",
    "\n",
    "if 'stocks' in locals():\n",
    "    if stocks.shape[0]>0:\n",
    "        pass\n",
    "    else:\n",
    "        stocks = pd.DataFrame()\n",
    "else:\n",
    "    stocks = pd.DataFrame()\n",
    "\n",
    "if 'NA_tickers' in locals():\n",
    "    pass\n",
    "else:\n",
    "    NA_tickers = list()\n",
    "    \n",
    "    \n",
    "for k in tqdm(ticker_dict.keys()):\n",
    "    \n",
    "    if k in stocks.ticker.unique():\n",
    "        pass\n",
    "    else:\n",
    "        # set min date as 1 year before the actual min date\n",
    "        s = ticker_dict[k]['min_date'].split('-')\n",
    "        s[0] = str(int(s[0])-1)\n",
    "        start_date = '-'.join(s)\n",
    "        end_date = ticker_dict[k]['max_date']\n",
    "\n",
    "        try:\n",
    "            df = investing_api('stock', k, start_date, end_date)\n",
    "            time.sleep(random.randrange(5, 10)) # set to pause for a bit when calling an api\n",
    "        except Exception as e:\n",
    "            if \"ERR#0018\" in str(e):\n",
    "                try:\n",
    "                    # retrieve data from alpha vintage\n",
    "                    df = alpha_vintage_api('stock', k)\n",
    "                    time.sleep(random.randrange(5, 10)) # set to pause for a bit when calling an api\n",
    "                except:\n",
    "                    NA_tickers.append(k)\n",
    "                    print(\"Error when calling data for {}\".format(k))\n",
    "\n",
    "        stocks = pd.concat([stocks, df], axis=0)"
   ]
  },
  {
   "cell_type": "code",
   "execution_count": 266,
   "id": "a2304e59",
   "metadata": {
    "scrolled": true
   },
   "outputs": [],
   "source": [
    "# set(NA_tickers)"
   ]
  },
  {
   "cell_type": "code",
   "execution_count": null,
   "id": "b3524d56",
   "metadata": {},
   "outputs": [],
   "source": []
  },
  {
   "cell_type": "code",
   "execution_count": 17,
   "id": "9652856f",
   "metadata": {},
   "outputs": [],
   "source": [
    "import requests"
   ]
  },
  {
   "cell_type": "code",
   "execution_count": 12,
   "id": "13e7de48",
   "metadata": {},
   "outputs": [],
   "source": [
    "with open('app/keys/keys.json', 'r') as key_file:\n",
    "    keys = json.load(key_file)"
   ]
  },
  {
   "cell_type": "code",
   "execution_count": 14,
   "id": "77099d0c",
   "metadata": {},
   "outputs": [],
   "source": [
    "key = keys['alpha_vintage']"
   ]
  },
  {
   "cell_type": "code",
   "execution_count": 475,
   "id": "8aad72f9",
   "metadata": {},
   "outputs": [],
   "source": [
    "url = 'https://www.alphavantage.co/query?function=TIME_SERIES_DAILY&symbol={}&apikey={}&outputsize=full'.format(\"Q\", key)\n",
    "r = requests.get(url)\n",
    "data2 = r.json()"
   ]
  },
  {
   "cell_type": "code",
   "execution_count": 481,
   "id": "06412d5e",
   "metadata": {},
   "outputs": [
    {
     "data": {
      "text/html": [
       "<div>\n",
       "<style scoped>\n",
       "    .dataframe tbody tr th:only-of-type {\n",
       "        vertical-align: middle;\n",
       "    }\n",
       "\n",
       "    .dataframe tbody tr th {\n",
       "        vertical-align: top;\n",
       "    }\n",
       "\n",
       "    .dataframe thead th {\n",
       "        text-align: right;\n",
       "    }\n",
       "</style>\n",
       "<table border=\"1\" class=\"dataframe\">\n",
       "  <thead>\n",
       "    <tr style=\"text-align: right;\">\n",
       "      <th></th>\n",
       "      <th>1. open</th>\n",
       "      <th>2. high</th>\n",
       "      <th>3. low</th>\n",
       "      <th>4. close</th>\n",
       "      <th>5. volume</th>\n",
       "    </tr>\n",
       "  </thead>\n",
       "  <tbody>\n",
       "    <tr>\n",
       "      <th>2017-11-14</th>\n",
       "      <td>102.5800</td>\n",
       "      <td>103.6600</td>\n",
       "      <td>101.6200</td>\n",
       "      <td>103.4800</td>\n",
       "      <td>1299753</td>\n",
       "    </tr>\n",
       "    <tr>\n",
       "      <th>2017-11-13</th>\n",
       "      <td>101.9800</td>\n",
       "      <td>103.8700</td>\n",
       "      <td>101.1800</td>\n",
       "      <td>102.9100</td>\n",
       "      <td>1532499</td>\n",
       "    </tr>\n",
       "    <tr>\n",
       "      <th>2017-11-10</th>\n",
       "      <td>103.7000</td>\n",
       "      <td>104.6100</td>\n",
       "      <td>103.5700</td>\n",
       "      <td>104.0500</td>\n",
       "      <td>1138184</td>\n",
       "    </tr>\n",
       "    <tr>\n",
       "      <th>2017-11-09</th>\n",
       "      <td>103.5500</td>\n",
       "      <td>103.7700</td>\n",
       "      <td>101.5000</td>\n",
       "      <td>103.5100</td>\n",
       "      <td>2691961</td>\n",
       "    </tr>\n",
       "    <tr>\n",
       "      <th>2017-11-08</th>\n",
       "      <td>108.5200</td>\n",
       "      <td>108.8200</td>\n",
       "      <td>103.8200</td>\n",
       "      <td>104.7200</td>\n",
       "      <td>3089197</td>\n",
       "    </tr>\n",
       "    <tr>\n",
       "      <th>...</th>\n",
       "      <td>...</td>\n",
       "      <td>...</td>\n",
       "      <td>...</td>\n",
       "      <td>...</td>\n",
       "      <td>...</td>\n",
       "    </tr>\n",
       "    <tr>\n",
       "      <th>2013-05-15</th>\n",
       "      <td>45.2000</td>\n",
       "      <td>45.7400</td>\n",
       "      <td>44.8500</td>\n",
       "      <td>45.5000</td>\n",
       "      <td>2380500</td>\n",
       "    </tr>\n",
       "    <tr>\n",
       "      <th>2013-05-14</th>\n",
       "      <td>44.2400</td>\n",
       "      <td>44.7490</td>\n",
       "      <td>43.9000</td>\n",
       "      <td>44.4300</td>\n",
       "      <td>2049800</td>\n",
       "    </tr>\n",
       "    <tr>\n",
       "      <th>2013-05-13</th>\n",
       "      <td>42.3000</td>\n",
       "      <td>43.3700</td>\n",
       "      <td>42.3000</td>\n",
       "      <td>43.3200</td>\n",
       "      <td>1053100</td>\n",
       "    </tr>\n",
       "    <tr>\n",
       "      <th>2013-05-10</th>\n",
       "      <td>42.2600</td>\n",
       "      <td>42.9700</td>\n",
       "      <td>41.7800</td>\n",
       "      <td>42.3900</td>\n",
       "      <td>2969700</td>\n",
       "    </tr>\n",
       "    <tr>\n",
       "      <th>2013-05-09</th>\n",
       "      <td>43.7600</td>\n",
       "      <td>44.3300</td>\n",
       "      <td>42.0000</td>\n",
       "      <td>42.1100</td>\n",
       "      <td>19153400</td>\n",
       "    </tr>\n",
       "  </tbody>\n",
       "</table>\n",
       "<p>1140 rows × 5 columns</p>\n",
       "</div>"
      ],
      "text/plain": [
       "             1. open   2. high    3. low  4. close 5. volume\n",
       "2017-11-14  102.5800  103.6600  101.6200  103.4800   1299753\n",
       "2017-11-13  101.9800  103.8700  101.1800  102.9100   1532499\n",
       "2017-11-10  103.7000  104.6100  103.5700  104.0500   1138184\n",
       "2017-11-09  103.5500  103.7700  101.5000  103.5100   2691961\n",
       "2017-11-08  108.5200  108.8200  103.8200  104.7200   3089197\n",
       "...              ...       ...       ...       ...       ...\n",
       "2013-05-15   45.2000   45.7400   44.8500   45.5000   2380500\n",
       "2013-05-14   44.2400   44.7490   43.9000   44.4300   2049800\n",
       "2013-05-13   42.3000   43.3700   42.3000   43.3200   1053100\n",
       "2013-05-10   42.2600   42.9700   41.7800   42.3900   2969700\n",
       "2013-05-09   43.7600   44.3300   42.0000   42.1100  19153400\n",
       "\n",
       "[1140 rows x 5 columns]"
      ]
     },
     "execution_count": 481,
     "metadata": {},
     "output_type": "execute_result"
    }
   ],
   "source": [
    "data2 = pd.DataFrame(data2['Time Series (Daily)'])\n",
    "data2.T"
   ]
  },
  {
   "cell_type": "code",
   "execution_count": null,
   "id": "7dc9d043",
   "metadata": {},
   "outputs": [],
   "source": []
  },
  {
   "cell_type": "code",
   "execution_count": null,
   "id": "75e7ccf8",
   "metadata": {},
   "outputs": [],
   "source": []
  },
  {
   "cell_type": "code",
   "execution_count": null,
   "id": "b3313469",
   "metadata": {},
   "outputs": [],
   "source": []
  },
  {
   "cell_type": "code",
   "execution_count": null,
   "id": "c4de746b",
   "metadata": {},
   "outputs": [],
   "source": []
  },
  {
   "cell_type": "code",
   "execution_count": null,
   "id": "723c2890",
   "metadata": {},
   "outputs": [],
   "source": []
  },
  {
   "cell_type": "code",
   "execution_count": 331,
   "id": "cf705876",
   "metadata": {},
   "outputs": [
    {
     "data": {
      "text/plain": [
       "dict_keys(['Meta Data', 'Time Series (Daily)'])"
      ]
     },
     "execution_count": 331,
     "metadata": {},
     "output_type": "execute_result"
    }
   ],
   "source": [
    "data.keys()"
   ]
  },
  {
   "cell_type": "code",
   "execution_count": null,
   "id": "48fc3d10",
   "metadata": {},
   "outputs": [],
   "source": []
  },
  {
   "cell_type": "code",
   "execution_count": null,
   "id": "c1559cd3",
   "metadata": {},
   "outputs": [],
   "source": []
  },
  {
   "cell_type": "code",
   "execution_count": null,
   "id": "bb76110a",
   "metadata": {},
   "outputs": [],
   "source": []
  },
  {
   "cell_type": "code",
   "execution_count": null,
   "id": "afe37704",
   "metadata": {},
   "outputs": [],
   "source": []
  },
  {
   "cell_type": "code",
   "execution_count": null,
   "id": "13cbf46d",
   "metadata": {},
   "outputs": [],
   "source": []
  },
  {
   "cell_type": "code",
   "execution_count": 56,
   "id": "b95c63d3",
   "metadata": {
    "scrolled": true
   },
   "outputs": [
    {
     "ename": "RuntimeError",
     "evalue": "ERR#0018: stock aci not found, check if it is correct.",
     "output_type": "error",
     "traceback": [
      "\u001b[0;31m---------------------------------------------------------------------------\u001b[0m",
      "\u001b[0;31mRuntimeError\u001b[0m                              Traceback (most recent call last)",
      "Input \u001b[0;32mIn [56]\u001b[0m, in \u001b[0;36m<cell line: 1>\u001b[0;34m()\u001b[0m\n\u001b[0;32m----> 1\u001b[0m \u001b[43minvestpy\u001b[49m\u001b[38;5;241;43m.\u001b[39;49m\u001b[43mstocks\u001b[49m\u001b[38;5;241;43m.\u001b[39;49m\u001b[43mget_stock_company_profile\u001b[49m\u001b[43m(\u001b[49m\u001b[38;5;124;43m\"\u001b[39;49m\u001b[38;5;124;43mACI\u001b[39;49m\u001b[38;5;124;43m\"\u001b[39;49m\u001b[43m,\u001b[49m\u001b[43m \u001b[49m\u001b[43mcountry\u001b[49m\u001b[38;5;241;43m=\u001b[39;49m\u001b[38;5;124;43m'\u001b[39;49m\u001b[38;5;124;43munited states\u001b[39;49m\u001b[38;5;124;43m'\u001b[39;49m\u001b[43m)\u001b[49m\n",
      "File \u001b[0;32m~/opt/anaconda3/envs/market/lib/python3.9/site-packages/investpy/stocks.py:871\u001b[0m, in \u001b[0;36mget_stock_company_profile\u001b[0;34m(stock, country, language)\u001b[0m\n\u001b[1;32m    868\u001b[0m stock \u001b[38;5;241m=\u001b[39m unidecode(stock\u001b[38;5;241m.\u001b[39mstrip()\u001b[38;5;241m.\u001b[39mlower())\n\u001b[1;32m    870\u001b[0m \u001b[38;5;28;01mif\u001b[39;00m stock \u001b[38;5;129;01mnot\u001b[39;00m \u001b[38;5;129;01min\u001b[39;00m \u001b[38;5;28mlist\u001b[39m(stocks[\u001b[38;5;124m\"\u001b[39m\u001b[38;5;124msymbol\u001b[39m\u001b[38;5;124m\"\u001b[39m]\u001b[38;5;241m.\u001b[39mapply(unidecode)\u001b[38;5;241m.\u001b[39mstr\u001b[38;5;241m.\u001b[39mlower()):\n\u001b[0;32m--> 871\u001b[0m     \u001b[38;5;28;01mraise\u001b[39;00m \u001b[38;5;167;01mRuntimeError\u001b[39;00m(\n\u001b[1;32m    872\u001b[0m         \u001b[38;5;124m\"\u001b[39m\u001b[38;5;124mERR#0018: stock \u001b[39m\u001b[38;5;124m\"\u001b[39m \u001b[38;5;241m+\u001b[39m stock \u001b[38;5;241m+\u001b[39m \u001b[38;5;124m\"\u001b[39m\u001b[38;5;124m not found, check if it is correct.\u001b[39m\u001b[38;5;124m\"\u001b[39m\n\u001b[1;32m    873\u001b[0m     )\n\u001b[1;32m    875\u001b[0m company_profile \u001b[38;5;241m=\u001b[39m {\u001b[38;5;124m\"\u001b[39m\u001b[38;5;124murl\u001b[39m\u001b[38;5;124m\"\u001b[39m: \u001b[38;5;28;01mNone\u001b[39;00m, \u001b[38;5;124m\"\u001b[39m\u001b[38;5;124mdesc\u001b[39m\u001b[38;5;124m\"\u001b[39m: \u001b[38;5;28;01mNone\u001b[39;00m}\n\u001b[1;32m    877\u001b[0m \u001b[38;5;28;01mif\u001b[39;00m selected_source \u001b[38;5;241m==\u001b[39m \u001b[38;5;124m\"\u001b[39m\u001b[38;5;124mBolsa de Madrid\u001b[39m\u001b[38;5;124m\"\u001b[39m:\n",
      "\u001b[0;31mRuntimeError\u001b[0m: ERR#0018: stock aci not found, check if it is correct."
     ]
    }
   ],
   "source": [
    "investpy.stocks.get_stock_company_profile(\"ACI\", country='united states')"
   ]
  },
  {
   "cell_type": "code",
   "execution_count": null,
   "id": "f1565080",
   "metadata": {},
   "outputs": [],
   "source": []
  },
  {
   "cell_type": "code",
   "execution_count": null,
   "id": "4219201c-8dc3-4254-979c-1ce972043ed4",
   "metadata": {},
   "outputs": [],
   "source": []
  },
  {
   "cell_type": "code",
   "execution_count": null,
   "id": "da37fc62-77a4-449a-b110-6b26bf14ced6",
   "metadata": {},
   "outputs": [],
   "source": []
  },
  {
   "cell_type": "code",
   "execution_count": null,
   "id": "75674fe3-382b-42ba-bafd-503f67b6bc6a",
   "metadata": {},
   "outputs": [],
   "source": []
  },
  {
   "cell_type": "code",
   "execution_count": null,
   "id": "33ad8b19-82ee-42c6-848f-dcdc531338e4",
   "metadata": {},
   "outputs": [],
   "source": []
  },
  {
   "cell_type": "code",
   "execution_count": null,
   "id": "63dd3242-7c1b-4269-8453-f59c53c0d370",
   "metadata": {},
   "outputs": [],
   "source": []
  },
  {
   "cell_type": "code",
   "execution_count": 549,
   "id": "1f0db95e-5025-4127-9f51-62ec2225dc8d",
   "metadata": {
    "scrolled": true
   },
   "outputs": [
    {
     "name": "stderr",
     "output_type": "stream",
     "text": [
      "2022-07-08 02:33:42,385 [app.utils.fetch_data] [INFO] Fetching stock from investing_api: IQV, from 01/01/2010 to 01/01/2020\n"
     ]
    },
    {
     "data": {
      "text/html": [
       "<div>\n",
       "<style scoped>\n",
       "    .dataframe tbody tr th:only-of-type {\n",
       "        vertical-align: middle;\n",
       "    }\n",
       "\n",
       "    .dataframe tbody tr th {\n",
       "        vertical-align: top;\n",
       "    }\n",
       "\n",
       "    .dataframe thead th {\n",
       "        text-align: right;\n",
       "    }\n",
       "</style>\n",
       "<table border=\"1\" class=\"dataframe\">\n",
       "  <thead>\n",
       "    <tr style=\"text-align: right;\">\n",
       "      <th></th>\n",
       "      <th>Date</th>\n",
       "      <th>Open</th>\n",
       "      <th>High</th>\n",
       "      <th>Low</th>\n",
       "      <th>Close</th>\n",
       "      <th>Volume</th>\n",
       "      <th>Currency</th>\n",
       "      <th>ticker</th>\n",
       "      <th>type</th>\n",
       "      <th>p_key</th>\n",
       "    </tr>\n",
       "  </thead>\n",
       "  <tbody>\n",
       "    <tr>\n",
       "      <th>0</th>\n",
       "      <td>2013-05-09</td>\n",
       "      <td>43.76</td>\n",
       "      <td>44.33</td>\n",
       "      <td>42.00</td>\n",
       "      <td>42.11</td>\n",
       "      <td>19154786</td>\n",
       "      <td>USD</td>\n",
       "      <td>IQV</td>\n",
       "      <td>stock</td>\n",
       "      <td>2013_05_09_IQV</td>\n",
       "    </tr>\n",
       "    <tr>\n",
       "      <th>1</th>\n",
       "      <td>2013-05-10</td>\n",
       "      <td>42.26</td>\n",
       "      <td>42.97</td>\n",
       "      <td>41.78</td>\n",
       "      <td>42.39</td>\n",
       "      <td>2969690</td>\n",
       "      <td>USD</td>\n",
       "      <td>IQV</td>\n",
       "      <td>stock</td>\n",
       "      <td>2013_05_10_IQV</td>\n",
       "    </tr>\n",
       "    <tr>\n",
       "      <th>2</th>\n",
       "      <td>2013-05-13</td>\n",
       "      <td>42.30</td>\n",
       "      <td>43.37</td>\n",
       "      <td>42.30</td>\n",
       "      <td>43.32</td>\n",
       "      <td>1053020</td>\n",
       "      <td>USD</td>\n",
       "      <td>IQV</td>\n",
       "      <td>stock</td>\n",
       "      <td>2013_05_13_IQV</td>\n",
       "    </tr>\n",
       "    <tr>\n",
       "      <th>3</th>\n",
       "      <td>2013-05-14</td>\n",
       "      <td>44.24</td>\n",
       "      <td>44.75</td>\n",
       "      <td>43.90</td>\n",
       "      <td>44.43</td>\n",
       "      <td>2051983</td>\n",
       "      <td>USD</td>\n",
       "      <td>IQV</td>\n",
       "      <td>stock</td>\n",
       "      <td>2013_05_14_IQV</td>\n",
       "    </tr>\n",
       "    <tr>\n",
       "      <th>4</th>\n",
       "      <td>2013-05-15</td>\n",
       "      <td>45.20</td>\n",
       "      <td>45.74</td>\n",
       "      <td>44.85</td>\n",
       "      <td>45.50</td>\n",
       "      <td>2381902</td>\n",
       "      <td>USD</td>\n",
       "      <td>IQV</td>\n",
       "      <td>stock</td>\n",
       "      <td>2013_05_15_IQV</td>\n",
       "    </tr>\n",
       "    <tr>\n",
       "      <th>...</th>\n",
       "      <td>...</td>\n",
       "      <td>...</td>\n",
       "      <td>...</td>\n",
       "      <td>...</td>\n",
       "      <td>...</td>\n",
       "      <td>...</td>\n",
       "      <td>...</td>\n",
       "      <td>...</td>\n",
       "      <td>...</td>\n",
       "      <td>...</td>\n",
       "    </tr>\n",
       "    <tr>\n",
       "      <th>1669</th>\n",
       "      <td>2019-12-24</td>\n",
       "      <td>155.03</td>\n",
       "      <td>155.12</td>\n",
       "      <td>154.04</td>\n",
       "      <td>154.70</td>\n",
       "      <td>483369</td>\n",
       "      <td>USD</td>\n",
       "      <td>IQV</td>\n",
       "      <td>stock</td>\n",
       "      <td>2019_12_24_IQV</td>\n",
       "    </tr>\n",
       "    <tr>\n",
       "      <th>1670</th>\n",
       "      <td>2019-12-26</td>\n",
       "      <td>155.00</td>\n",
       "      <td>155.00</td>\n",
       "      <td>153.45</td>\n",
       "      <td>154.14</td>\n",
       "      <td>1307260</td>\n",
       "      <td>USD</td>\n",
       "      <td>IQV</td>\n",
       "      <td>stock</td>\n",
       "      <td>2019_12_26_IQV</td>\n",
       "    </tr>\n",
       "    <tr>\n",
       "      <th>1671</th>\n",
       "      <td>2019-12-27</td>\n",
       "      <td>154.65</td>\n",
       "      <td>155.18</td>\n",
       "      <td>154.25</td>\n",
       "      <td>154.44</td>\n",
       "      <td>873921</td>\n",
       "      <td>USD</td>\n",
       "      <td>IQV</td>\n",
       "      <td>stock</td>\n",
       "      <td>2019_12_27_IQV</td>\n",
       "    </tr>\n",
       "    <tr>\n",
       "      <th>1672</th>\n",
       "      <td>2019-12-30</td>\n",
       "      <td>154.47</td>\n",
       "      <td>154.50</td>\n",
       "      <td>152.21</td>\n",
       "      <td>153.45</td>\n",
       "      <td>897936</td>\n",
       "      <td>USD</td>\n",
       "      <td>IQV</td>\n",
       "      <td>stock</td>\n",
       "      <td>2019_12_30_IQV</td>\n",
       "    </tr>\n",
       "    <tr>\n",
       "      <th>1673</th>\n",
       "      <td>2019-12-31</td>\n",
       "      <td>153.31</td>\n",
       "      <td>154.68</td>\n",
       "      <td>153.06</td>\n",
       "      <td>154.51</td>\n",
       "      <td>760894</td>\n",
       "      <td>USD</td>\n",
       "      <td>IQV</td>\n",
       "      <td>stock</td>\n",
       "      <td>2019_12_31_IQV</td>\n",
       "    </tr>\n",
       "  </tbody>\n",
       "</table>\n",
       "<p>1674 rows × 10 columns</p>\n",
       "</div>"
      ],
      "text/plain": [
       "           Date    Open    High     Low   Close    Volume Currency ticker  \\\n",
       "0    2013-05-09   43.76   44.33   42.00   42.11  19154786      USD    IQV   \n",
       "1    2013-05-10   42.26   42.97   41.78   42.39   2969690      USD    IQV   \n",
       "2    2013-05-13   42.30   43.37   42.30   43.32   1053020      USD    IQV   \n",
       "3    2013-05-14   44.24   44.75   43.90   44.43   2051983      USD    IQV   \n",
       "4    2013-05-15   45.20   45.74   44.85   45.50   2381902      USD    IQV   \n",
       "...         ...     ...     ...     ...     ...       ...      ...    ...   \n",
       "1669 2019-12-24  155.03  155.12  154.04  154.70    483369      USD    IQV   \n",
       "1670 2019-12-26  155.00  155.00  153.45  154.14   1307260      USD    IQV   \n",
       "1671 2019-12-27  154.65  155.18  154.25  154.44    873921      USD    IQV   \n",
       "1672 2019-12-30  154.47  154.50  152.21  153.45    897936      USD    IQV   \n",
       "1673 2019-12-31  153.31  154.68  153.06  154.51    760894      USD    IQV   \n",
       "\n",
       "       type           p_key  \n",
       "0     stock  2013_05_09_IQV  \n",
       "1     stock  2013_05_10_IQV  \n",
       "2     stock  2013_05_13_IQV  \n",
       "3     stock  2013_05_14_IQV  \n",
       "4     stock  2013_05_15_IQV  \n",
       "...     ...             ...  \n",
       "1669  stock  2019_12_24_IQV  \n",
       "1670  stock  2019_12_26_IQV  \n",
       "1671  stock  2019_12_27_IQV  \n",
       "1672  stock  2019_12_30_IQV  \n",
       "1673  stock  2019_12_31_IQV  \n",
       "\n",
       "[1674 rows x 10 columns]"
      ]
     },
     "execution_count": 549,
     "metadata": {},
     "output_type": "execute_result"
    }
   ],
   "source": [
    "df = investing_api('stock', 'IQV', '2010-01-01', '2020-01-01')\n",
    "df"
   ]
  },
  {
   "cell_type": "code",
   "execution_count": null,
   "id": "3065f79b",
   "metadata": {},
   "outputs": [],
   "source": []
  }
 ],
 "metadata": {
  "kernelspec": {
   "display_name": "Python [conda env:market] *",
   "language": "python",
   "name": "conda-env-market-py"
  },
  "language_info": {
   "codemirror_mode": {
    "name": "ipython",
    "version": 3
   },
   "file_extension": ".py",
   "mimetype": "text/x-python",
   "name": "python",
   "nbconvert_exporter": "python",
   "pygments_lexer": "ipython3",
   "version": "3.9.12"
  }
 },
 "nbformat": 4,
 "nbformat_minor": 5
}
