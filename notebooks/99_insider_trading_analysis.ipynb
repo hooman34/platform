{
 "cells": [
  {
   "cell_type": "code",
   "execution_count": 1,
   "id": "e8d172a5",
   "metadata": {},
   "outputs": [],
   "source": [
    "import os\n",
    "\n",
    "path_parent = os.path.dirname(os.getcwd())\n",
    "os.chdir(path_parent)"
   ]
  },
  {
   "cell_type": "code",
   "execution_count": 2,
   "id": "b0e82c70",
   "metadata": {},
   "outputs": [],
   "source": [
    "from urllib.request import urlopen\n",
    "import json\n",
    "import numpy as np\n",
    "import pandas as pd\n",
    "from datetime import datetime, date\n",
    "from tqdm.notebook import tqdm\n",
    "\n",
    "import plotly.graph_objects as go\n",
    "from plotly.subplots import make_subplots\n",
    "\n",
    "from app.utils.fetch_data import fred_fred, investing_api, alpha_vantage_api, FMP\n",
    "from app.data_handling.feature_engineering import create_price_features"
   ]
  },
  {
   "cell_type": "code",
   "execution_count": 3,
   "id": "20cd25d2",
   "metadata": {},
   "outputs": [],
   "source": [
    "today = date.today().strftime(\"%Y-%m-%d\")\n",
    "start_date = '2010-01-01'\n",
    "ticker = 'AAPL'"
   ]
  },
  {
   "cell_type": "markdown",
   "id": "16dee8b8",
   "metadata": {},
   "source": [
    "#### Fetch stock data"
   ]
  },
  {
   "cell_type": "code",
   "execution_count": 4,
   "id": "33e06828",
   "metadata": {},
   "outputs": [
    {
     "name": "stderr",
     "output_type": "stream",
     "text": [
      "2022-07-22 00:30:14,846 [app.utils.fetch_data] [INFO] Fetching stock from investing_api: AAPL, from 01/01/2010 to 22/07/2022\n"
     ]
    }
   ],
   "source": [
    "total_stock = investing_api('stock', ticker, start_date, today)"
   ]
  },
  {
   "cell_type": "code",
   "execution_count": 5,
   "id": "883e015f",
   "metadata": {
    "scrolled": true
   },
   "outputs": [],
   "source": [
    "# feature engineering\n",
    "total_stock = create_price_features(total_stock)"
   ]
  },
  {
   "cell_type": "code",
   "execution_count": 6,
   "id": "a9531a4f",
   "metadata": {},
   "outputs": [
    {
     "data": {
      "text/html": [
       "<div>\n",
       "<style scoped>\n",
       "    .dataframe tbody tr th:only-of-type {\n",
       "        vertical-align: middle;\n",
       "    }\n",
       "\n",
       "    .dataframe tbody tr th {\n",
       "        vertical-align: top;\n",
       "    }\n",
       "\n",
       "    .dataframe thead th {\n",
       "        text-align: right;\n",
       "    }\n",
       "</style>\n",
       "<table border=\"1\" class=\"dataframe\">\n",
       "  <thead>\n",
       "    <tr style=\"text-align: right;\">\n",
       "      <th></th>\n",
       "      <th>Date</th>\n",
       "      <th>Open</th>\n",
       "      <th>High</th>\n",
       "      <th>Low</th>\n",
       "      <th>Close</th>\n",
       "      <th>Volume</th>\n",
       "      <th>Currency</th>\n",
       "      <th>ticker</th>\n",
       "      <th>type</th>\n",
       "      <th>p_key</th>\n",
       "      <th>upper_shadow</th>\n",
       "      <th>lower_shadow</th>\n",
       "      <th>open2close</th>\n",
       "      <th>high2low</th>\n",
       "      <th>high2mean</th>\n",
       "      <th>low2mean</th>\n",
       "      <th>high2median</th>\n",
       "      <th>low2median</th>\n",
       "    </tr>\n",
       "  </thead>\n",
       "  <tbody>\n",
       "    <tr>\n",
       "      <th>0</th>\n",
       "      <td>2010-01-04</td>\n",
       "      <td>7.62</td>\n",
       "      <td>7.66</td>\n",
       "      <td>7.58</td>\n",
       "      <td>7.64</td>\n",
       "      <td>493728704</td>\n",
       "      <td>USD</td>\n",
       "      <td>AAPL</td>\n",
       "      <td>stock</td>\n",
       "      <td>2010_01_04_AAPL</td>\n",
       "      <td>1.002618</td>\n",
       "      <td>1.005277</td>\n",
       "      <td>1.002625</td>\n",
       "      <td>1.010554</td>\n",
       "      <td>1.004590</td>\n",
       "      <td>0.994098</td>\n",
       "      <td>1.003932</td>\n",
       "      <td>0.993447</td>\n",
       "    </tr>\n",
       "    <tr>\n",
       "      <th>1</th>\n",
       "      <td>2010-01-05</td>\n",
       "      <td>7.66</td>\n",
       "      <td>7.70</td>\n",
       "      <td>7.62</td>\n",
       "      <td>7.66</td>\n",
       "      <td>601904640</td>\n",
       "      <td>USD</td>\n",
       "      <td>AAPL</td>\n",
       "      <td>stock</td>\n",
       "      <td>2010_01_05_AAPL</td>\n",
       "      <td>1.005222</td>\n",
       "      <td>1.005249</td>\n",
       "      <td>1.000000</td>\n",
       "      <td>1.010499</td>\n",
       "      <td>1.005222</td>\n",
       "      <td>0.994778</td>\n",
       "      <td>1.005222</td>\n",
       "      <td>0.994778</td>\n",
       "    </tr>\n",
       "  </tbody>\n",
       "</table>\n",
       "</div>"
      ],
      "text/plain": [
       "        Date  Open  High   Low  Close     Volume Currency ticker   type  \\\n",
       "0 2010-01-04  7.62  7.66  7.58   7.64  493728704      USD   AAPL  stock   \n",
       "1 2010-01-05  7.66  7.70  7.62   7.66  601904640      USD   AAPL  stock   \n",
       "\n",
       "             p_key  upper_shadow  lower_shadow  open2close  high2low  \\\n",
       "0  2010_01_04_AAPL      1.002618      1.005277    1.002625  1.010554   \n",
       "1  2010_01_05_AAPL      1.005222      1.005249    1.000000  1.010499   \n",
       "\n",
       "   high2mean  low2mean  high2median  low2median  \n",
       "0   1.004590  0.994098     1.003932    0.993447  \n",
       "1   1.005222  0.994778     1.005222    0.994778  "
      ]
     },
     "execution_count": 6,
     "metadata": {},
     "output_type": "execute_result"
    }
   ],
   "source": [
    "total_stock.head(2)"
   ]
  },
  {
   "cell_type": "markdown",
   "id": "2a0162f9",
   "metadata": {},
   "source": [
    "#### Fetch insider trading data"
   ]
  },
  {
   "cell_type": "code",
   "execution_count": 7,
   "id": "3e9ef7f5",
   "metadata": {},
   "outputs": [
    {
     "name": "stderr",
     "output_type": "stream",
     "text": [
      "2022-07-22 00:30:17,717 [app.utils.fetch_data] [INFO] Financial Modeling Prep api ready.\n"
     ]
    }
   ],
   "source": [
    "fmp = FMP()"
   ]
  },
  {
   "cell_type": "code",
   "execution_count": 8,
   "id": "21ad6519",
   "metadata": {
    "scrolled": true
   },
   "outputs": [
    {
     "name": "stderr",
     "output_type": "stream",
     "text": [
      "2022-07-22 00:30:24,935 [app.utils.fetch_data] [INFO] Fetching 35 pages of AAPL insider trade data.\n"
     ]
    }
   ],
   "source": [
    "insider = fmp.get_historical_insider_trade_ticker(ticker, num_pages=35)\n",
    "# filter with the according date\n",
    "insider = insider.loc[insider['transactionDate']>=start_date]"
   ]
  },
  {
   "cell_type": "code",
   "execution_count": 9,
   "id": "e5495da9",
   "metadata": {},
   "outputs": [],
   "source": [
    "# cleaning some of the columns\n",
    "insider['reportingName'] = insider['reportingName'].str.lower()"
   ]
  },
  {
   "cell_type": "code",
   "execution_count": 10,
   "id": "71641dea",
   "metadata": {
    "scrolled": true
   },
   "outputs": [
    {
     "data": {
      "text/html": [
       "<div>\n",
       "<style scoped>\n",
       "    .dataframe tbody tr th:only-of-type {\n",
       "        vertical-align: middle;\n",
       "    }\n",
       "\n",
       "    .dataframe tbody tr th {\n",
       "        vertical-align: top;\n",
       "    }\n",
       "\n",
       "    .dataframe thead th {\n",
       "        text-align: right;\n",
       "    }\n",
       "</style>\n",
       "<table border=\"1\" class=\"dataframe\">\n",
       "  <thead>\n",
       "    <tr style=\"text-align: right;\">\n",
       "      <th></th>\n",
       "      <th>index</th>\n",
       "      <th>symbol</th>\n",
       "      <th>filingDate</th>\n",
       "      <th>transactionDate</th>\n",
       "      <th>reportingCik</th>\n",
       "      <th>transactionType</th>\n",
       "      <th>securitiesOwned</th>\n",
       "      <th>companyCik</th>\n",
       "      <th>reportingName</th>\n",
       "      <th>typeOfOwner</th>\n",
       "      <th>acquistionOrDisposition</th>\n",
       "      <th>formType</th>\n",
       "      <th>securitiesTransacted</th>\n",
       "      <th>price</th>\n",
       "      <th>securityName</th>\n",
       "      <th>link</th>\n",
       "    </tr>\n",
       "  </thead>\n",
       "  <tbody>\n",
       "    <tr>\n",
       "      <th>2272</th>\n",
       "      <td>72</td>\n",
       "      <td>AAPL</td>\n",
       "      <td>2010-02-04 17:43:55</td>\n",
       "      <td>2010-02-02</td>\n",
       "      <td>0001214107</td>\n",
       "      <td>G-Gift</td>\n",
       "      <td>10487.0</td>\n",
       "      <td>0000320193</td>\n",
       "      <td>oppenheimer peter</td>\n",
       "      <td>officer: Senior Vice President, CFO</td>\n",
       "      <td>D</td>\n",
       "      <td>4</td>\n",
       "      <td>1250.0</td>\n",
       "      <td>0.00</td>\n",
       "      <td>Common Stock</td>\n",
       "      <td>https://www.sec.gov/Archives/edgar/data/000032...</td>\n",
       "    </tr>\n",
       "    <tr>\n",
       "      <th>2273</th>\n",
       "      <td>73</td>\n",
       "      <td>AAPL</td>\n",
       "      <td>2010-01-06 17:29:05</td>\n",
       "      <td>2010-01-04</td>\n",
       "      <td>0001252200</td>\n",
       "      <td>S-Sale</td>\n",
       "      <td>120781.0</td>\n",
       "      <td>0000320193</td>\n",
       "      <td>serlet bertrand</td>\n",
       "      <td>officer: Senior Vice President</td>\n",
       "      <td>D</td>\n",
       "      <td>4</td>\n",
       "      <td>10000.0</td>\n",
       "      <td>213.55</td>\n",
       "      <td>Common Stock</td>\n",
       "      <td>https://www.sec.gov/Archives/edgar/data/000032...</td>\n",
       "    </tr>\n",
       "  </tbody>\n",
       "</table>\n",
       "</div>"
      ],
      "text/plain": [
       "      index symbol           filingDate transactionDate reportingCik  \\\n",
       "2272     72   AAPL  2010-02-04 17:43:55      2010-02-02   0001214107   \n",
       "2273     73   AAPL  2010-01-06 17:29:05      2010-01-04   0001252200   \n",
       "\n",
       "     transactionType  securitiesOwned  companyCik      reportingName  \\\n",
       "2272          G-Gift          10487.0  0000320193  oppenheimer peter   \n",
       "2273          S-Sale         120781.0  0000320193    serlet bertrand   \n",
       "\n",
       "                              typeOfOwner acquistionOrDisposition formType  \\\n",
       "2272  officer: Senior Vice President, CFO                       D        4   \n",
       "2273       officer: Senior Vice President                       D        4   \n",
       "\n",
       "      securitiesTransacted   price  securityName  \\\n",
       "2272                1250.0    0.00  Common Stock   \n",
       "2273               10000.0  213.55  Common Stock   \n",
       "\n",
       "                                                   link  \n",
       "2272  https://www.sec.gov/Archives/edgar/data/000032...  \n",
       "2273  https://www.sec.gov/Archives/edgar/data/000032...  "
      ]
     },
     "execution_count": 10,
     "metadata": {},
     "output_type": "execute_result"
    }
   ],
   "source": [
    "insider.tail(2)"
   ]
  },
  {
   "cell_type": "markdown",
   "id": "43a746a4",
   "metadata": {},
   "source": [
    "#### Create master dataset"
   ]
  },
  {
   "cell_type": "code",
   "execution_count": 11,
   "id": "e3fe5992",
   "metadata": {},
   "outputs": [],
   "source": [
    "# relevent columns from the insider dataset\n",
    "insider_columns = ['transactionDate', 'transactionType', 'reportingName', \n",
    "                   'securitiesTransacted', 'price', 'securityName']"
   ]
  },
  {
   "cell_type": "code",
   "execution_count": 12,
   "id": "52afda29",
   "metadata": {},
   "outputs": [],
   "source": [
    "df = total_stock.merge(insider[insider_columns], left_on='Date', right_on='transactionDate')"
   ]
  },
  {
   "cell_type": "code",
   "execution_count": 13,
   "id": "d97e5c4e",
   "metadata": {},
   "outputs": [
    {
     "data": {
      "text/html": [
       "<div>\n",
       "<style scoped>\n",
       "    .dataframe tbody tr th:only-of-type {\n",
       "        vertical-align: middle;\n",
       "    }\n",
       "\n",
       "    .dataframe tbody tr th {\n",
       "        vertical-align: top;\n",
       "    }\n",
       "\n",
       "    .dataframe thead th {\n",
       "        text-align: right;\n",
       "    }\n",
       "</style>\n",
       "<table border=\"1\" class=\"dataframe\">\n",
       "  <thead>\n",
       "    <tr style=\"text-align: right;\">\n",
       "      <th></th>\n",
       "      <th>Date</th>\n",
       "      <th>Open</th>\n",
       "      <th>High</th>\n",
       "      <th>Low</th>\n",
       "      <th>Close</th>\n",
       "      <th>Volume</th>\n",
       "      <th>Currency</th>\n",
       "      <th>ticker</th>\n",
       "      <th>type</th>\n",
       "      <th>p_key</th>\n",
       "      <th>...</th>\n",
       "      <th>high2mean</th>\n",
       "      <th>low2mean</th>\n",
       "      <th>high2median</th>\n",
       "      <th>low2median</th>\n",
       "      <th>transactionDate</th>\n",
       "      <th>transactionType</th>\n",
       "      <th>reportingName</th>\n",
       "      <th>securitiesTransacted</th>\n",
       "      <th>price</th>\n",
       "      <th>securityName</th>\n",
       "    </tr>\n",
       "  </thead>\n",
       "  <tbody>\n",
       "    <tr>\n",
       "      <th>0</th>\n",
       "      <td>2010-01-04</td>\n",
       "      <td>7.62</td>\n",
       "      <td>7.66</td>\n",
       "      <td>7.58</td>\n",
       "      <td>7.64</td>\n",
       "      <td>493728704</td>\n",
       "      <td>USD</td>\n",
       "      <td>AAPL</td>\n",
       "      <td>stock</td>\n",
       "      <td>2010_01_04_AAPL</td>\n",
       "      <td>...</td>\n",
       "      <td>1.004590</td>\n",
       "      <td>0.994098</td>\n",
       "      <td>1.003932</td>\n",
       "      <td>0.993447</td>\n",
       "      <td>2010-01-04</td>\n",
       "      <td>S-Sale</td>\n",
       "      <td>serlet bertrand</td>\n",
       "      <td>10000.0</td>\n",
       "      <td>213.55</td>\n",
       "      <td>Common Stock</td>\n",
       "    </tr>\n",
       "    <tr>\n",
       "      <th>1</th>\n",
       "      <td>2010-02-02</td>\n",
       "      <td>7.00</td>\n",
       "      <td>7.01</td>\n",
       "      <td>6.91</td>\n",
       "      <td>6.99</td>\n",
       "      <td>698341952</td>\n",
       "      <td>USD</td>\n",
       "      <td>AAPL</td>\n",
       "      <td>stock</td>\n",
       "      <td>2010_02_02_AAPL</td>\n",
       "      <td>...</td>\n",
       "      <td>1.004658</td>\n",
       "      <td>0.990326</td>\n",
       "      <td>1.002144</td>\n",
       "      <td>0.987848</td>\n",
       "      <td>2010-02-02</td>\n",
       "      <td>G-Gift</td>\n",
       "      <td>oppenheimer peter</td>\n",
       "      <td>650.0</td>\n",
       "      <td>0.00</td>\n",
       "      <td>Common Stock</td>\n",
       "    </tr>\n",
       "  </tbody>\n",
       "</table>\n",
       "<p>2 rows × 24 columns</p>\n",
       "</div>"
      ],
      "text/plain": [
       "        Date  Open  High   Low  Close     Volume Currency ticker   type  \\\n",
       "0 2010-01-04  7.62  7.66  7.58   7.64  493728704      USD   AAPL  stock   \n",
       "1 2010-02-02  7.00  7.01  6.91   6.99  698341952      USD   AAPL  stock   \n",
       "\n",
       "             p_key  ...  high2mean  low2mean  high2median  low2median  \\\n",
       "0  2010_01_04_AAPL  ...   1.004590  0.994098     1.003932    0.993447   \n",
       "1  2010_02_02_AAPL  ...   1.004658  0.990326     1.002144    0.987848   \n",
       "\n",
       "   transactionDate  transactionType      reportingName  securitiesTransacted  \\\n",
       "0       2010-01-04           S-Sale    serlet bertrand               10000.0   \n",
       "1       2010-02-02           G-Gift  oppenheimer peter                 650.0   \n",
       "\n",
       "    price  securityName  \n",
       "0  213.55  Common Stock  \n",
       "1    0.00  Common Stock  \n",
       "\n",
       "[2 rows x 24 columns]"
      ]
     },
     "execution_count": 13,
     "metadata": {},
     "output_type": "execute_result"
    }
   ],
   "source": [
    "df.head(2)"
   ]
  },
  {
   "cell_type": "markdown",
   "id": "3029bacf",
   "metadata": {},
   "source": [
    "#### Adjust for stock split"
   ]
  },
  {
   "cell_type": "code",
   "execution_count": 14,
   "id": "2eb8724b",
   "metadata": {},
   "outputs": [
    {
     "name": "stderr",
     "output_type": "stream",
     "text": [
      "2022-07-22 00:31:54,714 [app.utils.fetch_data] [INFO] Fetching stock split history for AAPL\n"
     ]
    }
   ],
   "source": [
    "stock_split = fmp.get_stock_split_history(ticker)"
   ]
  },
  {
   "cell_type": "code",
   "execution_count": 15,
   "id": "9bcbee2a",
   "metadata": {},
   "outputs": [
    {
     "data": {
      "text/html": [
       "<div>\n",
       "<style scoped>\n",
       "    .dataframe tbody tr th:only-of-type {\n",
       "        vertical-align: middle;\n",
       "    }\n",
       "\n",
       "    .dataframe tbody tr th {\n",
       "        vertical-align: top;\n",
       "    }\n",
       "\n",
       "    .dataframe thead th {\n",
       "        text-align: right;\n",
       "    }\n",
       "</style>\n",
       "<table border=\"1\" class=\"dataframe\">\n",
       "  <thead>\n",
       "    <tr style=\"text-align: right;\">\n",
       "      <th></th>\n",
       "      <th>date</th>\n",
       "      <th>label</th>\n",
       "      <th>numerator</th>\n",
       "      <th>denominator</th>\n",
       "      <th>symbol</th>\n",
       "    </tr>\n",
       "  </thead>\n",
       "  <tbody>\n",
       "    <tr>\n",
       "      <th>0</th>\n",
       "      <td>2020-08-31</td>\n",
       "      <td>August 31, 20</td>\n",
       "      <td>4.0</td>\n",
       "      <td>1.0</td>\n",
       "      <td>AAPL</td>\n",
       "    </tr>\n",
       "    <tr>\n",
       "      <th>1</th>\n",
       "      <td>2014-06-09</td>\n",
       "      <td>June 09, 14</td>\n",
       "      <td>7.0</td>\n",
       "      <td>1.0</td>\n",
       "      <td>AAPL</td>\n",
       "    </tr>\n",
       "  </tbody>\n",
       "</table>\n",
       "</div>"
      ],
      "text/plain": [
       "        date          label  numerator  denominator symbol\n",
       "0 2020-08-31  August 31, 20        4.0          1.0   AAPL\n",
       "1 2014-06-09    June 09, 14        7.0          1.0   AAPL"
      ]
     },
     "execution_count": 15,
     "metadata": {},
     "output_type": "execute_result"
    }
   ],
   "source": [
    "stock_split.head(2)"
   ]
  },
  {
   "cell_type": "code",
   "execution_count": null,
   "id": "f13e6d4f",
   "metadata": {},
   "outputs": [],
   "source": []
  },
  {
   "cell_type": "code",
   "execution_count": null,
   "id": "13af82cd",
   "metadata": {},
   "outputs": [],
   "source": []
  },
  {
   "cell_type": "markdown",
   "id": "b540a04a",
   "metadata": {},
   "source": [
    "#### Train and test, and validation"
   ]
  },
  {
   "cell_type": "code",
   "execution_count": null,
   "id": "d3b73467",
   "metadata": {},
   "outputs": [],
   "source": [
    "validation = "
   ]
  },
  {
   "cell_type": "code",
   "execution_count": null,
   "id": "c3617dde",
   "metadata": {},
   "outputs": [],
   "source": []
  },
  {
   "cell_type": "code",
   "execution_count": null,
   "id": "d08dd6b3",
   "metadata": {},
   "outputs": [],
   "source": []
  },
  {
   "cell_type": "code",
   "execution_count": null,
   "id": "44179500",
   "metadata": {},
   "outputs": [],
   "source": [
    "# only common stocks.\n",
    "# Restricted stock units are special kind of stocks that is given to the employee under certain conditions"
   ]
  },
  {
   "cell_type": "code",
   "execution_count": 111,
   "id": "57c90ff5",
   "metadata": {},
   "outputs": [],
   "source": []
  },
  {
   "cell_type": "code",
   "execution_count": 112,
   "id": "0998d825",
   "metadata": {},
   "outputs": [
    {
     "data": {
      "text/html": [
       "<div>\n",
       "<style scoped>\n",
       "    .dataframe tbody tr th:only-of-type {\n",
       "        vertical-align: middle;\n",
       "    }\n",
       "\n",
       "    .dataframe tbody tr th {\n",
       "        vertical-align: top;\n",
       "    }\n",
       "\n",
       "    .dataframe thead th {\n",
       "        text-align: right;\n",
       "    }\n",
       "</style>\n",
       "<table border=\"1\" class=\"dataframe\">\n",
       "  <thead>\n",
       "    <tr style=\"text-align: right;\">\n",
       "      <th></th>\n",
       "      <th>transactionDate_Y_M</th>\n",
       "      <th>acquistionOrDisposition</th>\n",
       "      <th>securitiesTransacted</th>\n",
       "    </tr>\n",
       "  </thead>\n",
       "  <tbody>\n",
       "    <tr>\n",
       "      <th>0</th>\n",
       "      <td>2016-04</td>\n",
       "      <td>A</td>\n",
       "      <td>219268.0</td>\n",
       "    </tr>\n",
       "    <tr>\n",
       "      <th>1</th>\n",
       "      <td>2016-04</td>\n",
       "      <td>D</td>\n",
       "      <td>352435.0</td>\n",
       "    </tr>\n",
       "  </tbody>\n",
       "</table>\n",
       "</div>"
      ],
      "text/plain": [
       "  transactionDate_Y_M acquistionOrDisposition  securitiesTransacted\n",
       "0             2016-04                       A              219268.0\n",
       "1             2016-04                       D              352435.0"
      ]
     },
     "execution_count": 112,
     "metadata": {},
     "output_type": "execute_result"
    }
   ],
   "source": [
    "volume_by_AD = insider.groupby(['transactionDate_Y_M', 'acquistionOrDisposition']).agg({\"securitiesTransacted\":\"sum\"}).reset_index()\n",
    "\n",
    "volume_by_AD.head(2)"
   ]
  },
  {
   "cell_type": "code",
   "execution_count": 116,
   "id": "9463be24",
   "metadata": {},
   "outputs": [],
   "source": [
    "dates = volume_by_AD.transactionDate_Y_M.drop_duplicates()\n",
    "\n",
    "acquisition = volume_by_AD.loc[volume_by_AD.acquistionOrDisposition=='A']\n",
    "acquisition = pd.merge(dates, acquisition, how='left')\n",
    "acquisition['acquistionOrDisposition'] = acquisition['acquistionOrDisposition'].fillna('A')\n",
    "acquisition['securitiesTransacted'] = acquisition['securitiesTransacted'].fillna(0)\n",
    "\n",
    "disposition = volume_by_AD.loc[volume_by_AD.acquistionOrDisposition=='D']\n",
    "disposition = pd.merge(dates, disposition, how='left')\n",
    "disposition['acquistionOrDisposition'] = disposition['acquistionOrDisposition'].fillna('D')\n",
    "disposition['securitiesTransacted'] = disposition['securitiesTransacted'].fillna(0)"
   ]
  },
  {
   "cell_type": "code",
   "execution_count": 117,
   "id": "0d0cf37f",
   "metadata": {},
   "outputs": [
    {
     "data": {
      "text/html": [
       "<div>\n",
       "<style scoped>\n",
       "    .dataframe tbody tr th:only-of-type {\n",
       "        vertical-align: middle;\n",
       "    }\n",
       "\n",
       "    .dataframe tbody tr th {\n",
       "        vertical-align: top;\n",
       "    }\n",
       "\n",
       "    .dataframe thead th {\n",
       "        text-align: right;\n",
       "    }\n",
       "</style>\n",
       "<table border=\"1\" class=\"dataframe\">\n",
       "  <thead>\n",
       "    <tr style=\"text-align: right;\">\n",
       "      <th></th>\n",
       "      <th>transactionDate_Y_M</th>\n",
       "      <th>acquistionOrDisposition</th>\n",
       "      <th>securitiesTransacted</th>\n",
       "    </tr>\n",
       "  </thead>\n",
       "  <tbody>\n",
       "    <tr>\n",
       "      <th>0</th>\n",
       "      <td>2016-04</td>\n",
       "      <td>D</td>\n",
       "      <td>352435.0</td>\n",
       "    </tr>\n",
       "    <tr>\n",
       "      <th>1</th>\n",
       "      <td>2016-05</td>\n",
       "      <td>D</td>\n",
       "      <td>519946.0</td>\n",
       "    </tr>\n",
       "  </tbody>\n",
       "</table>\n",
       "</div>"
      ],
      "text/plain": [
       "  transactionDate_Y_M acquistionOrDisposition  securitiesTransacted\n",
       "0             2016-04                       D              352435.0\n",
       "1             2016-05                       D              519946.0"
      ]
     },
     "execution_count": 117,
     "metadata": {},
     "output_type": "execute_result"
    }
   ],
   "source": [
    "disposition.head(2)"
   ]
  },
  {
   "cell_type": "code",
   "execution_count": 118,
   "id": "d48bdc07",
   "metadata": {},
   "outputs": [
    {
     "data": {
      "text/html": [
       "<div>\n",
       "<style scoped>\n",
       "    .dataframe tbody tr th:only-of-type {\n",
       "        vertical-align: middle;\n",
       "    }\n",
       "\n",
       "    .dataframe tbody tr th {\n",
       "        vertical-align: top;\n",
       "    }\n",
       "\n",
       "    .dataframe thead th {\n",
       "        text-align: right;\n",
       "    }\n",
       "</style>\n",
       "<table border=\"1\" class=\"dataframe\">\n",
       "  <thead>\n",
       "    <tr style=\"text-align: right;\">\n",
       "      <th></th>\n",
       "      <th>transactionDate_Y_M</th>\n",
       "      <th>acquistionOrDisposition</th>\n",
       "      <th>securitiesTransacted</th>\n",
       "    </tr>\n",
       "  </thead>\n",
       "  <tbody>\n",
       "    <tr>\n",
       "      <th>58</th>\n",
       "      <td>2022-03</td>\n",
       "      <td>A</td>\n",
       "      <td>13480.0</td>\n",
       "    </tr>\n",
       "    <tr>\n",
       "      <th>59</th>\n",
       "      <td>2022-04</td>\n",
       "      <td>A</td>\n",
       "      <td>620558.0</td>\n",
       "    </tr>\n",
       "    <tr>\n",
       "      <th>60</th>\n",
       "      <td>2022-05</td>\n",
       "      <td>A</td>\n",
       "      <td>0.0</td>\n",
       "    </tr>\n",
       "  </tbody>\n",
       "</table>\n",
       "</div>"
      ],
      "text/plain": [
       "   transactionDate_Y_M acquistionOrDisposition  securitiesTransacted\n",
       "58             2022-03                       A               13480.0\n",
       "59             2022-04                       A              620558.0\n",
       "60             2022-05                       A                   0.0"
      ]
     },
     "execution_count": 118,
     "metadata": {},
     "output_type": "execute_result"
    }
   ],
   "source": [
    "acquisition.tail(3)"
   ]
  },
  {
   "cell_type": "code",
   "execution_count": 122,
   "id": "e1882d61",
   "metadata": {},
   "outputs": [
    {
     "data": {
      "application/vnd.plotly.v1+json": {
       "config": {
        "plotlyServerURL": "https://plot.ly"
       },
       "data": [
        {
         "marker": {
          "color": "indianred"
         },
         "name": "Acquisition",
         "type": "bar",
         "x": [
          "2016-04",
          "2016-05",
          "2016-06",
          "2016-07",
          "2016-08",
          "2016-09",
          "2016-10",
          "2016-11",
          "2016-12",
          "2017-01",
          "2017-02",
          "2017-03",
          "2017-04",
          "2017-05",
          "2017-06",
          "2017-07",
          "2017-08",
          "2017-10",
          "2017-11",
          "2017-12",
          "2018-01",
          "2018-02",
          "2018-04",
          "2018-05",
          "2018-06",
          "2018-07",
          "2018-08",
          "2018-09",
          "2018-10",
          "2018-11",
          "2019-01",
          "2019-02",
          "2019-03",
          "2019-04",
          "2019-05",
          "2019-08",
          "2019-09",
          "2019-10",
          "2019-11",
          "2019-12",
          "2020-01",
          "2020-02",
          "2020-04",
          "2020-05",
          "2020-08",
          "2020-09",
          "2020-10",
          "2020-11",
          "2020-12",
          "2021-01",
          "2021-02",
          "2021-04",
          "2021-05",
          "2021-08",
          "2021-09",
          "2021-10",
          "2021-11",
          "2022-02",
          "2022-03",
          "2022-04",
          "2022-05"
         ],
         "y": [
          219268,
          162786,
          65772,
          0,
          1750675,
          827024,
          2047846,
          0,
          0,
          0,
          201510,
          33328,
          794554,
          203118,
          13139,
          0,
          595675,
          2217483,
          57482,
          160,
          0,
          59097,
          912209,
          58921,
          13132,
          0,
          595675,
          186056,
          398384,
          14371,
          35000,
          34569,
          10003,
          241687,
          35000,
          595000,
          191940,
          289498,
          51764,
          0,
          32889,
          13698,
          203496,
          0,
          560000,
          708056,
          1588200,
          57480,
          0,
          281,
          36665,
          630275,
          0,
          5071896,
          542816,
          1311047,
          486,
          14388,
          13480,
          620558,
          0
         ]
        },
        {
         "marker": {
          "color": "blue"
         },
         "name": "Disposition",
         "type": "bar",
         "x": [
          "2016-04",
          "2016-05",
          "2016-06",
          "2016-07",
          "2016-08",
          "2016-09",
          "2016-10",
          "2016-11",
          "2016-12",
          "2017-01",
          "2017-02",
          "2017-03",
          "2017-04",
          "2017-05",
          "2017-06",
          "2017-07",
          "2017-08",
          "2017-10",
          "2017-11",
          "2017-12",
          "2018-01",
          "2018-02",
          "2018-04",
          "2018-05",
          "2018-06",
          "2018-07",
          "2018-08",
          "2018-09",
          "2018-10",
          "2018-11",
          "2019-01",
          "2019-02",
          "2019-03",
          "2019-04",
          "2019-05",
          "2019-08",
          "2019-09",
          "2019-10",
          "2019-11",
          "2019-12",
          "2020-01",
          "2020-02",
          "2020-04",
          "2020-05",
          "2020-08",
          "2020-09",
          "2020-10",
          "2020-11",
          "2020-12",
          "2021-01",
          "2021-02",
          "2021-04",
          "2021-05",
          "2021-08",
          "2021-09",
          "2021-10",
          "2021-11",
          "2022-02",
          "2022-03",
          "2022-04",
          "2022-05"
         ],
         "y": [
          352435,
          519946,
          98585,
          35900,
          3329990,
          1122089,
          1104134,
          393363,
          35868,
          124952,
          783603,
          66656,
          1223083,
          551312,
          36404,
          11949,
          1308373,
          1865383,
          91370,
          16121,
          15641,
          50504,
          1421110,
          207649,
          46586,
          15652,
          1291798,
          0,
          829300,
          24798,
          35000,
          12639,
          0,
          409444,
          126411,
          1219253,
          0,
          579333,
          96529,
          6880,
          32889,
          10003,
          393831,
          4491,
          1130715,
          0,
          2946756,
          105004,
          408,
          0,
          41193,
          1100781,
          146092,
          10247792,
          0,
          2447260,
          36005,
          42824,
          0,
          1079153,
          26276
         ]
        }
       ],
       "layout": {
        "barmode": "group",
        "template": {
         "data": {
          "bar": [
           {
            "error_x": {
             "color": "#2a3f5f"
            },
            "error_y": {
             "color": "#2a3f5f"
            },
            "marker": {
             "line": {
              "color": "#E5ECF6",
              "width": 0.5
             },
             "pattern": {
              "fillmode": "overlay",
              "size": 10,
              "solidity": 0.2
             }
            },
            "type": "bar"
           }
          ],
          "barpolar": [
           {
            "marker": {
             "line": {
              "color": "#E5ECF6",
              "width": 0.5
             },
             "pattern": {
              "fillmode": "overlay",
              "size": 10,
              "solidity": 0.2
             }
            },
            "type": "barpolar"
           }
          ],
          "carpet": [
           {
            "aaxis": {
             "endlinecolor": "#2a3f5f",
             "gridcolor": "white",
             "linecolor": "white",
             "minorgridcolor": "white",
             "startlinecolor": "#2a3f5f"
            },
            "baxis": {
             "endlinecolor": "#2a3f5f",
             "gridcolor": "white",
             "linecolor": "white",
             "minorgridcolor": "white",
             "startlinecolor": "#2a3f5f"
            },
            "type": "carpet"
           }
          ],
          "choropleth": [
           {
            "colorbar": {
             "outlinewidth": 0,
             "ticks": ""
            },
            "type": "choropleth"
           }
          ],
          "contour": [
           {
            "colorbar": {
             "outlinewidth": 0,
             "ticks": ""
            },
            "colorscale": [
             [
              0,
              "#0d0887"
             ],
             [
              0.1111111111111111,
              "#46039f"
             ],
             [
              0.2222222222222222,
              "#7201a8"
             ],
             [
              0.3333333333333333,
              "#9c179e"
             ],
             [
              0.4444444444444444,
              "#bd3786"
             ],
             [
              0.5555555555555556,
              "#d8576b"
             ],
             [
              0.6666666666666666,
              "#ed7953"
             ],
             [
              0.7777777777777778,
              "#fb9f3a"
             ],
             [
              0.8888888888888888,
              "#fdca26"
             ],
             [
              1,
              "#f0f921"
             ]
            ],
            "type": "contour"
           }
          ],
          "contourcarpet": [
           {
            "colorbar": {
             "outlinewidth": 0,
             "ticks": ""
            },
            "type": "contourcarpet"
           }
          ],
          "heatmap": [
           {
            "colorbar": {
             "outlinewidth": 0,
             "ticks": ""
            },
            "colorscale": [
             [
              0,
              "#0d0887"
             ],
             [
              0.1111111111111111,
              "#46039f"
             ],
             [
              0.2222222222222222,
              "#7201a8"
             ],
             [
              0.3333333333333333,
              "#9c179e"
             ],
             [
              0.4444444444444444,
              "#bd3786"
             ],
             [
              0.5555555555555556,
              "#d8576b"
             ],
             [
              0.6666666666666666,
              "#ed7953"
             ],
             [
              0.7777777777777778,
              "#fb9f3a"
             ],
             [
              0.8888888888888888,
              "#fdca26"
             ],
             [
              1,
              "#f0f921"
             ]
            ],
            "type": "heatmap"
           }
          ],
          "heatmapgl": [
           {
            "colorbar": {
             "outlinewidth": 0,
             "ticks": ""
            },
            "colorscale": [
             [
              0,
              "#0d0887"
             ],
             [
              0.1111111111111111,
              "#46039f"
             ],
             [
              0.2222222222222222,
              "#7201a8"
             ],
             [
              0.3333333333333333,
              "#9c179e"
             ],
             [
              0.4444444444444444,
              "#bd3786"
             ],
             [
              0.5555555555555556,
              "#d8576b"
             ],
             [
              0.6666666666666666,
              "#ed7953"
             ],
             [
              0.7777777777777778,
              "#fb9f3a"
             ],
             [
              0.8888888888888888,
              "#fdca26"
             ],
             [
              1,
              "#f0f921"
             ]
            ],
            "type": "heatmapgl"
           }
          ],
          "histogram": [
           {
            "marker": {
             "pattern": {
              "fillmode": "overlay",
              "size": 10,
              "solidity": 0.2
             }
            },
            "type": "histogram"
           }
          ],
          "histogram2d": [
           {
            "colorbar": {
             "outlinewidth": 0,
             "ticks": ""
            },
            "colorscale": [
             [
              0,
              "#0d0887"
             ],
             [
              0.1111111111111111,
              "#46039f"
             ],
             [
              0.2222222222222222,
              "#7201a8"
             ],
             [
              0.3333333333333333,
              "#9c179e"
             ],
             [
              0.4444444444444444,
              "#bd3786"
             ],
             [
              0.5555555555555556,
              "#d8576b"
             ],
             [
              0.6666666666666666,
              "#ed7953"
             ],
             [
              0.7777777777777778,
              "#fb9f3a"
             ],
             [
              0.8888888888888888,
              "#fdca26"
             ],
             [
              1,
              "#f0f921"
             ]
            ],
            "type": "histogram2d"
           }
          ],
          "histogram2dcontour": [
           {
            "colorbar": {
             "outlinewidth": 0,
             "ticks": ""
            },
            "colorscale": [
             [
              0,
              "#0d0887"
             ],
             [
              0.1111111111111111,
              "#46039f"
             ],
             [
              0.2222222222222222,
              "#7201a8"
             ],
             [
              0.3333333333333333,
              "#9c179e"
             ],
             [
              0.4444444444444444,
              "#bd3786"
             ],
             [
              0.5555555555555556,
              "#d8576b"
             ],
             [
              0.6666666666666666,
              "#ed7953"
             ],
             [
              0.7777777777777778,
              "#fb9f3a"
             ],
             [
              0.8888888888888888,
              "#fdca26"
             ],
             [
              1,
              "#f0f921"
             ]
            ],
            "type": "histogram2dcontour"
           }
          ],
          "mesh3d": [
           {
            "colorbar": {
             "outlinewidth": 0,
             "ticks": ""
            },
            "type": "mesh3d"
           }
          ],
          "parcoords": [
           {
            "line": {
             "colorbar": {
              "outlinewidth": 0,
              "ticks": ""
             }
            },
            "type": "parcoords"
           }
          ],
          "pie": [
           {
            "automargin": true,
            "type": "pie"
           }
          ],
          "scatter": [
           {
            "fillpattern": {
             "fillmode": "overlay",
             "size": 10,
             "solidity": 0.2
            },
            "type": "scatter"
           }
          ],
          "scatter3d": [
           {
            "line": {
             "colorbar": {
              "outlinewidth": 0,
              "ticks": ""
             }
            },
            "marker": {
             "colorbar": {
              "outlinewidth": 0,
              "ticks": ""
             }
            },
            "type": "scatter3d"
           }
          ],
          "scattercarpet": [
           {
            "marker": {
             "colorbar": {
              "outlinewidth": 0,
              "ticks": ""
             }
            },
            "type": "scattercarpet"
           }
          ],
          "scattergeo": [
           {
            "marker": {
             "colorbar": {
              "outlinewidth": 0,
              "ticks": ""
             }
            },
            "type": "scattergeo"
           }
          ],
          "scattergl": [
           {
            "marker": {
             "colorbar": {
              "outlinewidth": 0,
              "ticks": ""
             }
            },
            "type": "scattergl"
           }
          ],
          "scattermapbox": [
           {
            "marker": {
             "colorbar": {
              "outlinewidth": 0,
              "ticks": ""
             }
            },
            "type": "scattermapbox"
           }
          ],
          "scatterpolar": [
           {
            "marker": {
             "colorbar": {
              "outlinewidth": 0,
              "ticks": ""
             }
            },
            "type": "scatterpolar"
           }
          ],
          "scatterpolargl": [
           {
            "marker": {
             "colorbar": {
              "outlinewidth": 0,
              "ticks": ""
             }
            },
            "type": "scatterpolargl"
           }
          ],
          "scatterternary": [
           {
            "marker": {
             "colorbar": {
              "outlinewidth": 0,
              "ticks": ""
             }
            },
            "type": "scatterternary"
           }
          ],
          "surface": [
           {
            "colorbar": {
             "outlinewidth": 0,
             "ticks": ""
            },
            "colorscale": [
             [
              0,
              "#0d0887"
             ],
             [
              0.1111111111111111,
              "#46039f"
             ],
             [
              0.2222222222222222,
              "#7201a8"
             ],
             [
              0.3333333333333333,
              "#9c179e"
             ],
             [
              0.4444444444444444,
              "#bd3786"
             ],
             [
              0.5555555555555556,
              "#d8576b"
             ],
             [
              0.6666666666666666,
              "#ed7953"
             ],
             [
              0.7777777777777778,
              "#fb9f3a"
             ],
             [
              0.8888888888888888,
              "#fdca26"
             ],
             [
              1,
              "#f0f921"
             ]
            ],
            "type": "surface"
           }
          ],
          "table": [
           {
            "cells": {
             "fill": {
              "color": "#EBF0F8"
             },
             "line": {
              "color": "white"
             }
            },
            "header": {
             "fill": {
              "color": "#C8D4E3"
             },
             "line": {
              "color": "white"
             }
            },
            "type": "table"
           }
          ]
         },
         "layout": {
          "annotationdefaults": {
           "arrowcolor": "#2a3f5f",
           "arrowhead": 0,
           "arrowwidth": 1
          },
          "autotypenumbers": "strict",
          "coloraxis": {
           "colorbar": {
            "outlinewidth": 0,
            "ticks": ""
           }
          },
          "colorscale": {
           "diverging": [
            [
             0,
             "#8e0152"
            ],
            [
             0.1,
             "#c51b7d"
            ],
            [
             0.2,
             "#de77ae"
            ],
            [
             0.3,
             "#f1b6da"
            ],
            [
             0.4,
             "#fde0ef"
            ],
            [
             0.5,
             "#f7f7f7"
            ],
            [
             0.6,
             "#e6f5d0"
            ],
            [
             0.7,
             "#b8e186"
            ],
            [
             0.8,
             "#7fbc41"
            ],
            [
             0.9,
             "#4d9221"
            ],
            [
             1,
             "#276419"
            ]
           ],
           "sequential": [
            [
             0,
             "#0d0887"
            ],
            [
             0.1111111111111111,
             "#46039f"
            ],
            [
             0.2222222222222222,
             "#7201a8"
            ],
            [
             0.3333333333333333,
             "#9c179e"
            ],
            [
             0.4444444444444444,
             "#bd3786"
            ],
            [
             0.5555555555555556,
             "#d8576b"
            ],
            [
             0.6666666666666666,
             "#ed7953"
            ],
            [
             0.7777777777777778,
             "#fb9f3a"
            ],
            [
             0.8888888888888888,
             "#fdca26"
            ],
            [
             1,
             "#f0f921"
            ]
           ],
           "sequentialminus": [
            [
             0,
             "#0d0887"
            ],
            [
             0.1111111111111111,
             "#46039f"
            ],
            [
             0.2222222222222222,
             "#7201a8"
            ],
            [
             0.3333333333333333,
             "#9c179e"
            ],
            [
             0.4444444444444444,
             "#bd3786"
            ],
            [
             0.5555555555555556,
             "#d8576b"
            ],
            [
             0.6666666666666666,
             "#ed7953"
            ],
            [
             0.7777777777777778,
             "#fb9f3a"
            ],
            [
             0.8888888888888888,
             "#fdca26"
            ],
            [
             1,
             "#f0f921"
            ]
           ]
          },
          "colorway": [
           "#636efa",
           "#EF553B",
           "#00cc96",
           "#ab63fa",
           "#FFA15A",
           "#19d3f3",
           "#FF6692",
           "#B6E880",
           "#FF97FF",
           "#FECB52"
          ],
          "font": {
           "color": "#2a3f5f"
          },
          "geo": {
           "bgcolor": "white",
           "lakecolor": "white",
           "landcolor": "#E5ECF6",
           "showlakes": true,
           "showland": true,
           "subunitcolor": "white"
          },
          "hoverlabel": {
           "align": "left"
          },
          "hovermode": "closest",
          "mapbox": {
           "style": "light"
          },
          "paper_bgcolor": "white",
          "plot_bgcolor": "#E5ECF6",
          "polar": {
           "angularaxis": {
            "gridcolor": "white",
            "linecolor": "white",
            "ticks": ""
           },
           "bgcolor": "#E5ECF6",
           "radialaxis": {
            "gridcolor": "white",
            "linecolor": "white",
            "ticks": ""
           }
          },
          "scene": {
           "xaxis": {
            "backgroundcolor": "#E5ECF6",
            "gridcolor": "white",
            "gridwidth": 2,
            "linecolor": "white",
            "showbackground": true,
            "ticks": "",
            "zerolinecolor": "white"
           },
           "yaxis": {
            "backgroundcolor": "#E5ECF6",
            "gridcolor": "white",
            "gridwidth": 2,
            "linecolor": "white",
            "showbackground": true,
            "ticks": "",
            "zerolinecolor": "white"
           },
           "zaxis": {
            "backgroundcolor": "#E5ECF6",
            "gridcolor": "white",
            "gridwidth": 2,
            "linecolor": "white",
            "showbackground": true,
            "ticks": "",
            "zerolinecolor": "white"
           }
          },
          "shapedefaults": {
           "line": {
            "color": "#2a3f5f"
           }
          },
          "ternary": {
           "aaxis": {
            "gridcolor": "white",
            "linecolor": "white",
            "ticks": ""
           },
           "baxis": {
            "gridcolor": "white",
            "linecolor": "white",
            "ticks": ""
           },
           "bgcolor": "#E5ECF6",
           "caxis": {
            "gridcolor": "white",
            "linecolor": "white",
            "ticks": ""
           }
          },
          "title": {
           "x": 0.05
          },
          "xaxis": {
           "automargin": true,
           "gridcolor": "white",
           "linecolor": "white",
           "ticks": "",
           "title": {
            "standoff": 15
           },
           "zerolinecolor": "white",
           "zerolinewidth": 2
          },
          "yaxis": {
           "automargin": true,
           "gridcolor": "white",
           "linecolor": "white",
           "ticks": "",
           "title": {
            "standoff": 15
           },
           "zerolinecolor": "white",
           "zerolinewidth": 2
          }
         }
        }
       }
      },
      "text/html": [
       "<div>                            <div id=\"127ed14d-a744-46ce-b223-801cd8fd4c3e\" class=\"plotly-graph-div\" style=\"height:525px; width:100%;\"></div>            <script type=\"text/javascript\">                require([\"plotly\"], function(Plotly) {                    window.PLOTLYENV=window.PLOTLYENV || {};                                    if (document.getElementById(\"127ed14d-a744-46ce-b223-801cd8fd4c3e\")) {                    Plotly.newPlot(                        \"127ed14d-a744-46ce-b223-801cd8fd4c3e\",                        [{\"marker\":{\"color\":\"indianred\"},\"name\":\"Acquisition\",\"x\":[\"2016-04\",\"2016-05\",\"2016-06\",\"2016-07\",\"2016-08\",\"2016-09\",\"2016-10\",\"2016-11\",\"2016-12\",\"2017-01\",\"2017-02\",\"2017-03\",\"2017-04\",\"2017-05\",\"2017-06\",\"2017-07\",\"2017-08\",\"2017-10\",\"2017-11\",\"2017-12\",\"2018-01\",\"2018-02\",\"2018-04\",\"2018-05\",\"2018-06\",\"2018-07\",\"2018-08\",\"2018-09\",\"2018-10\",\"2018-11\",\"2019-01\",\"2019-02\",\"2019-03\",\"2019-04\",\"2019-05\",\"2019-08\",\"2019-09\",\"2019-10\",\"2019-11\",\"2019-12\",\"2020-01\",\"2020-02\",\"2020-04\",\"2020-05\",\"2020-08\",\"2020-09\",\"2020-10\",\"2020-11\",\"2020-12\",\"2021-01\",\"2021-02\",\"2021-04\",\"2021-05\",\"2021-08\",\"2021-09\",\"2021-10\",\"2021-11\",\"2022-02\",\"2022-03\",\"2022-04\",\"2022-05\"],\"y\":[219268.0,162786.0,65772.0,0.0,1750675.0,827024.0,2047846.0,0.0,0.0,0.0,201510.0,33328.0,794554.0,203118.0,13139.0,0.0,595675.0,2217483.0,57482.0,160.0,0.0,59097.0,912209.0,58921.0,13132.0,0.0,595675.0,186056.0,398384.0,14371.0,35000.0,34569.0,10003.0,241687.0,35000.0,595000.0,191940.0,289498.0,51764.0,0.0,32889.0,13698.0,203496.0,0.0,560000.0,708056.0,1588200.0,57480.0,0.0,281.0,36665.0,630275.0,0.0,5071896.0,542816.0,1311047.0,486.0,14388.0,13480.0,620558.0,0.0],\"type\":\"bar\"},{\"marker\":{\"color\":\"blue\"},\"name\":\"Disposition\",\"x\":[\"2016-04\",\"2016-05\",\"2016-06\",\"2016-07\",\"2016-08\",\"2016-09\",\"2016-10\",\"2016-11\",\"2016-12\",\"2017-01\",\"2017-02\",\"2017-03\",\"2017-04\",\"2017-05\",\"2017-06\",\"2017-07\",\"2017-08\",\"2017-10\",\"2017-11\",\"2017-12\",\"2018-01\",\"2018-02\",\"2018-04\",\"2018-05\",\"2018-06\",\"2018-07\",\"2018-08\",\"2018-09\",\"2018-10\",\"2018-11\",\"2019-01\",\"2019-02\",\"2019-03\",\"2019-04\",\"2019-05\",\"2019-08\",\"2019-09\",\"2019-10\",\"2019-11\",\"2019-12\",\"2020-01\",\"2020-02\",\"2020-04\",\"2020-05\",\"2020-08\",\"2020-09\",\"2020-10\",\"2020-11\",\"2020-12\",\"2021-01\",\"2021-02\",\"2021-04\",\"2021-05\",\"2021-08\",\"2021-09\",\"2021-10\",\"2021-11\",\"2022-02\",\"2022-03\",\"2022-04\",\"2022-05\"],\"y\":[352435.0,519946.0,98585.0,35900.0,3329990.0,1122089.0,1104134.0,393363.0,35868.0,124952.0,783603.0,66656.0,1223083.0,551312.0,36404.0,11949.0,1308373.0,1865383.0,91370.0,16121.0,15641.0,50504.0,1421110.0,207649.0,46586.0,15652.0,1291798.0,0.0,829300.0,24798.0,35000.0,12639.0,0.0,409444.0,126411.0,1219253.0,0.0,579333.0,96529.0,6880.0,32889.0,10003.0,393831.0,4491.0,1130715.0,0.0,2946756.0,105004.0,408.0,0.0,41193.0,1100781.0,146092.0,10247792.0,0.0,2447260.0,36005.0,42824.0,0.0,1079153.0,26276.0],\"type\":\"bar\"}],                        {\"template\":{\"data\":{\"histogram2dcontour\":[{\"type\":\"histogram2dcontour\",\"colorbar\":{\"outlinewidth\":0,\"ticks\":\"\"},\"colorscale\":[[0.0,\"#0d0887\"],[0.1111111111111111,\"#46039f\"],[0.2222222222222222,\"#7201a8\"],[0.3333333333333333,\"#9c179e\"],[0.4444444444444444,\"#bd3786\"],[0.5555555555555556,\"#d8576b\"],[0.6666666666666666,\"#ed7953\"],[0.7777777777777778,\"#fb9f3a\"],[0.8888888888888888,\"#fdca26\"],[1.0,\"#f0f921\"]]}],\"choropleth\":[{\"type\":\"choropleth\",\"colorbar\":{\"outlinewidth\":0,\"ticks\":\"\"}}],\"histogram2d\":[{\"type\":\"histogram2d\",\"colorbar\":{\"outlinewidth\":0,\"ticks\":\"\"},\"colorscale\":[[0.0,\"#0d0887\"],[0.1111111111111111,\"#46039f\"],[0.2222222222222222,\"#7201a8\"],[0.3333333333333333,\"#9c179e\"],[0.4444444444444444,\"#bd3786\"],[0.5555555555555556,\"#d8576b\"],[0.6666666666666666,\"#ed7953\"],[0.7777777777777778,\"#fb9f3a\"],[0.8888888888888888,\"#fdca26\"],[1.0,\"#f0f921\"]]}],\"heatmap\":[{\"type\":\"heatmap\",\"colorbar\":{\"outlinewidth\":0,\"ticks\":\"\"},\"colorscale\":[[0.0,\"#0d0887\"],[0.1111111111111111,\"#46039f\"],[0.2222222222222222,\"#7201a8\"],[0.3333333333333333,\"#9c179e\"],[0.4444444444444444,\"#bd3786\"],[0.5555555555555556,\"#d8576b\"],[0.6666666666666666,\"#ed7953\"],[0.7777777777777778,\"#fb9f3a\"],[0.8888888888888888,\"#fdca26\"],[1.0,\"#f0f921\"]]}],\"heatmapgl\":[{\"type\":\"heatmapgl\",\"colorbar\":{\"outlinewidth\":0,\"ticks\":\"\"},\"colorscale\":[[0.0,\"#0d0887\"],[0.1111111111111111,\"#46039f\"],[0.2222222222222222,\"#7201a8\"],[0.3333333333333333,\"#9c179e\"],[0.4444444444444444,\"#bd3786\"],[0.5555555555555556,\"#d8576b\"],[0.6666666666666666,\"#ed7953\"],[0.7777777777777778,\"#fb9f3a\"],[0.8888888888888888,\"#fdca26\"],[1.0,\"#f0f921\"]]}],\"contourcarpet\":[{\"type\":\"contourcarpet\",\"colorbar\":{\"outlinewidth\":0,\"ticks\":\"\"}}],\"contour\":[{\"type\":\"contour\",\"colorbar\":{\"outlinewidth\":0,\"ticks\":\"\"},\"colorscale\":[[0.0,\"#0d0887\"],[0.1111111111111111,\"#46039f\"],[0.2222222222222222,\"#7201a8\"],[0.3333333333333333,\"#9c179e\"],[0.4444444444444444,\"#bd3786\"],[0.5555555555555556,\"#d8576b\"],[0.6666666666666666,\"#ed7953\"],[0.7777777777777778,\"#fb9f3a\"],[0.8888888888888888,\"#fdca26\"],[1.0,\"#f0f921\"]]}],\"surface\":[{\"type\":\"surface\",\"colorbar\":{\"outlinewidth\":0,\"ticks\":\"\"},\"colorscale\":[[0.0,\"#0d0887\"],[0.1111111111111111,\"#46039f\"],[0.2222222222222222,\"#7201a8\"],[0.3333333333333333,\"#9c179e\"],[0.4444444444444444,\"#bd3786\"],[0.5555555555555556,\"#d8576b\"],[0.6666666666666666,\"#ed7953\"],[0.7777777777777778,\"#fb9f3a\"],[0.8888888888888888,\"#fdca26\"],[1.0,\"#f0f921\"]]}],\"mesh3d\":[{\"type\":\"mesh3d\",\"colorbar\":{\"outlinewidth\":0,\"ticks\":\"\"}}],\"scatter\":[{\"fillpattern\":{\"fillmode\":\"overlay\",\"size\":10,\"solidity\":0.2},\"type\":\"scatter\"}],\"parcoords\":[{\"type\":\"parcoords\",\"line\":{\"colorbar\":{\"outlinewidth\":0,\"ticks\":\"\"}}}],\"scatterpolargl\":[{\"type\":\"scatterpolargl\",\"marker\":{\"colorbar\":{\"outlinewidth\":0,\"ticks\":\"\"}}}],\"bar\":[{\"error_x\":{\"color\":\"#2a3f5f\"},\"error_y\":{\"color\":\"#2a3f5f\"},\"marker\":{\"line\":{\"color\":\"#E5ECF6\",\"width\":0.5},\"pattern\":{\"fillmode\":\"overlay\",\"size\":10,\"solidity\":0.2}},\"type\":\"bar\"}],\"scattergeo\":[{\"type\":\"scattergeo\",\"marker\":{\"colorbar\":{\"outlinewidth\":0,\"ticks\":\"\"}}}],\"scatterpolar\":[{\"type\":\"scatterpolar\",\"marker\":{\"colorbar\":{\"outlinewidth\":0,\"ticks\":\"\"}}}],\"histogram\":[{\"marker\":{\"pattern\":{\"fillmode\":\"overlay\",\"size\":10,\"solidity\":0.2}},\"type\":\"histogram\"}],\"scattergl\":[{\"type\":\"scattergl\",\"marker\":{\"colorbar\":{\"outlinewidth\":0,\"ticks\":\"\"}}}],\"scatter3d\":[{\"type\":\"scatter3d\",\"line\":{\"colorbar\":{\"outlinewidth\":0,\"ticks\":\"\"}},\"marker\":{\"colorbar\":{\"outlinewidth\":0,\"ticks\":\"\"}}}],\"scattermapbox\":[{\"type\":\"scattermapbox\",\"marker\":{\"colorbar\":{\"outlinewidth\":0,\"ticks\":\"\"}}}],\"scatterternary\":[{\"type\":\"scatterternary\",\"marker\":{\"colorbar\":{\"outlinewidth\":0,\"ticks\":\"\"}}}],\"scattercarpet\":[{\"type\":\"scattercarpet\",\"marker\":{\"colorbar\":{\"outlinewidth\":0,\"ticks\":\"\"}}}],\"carpet\":[{\"aaxis\":{\"endlinecolor\":\"#2a3f5f\",\"gridcolor\":\"white\",\"linecolor\":\"white\",\"minorgridcolor\":\"white\",\"startlinecolor\":\"#2a3f5f\"},\"baxis\":{\"endlinecolor\":\"#2a3f5f\",\"gridcolor\":\"white\",\"linecolor\":\"white\",\"minorgridcolor\":\"white\",\"startlinecolor\":\"#2a3f5f\"},\"type\":\"carpet\"}],\"table\":[{\"cells\":{\"fill\":{\"color\":\"#EBF0F8\"},\"line\":{\"color\":\"white\"}},\"header\":{\"fill\":{\"color\":\"#C8D4E3\"},\"line\":{\"color\":\"white\"}},\"type\":\"table\"}],\"barpolar\":[{\"marker\":{\"line\":{\"color\":\"#E5ECF6\",\"width\":0.5},\"pattern\":{\"fillmode\":\"overlay\",\"size\":10,\"solidity\":0.2}},\"type\":\"barpolar\"}],\"pie\":[{\"automargin\":true,\"type\":\"pie\"}]},\"layout\":{\"autotypenumbers\":\"strict\",\"colorway\":[\"#636efa\",\"#EF553B\",\"#00cc96\",\"#ab63fa\",\"#FFA15A\",\"#19d3f3\",\"#FF6692\",\"#B6E880\",\"#FF97FF\",\"#FECB52\"],\"font\":{\"color\":\"#2a3f5f\"},\"hovermode\":\"closest\",\"hoverlabel\":{\"align\":\"left\"},\"paper_bgcolor\":\"white\",\"plot_bgcolor\":\"#E5ECF6\",\"polar\":{\"bgcolor\":\"#E5ECF6\",\"angularaxis\":{\"gridcolor\":\"white\",\"linecolor\":\"white\",\"ticks\":\"\"},\"radialaxis\":{\"gridcolor\":\"white\",\"linecolor\":\"white\",\"ticks\":\"\"}},\"ternary\":{\"bgcolor\":\"#E5ECF6\",\"aaxis\":{\"gridcolor\":\"white\",\"linecolor\":\"white\",\"ticks\":\"\"},\"baxis\":{\"gridcolor\":\"white\",\"linecolor\":\"white\",\"ticks\":\"\"},\"caxis\":{\"gridcolor\":\"white\",\"linecolor\":\"white\",\"ticks\":\"\"}},\"coloraxis\":{\"colorbar\":{\"outlinewidth\":0,\"ticks\":\"\"}},\"colorscale\":{\"sequential\":[[0.0,\"#0d0887\"],[0.1111111111111111,\"#46039f\"],[0.2222222222222222,\"#7201a8\"],[0.3333333333333333,\"#9c179e\"],[0.4444444444444444,\"#bd3786\"],[0.5555555555555556,\"#d8576b\"],[0.6666666666666666,\"#ed7953\"],[0.7777777777777778,\"#fb9f3a\"],[0.8888888888888888,\"#fdca26\"],[1.0,\"#f0f921\"]],\"sequentialminus\":[[0.0,\"#0d0887\"],[0.1111111111111111,\"#46039f\"],[0.2222222222222222,\"#7201a8\"],[0.3333333333333333,\"#9c179e\"],[0.4444444444444444,\"#bd3786\"],[0.5555555555555556,\"#d8576b\"],[0.6666666666666666,\"#ed7953\"],[0.7777777777777778,\"#fb9f3a\"],[0.8888888888888888,\"#fdca26\"],[1.0,\"#f0f921\"]],\"diverging\":[[0,\"#8e0152\"],[0.1,\"#c51b7d\"],[0.2,\"#de77ae\"],[0.3,\"#f1b6da\"],[0.4,\"#fde0ef\"],[0.5,\"#f7f7f7\"],[0.6,\"#e6f5d0\"],[0.7,\"#b8e186\"],[0.8,\"#7fbc41\"],[0.9,\"#4d9221\"],[1,\"#276419\"]]},\"xaxis\":{\"gridcolor\":\"white\",\"linecolor\":\"white\",\"ticks\":\"\",\"title\":{\"standoff\":15},\"zerolinecolor\":\"white\",\"automargin\":true,\"zerolinewidth\":2},\"yaxis\":{\"gridcolor\":\"white\",\"linecolor\":\"white\",\"ticks\":\"\",\"title\":{\"standoff\":15},\"zerolinecolor\":\"white\",\"automargin\":true,\"zerolinewidth\":2},\"scene\":{\"xaxis\":{\"backgroundcolor\":\"#E5ECF6\",\"gridcolor\":\"white\",\"linecolor\":\"white\",\"showbackground\":true,\"ticks\":\"\",\"zerolinecolor\":\"white\",\"gridwidth\":2},\"yaxis\":{\"backgroundcolor\":\"#E5ECF6\",\"gridcolor\":\"white\",\"linecolor\":\"white\",\"showbackground\":true,\"ticks\":\"\",\"zerolinecolor\":\"white\",\"gridwidth\":2},\"zaxis\":{\"backgroundcolor\":\"#E5ECF6\",\"gridcolor\":\"white\",\"linecolor\":\"white\",\"showbackground\":true,\"ticks\":\"\",\"zerolinecolor\":\"white\",\"gridwidth\":2}},\"shapedefaults\":{\"line\":{\"color\":\"#2a3f5f\"}},\"annotationdefaults\":{\"arrowcolor\":\"#2a3f5f\",\"arrowhead\":0,\"arrowwidth\":1},\"geo\":{\"bgcolor\":\"white\",\"landcolor\":\"#E5ECF6\",\"subunitcolor\":\"white\",\"showland\":true,\"showlakes\":true,\"lakecolor\":\"white\"},\"title\":{\"x\":0.05},\"mapbox\":{\"style\":\"light\"}}},\"barmode\":\"group\"},                        {\"responsive\": true}                    ).then(function(){\n",
       "                            \n",
       "var gd = document.getElementById('127ed14d-a744-46ce-b223-801cd8fd4c3e');\n",
       "var x = new MutationObserver(function (mutations, observer) {{\n",
       "        var display = window.getComputedStyle(gd).display;\n",
       "        if (!display || display === 'none') {{\n",
       "            console.log([gd, 'removed!']);\n",
       "            Plotly.purge(gd);\n",
       "            observer.disconnect();\n",
       "        }}\n",
       "}});\n",
       "\n",
       "// Listen for the removal of the full notebook cells\n",
       "var notebookContainer = gd.closest('#notebook-container');\n",
       "if (notebookContainer) {{\n",
       "    x.observe(notebookContainer, {childList: true});\n",
       "}}\n",
       "\n",
       "// Listen for the clearing of the current output cell\n",
       "var outputEl = gd.closest('.output');\n",
       "if (outputEl) {{\n",
       "    x.observe(outputEl, {childList: true});\n",
       "}}\n",
       "\n",
       "                        })                };                });            </script>        </div>"
      ]
     },
     "metadata": {},
     "output_type": "display_data"
    }
   ],
   "source": [
    "fig = go.Figure()\n",
    "\n",
    "trace1 = go.Bar(x=dates,\n",
    "                y=acquistion.securitiesTransacted,\n",
    "                name=\"Acquisition\",\n",
    "                marker_color='indianred')\n",
    "trace2 = go.Bar(x=dates,\n",
    "                y=disposition.securitiesTransacted,\n",
    "                marker_color='blue',\n",
    "                name=\"Disposition\")\n",
    "\n",
    "fig.add_trace(trace1)\n",
    "fig.add_trace(trace2)\n",
    "\n",
    "fig.update_layout(barmode='group')"
   ]
  },
  {
   "cell_type": "code",
   "execution_count": null,
   "id": "ece92778",
   "metadata": {},
   "outputs": [],
   "source": []
  },
  {
   "cell_type": "code",
   "execution_count": null,
   "id": "0bd8515e",
   "metadata": {},
   "outputs": [],
   "source": []
  },
  {
   "cell_type": "code",
   "execution_count": null,
   "id": "d2f71d11",
   "metadata": {},
   "outputs": [],
   "source": []
  },
  {
   "cell_type": "code",
   "execution_count": 66,
   "id": "74355d88",
   "metadata": {},
   "outputs": [
    {
     "data": {
      "text/plain": [
       "'https://www.sec.gov/Archives/edgar/data/0000320193/000032019322000063/0000320193-22-000063-index.htm'"
      ]
     },
     "execution_count": 66,
     "metadata": {},
     "output_type": "execute_result"
    }
   ],
   "source": [
    "list(insider.link)[0]"
   ]
  },
  {
   "cell_type": "code",
   "execution_count": null,
   "id": "81b2d9f4",
   "metadata": {},
   "outputs": [],
   "source": [
    "trace = go.Bar(x=data[x],\n",
    "               y=data[y],\n",
    "               name=name,\n",
    "               yaxis=yaxis)"
   ]
  },
  {
   "cell_type": "code",
   "execution_count": null,
   "id": "3461b759",
   "metadata": {},
   "outputs": [],
   "source": [
    "# disposition and acquisition per date"
   ]
  },
  {
   "cell_type": "code",
   "execution_count": null,
   "id": "c6f33b81",
   "metadata": {},
   "outputs": [],
   "source": [
    "go.Bar()"
   ]
  },
  {
   "cell_type": "code",
   "execution_count": 50,
   "id": "d4d75c91",
   "metadata": {},
   "outputs": [
    {
     "data": {
      "text/plain": [
       "Index(['symbol', 'filingDate', 'transactionDate', 'reportingCik',\n",
       "       'transactionType', 'securitiesOwned', 'companyCik', 'reportingName',\n",
       "       'typeOfOwner', 'acquistionOrDisposition', 'formType',\n",
       "       'securitiesTransacted', 'price', 'securityName', 'link'],\n",
       "      dtype='object')"
      ]
     },
     "execution_count": 50,
     "metadata": {},
     "output_type": "execute_result"
    }
   ],
   "source": [
    "insider.columns"
   ]
  },
  {
   "cell_type": "code",
   "execution_count": 52,
   "id": "dab3f89f",
   "metadata": {},
   "outputs": [
    {
     "data": {
      "text/plain": [
       "array(['G-Gift', 'S-Sale', 'M-Exempt', 'F-InKind', 'A-Award'],\n",
       "      dtype=object)"
      ]
     },
     "execution_count": 52,
     "metadata": {},
     "output_type": "execute_result"
    }
   ],
   "source": [
    "insider.transactionType.unique()"
   ]
  },
  {
   "cell_type": "code",
   "execution_count": 53,
   "id": "360c144f",
   "metadata": {},
   "outputs": [
    {
     "data": {
      "text/plain": [
       "array(['BELL JAMES A', 'Adams Katherine L.', \"O'BRIEN DEIRDRE\",\n",
       "       'KONDO CHRIS', 'WILLIAMS JEFFREY E', 'Maestri Luca',\n",
       "       'WAGNER SUSAN', 'SUGAR RONALD D', 'LOZANO MONICA C',\n",
       "       'LEVINSON ARTHUR D', 'GORE ALBERT JR', 'Gorsky Alex',\n",
       "       'JUNG ANDREA', 'COOK TIMOTHY D', 'IGER ROBERT A',\n",
       "       'AHRENDTS ANGELA J', 'Srouji Johny', 'FEDERIGHI CRAIG',\n",
       "       'Riccio Daniel J.', 'SCHILLER PHILIP W', 'Cue Eduardo H',\n",
       "       'SEWELL D BRUCE'], dtype=object)"
      ]
     },
     "execution_count": 53,
     "metadata": {},
     "output_type": "execute_result"
    }
   ],
   "source": [
    "insider.reportingName.unique()"
   ]
  },
  {
   "cell_type": "code",
   "execution_count": 54,
   "id": "59f3ae10",
   "metadata": {},
   "outputs": [
    {
     "data": {
      "text/plain": [
       "array(['director', 'officer: SVP, GC and Secretary',\n",
       "       'officer: Senior Vice President',\n",
       "       'officer: Principal Accounting Officer', 'officer: COO',\n",
       "       'officer: Senior Vice President, CFO',\n",
       "       'director, officer: Chief Executive Officer',\n",
       "       'officer: SVP, General Counsel',\n",
       "       \"officer: SVP, Gen'l Counsel, Secretary\"], dtype=object)"
      ]
     },
     "execution_count": 54,
     "metadata": {},
     "output_type": "execute_result"
    }
   ],
   "source": [
    "insider.typeOfOwner.unique()"
   ]
  },
  {
   "cell_type": "code",
   "execution_count": 60,
   "id": "ef94400b",
   "metadata": {
    "scrolled": true
   },
   "outputs": [
    {
     "data": {
      "text/html": [
       "<div>\n",
       "<style scoped>\n",
       "    .dataframe tbody tr th:only-of-type {\n",
       "        vertical-align: middle;\n",
       "    }\n",
       "\n",
       "    .dataframe tbody tr th {\n",
       "        vertical-align: top;\n",
       "    }\n",
       "\n",
       "    .dataframe thead th {\n",
       "        text-align: right;\n",
       "    }\n",
       "</style>\n",
       "<table border=\"1\" class=\"dataframe\">\n",
       "  <thead>\n",
       "    <tr style=\"text-align: right;\">\n",
       "      <th></th>\n",
       "      <th>reportingName</th>\n",
       "      <th>typeOfOwner</th>\n",
       "    </tr>\n",
       "  </thead>\n",
       "  <tbody>\n",
       "    <tr>\n",
       "      <th>22</th>\n",
       "      <td>AHRENDTS ANGELA J</td>\n",
       "      <td>officer: Senior Vice President</td>\n",
       "    </tr>\n",
       "    <tr>\n",
       "      <th>1</th>\n",
       "      <td>Adams Katherine L.</td>\n",
       "      <td>officer: SVP, GC and Secretary</td>\n",
       "    </tr>\n",
       "    <tr>\n",
       "      <th>85</th>\n",
       "      <td>Adams Katherine L.</td>\n",
       "      <td>officer: SVP, General Counsel</td>\n",
       "    </tr>\n",
       "    <tr>\n",
       "      <th>0</th>\n",
       "      <td>BELL JAMES A</td>\n",
       "      <td>director</td>\n",
       "    </tr>\n",
       "    <tr>\n",
       "      <th>5</th>\n",
       "      <td>COOK TIMOTHY D</td>\n",
       "      <td>director, officer: Chief Executive Officer</td>\n",
       "    </tr>\n",
       "    <tr>\n",
       "      <th>46</th>\n",
       "      <td>Cue Eduardo H</td>\n",
       "      <td>officer: Senior Vice President</td>\n",
       "    </tr>\n",
       "    <tr>\n",
       "      <th>59</th>\n",
       "      <td>FEDERIGHI CRAIG</td>\n",
       "      <td>officer: Senior Vice President</td>\n",
       "    </tr>\n",
       "    <tr>\n",
       "      <th>45</th>\n",
       "      <td>GORE ALBERT JR</td>\n",
       "      <td>director</td>\n",
       "    </tr>\n",
       "    <tr>\n",
       "      <th>46</th>\n",
       "      <td>Gorsky Alex</td>\n",
       "      <td>director</td>\n",
       "    </tr>\n",
       "    <tr>\n",
       "      <th>92</th>\n",
       "      <td>IGER ROBERT A</td>\n",
       "      <td>director</td>\n",
       "    </tr>\n",
       "    <tr>\n",
       "      <th>47</th>\n",
       "      <td>JUNG ANDREA</td>\n",
       "      <td>director</td>\n",
       "    </tr>\n",
       "    <tr>\n",
       "      <th>11</th>\n",
       "      <td>KONDO CHRIS</td>\n",
       "      <td>officer: Principal Accounting Officer</td>\n",
       "    </tr>\n",
       "    <tr>\n",
       "      <th>43</th>\n",
       "      <td>LEVINSON ARTHUR D</td>\n",
       "      <td>director</td>\n",
       "    </tr>\n",
       "    <tr>\n",
       "      <th>42</th>\n",
       "      <td>LOZANO MONICA C</td>\n",
       "      <td>director</td>\n",
       "    </tr>\n",
       "    <tr>\n",
       "      <th>27</th>\n",
       "      <td>Maestri Luca</td>\n",
       "      <td>officer: Senior Vice President, CFO</td>\n",
       "    </tr>\n",
       "    <tr>\n",
       "      <th>8</th>\n",
       "      <td>O'BRIEN DEIRDRE</td>\n",
       "      <td>officer: Senior Vice President</td>\n",
       "    </tr>\n",
       "    <tr>\n",
       "      <th>86</th>\n",
       "      <td>Riccio Daniel J.</td>\n",
       "      <td>officer: Senior Vice President</td>\n",
       "    </tr>\n",
       "    <tr>\n",
       "      <th>20</th>\n",
       "      <td>SCHILLER PHILIP W</td>\n",
       "      <td>officer: Senior Vice President</td>\n",
       "    </tr>\n",
       "    <tr>\n",
       "      <th>33</th>\n",
       "      <td>SEWELL D BRUCE</td>\n",
       "      <td>officer: SVP, Gen'l Counsel, Secretary</td>\n",
       "    </tr>\n",
       "    <tr>\n",
       "      <th>41</th>\n",
       "      <td>SUGAR RONALD D</td>\n",
       "      <td>director</td>\n",
       "    </tr>\n",
       "    <tr>\n",
       "      <th>53</th>\n",
       "      <td>Srouji Johny</td>\n",
       "      <td>officer: Senior Vice President</td>\n",
       "    </tr>\n",
       "    <tr>\n",
       "      <th>40</th>\n",
       "      <td>WAGNER SUSAN</td>\n",
       "      <td>director</td>\n",
       "    </tr>\n",
       "    <tr>\n",
       "      <th>22</th>\n",
       "      <td>WILLIAMS JEFFREY E</td>\n",
       "      <td>officer: COO</td>\n",
       "    </tr>\n",
       "  </tbody>\n",
       "</table>\n",
       "</div>"
      ],
      "text/plain": [
       "         reportingName                                 typeOfOwner\n",
       "22   AHRENDTS ANGELA J              officer: Senior Vice President\n",
       "1   Adams Katherine L.              officer: SVP, GC and Secretary\n",
       "85  Adams Katherine L.               officer: SVP, General Counsel\n",
       "0         BELL JAMES A                                    director\n",
       "5       COOK TIMOTHY D  director, officer: Chief Executive Officer\n",
       "46       Cue Eduardo H              officer: Senior Vice President\n",
       "59     FEDERIGHI CRAIG              officer: Senior Vice President\n",
       "45      GORE ALBERT JR                                    director\n",
       "46         Gorsky Alex                                    director\n",
       "92       IGER ROBERT A                                    director\n",
       "47         JUNG ANDREA                                    director\n",
       "11         KONDO CHRIS       officer: Principal Accounting Officer\n",
       "43   LEVINSON ARTHUR D                                    director\n",
       "42     LOZANO MONICA C                                    director\n",
       "27        Maestri Luca         officer: Senior Vice President, CFO\n",
       "8      O'BRIEN DEIRDRE              officer: Senior Vice President\n",
       "86    Riccio Daniel J.              officer: Senior Vice President\n",
       "20   SCHILLER PHILIP W              officer: Senior Vice President\n",
       "33      SEWELL D BRUCE      officer: SVP, Gen'l Counsel, Secretary\n",
       "41      SUGAR RONALD D                                    director\n",
       "53        Srouji Johny              officer: Senior Vice President\n",
       "40        WAGNER SUSAN                                    director\n",
       "22  WILLIAMS JEFFREY E                                officer: COO"
      ]
     },
     "execution_count": 60,
     "metadata": {},
     "output_type": "execute_result"
    }
   ],
   "source": [
    "insider[['reportingName', 'typeOfOwner']].drop_duplicates().sort_values(by='reportingName')"
   ]
  },
  {
   "cell_type": "code",
   "execution_count": 55,
   "id": "0a0bb4e1",
   "metadata": {},
   "outputs": [
    {
     "data": {
      "text/plain": [
       "array(['D', 'A'], dtype=object)"
      ]
     },
     "execution_count": 55,
     "metadata": {},
     "output_type": "execute_result"
    }
   ],
   "source": [
    "insider.acquistionOrDisposition.unique()"
   ]
  },
  {
   "cell_type": "code",
   "execution_count": 56,
   "id": "4bd2dd35",
   "metadata": {},
   "outputs": [
    {
     "data": {
      "text/plain": [
       "array(['4'], dtype=object)"
      ]
     },
     "execution_count": 56,
     "metadata": {},
     "output_type": "execute_result"
    }
   ],
   "source": [
    "insider.formType.unique()"
   ]
  },
  {
   "cell_type": "code",
   "execution_count": 57,
   "id": "1ec2edc6",
   "metadata": {},
   "outputs": [
    {
     "data": {
      "text/plain": [
       "array(['Common Stock', 'Restricted Stock Unit',\n",
       "       'Director Stock Option (Right to Buy)', 'Restricted Stock Units'],\n",
       "      dtype=object)"
      ]
     },
     "execution_count": 57,
     "metadata": {},
     "output_type": "execute_result"
    }
   ],
   "source": [
    "insider.securityName.unique()"
   ]
  },
  {
   "cell_type": "code",
   "execution_count": null,
   "id": "4854d6bb",
   "metadata": {},
   "outputs": [],
   "source": []
  },
  {
   "cell_type": "code",
   "execution_count": null,
   "id": "24a1c4af",
   "metadata": {},
   "outputs": [],
   "source": []
  },
  {
   "cell_type": "code",
   "execution_count": null,
   "id": "0ea6cb03",
   "metadata": {},
   "outputs": [],
   "source": []
  },
  {
   "cell_type": "code",
   "execution_count": null,
   "id": "03a4a75c",
   "metadata": {},
   "outputs": [],
   "source": []
  },
  {
   "cell_type": "code",
   "execution_count": null,
   "id": "0ebed025",
   "metadata": {},
   "outputs": [],
   "source": []
  },
  {
   "cell_type": "code",
   "execution_count": null,
   "id": "877b3d04",
   "metadata": {},
   "outputs": [],
   "source": []
  },
  {
   "cell_type": "code",
   "execution_count": null,
   "id": "72b6e388",
   "metadata": {},
   "outputs": [],
   "source": []
  }
 ],
 "metadata": {
  "kernelspec": {
   "display_name": "Python [conda env:market] *",
   "language": "python",
   "name": "conda-env-market-py"
  },
  "language_info": {
   "codemirror_mode": {
    "name": "ipython",
    "version": 3
   },
   "file_extension": ".py",
   "mimetype": "text/x-python",
   "name": "python",
   "nbconvert_exporter": "python",
   "pygments_lexer": "ipython3",
   "version": "3.9.12"
  }
 },
 "nbformat": 4,
 "nbformat_minor": 5
}
